{
 "cells": [
  {
   "cell_type": "markdown",
   "metadata": {
    "toc": true
   },
   "source": [
    "<h1>Table of Contents<span class=\"tocSkip\"></span></h1>\n",
    "<div class=\"toc\"><ul class=\"toc-item\"><li><span><a href=\"#Diplodatos-Kaggle-Competition-(Primera-pueba-realizada)\" data-toc-modified-id=\"Diplodatos-Kaggle-Competition-(Primera-pueba-realizada)-1\"><span class=\"toc-item-num\">1&nbsp;&nbsp;</span>Diplodatos Kaggle Competition (Primera pueba realizada)</a></span></li></ul></div>"
   ]
  },
  {
   "cell_type": "markdown",
   "metadata": {},
   "source": [
    "# Diplodatos Kaggle Competition (Primera pueba realizada)"
   ]
  },
  {
   "cell_type": "markdown",
   "metadata": {},
   "source": [
    "We present this peace of code to create the baseline for the competition, and as an example of how to deal with these kind of problems. The main goals are that you:\n",
    "\n",
    "1. Learn\n",
    "1. Try different models and see which one fits the best the given data\n",
    "1. Get a higher score than the given one in the current baseline example\n",
    "1. Try to get the highest score in the class :)"
   ]
  },
  {
   "cell_type": "code",
   "execution_count": 1,
   "metadata": {
    "execution": {
     "iopub.execute_input": "2020-09-30T16:02:00.748985Z",
     "iopub.status.busy": "2020-09-30T16:02:00.748612Z",
     "iopub.status.idle": "2020-09-30T16:02:02.619519Z",
     "shell.execute_reply": "2020-09-30T16:02:02.618280Z",
     "shell.execute_reply.started": "2020-09-30T16:02:00.748932Z"
    }
   },
   "outputs": [],
   "source": [
    "# Import the required packages\n",
    "import os\n",
    "\n",
    "import numpy as np\n",
    "import pandas as pd\n",
    "import matplotlib.pyplot as plt"
   ]
  },
  {
   "cell_type": "markdown",
   "metadata": {},
   "source": [
    "Read the *original* dataset..."
   ]
  },
  {
   "cell_type": "code",
   "execution_count": 2,
   "metadata": {
    "execution": {
     "iopub.execute_input": "2020-09-30T16:02:02.622762Z",
     "iopub.status.busy": "2020-09-30T16:02:02.622401Z",
     "iopub.status.idle": "2020-09-30T16:02:03.460452Z",
     "shell.execute_reply": "2020-09-30T16:02:03.459190Z",
     "shell.execute_reply.started": "2020-09-30T16:02:02.622709Z"
    }
   },
   "outputs": [],
   "source": [
    "original_df = pd.read_csv('./data/train.csv')"
   ]
  },
  {
   "cell_type": "code",
   "execution_count": 3,
   "metadata": {
    "execution": {
     "iopub.execute_input": "2020-09-30T16:02:03.462995Z",
     "iopub.status.busy": "2020-09-30T16:02:03.462650Z",
     "iopub.status.idle": "2020-09-30T16:02:03.485651Z",
     "shell.execute_reply": "2020-09-30T16:02:03.484551Z",
     "shell.execute_reply.started": "2020-09-30T16:02:03.462943Z"
    }
   },
   "outputs": [
    {
     "data": {
      "text/plain": [
       "Index(['TripType', 'VisitNumber', 'Weekday', 'Upc', 'ScanCount',\n",
       "       'DepartmentDescription', 'FinelineNumber'],\n",
       "      dtype='object')"
      ]
     },
     "execution_count": 3,
     "metadata": {},
     "output_type": "execute_result"
    }
   ],
   "source": [
    "original_df.columns"
   ]
  },
  {
   "cell_type": "markdown",
   "metadata": {},
   "source": [
    "**TripType** is the column that we should predict. That column is not present in the test set"
   ]
  },
  {
   "cell_type": "code",
   "execution_count": 4,
   "metadata": {
    "execution": {
     "iopub.execute_input": "2020-09-30T16:02:03.487477Z",
     "iopub.status.busy": "2020-09-30T16:02:03.487139Z",
     "iopub.status.idle": "2020-09-30T16:02:03.889750Z",
     "shell.execute_reply": "2020-09-30T16:02:03.888635Z",
     "shell.execute_reply.started": "2020-09-30T16:02:03.487426Z"
    }
   },
   "outputs": [
    {
     "data": {
      "text/html": [
       "<div>\n",
       "<style scoped>\n",
       "    .dataframe tbody tr th:only-of-type {\n",
       "        vertical-align: middle;\n",
       "    }\n",
       "\n",
       "    .dataframe tbody tr th {\n",
       "        vertical-align: top;\n",
       "    }\n",
       "\n",
       "    .dataframe thead th {\n",
       "        text-align: right;\n",
       "    }\n",
       "</style>\n",
       "<table border=\"1\" class=\"dataframe\">\n",
       "  <thead>\n",
       "    <tr style=\"text-align: right;\">\n",
       "      <th></th>\n",
       "      <th>TripType</th>\n",
       "      <th>VisitNumber</th>\n",
       "      <th>Upc</th>\n",
       "      <th>ScanCount</th>\n",
       "      <th>FinelineNumber</th>\n",
       "    </tr>\n",
       "  </thead>\n",
       "  <tbody>\n",
       "    <tr>\n",
       "      <th>count</th>\n",
       "      <td>453411.000000</td>\n",
       "      <td>453411.000000</td>\n",
       "      <td>4.505590e+05</td>\n",
       "      <td>453411.000000</td>\n",
       "      <td>450559.000000</td>\n",
       "    </tr>\n",
       "    <tr>\n",
       "      <th>mean</th>\n",
       "      <td>58.027039</td>\n",
       "      <td>95909.846115</td>\n",
       "      <td>3.075243e+10</td>\n",
       "      <td>1.108584</td>\n",
       "      <td>3727.366554</td>\n",
       "    </tr>\n",
       "    <tr>\n",
       "      <th>std</th>\n",
       "      <td>155.973370</td>\n",
       "      <td>55399.801147</td>\n",
       "      <td>9.163940e+10</td>\n",
       "      <td>0.707029</td>\n",
       "      <td>2779.958546</td>\n",
       "    </tr>\n",
       "    <tr>\n",
       "      <th>min</th>\n",
       "      <td>3.000000</td>\n",
       "      <td>5.000000</td>\n",
       "      <td>8.340000e+02</td>\n",
       "      <td>-10.000000</td>\n",
       "      <td>0.000000</td>\n",
       "    </tr>\n",
       "    <tr>\n",
       "      <th>25%</th>\n",
       "      <td>27.000000</td>\n",
       "      <td>49390.000000</td>\n",
       "      <td>3.400004e+09</td>\n",
       "      <td>1.000000</td>\n",
       "      <td>1404.000000</td>\n",
       "    </tr>\n",
       "    <tr>\n",
       "      <th>50%</th>\n",
       "      <td>39.000000</td>\n",
       "      <td>96781.000000</td>\n",
       "      <td>7.056082e+09</td>\n",
       "      <td>1.000000</td>\n",
       "      <td>3352.000000</td>\n",
       "    </tr>\n",
       "    <tr>\n",
       "      <th>75%</th>\n",
       "      <td>40.000000</td>\n",
       "      <td>143930.000000</td>\n",
       "      <td>3.013201e+10</td>\n",
       "      <td>1.000000</td>\n",
       "      <td>5501.000000</td>\n",
       "    </tr>\n",
       "    <tr>\n",
       "      <th>max</th>\n",
       "      <td>999.000000</td>\n",
       "      <td>191347.000000</td>\n",
       "      <td>9.789707e+11</td>\n",
       "      <td>71.000000</td>\n",
       "      <td>9998.000000</td>\n",
       "    </tr>\n",
       "  </tbody>\n",
       "</table>\n",
       "</div>"
      ],
      "text/plain": [
       "            TripType    VisitNumber           Upc      ScanCount  \\\n",
       "count  453411.000000  453411.000000  4.505590e+05  453411.000000   \n",
       "mean       58.027039   95909.846115  3.075243e+10       1.108584   \n",
       "std       155.973370   55399.801147  9.163940e+10       0.707029   \n",
       "min         3.000000       5.000000  8.340000e+02     -10.000000   \n",
       "25%        27.000000   49390.000000  3.400004e+09       1.000000   \n",
       "50%        39.000000   96781.000000  7.056082e+09       1.000000   \n",
       "75%        40.000000  143930.000000  3.013201e+10       1.000000   \n",
       "max       999.000000  191347.000000  9.789707e+11      71.000000   \n",
       "\n",
       "       FinelineNumber  \n",
       "count   450559.000000  \n",
       "mean      3727.366554  \n",
       "std       2779.958546  \n",
       "min          0.000000  \n",
       "25%       1404.000000  \n",
       "50%       3352.000000  \n",
       "75%       5501.000000  \n",
       "max       9998.000000  "
      ]
     },
     "execution_count": 4,
     "metadata": {},
     "output_type": "execute_result"
    }
   ],
   "source": [
    "original_df.describe()"
   ]
  },
  {
   "cell_type": "code",
   "execution_count": 5,
   "metadata": {
    "execution": {
     "iopub.execute_input": "2020-09-30T16:02:03.891736Z",
     "iopub.status.busy": "2020-09-30T16:02:03.891392Z",
     "iopub.status.idle": "2020-09-30T16:02:03.925882Z",
     "shell.execute_reply": "2020-09-30T16:02:03.924631Z",
     "shell.execute_reply.started": "2020-09-30T16:02:03.891684Z"
    }
   },
   "outputs": [
    {
     "data": {
      "text/html": [
       "<div>\n",
       "<style scoped>\n",
       "    .dataframe tbody tr th:only-of-type {\n",
       "        vertical-align: middle;\n",
       "    }\n",
       "\n",
       "    .dataframe tbody tr th {\n",
       "        vertical-align: top;\n",
       "    }\n",
       "\n",
       "    .dataframe thead th {\n",
       "        text-align: right;\n",
       "    }\n",
       "</style>\n",
       "<table border=\"1\" class=\"dataframe\">\n",
       "  <thead>\n",
       "    <tr style=\"text-align: right;\">\n",
       "      <th></th>\n",
       "      <th>TripType</th>\n",
       "      <th>VisitNumber</th>\n",
       "      <th>Weekday</th>\n",
       "      <th>Upc</th>\n",
       "      <th>ScanCount</th>\n",
       "      <th>DepartmentDescription</th>\n",
       "      <th>FinelineNumber</th>\n",
       "    </tr>\n",
       "  </thead>\n",
       "  <tbody>\n",
       "    <tr>\n",
       "      <th>0</th>\n",
       "      <td>999</td>\n",
       "      <td>5</td>\n",
       "      <td>Friday</td>\n",
       "      <td>6.811315e+10</td>\n",
       "      <td>-1</td>\n",
       "      <td>FINANCIAL SERVICES</td>\n",
       "      <td>1000.0</td>\n",
       "    </tr>\n",
       "    <tr>\n",
       "      <th>1</th>\n",
       "      <td>8</td>\n",
       "      <td>9</td>\n",
       "      <td>Friday</td>\n",
       "      <td>1.070081e+09</td>\n",
       "      <td>1</td>\n",
       "      <td>IMPULSE MERCHANDISE</td>\n",
       "      <td>115.0</td>\n",
       "    </tr>\n",
       "    <tr>\n",
       "      <th>2</th>\n",
       "      <td>8</td>\n",
       "      <td>9</td>\n",
       "      <td>Friday</td>\n",
       "      <td>3.107000e+03</td>\n",
       "      <td>1</td>\n",
       "      <td>PRODUCE</td>\n",
       "      <td>103.0</td>\n",
       "    </tr>\n",
       "    <tr>\n",
       "      <th>3</th>\n",
       "      <td>8</td>\n",
       "      <td>9</td>\n",
       "      <td>Friday</td>\n",
       "      <td>4.011000e+03</td>\n",
       "      <td>1</td>\n",
       "      <td>PRODUCE</td>\n",
       "      <td>5501.0</td>\n",
       "    </tr>\n",
       "    <tr>\n",
       "      <th>4</th>\n",
       "      <td>8</td>\n",
       "      <td>10</td>\n",
       "      <td>Friday</td>\n",
       "      <td>6.414410e+09</td>\n",
       "      <td>1</td>\n",
       "      <td>DSD GROCERY</td>\n",
       "      <td>2008.0</td>\n",
       "    </tr>\n",
       "  </tbody>\n",
       "</table>\n",
       "</div>"
      ],
      "text/plain": [
       "   TripType  VisitNumber Weekday           Upc  ScanCount  \\\n",
       "0       999            5  Friday  6.811315e+10         -1   \n",
       "1         8            9  Friday  1.070081e+09          1   \n",
       "2         8            9  Friday  3.107000e+03          1   \n",
       "3         8            9  Friday  4.011000e+03          1   \n",
       "4         8           10  Friday  6.414410e+09          1   \n",
       "\n",
       "  DepartmentDescription  FinelineNumber  \n",
       "0    FINANCIAL SERVICES          1000.0  \n",
       "1   IMPULSE MERCHANDISE           115.0  \n",
       "2               PRODUCE           103.0  \n",
       "3               PRODUCE          5501.0  \n",
       "4           DSD GROCERY          2008.0  "
      ]
     },
     "execution_count": 5,
     "metadata": {},
     "output_type": "execute_result"
    }
   ],
   "source": [
    "original_df.head()"
   ]
  },
  {
   "cell_type": "code",
   "execution_count": 6,
   "metadata": {
    "execution": {
     "iopub.execute_input": "2020-09-30T16:02:03.927658Z",
     "iopub.status.busy": "2020-09-30T16:02:03.927322Z",
     "iopub.status.idle": "2020-09-30T16:02:04.063436Z",
     "shell.execute_reply": "2020-09-30T16:02:04.062179Z",
     "shell.execute_reply.started": "2020-09-30T16:02:03.927607Z"
    }
   },
   "outputs": [
    {
     "name": "stdout",
     "output_type": "stream",
     "text": [
      "<class 'pandas.core.frame.DataFrame'>\n",
      "RangeIndex: 453411 entries, 0 to 453410\n",
      "Data columns (total 7 columns):\n",
      " #   Column                 Non-Null Count   Dtype  \n",
      "---  ------                 --------------   -----  \n",
      " 0   TripType               453411 non-null  int64  \n",
      " 1   VisitNumber            453411 non-null  int64  \n",
      " 2   Weekday                453411 non-null  object \n",
      " 3   Upc                    450559 non-null  float64\n",
      " 4   ScanCount              453411 non-null  int64  \n",
      " 5   DepartmentDescription  452439 non-null  object \n",
      " 6   FinelineNumber         450559 non-null  float64\n",
      "dtypes: float64(2), int64(3), object(2)\n",
      "memory usage: 24.2+ MB\n"
     ]
    }
   ],
   "source": [
    "original_df.info()"
   ]
  },
  {
   "cell_type": "markdown",
   "metadata": {},
   "source": [
    "Looking into the columns values..."
   ]
  },
  {
   "cell_type": "code",
   "execution_count": 7,
   "metadata": {
    "execution": {
     "iopub.execute_input": "2020-09-30T16:02:04.065398Z",
     "iopub.status.busy": "2020-09-30T16:02:04.065040Z",
     "iopub.status.idle": "2020-09-30T16:02:04.217347Z",
     "shell.execute_reply": "2020-09-30T16:02:04.216207Z",
     "shell.execute_reply.started": "2020-09-30T16:02:04.065345Z"
    }
   },
   "outputs": [
    {
     "data": {
      "text/plain": [
       "{'Friday', 'Monday', 'Saturday', 'Sunday', 'Thursday', 'Tuesday', 'Wednesday'}"
      ]
     },
     "execution_count": 7,
     "metadata": {},
     "output_type": "execute_result"
    }
   ],
   "source": [
    "set(original_df.Weekday)"
   ]
  },
  {
   "cell_type": "markdown",
   "metadata": {},
   "source": [
    "There are `nan`s in the column, let us find them..."
   ]
  },
  {
   "cell_type": "code",
   "execution_count": 8,
   "metadata": {
    "execution": {
     "iopub.execute_input": "2020-09-30T16:02:04.222447Z",
     "iopub.status.busy": "2020-09-30T16:02:04.222079Z",
     "iopub.status.idle": "2020-09-30T16:02:04.344473Z",
     "shell.execute_reply": "2020-09-30T16:02:04.331023Z",
     "shell.execute_reply.started": "2020-09-30T16:02:04.222395Z"
    }
   },
   "outputs": [
    {
     "data": {
      "text/html": [
       "<div>\n",
       "<style scoped>\n",
       "    .dataframe tbody tr th:only-of-type {\n",
       "        vertical-align: middle;\n",
       "    }\n",
       "\n",
       "    .dataframe tbody tr th {\n",
       "        vertical-align: top;\n",
       "    }\n",
       "\n",
       "    .dataframe thead th {\n",
       "        text-align: right;\n",
       "    }\n",
       "</style>\n",
       "<table border=\"1\" class=\"dataframe\">\n",
       "  <thead>\n",
       "    <tr style=\"text-align: right;\">\n",
       "      <th></th>\n",
       "      <th>TripType</th>\n",
       "      <th>VisitNumber</th>\n",
       "      <th>Weekday</th>\n",
       "      <th>Upc</th>\n",
       "      <th>ScanCount</th>\n",
       "      <th>DepartmentDescription</th>\n",
       "      <th>FinelineNumber</th>\n",
       "    </tr>\n",
       "  </thead>\n",
       "  <tbody>\n",
       "    <tr>\n",
       "      <th>739</th>\n",
       "      <td>999</td>\n",
       "      <td>484</td>\n",
       "      <td>Friday</td>\n",
       "      <td>NaN</td>\n",
       "      <td>-2</td>\n",
       "      <td>NaN</td>\n",
       "      <td>NaN</td>\n",
       "    </tr>\n",
       "    <tr>\n",
       "      <th>740</th>\n",
       "      <td>999</td>\n",
       "      <td>484</td>\n",
       "      <td>Friday</td>\n",
       "      <td>NaN</td>\n",
       "      <td>-2</td>\n",
       "      <td>NaN</td>\n",
       "      <td>NaN</td>\n",
       "    </tr>\n",
       "    <tr>\n",
       "      <th>1292</th>\n",
       "      <td>32</td>\n",
       "      <td>845</td>\n",
       "      <td>Friday</td>\n",
       "      <td>NaN</td>\n",
       "      <td>1</td>\n",
       "      <td>NaN</td>\n",
       "      <td>NaN</td>\n",
       "    </tr>\n",
       "    <tr>\n",
       "      <th>1293</th>\n",
       "      <td>32</td>\n",
       "      <td>845</td>\n",
       "      <td>Friday</td>\n",
       "      <td>NaN</td>\n",
       "      <td>1</td>\n",
       "      <td>NaN</td>\n",
       "      <td>NaN</td>\n",
       "    </tr>\n",
       "    <tr>\n",
       "      <th>1577</th>\n",
       "      <td>40</td>\n",
       "      <td>1004</td>\n",
       "      <td>Friday</td>\n",
       "      <td>NaN</td>\n",
       "      <td>1</td>\n",
       "      <td>NaN</td>\n",
       "      <td>NaN</td>\n",
       "    </tr>\n",
       "    <tr>\n",
       "      <th>...</th>\n",
       "      <td>...</td>\n",
       "      <td>...</td>\n",
       "      <td>...</td>\n",
       "      <td>...</td>\n",
       "      <td>...</td>\n",
       "      <td>...</td>\n",
       "      <td>...</td>\n",
       "    </tr>\n",
       "    <tr>\n",
       "      <th>449840</th>\n",
       "      <td>40</td>\n",
       "      <td>190133</td>\n",
       "      <td>Sunday</td>\n",
       "      <td>NaN</td>\n",
       "      <td>1</td>\n",
       "      <td>NaN</td>\n",
       "      <td>NaN</td>\n",
       "    </tr>\n",
       "    <tr>\n",
       "      <th>450036</th>\n",
       "      <td>999</td>\n",
       "      <td>190182</td>\n",
       "      <td>Sunday</td>\n",
       "      <td>NaN</td>\n",
       "      <td>-1</td>\n",
       "      <td>NaN</td>\n",
       "      <td>NaN</td>\n",
       "    </tr>\n",
       "    <tr>\n",
       "      <th>450163</th>\n",
       "      <td>40</td>\n",
       "      <td>190230</td>\n",
       "      <td>Sunday</td>\n",
       "      <td>NaN</td>\n",
       "      <td>1</td>\n",
       "      <td>NaN</td>\n",
       "      <td>NaN</td>\n",
       "    </tr>\n",
       "    <tr>\n",
       "      <th>450361</th>\n",
       "      <td>39</td>\n",
       "      <td>190309</td>\n",
       "      <td>Sunday</td>\n",
       "      <td>NaN</td>\n",
       "      <td>1</td>\n",
       "      <td>NaN</td>\n",
       "      <td>NaN</td>\n",
       "    </tr>\n",
       "    <tr>\n",
       "      <th>450595</th>\n",
       "      <td>41</td>\n",
       "      <td>190408</td>\n",
       "      <td>Sunday</td>\n",
       "      <td>NaN</td>\n",
       "      <td>1</td>\n",
       "      <td>NaN</td>\n",
       "      <td>NaN</td>\n",
       "    </tr>\n",
       "  </tbody>\n",
       "</table>\n",
       "<p>972 rows × 7 columns</p>\n",
       "</div>"
      ],
      "text/plain": [
       "        TripType  VisitNumber Weekday  Upc  ScanCount DepartmentDescription  \\\n",
       "739          999          484  Friday  NaN         -2                   NaN   \n",
       "740          999          484  Friday  NaN         -2                   NaN   \n",
       "1292          32          845  Friday  NaN          1                   NaN   \n",
       "1293          32          845  Friday  NaN          1                   NaN   \n",
       "1577          40         1004  Friday  NaN          1                   NaN   \n",
       "...          ...          ...     ...  ...        ...                   ...   \n",
       "449840        40       190133  Sunday  NaN          1                   NaN   \n",
       "450036       999       190182  Sunday  NaN         -1                   NaN   \n",
       "450163        40       190230  Sunday  NaN          1                   NaN   \n",
       "450361        39       190309  Sunday  NaN          1                   NaN   \n",
       "450595        41       190408  Sunday  NaN          1                   NaN   \n",
       "\n",
       "        FinelineNumber  \n",
       "739                NaN  \n",
       "740                NaN  \n",
       "1292               NaN  \n",
       "1293               NaN  \n",
       "1577               NaN  \n",
       "...                ...  \n",
       "449840             NaN  \n",
       "450036             NaN  \n",
       "450163             NaN  \n",
       "450361             NaN  \n",
       "450595             NaN  \n",
       "\n",
       "[972 rows x 7 columns]"
      ]
     },
     "execution_count": 8,
     "metadata": {},
     "output_type": "execute_result"
    }
   ],
   "source": [
    "original_df[original_df.DepartmentDescription.isna()]"
   ]
  },
  {
   "cell_type": "markdown",
   "metadata": {
    "hideCode": true
   },
   "source": [
    "When the description is NaN, then the Upc and FinelineNumber are both NaN?"
   ]
  },
  {
   "cell_type": "code",
   "execution_count": 9,
   "metadata": {
    "execution": {
     "iopub.execute_input": "2020-09-30T16:02:04.347681Z",
     "iopub.status.busy": "2020-09-30T16:02:04.347334Z",
     "iopub.status.idle": "2020-09-30T16:02:04.468344Z",
     "shell.execute_reply": "2020-09-30T16:02:04.467203Z",
     "shell.execute_reply.started": "2020-09-30T16:02:04.347630Z"
    }
   },
   "outputs": [
    {
     "data": {
      "text/plain": [
       "(972, 972)"
      ]
     },
     "execution_count": 9,
     "metadata": {},
     "output_type": "execute_result"
    }
   ],
   "source": [
    "(original_df.DepartmentDescription.isna().sum(),\n",
    " (original_df.DepartmentDescription.isna() & original_df.Upc.isna() & original_df.FinelineNumber.isna()).sum())"
   ]
  },
  {
   "cell_type": "code",
   "execution_count": 10,
   "metadata": {
    "execution": {
     "iopub.execute_input": "2020-09-30T16:02:04.470401Z",
     "iopub.status.busy": "2020-09-30T16:02:04.469974Z",
     "iopub.status.idle": "2020-09-30T16:02:04.541427Z",
     "shell.execute_reply": "2020-09-30T16:02:04.540325Z",
     "shell.execute_reply.started": "2020-09-30T16:02:04.470346Z"
    }
   },
   "outputs": [
    {
     "data": {
      "text/html": [
       "<div>\n",
       "<style scoped>\n",
       "    .dataframe tbody tr th:only-of-type {\n",
       "        vertical-align: middle;\n",
       "    }\n",
       "\n",
       "    .dataframe tbody tr th {\n",
       "        vertical-align: top;\n",
       "    }\n",
       "\n",
       "    .dataframe thead th {\n",
       "        text-align: right;\n",
       "    }\n",
       "</style>\n",
       "<table border=\"1\" class=\"dataframe\">\n",
       "  <thead>\n",
       "    <tr style=\"text-align: right;\">\n",
       "      <th></th>\n",
       "      <th>TripType</th>\n",
       "      <th>VisitNumber</th>\n",
       "      <th>Weekday</th>\n",
       "      <th>Upc</th>\n",
       "      <th>ScanCount</th>\n",
       "      <th>DepartmentDescription</th>\n",
       "      <th>FinelineNumber</th>\n",
       "    </tr>\n",
       "  </thead>\n",
       "  <tbody>\n",
       "    <tr>\n",
       "      <th>739</th>\n",
       "      <td>999</td>\n",
       "      <td>484</td>\n",
       "      <td>Friday</td>\n",
       "      <td>NaN</td>\n",
       "      <td>-2</td>\n",
       "      <td>NaN</td>\n",
       "      <td>NaN</td>\n",
       "    </tr>\n",
       "    <tr>\n",
       "      <th>740</th>\n",
       "      <td>999</td>\n",
       "      <td>484</td>\n",
       "      <td>Friday</td>\n",
       "      <td>NaN</td>\n",
       "      <td>-2</td>\n",
       "      <td>NaN</td>\n",
       "      <td>NaN</td>\n",
       "    </tr>\n",
       "    <tr>\n",
       "      <th>900</th>\n",
       "      <td>5</td>\n",
       "      <td>585</td>\n",
       "      <td>Friday</td>\n",
       "      <td>NaN</td>\n",
       "      <td>1</td>\n",
       "      <td>PHARMACY RX</td>\n",
       "      <td>NaN</td>\n",
       "    </tr>\n",
       "    <tr>\n",
       "      <th>944</th>\n",
       "      <td>5</td>\n",
       "      <td>619</td>\n",
       "      <td>Friday</td>\n",
       "      <td>NaN</td>\n",
       "      <td>1</td>\n",
       "      <td>PHARMACY RX</td>\n",
       "      <td>NaN</td>\n",
       "    </tr>\n",
       "    <tr>\n",
       "      <th>945</th>\n",
       "      <td>5</td>\n",
       "      <td>619</td>\n",
       "      <td>Friday</td>\n",
       "      <td>NaN</td>\n",
       "      <td>1</td>\n",
       "      <td>PHARMACY RX</td>\n",
       "      <td>NaN</td>\n",
       "    </tr>\n",
       "    <tr>\n",
       "      <th>...</th>\n",
       "      <td>...</td>\n",
       "      <td>...</td>\n",
       "      <td>...</td>\n",
       "      <td>...</td>\n",
       "      <td>...</td>\n",
       "      <td>...</td>\n",
       "      <td>...</td>\n",
       "    </tr>\n",
       "    <tr>\n",
       "      <th>449840</th>\n",
       "      <td>40</td>\n",
       "      <td>190133</td>\n",
       "      <td>Sunday</td>\n",
       "      <td>NaN</td>\n",
       "      <td>1</td>\n",
       "      <td>NaN</td>\n",
       "      <td>NaN</td>\n",
       "    </tr>\n",
       "    <tr>\n",
       "      <th>450036</th>\n",
       "      <td>999</td>\n",
       "      <td>190182</td>\n",
       "      <td>Sunday</td>\n",
       "      <td>NaN</td>\n",
       "      <td>-1</td>\n",
       "      <td>NaN</td>\n",
       "      <td>NaN</td>\n",
       "    </tr>\n",
       "    <tr>\n",
       "      <th>450163</th>\n",
       "      <td>40</td>\n",
       "      <td>190230</td>\n",
       "      <td>Sunday</td>\n",
       "      <td>NaN</td>\n",
       "      <td>1</td>\n",
       "      <td>NaN</td>\n",
       "      <td>NaN</td>\n",
       "    </tr>\n",
       "    <tr>\n",
       "      <th>450361</th>\n",
       "      <td>39</td>\n",
       "      <td>190309</td>\n",
       "      <td>Sunday</td>\n",
       "      <td>NaN</td>\n",
       "      <td>1</td>\n",
       "      <td>NaN</td>\n",
       "      <td>NaN</td>\n",
       "    </tr>\n",
       "    <tr>\n",
       "      <th>450595</th>\n",
       "      <td>41</td>\n",
       "      <td>190408</td>\n",
       "      <td>Sunday</td>\n",
       "      <td>NaN</td>\n",
       "      <td>1</td>\n",
       "      <td>NaN</td>\n",
       "      <td>NaN</td>\n",
       "    </tr>\n",
       "  </tbody>\n",
       "</table>\n",
       "<p>2852 rows × 7 columns</p>\n",
       "</div>"
      ],
      "text/plain": [
       "        TripType  VisitNumber Weekday  Upc  ScanCount DepartmentDescription  \\\n",
       "739          999          484  Friday  NaN         -2                   NaN   \n",
       "740          999          484  Friday  NaN         -2                   NaN   \n",
       "900            5          585  Friday  NaN          1           PHARMACY RX   \n",
       "944            5          619  Friday  NaN          1           PHARMACY RX   \n",
       "945            5          619  Friday  NaN          1           PHARMACY RX   \n",
       "...          ...          ...     ...  ...        ...                   ...   \n",
       "449840        40       190133  Sunday  NaN          1                   NaN   \n",
       "450036       999       190182  Sunday  NaN         -1                   NaN   \n",
       "450163        40       190230  Sunday  NaN          1                   NaN   \n",
       "450361        39       190309  Sunday  NaN          1                   NaN   \n",
       "450595        41       190408  Sunday  NaN          1                   NaN   \n",
       "\n",
       "        FinelineNumber  \n",
       "739                NaN  \n",
       "740                NaN  \n",
       "900                NaN  \n",
       "944                NaN  \n",
       "945                NaN  \n",
       "...                ...  \n",
       "449840             NaN  \n",
       "450036             NaN  \n",
       "450163             NaN  \n",
       "450361             NaN  \n",
       "450595             NaN  \n",
       "\n",
       "[2852 rows x 7 columns]"
      ]
     },
     "execution_count": 10,
     "metadata": {},
     "output_type": "execute_result"
    }
   ],
   "source": [
    "original_df[original_df.Upc.isna()]"
   ]
  },
  {
   "cell_type": "markdown",
   "metadata": {},
   "source": [
    "But it may be the case that Upc is NaN but not the description..."
   ]
  },
  {
   "cell_type": "code",
   "execution_count": 11,
   "metadata": {
    "execution": {
     "iopub.execute_input": "2020-09-30T16:02:04.543385Z",
     "iopub.status.busy": "2020-09-30T16:02:04.543032Z",
     "iopub.status.idle": "2020-09-30T16:02:04.570127Z",
     "shell.execute_reply": "2020-09-30T16:02:04.569004Z",
     "shell.execute_reply.started": "2020-09-30T16:02:04.543333Z"
    }
   },
   "outputs": [
    {
     "data": {
      "text/plain": [
       "(2852, 2852, 2852)"
      ]
     },
     "execution_count": 11,
     "metadata": {},
     "output_type": "execute_result"
    }
   ],
   "source": [
    "(original_df.Upc.isna().sum(),\n",
    " original_df.FinelineNumber.isna().sum(),\n",
    " (original_df.FinelineNumber.isna() & original_df.Upc.isna()).sum())"
   ]
  },
  {
   "cell_type": "markdown",
   "metadata": {},
   "source": [
    "Upc and FinelineNumber are both NaN at the same time"
   ]
  },
  {
   "cell_type": "markdown",
   "metadata": {},
   "source": [
    "Our last step in this analysis is to see how balanced is the data..."
   ]
  },
  {
   "cell_type": "code",
   "execution_count": 12,
   "metadata": {
    "execution": {
     "iopub.execute_input": "2020-09-30T16:02:04.572198Z",
     "iopub.status.busy": "2020-09-30T16:02:04.571831Z",
     "iopub.status.idle": "2020-09-30T16:02:04.747973Z",
     "shell.execute_reply": "2020-09-30T16:02:04.746801Z",
     "shell.execute_reply.started": "2020-09-30T16:02:04.572145Z"
    }
   },
   "outputs": [],
   "source": [
    "bins = set(original_df.TripType)"
   ]
  },
  {
   "cell_type": "code",
   "execution_count": 13,
   "metadata": {
    "execution": {
     "iopub.execute_input": "2020-09-30T16:02:04.750014Z",
     "iopub.status.busy": "2020-09-30T16:02:04.749667Z",
     "iopub.status.idle": "2020-09-30T16:02:05.932276Z",
     "shell.execute_reply": "2020-09-30T16:02:05.931136Z",
     "shell.execute_reply.started": "2020-09-30T16:02:04.749963Z"
    }
   },
   "outputs": [
    {
     "data": {
      "text/plain": [
       "<AxesSubplot:>"
      ]
     },
     "execution_count": 13,
     "metadata": {},
     "output_type": "execute_result"
    },
    {
     "data": {
      "image/png": "[encoded data removed]",
      "text/plain": [
       "<Figure size 432x288 with 1 Axes>"
      ]
     },
     "metadata": {
      "needs_background": "light"
     },
     "output_type": "display_data"
    }
   ],
   "source": [
    "# to count the TripType values, we have to group the visits by VisitNumber\n",
    "original_df.groupby(\"VisitNumber\").TripType.mean().value_counts().plot(kind='bar')"
   ]
  },
  {
   "cell_type": "code",
   "execution_count": 14,
   "metadata": {
    "execution": {
     "iopub.execute_input": "2020-09-30T16:02:05.934283Z",
     "iopub.status.busy": "2020-09-30T16:02:05.933931Z",
     "iopub.status.idle": "2020-09-30T16:02:06.145808Z",
     "shell.execute_reply": "2020-09-30T16:02:06.144673Z",
     "shell.execute_reply.started": "2020-09-30T16:02:05.934231Z"
    }
   },
   "outputs": [
    {
     "data": {
      "text/html": [
       "<div>\n",
       "<style scoped>\n",
       "    .dataframe tbody tr th:only-of-type {\n",
       "        vertical-align: middle;\n",
       "    }\n",
       "\n",
       "    .dataframe tbody tr th {\n",
       "        vertical-align: top;\n",
       "    }\n",
       "\n",
       "    .dataframe thead th {\n",
       "        text-align: right;\n",
       "    }\n",
       "</style>\n",
       "<table border=\"1\" class=\"dataframe\">\n",
       "  <thead>\n",
       "    <tr style=\"text-align: right;\">\n",
       "      <th></th>\n",
       "      <th>TripType</th>\n",
       "      <th>VisitNumber</th>\n",
       "      <th>Weekday</th>\n",
       "      <th>Upc</th>\n",
       "      <th>ScanCount</th>\n",
       "      <th>DepartmentDescription</th>\n",
       "      <th>FinelineNumber</th>\n",
       "    </tr>\n",
       "  </thead>\n",
       "  <tbody>\n",
       "    <tr>\n",
       "      <th>1</th>\n",
       "      <td>8</td>\n",
       "      <td>9</td>\n",
       "      <td>Friday</td>\n",
       "      <td>1.070081e+09</td>\n",
       "      <td>1</td>\n",
       "      <td>IMPULSE MERCHANDISE</td>\n",
       "      <td>115.0</td>\n",
       "    </tr>\n",
       "    <tr>\n",
       "      <th>2</th>\n",
       "      <td>8</td>\n",
       "      <td>9</td>\n",
       "      <td>Friday</td>\n",
       "      <td>3.107000e+03</td>\n",
       "      <td>1</td>\n",
       "      <td>PRODUCE</td>\n",
       "      <td>103.0</td>\n",
       "    </tr>\n",
       "    <tr>\n",
       "      <th>3</th>\n",
       "      <td>8</td>\n",
       "      <td>9</td>\n",
       "      <td>Friday</td>\n",
       "      <td>4.011000e+03</td>\n",
       "      <td>1</td>\n",
       "      <td>PRODUCE</td>\n",
       "      <td>5501.0</td>\n",
       "    </tr>\n",
       "    <tr>\n",
       "      <th>4</th>\n",
       "      <td>8</td>\n",
       "      <td>10</td>\n",
       "      <td>Friday</td>\n",
       "      <td>6.414410e+09</td>\n",
       "      <td>1</td>\n",
       "      <td>DSD GROCERY</td>\n",
       "      <td>2008.0</td>\n",
       "    </tr>\n",
       "    <tr>\n",
       "      <th>5</th>\n",
       "      <td>8</td>\n",
       "      <td>10</td>\n",
       "      <td>Friday</td>\n",
       "      <td>2.800054e+09</td>\n",
       "      <td>1</td>\n",
       "      <td>CANDY, TOBACCO, COOKIES</td>\n",
       "      <td>115.0</td>\n",
       "    </tr>\n",
       "    <tr>\n",
       "      <th>...</th>\n",
       "      <td>...</td>\n",
       "      <td>...</td>\n",
       "      <td>...</td>\n",
       "      <td>...</td>\n",
       "      <td>...</td>\n",
       "      <td>...</td>\n",
       "      <td>...</td>\n",
       "    </tr>\n",
       "    <tr>\n",
       "      <th>453245</th>\n",
       "      <td>8</td>\n",
       "      <td>191289</td>\n",
       "      <td>Sunday</td>\n",
       "      <td>6.112696e+10</td>\n",
       "      <td>1</td>\n",
       "      <td>DSD GROCERY</td>\n",
       "      <td>3467.0</td>\n",
       "    </tr>\n",
       "    <tr>\n",
       "      <th>453246</th>\n",
       "      <td>8</td>\n",
       "      <td>191291</td>\n",
       "      <td>Sunday</td>\n",
       "      <td>4.011000e+03</td>\n",
       "      <td>1</td>\n",
       "      <td>PRODUCE</td>\n",
       "      <td>5501.0</td>\n",
       "    </tr>\n",
       "    <tr>\n",
       "      <th>453247</th>\n",
       "      <td>8</td>\n",
       "      <td>191291</td>\n",
       "      <td>Sunday</td>\n",
       "      <td>7.874235e+09</td>\n",
       "      <td>1</td>\n",
       "      <td>DAIRY</td>\n",
       "      <td>1508.0</td>\n",
       "    </tr>\n",
       "    <tr>\n",
       "      <th>453409</th>\n",
       "      <td>8</td>\n",
       "      <td>191347</td>\n",
       "      <td>Sunday</td>\n",
       "      <td>4.190008e+09</td>\n",
       "      <td>1</td>\n",
       "      <td>DAIRY</td>\n",
       "      <td>1512.0</td>\n",
       "    </tr>\n",
       "    <tr>\n",
       "      <th>453410</th>\n",
       "      <td>8</td>\n",
       "      <td>191347</td>\n",
       "      <td>Sunday</td>\n",
       "      <td>3.800060e+09</td>\n",
       "      <td>1</td>\n",
       "      <td>GROCERY DRY GOODS</td>\n",
       "      <td>3600.0</td>\n",
       "    </tr>\n",
       "  </tbody>\n",
       "</table>\n",
       "<p>15960 rows × 7 columns</p>\n",
       "</div>"
      ],
      "text/plain": [
       "        TripType  VisitNumber Weekday           Upc  ScanCount  \\\n",
       "1              8            9  Friday  1.070081e+09          1   \n",
       "2              8            9  Friday  3.107000e+03          1   \n",
       "3              8            9  Friday  4.011000e+03          1   \n",
       "4              8           10  Friday  6.414410e+09          1   \n",
       "5              8           10  Friday  2.800054e+09          1   \n",
       "...          ...          ...     ...           ...        ...   \n",
       "453245         8       191289  Sunday  6.112696e+10          1   \n",
       "453246         8       191291  Sunday  4.011000e+03          1   \n",
       "453247         8       191291  Sunday  7.874235e+09          1   \n",
       "453409         8       191347  Sunday  4.190008e+09          1   \n",
       "453410         8       191347  Sunday  3.800060e+09          1   \n",
       "\n",
       "          DepartmentDescription  FinelineNumber  \n",
       "1           IMPULSE MERCHANDISE           115.0  \n",
       "2                       PRODUCE           103.0  \n",
       "3                       PRODUCE          5501.0  \n",
       "4                   DSD GROCERY          2008.0  \n",
       "5       CANDY, TOBACCO, COOKIES           115.0  \n",
       "...                         ...             ...  \n",
       "453245              DSD GROCERY          3467.0  \n",
       "453246                  PRODUCE          5501.0  \n",
       "453247                    DAIRY          1508.0  \n",
       "453409                    DAIRY          1512.0  \n",
       "453410        GROCERY DRY GOODS          3600.0  \n",
       "\n",
       "[15960 rows x 7 columns]"
      ]
     },
     "execution_count": 14,
     "metadata": {},
     "output_type": "execute_result"
    }
   ],
   "source": [
    "original_df[original_df.TripType==8] #.groupby(\"VisitNumber\").TripType.mean().value_counts()\n",
    "#original_df.groupby(\"VisitNumber\").TripType.mean()"
   ]
  },
  {
   "cell_type": "code",
   "execution_count": 15,
   "metadata": {
    "execution": {
     "iopub.execute_input": "2020-09-30T16:02:06.147841Z",
     "iopub.status.busy": "2020-09-30T16:02:06.147496Z",
     "iopub.status.idle": "2020-09-30T16:02:06.344361Z",
     "shell.execute_reply": "2020-09-30T16:02:06.343146Z",
     "shell.execute_reply.started": "2020-09-30T16:02:06.147789Z"
    }
   },
   "outputs": [
    {
     "name": "stdout",
     "output_type": "stream",
     "text": [
      "<class 'pandas.core.frame.DataFrame'>\n",
      "RangeIndex: 453411 entries, 0 to 453410\n",
      "Data columns (total 7 columns):\n",
      " #   Column                 Non-Null Count   Dtype  \n",
      "---  ------                 --------------   -----  \n",
      " 0   TripType               453411 non-null  int64  \n",
      " 1   VisitNumber            453411 non-null  int64  \n",
      " 2   Weekday                453411 non-null  object \n",
      " 3   Upc                    450559 non-null  float64\n",
      " 4   ScanCount              453411 non-null  int64  \n",
      " 5   DepartmentDescription  452439 non-null  object \n",
      " 6   FinelineNumber         450559 non-null  float64\n",
      "dtypes: float64(2), int64(3), object(2)\n",
      "memory usage: 24.2+ MB\n"
     ]
    }
   ],
   "source": [
    "original_df.info()"
   ]
  },
  {
   "cell_type": "markdown",
   "metadata": {},
   "source": [
    "**Unbalanced!!!**"
   ]
  },
  {
   "cell_type": "markdown",
   "metadata": {},
   "source": [
    "Create a function to load the datasets.\n",
    "\n",
    "**Some important decisions made here**:\n",
    "1. We will use one hot encoding for Weekday and DepartmentDescription. All transformations are applied to the training and testing datasets...\n",
    "1. We are handling NaN's as another category. This may not be the best approach.\n",
    "1. We may have multiple records for one single visit and the goal is to classify all those records the exact same way. Therefore, we will prepare the data in a way that all the information for a visit is in the same record.\n",
    "1. Based on the last bullet, we will count the DepartmentDescription for all items acquired in the same visit.\n",
    "1. We drop the Upc and FinelineNumber to simplify the process. You may use it as they have a lot of information (may be using one-hot encoding for them as well)"
   ]
  },
  {
   "cell_type": "markdown",
   "metadata": {},
   "source": [
    "The following operations will be performed in a function. Anyway, we present them here so that we can see them in action:\n",
    "\n",
    "First, we drop the columns. We include TripType as we are going to treat it differently:"
   ]
  },
  {
   "cell_type": "code",
   "execution_count": 16,
   "metadata": {
    "execution": {
     "iopub.execute_input": "2020-09-30T16:02:06.346292Z",
     "iopub.status.busy": "2020-09-30T16:02:06.345942Z",
     "iopub.status.idle": "2020-09-30T16:02:06.405291Z",
     "shell.execute_reply": "2020-09-30T16:02:06.404023Z",
     "shell.execute_reply.started": "2020-09-30T16:02:06.346240Z"
    }
   },
   "outputs": [],
   "source": [
    "#df = original_df.drop([\"Upc\", \"FinelineNumber\", \"TripType\"], axis=1)\n",
    "df = original_df.drop([\"TripType\"], axis=1)"
   ]
  },
  {
   "cell_type": "code",
   "execution_count": 17,
   "metadata": {
    "execution": {
     "iopub.execute_input": "2020-09-30T16:02:06.407385Z",
     "iopub.status.busy": "2020-09-30T16:02:06.407024Z",
     "iopub.status.idle": "2020-09-30T16:02:06.449202Z",
     "shell.execute_reply": "2020-09-30T16:02:06.448140Z",
     "shell.execute_reply.started": "2020-09-30T16:02:06.407333Z"
    }
   },
   "outputs": [
    {
     "data": {
      "text/html": [
       "<div>\n",
       "<style scoped>\n",
       "    .dataframe tbody tr th:only-of-type {\n",
       "        vertical-align: middle;\n",
       "    }\n",
       "\n",
       "    .dataframe tbody tr th {\n",
       "        vertical-align: top;\n",
       "    }\n",
       "\n",
       "    .dataframe thead th {\n",
       "        text-align: right;\n",
       "    }\n",
       "</style>\n",
       "<table border=\"1\" class=\"dataframe\">\n",
       "  <thead>\n",
       "    <tr style=\"text-align: right;\">\n",
       "      <th></th>\n",
       "      <th>VisitNumber</th>\n",
       "      <th>Weekday</th>\n",
       "      <th>Upc</th>\n",
       "      <th>ScanCount</th>\n",
       "      <th>DepartmentDescription</th>\n",
       "      <th>FinelineNumber</th>\n",
       "    </tr>\n",
       "  </thead>\n",
       "  <tbody>\n",
       "    <tr>\n",
       "      <th>0</th>\n",
       "      <td>5</td>\n",
       "      <td>Friday</td>\n",
       "      <td>6.811315e+10</td>\n",
       "      <td>-1</td>\n",
       "      <td>FINANCIAL SERVICES</td>\n",
       "      <td>1000.0</td>\n",
       "    </tr>\n",
       "    <tr>\n",
       "      <th>1</th>\n",
       "      <td>9</td>\n",
       "      <td>Friday</td>\n",
       "      <td>1.070081e+09</td>\n",
       "      <td>1</td>\n",
       "      <td>IMPULSE MERCHANDISE</td>\n",
       "      <td>115.0</td>\n",
       "    </tr>\n",
       "    <tr>\n",
       "      <th>2</th>\n",
       "      <td>9</td>\n",
       "      <td>Friday</td>\n",
       "      <td>3.107000e+03</td>\n",
       "      <td>1</td>\n",
       "      <td>PRODUCE</td>\n",
       "      <td>103.0</td>\n",
       "    </tr>\n",
       "    <tr>\n",
       "      <th>3</th>\n",
       "      <td>9</td>\n",
       "      <td>Friday</td>\n",
       "      <td>4.011000e+03</td>\n",
       "      <td>1</td>\n",
       "      <td>PRODUCE</td>\n",
       "      <td>5501.0</td>\n",
       "    </tr>\n",
       "    <tr>\n",
       "      <th>4</th>\n",
       "      <td>10</td>\n",
       "      <td>Friday</td>\n",
       "      <td>6.414410e+09</td>\n",
       "      <td>1</td>\n",
       "      <td>DSD GROCERY</td>\n",
       "      <td>2008.0</td>\n",
       "    </tr>\n",
       "    <tr>\n",
       "      <th>...</th>\n",
       "      <td>...</td>\n",
       "      <td>...</td>\n",
       "      <td>...</td>\n",
       "      <td>...</td>\n",
       "      <td>...</td>\n",
       "      <td>...</td>\n",
       "    </tr>\n",
       "    <tr>\n",
       "      <th>453406</th>\n",
       "      <td>191344</td>\n",
       "      <td>Sunday</td>\n",
       "      <td>7.315096e+10</td>\n",
       "      <td>1</td>\n",
       "      <td>BEAUTY</td>\n",
       "      <td>3405.0</td>\n",
       "    </tr>\n",
       "    <tr>\n",
       "      <th>453407</th>\n",
       "      <td>191344</td>\n",
       "      <td>Sunday</td>\n",
       "      <td>6.505300e+10</td>\n",
       "      <td>1</td>\n",
       "      <td>WIRELESS</td>\n",
       "      <td>1712.0</td>\n",
       "    </tr>\n",
       "    <tr>\n",
       "      <th>453408</th>\n",
       "      <td>191344</td>\n",
       "      <td>Sunday</td>\n",
       "      <td>7.918131e+09</td>\n",
       "      <td>1</td>\n",
       "      <td>BEAUTY</td>\n",
       "      <td>3405.0</td>\n",
       "    </tr>\n",
       "    <tr>\n",
       "      <th>453409</th>\n",
       "      <td>191347</td>\n",
       "      <td>Sunday</td>\n",
       "      <td>4.190008e+09</td>\n",
       "      <td>1</td>\n",
       "      <td>DAIRY</td>\n",
       "      <td>1512.0</td>\n",
       "    </tr>\n",
       "    <tr>\n",
       "      <th>453410</th>\n",
       "      <td>191347</td>\n",
       "      <td>Sunday</td>\n",
       "      <td>3.800060e+09</td>\n",
       "      <td>1</td>\n",
       "      <td>GROCERY DRY GOODS</td>\n",
       "      <td>3600.0</td>\n",
       "    </tr>\n",
       "  </tbody>\n",
       "</table>\n",
       "<p>453411 rows × 6 columns</p>\n",
       "</div>"
      ],
      "text/plain": [
       "        VisitNumber Weekday           Upc  ScanCount DepartmentDescription  \\\n",
       "0                 5  Friday  6.811315e+10         -1    FINANCIAL SERVICES   \n",
       "1                 9  Friday  1.070081e+09          1   IMPULSE MERCHANDISE   \n",
       "2                 9  Friday  3.107000e+03          1               PRODUCE   \n",
       "3                 9  Friday  4.011000e+03          1               PRODUCE   \n",
       "4                10  Friday  6.414410e+09          1           DSD GROCERY   \n",
       "...             ...     ...           ...        ...                   ...   \n",
       "453406       191344  Sunday  7.315096e+10          1                BEAUTY   \n",
       "453407       191344  Sunday  6.505300e+10          1              WIRELESS   \n",
       "453408       191344  Sunday  7.918131e+09          1                BEAUTY   \n",
       "453409       191347  Sunday  4.190008e+09          1                 DAIRY   \n",
       "453410       191347  Sunday  3.800060e+09          1     GROCERY DRY GOODS   \n",
       "\n",
       "        FinelineNumber  \n",
       "0               1000.0  \n",
       "1                115.0  \n",
       "2                103.0  \n",
       "3               5501.0  \n",
       "4               2008.0  \n",
       "...                ...  \n",
       "453406          3405.0  \n",
       "453407          1712.0  \n",
       "453408          3405.0  \n",
       "453409          1512.0  \n",
       "453410          3600.0  \n",
       "\n",
       "[453411 rows x 6 columns]"
      ]
     },
     "execution_count": 17,
     "metadata": {},
     "output_type": "execute_result"
    }
   ],
   "source": [
    "df"
   ]
  },
  {
   "cell_type": "markdown",
   "metadata": {},
   "source": [
    "Now, we create the dummy columns"
   ]
  },
  {
   "cell_type": "code",
   "execution_count": 18,
   "metadata": {
    "execution": {
     "iopub.execute_input": "2020-09-30T16:02:06.451015Z",
     "iopub.status.busy": "2020-09-30T16:02:06.450678Z",
     "iopub.status.idle": "2020-09-30T16:02:06.511112Z",
     "shell.execute_reply": "2020-09-30T16:02:06.509824Z",
     "shell.execute_reply.started": "2020-09-30T16:02:06.450964Z"
    }
   },
   "outputs": [],
   "source": [
    "df = df[df['Upc'].notna()]"
   ]
  },
  {
   "cell_type": "code",
   "execution_count": 19,
   "metadata": {
    "execution": {
     "iopub.execute_input": "2020-09-30T16:02:06.513145Z",
     "iopub.status.busy": "2020-09-30T16:02:06.512790Z",
     "iopub.status.idle": "2020-09-30T16:02:06.522687Z",
     "shell.execute_reply": "2020-09-30T16:02:06.521476Z",
     "shell.execute_reply.started": "2020-09-30T16:02:06.513082Z"
    }
   },
   "outputs": [
    {
     "data": {
      "text/plain": [
       "VisitNumber                int64\n",
       "Weekday                   object\n",
       "Upc                      float64\n",
       "ScanCount                  int64\n",
       "DepartmentDescription     object\n",
       "FinelineNumber           float64\n",
       "dtype: object"
      ]
     },
     "execution_count": 19,
     "metadata": {},
     "output_type": "execute_result"
    }
   ],
   "source": [
    "df.dtypes"
   ]
  },
  {
   "cell_type": "code",
   "execution_count": 20,
   "metadata": {
    "execution": {
     "iopub.execute_input": "2020-09-30T16:02:06.524435Z",
     "iopub.status.busy": "2020-09-30T16:02:06.524093Z",
     "iopub.status.idle": "2020-09-30T16:02:07.118508Z",
     "shell.execute_reply": "2020-09-30T16:02:07.117257Z",
     "shell.execute_reply.started": "2020-09-30T16:02:06.524386Z"
    }
   },
   "outputs": [],
   "source": [
    "df = pd.get_dummies(df, columns=[\"DepartmentDescription\"], dummy_na=False)"
   ]
  },
  {
   "cell_type": "code",
   "execution_count": 21,
   "metadata": {
    "execution": {
     "iopub.execute_input": "2020-09-30T16:02:07.120651Z",
     "iopub.status.busy": "2020-09-30T16:02:07.120283Z",
     "iopub.status.idle": "2020-09-30T16:02:07.201709Z",
     "shell.execute_reply": "2020-09-30T16:02:07.200628Z",
     "shell.execute_reply.started": "2020-09-30T16:02:07.120597Z"
    }
   },
   "outputs": [
    {
     "data": {
      "text/html": [
       "<div>\n",
       "<style scoped>\n",
       "    .dataframe tbody tr th:only-of-type {\n",
       "        vertical-align: middle;\n",
       "    }\n",
       "\n",
       "    .dataframe tbody tr th {\n",
       "        vertical-align: top;\n",
       "    }\n",
       "\n",
       "    .dataframe thead th {\n",
       "        text-align: right;\n",
       "    }\n",
       "</style>\n",
       "<table border=\"1\" class=\"dataframe\">\n",
       "  <thead>\n",
       "    <tr style=\"text-align: right;\">\n",
       "      <th></th>\n",
       "      <th>VisitNumber</th>\n",
       "      <th>Weekday</th>\n",
       "      <th>Upc</th>\n",
       "      <th>ScanCount</th>\n",
       "      <th>FinelineNumber</th>\n",
       "      <th>DepartmentDescription_1-HR PHOTO</th>\n",
       "      <th>DepartmentDescription_ACCESSORIES</th>\n",
       "      <th>DepartmentDescription_AUTOMOTIVE</th>\n",
       "      <th>DepartmentDescription_BAKERY</th>\n",
       "      <th>DepartmentDescription_BATH AND SHOWER</th>\n",
       "      <th>...</th>\n",
       "      <th>DepartmentDescription_SEAFOOD</th>\n",
       "      <th>DepartmentDescription_SEASONAL</th>\n",
       "      <th>DepartmentDescription_SERVICE DELI</th>\n",
       "      <th>DepartmentDescription_SHEER HOSIERY</th>\n",
       "      <th>DepartmentDescription_SHOES</th>\n",
       "      <th>DepartmentDescription_SLEEPWEAR/FOUNDATIONS</th>\n",
       "      <th>DepartmentDescription_SPORTING GOODS</th>\n",
       "      <th>DepartmentDescription_SWIMWEAR/OUTERWEAR</th>\n",
       "      <th>DepartmentDescription_TOYS</th>\n",
       "      <th>DepartmentDescription_WIRELESS</th>\n",
       "    </tr>\n",
       "  </thead>\n",
       "  <tbody>\n",
       "    <tr>\n",
       "      <th>0</th>\n",
       "      <td>5</td>\n",
       "      <td>Friday</td>\n",
       "      <td>6.811315e+10</td>\n",
       "      <td>-1</td>\n",
       "      <td>1000.0</td>\n",
       "      <td>0</td>\n",
       "      <td>0</td>\n",
       "      <td>0</td>\n",
       "      <td>0</td>\n",
       "      <td>0</td>\n",
       "      <td>...</td>\n",
       "      <td>0</td>\n",
       "      <td>0</td>\n",
       "      <td>0</td>\n",
       "      <td>0</td>\n",
       "      <td>0</td>\n",
       "      <td>0</td>\n",
       "      <td>0</td>\n",
       "      <td>0</td>\n",
       "      <td>0</td>\n",
       "      <td>0</td>\n",
       "    </tr>\n",
       "    <tr>\n",
       "      <th>1</th>\n",
       "      <td>9</td>\n",
       "      <td>Friday</td>\n",
       "      <td>1.070081e+09</td>\n",
       "      <td>1</td>\n",
       "      <td>115.0</td>\n",
       "      <td>0</td>\n",
       "      <td>0</td>\n",
       "      <td>0</td>\n",
       "      <td>0</td>\n",
       "      <td>0</td>\n",
       "      <td>...</td>\n",
       "      <td>0</td>\n",
       "      <td>0</td>\n",
       "      <td>0</td>\n",
       "      <td>0</td>\n",
       "      <td>0</td>\n",
       "      <td>0</td>\n",
       "      <td>0</td>\n",
       "      <td>0</td>\n",
       "      <td>0</td>\n",
       "      <td>0</td>\n",
       "    </tr>\n",
       "    <tr>\n",
       "      <th>2</th>\n",
       "      <td>9</td>\n",
       "      <td>Friday</td>\n",
       "      <td>3.107000e+03</td>\n",
       "      <td>1</td>\n",
       "      <td>103.0</td>\n",
       "      <td>0</td>\n",
       "      <td>0</td>\n",
       "      <td>0</td>\n",
       "      <td>0</td>\n",
       "      <td>0</td>\n",
       "      <td>...</td>\n",
       "      <td>0</td>\n",
       "      <td>0</td>\n",
       "      <td>0</td>\n",
       "      <td>0</td>\n",
       "      <td>0</td>\n",
       "      <td>0</td>\n",
       "      <td>0</td>\n",
       "      <td>0</td>\n",
       "      <td>0</td>\n",
       "      <td>0</td>\n",
       "    </tr>\n",
       "    <tr>\n",
       "      <th>3</th>\n",
       "      <td>9</td>\n",
       "      <td>Friday</td>\n",
       "      <td>4.011000e+03</td>\n",
       "      <td>1</td>\n",
       "      <td>5501.0</td>\n",
       "      <td>0</td>\n",
       "      <td>0</td>\n",
       "      <td>0</td>\n",
       "      <td>0</td>\n",
       "      <td>0</td>\n",
       "      <td>...</td>\n",
       "      <td>0</td>\n",
       "      <td>0</td>\n",
       "      <td>0</td>\n",
       "      <td>0</td>\n",
       "      <td>0</td>\n",
       "      <td>0</td>\n",
       "      <td>0</td>\n",
       "      <td>0</td>\n",
       "      <td>0</td>\n",
       "      <td>0</td>\n",
       "    </tr>\n",
       "    <tr>\n",
       "      <th>4</th>\n",
       "      <td>10</td>\n",
       "      <td>Friday</td>\n",
       "      <td>6.414410e+09</td>\n",
       "      <td>1</td>\n",
       "      <td>2008.0</td>\n",
       "      <td>0</td>\n",
       "      <td>0</td>\n",
       "      <td>0</td>\n",
       "      <td>0</td>\n",
       "      <td>0</td>\n",
       "      <td>...</td>\n",
       "      <td>0</td>\n",
       "      <td>0</td>\n",
       "      <td>0</td>\n",
       "      <td>0</td>\n",
       "      <td>0</td>\n",
       "      <td>0</td>\n",
       "      <td>0</td>\n",
       "      <td>0</td>\n",
       "      <td>0</td>\n",
       "      <td>0</td>\n",
       "    </tr>\n",
       "  </tbody>\n",
       "</table>\n",
       "<p>5 rows × 73 columns</p>\n",
       "</div>"
      ],
      "text/plain": [
       "   VisitNumber Weekday           Upc  ScanCount  FinelineNumber  \\\n",
       "0            5  Friday  6.811315e+10         -1          1000.0   \n",
       "1            9  Friday  1.070081e+09          1           115.0   \n",
       "2            9  Friday  3.107000e+03          1           103.0   \n",
       "3            9  Friday  4.011000e+03          1          5501.0   \n",
       "4           10  Friday  6.414410e+09          1          2008.0   \n",
       "\n",
       "   DepartmentDescription_1-HR PHOTO  DepartmentDescription_ACCESSORIES  \\\n",
       "0                                 0                                  0   \n",
       "1                                 0                                  0   \n",
       "2                                 0                                  0   \n",
       "3                                 0                                  0   \n",
       "4                                 0                                  0   \n",
       "\n",
       "   DepartmentDescription_AUTOMOTIVE  DepartmentDescription_BAKERY  \\\n",
       "0                                 0                             0   \n",
       "1                                 0                             0   \n",
       "2                                 0                             0   \n",
       "3                                 0                             0   \n",
       "4                                 0                             0   \n",
       "\n",
       "   DepartmentDescription_BATH AND SHOWER  ...  DepartmentDescription_SEAFOOD  \\\n",
       "0                                      0  ...                              0   \n",
       "1                                      0  ...                              0   \n",
       "2                                      0  ...                              0   \n",
       "3                                      0  ...                              0   \n",
       "4                                      0  ...                              0   \n",
       "\n",
       "   DepartmentDescription_SEASONAL  DepartmentDescription_SERVICE DELI  \\\n",
       "0                               0                                   0   \n",
       "1                               0                                   0   \n",
       "2                               0                                   0   \n",
       "3                               0                                   0   \n",
       "4                               0                                   0   \n",
       "\n",
       "   DepartmentDescription_SHEER HOSIERY  DepartmentDescription_SHOES  \\\n",
       "0                                    0                            0   \n",
       "1                                    0                            0   \n",
       "2                                    0                            0   \n",
       "3                                    0                            0   \n",
       "4                                    0                            0   \n",
       "\n",
       "   DepartmentDescription_SLEEPWEAR/FOUNDATIONS  \\\n",
       "0                                            0   \n",
       "1                                            0   \n",
       "2                                            0   \n",
       "3                                            0   \n",
       "4                                            0   \n",
       "\n",
       "   DepartmentDescription_SPORTING GOODS  \\\n",
       "0                                     0   \n",
       "1                                     0   \n",
       "2                                     0   \n",
       "3                                     0   \n",
       "4                                     0   \n",
       "\n",
       "   DepartmentDescription_SWIMWEAR/OUTERWEAR  DepartmentDescription_TOYS  \\\n",
       "0                                         0                           0   \n",
       "1                                         0                           0   \n",
       "2                                         0                           0   \n",
       "3                                         0                           0   \n",
       "4                                         0                           0   \n",
       "\n",
       "   DepartmentDescription_WIRELESS  \n",
       "0                               0  \n",
       "1                               0  \n",
       "2                               0  \n",
       "3                               0  \n",
       "4                               0  \n",
       "\n",
       "[5 rows x 73 columns]"
      ]
     },
     "execution_count": 21,
     "metadata": {},
     "output_type": "execute_result"
    }
   ],
   "source": [
    "df.head()"
   ]
  },
  {
   "cell_type": "markdown",
   "metadata": {},
   "source": [
    "Now, we group by the VisitNumber and Weekday (they should be the same), and add all values for ScanCount, and the one-hot encoding of DepartmentDescriptioin"
   ]
  },
  {
   "cell_type": "code",
   "execution_count": 22,
   "metadata": {
    "execution": {
     "iopub.execute_input": "2020-09-30T16:02:07.203686Z",
     "iopub.status.busy": "2020-09-30T16:02:07.203328Z",
     "iopub.status.idle": "2020-09-30T16:02:08.745666Z",
     "shell.execute_reply": "2020-09-30T16:02:08.744457Z",
     "shell.execute_reply.started": "2020-09-30T16:02:07.203635Z"
    }
   },
   "outputs": [],
   "source": [
    "df = df.groupby([\"VisitNumber\", \"Weekday\"], as_index=False).sum()"
   ]
  },
  {
   "cell_type": "code",
   "execution_count": 23,
   "metadata": {
    "execution": {
     "iopub.execute_input": "2020-09-30T16:02:08.747668Z",
     "iopub.status.busy": "2020-09-30T16:02:08.747324Z",
     "iopub.status.idle": "2020-09-30T16:02:08.822335Z",
     "shell.execute_reply": "2020-09-30T16:02:08.821226Z",
     "shell.execute_reply.started": "2020-09-30T16:02:08.747615Z"
    }
   },
   "outputs": [
    {
     "data": {
      "text/html": [
       "<div>\n",
       "<style scoped>\n",
       "    .dataframe tbody tr th:only-of-type {\n",
       "        vertical-align: middle;\n",
       "    }\n",
       "\n",
       "    .dataframe tbody tr th {\n",
       "        vertical-align: top;\n",
       "    }\n",
       "\n",
       "    .dataframe thead th {\n",
       "        text-align: right;\n",
       "    }\n",
       "</style>\n",
       "<table border=\"1\" class=\"dataframe\">\n",
       "  <thead>\n",
       "    <tr style=\"text-align: right;\">\n",
       "      <th></th>\n",
       "      <th>VisitNumber</th>\n",
       "      <th>Weekday</th>\n",
       "      <th>Upc</th>\n",
       "      <th>ScanCount</th>\n",
       "      <th>FinelineNumber</th>\n",
       "      <th>DepartmentDescription_1-HR PHOTO</th>\n",
       "      <th>DepartmentDescription_ACCESSORIES</th>\n",
       "      <th>DepartmentDescription_AUTOMOTIVE</th>\n",
       "      <th>DepartmentDescription_BAKERY</th>\n",
       "      <th>DepartmentDescription_BATH AND SHOWER</th>\n",
       "      <th>...</th>\n",
       "      <th>DepartmentDescription_SEAFOOD</th>\n",
       "      <th>DepartmentDescription_SEASONAL</th>\n",
       "      <th>DepartmentDescription_SERVICE DELI</th>\n",
       "      <th>DepartmentDescription_SHEER HOSIERY</th>\n",
       "      <th>DepartmentDescription_SHOES</th>\n",
       "      <th>DepartmentDescription_SLEEPWEAR/FOUNDATIONS</th>\n",
       "      <th>DepartmentDescription_SPORTING GOODS</th>\n",
       "      <th>DepartmentDescription_SWIMWEAR/OUTERWEAR</th>\n",
       "      <th>DepartmentDescription_TOYS</th>\n",
       "      <th>DepartmentDescription_WIRELESS</th>\n",
       "    </tr>\n",
       "  </thead>\n",
       "  <tbody>\n",
       "    <tr>\n",
       "      <th>0</th>\n",
       "      <td>5</td>\n",
       "      <td>Friday</td>\n",
       "      <td>6.811315e+10</td>\n",
       "      <td>-1</td>\n",
       "      <td>1000.0</td>\n",
       "      <td>0</td>\n",
       "      <td>0</td>\n",
       "      <td>0</td>\n",
       "      <td>0</td>\n",
       "      <td>0</td>\n",
       "      <td>...</td>\n",
       "      <td>0</td>\n",
       "      <td>0</td>\n",
       "      <td>0</td>\n",
       "      <td>0</td>\n",
       "      <td>0</td>\n",
       "      <td>0</td>\n",
       "      <td>0</td>\n",
       "      <td>0</td>\n",
       "      <td>0</td>\n",
       "      <td>0</td>\n",
       "    </tr>\n",
       "    <tr>\n",
       "      <th>1</th>\n",
       "      <td>9</td>\n",
       "      <td>Friday</td>\n",
       "      <td>1.070088e+09</td>\n",
       "      <td>3</td>\n",
       "      <td>5719.0</td>\n",
       "      <td>0</td>\n",
       "      <td>0</td>\n",
       "      <td>0</td>\n",
       "      <td>0</td>\n",
       "      <td>0</td>\n",
       "      <td>...</td>\n",
       "      <td>0</td>\n",
       "      <td>0</td>\n",
       "      <td>0</td>\n",
       "      <td>0</td>\n",
       "      <td>0</td>\n",
       "      <td>0</td>\n",
       "      <td>0</td>\n",
       "      <td>0</td>\n",
       "      <td>0</td>\n",
       "      <td>0</td>\n",
       "    </tr>\n",
       "    <tr>\n",
       "      <th>2</th>\n",
       "      <td>10</td>\n",
       "      <td>Friday</td>\n",
       "      <td>1.700927e+10</td>\n",
       "      <td>3</td>\n",
       "      <td>10073.0</td>\n",
       "      <td>0</td>\n",
       "      <td>0</td>\n",
       "      <td>0</td>\n",
       "      <td>0</td>\n",
       "      <td>0</td>\n",
       "      <td>...</td>\n",
       "      <td>0</td>\n",
       "      <td>0</td>\n",
       "      <td>0</td>\n",
       "      <td>0</td>\n",
       "      <td>0</td>\n",
       "      <td>0</td>\n",
       "      <td>0</td>\n",
       "      <td>0</td>\n",
       "      <td>0</td>\n",
       "      <td>0</td>\n",
       "    </tr>\n",
       "    <tr>\n",
       "      <th>3</th>\n",
       "      <td>11</td>\n",
       "      <td>Friday</td>\n",
       "      <td>2.273895e+10</td>\n",
       "      <td>4</td>\n",
       "      <td>7499.0</td>\n",
       "      <td>0</td>\n",
       "      <td>0</td>\n",
       "      <td>0</td>\n",
       "      <td>0</td>\n",
       "      <td>0</td>\n",
       "      <td>...</td>\n",
       "      <td>0</td>\n",
       "      <td>0</td>\n",
       "      <td>0</td>\n",
       "      <td>0</td>\n",
       "      <td>0</td>\n",
       "      <td>0</td>\n",
       "      <td>0</td>\n",
       "      <td>0</td>\n",
       "      <td>0</td>\n",
       "      <td>0</td>\n",
       "    </tr>\n",
       "    <tr>\n",
       "      <th>4</th>\n",
       "      <td>12</td>\n",
       "      <td>Friday</td>\n",
       "      <td>1.832173e+11</td>\n",
       "      <td>7</td>\n",
       "      <td>15639.0</td>\n",
       "      <td>0</td>\n",
       "      <td>0</td>\n",
       "      <td>0</td>\n",
       "      <td>0</td>\n",
       "      <td>0</td>\n",
       "      <td>...</td>\n",
       "      <td>0</td>\n",
       "      <td>0</td>\n",
       "      <td>0</td>\n",
       "      <td>0</td>\n",
       "      <td>1</td>\n",
       "      <td>0</td>\n",
       "      <td>0</td>\n",
       "      <td>0</td>\n",
       "      <td>0</td>\n",
       "      <td>0</td>\n",
       "    </tr>\n",
       "    <tr>\n",
       "      <th>...</th>\n",
       "      <td>...</td>\n",
       "      <td>...</td>\n",
       "      <td>...</td>\n",
       "      <td>...</td>\n",
       "      <td>...</td>\n",
       "      <td>...</td>\n",
       "      <td>...</td>\n",
       "      <td>...</td>\n",
       "      <td>...</td>\n",
       "      <td>...</td>\n",
       "      <td>...</td>\n",
       "      <td>...</td>\n",
       "      <td>...</td>\n",
       "      <td>...</td>\n",
       "      <td>...</td>\n",
       "      <td>...</td>\n",
       "      <td>...</td>\n",
       "      <td>...</td>\n",
       "      <td>...</td>\n",
       "      <td>...</td>\n",
       "      <td>...</td>\n",
       "    </tr>\n",
       "    <tr>\n",
       "      <th>66072</th>\n",
       "      <td>191329</td>\n",
       "      <td>Sunday</td>\n",
       "      <td>5.830656e+11</td>\n",
       "      <td>20</td>\n",
       "      <td>75311.0</td>\n",
       "      <td>0</td>\n",
       "      <td>0</td>\n",
       "      <td>0</td>\n",
       "      <td>0</td>\n",
       "      <td>2</td>\n",
       "      <td>...</td>\n",
       "      <td>0</td>\n",
       "      <td>0</td>\n",
       "      <td>0</td>\n",
       "      <td>0</td>\n",
       "      <td>0</td>\n",
       "      <td>0</td>\n",
       "      <td>0</td>\n",
       "      <td>0</td>\n",
       "      <td>0</td>\n",
       "      <td>0</td>\n",
       "    </tr>\n",
       "    <tr>\n",
       "      <th>66073</th>\n",
       "      <td>191337</td>\n",
       "      <td>Sunday</td>\n",
       "      <td>2.659169e+11</td>\n",
       "      <td>27</td>\n",
       "      <td>113908.0</td>\n",
       "      <td>0</td>\n",
       "      <td>0</td>\n",
       "      <td>0</td>\n",
       "      <td>1</td>\n",
       "      <td>0</td>\n",
       "      <td>...</td>\n",
       "      <td>0</td>\n",
       "      <td>0</td>\n",
       "      <td>0</td>\n",
       "      <td>0</td>\n",
       "      <td>0</td>\n",
       "      <td>0</td>\n",
       "      <td>0</td>\n",
       "      <td>0</td>\n",
       "      <td>0</td>\n",
       "      <td>0</td>\n",
       "    </tr>\n",
       "    <tr>\n",
       "      <th>66074</th>\n",
       "      <td>191343</td>\n",
       "      <td>Sunday</td>\n",
       "      <td>4.516225e+11</td>\n",
       "      <td>9</td>\n",
       "      <td>33991.0</td>\n",
       "      <td>0</td>\n",
       "      <td>0</td>\n",
       "      <td>0</td>\n",
       "      <td>0</td>\n",
       "      <td>0</td>\n",
       "      <td>...</td>\n",
       "      <td>0</td>\n",
       "      <td>0</td>\n",
       "      <td>0</td>\n",
       "      <td>0</td>\n",
       "      <td>0</td>\n",
       "      <td>0</td>\n",
       "      <td>0</td>\n",
       "      <td>0</td>\n",
       "      <td>0</td>\n",
       "      <td>0</td>\n",
       "    </tr>\n",
       "    <tr>\n",
       "      <th>66075</th>\n",
       "      <td>191344</td>\n",
       "      <td>Sunday</td>\n",
       "      <td>1.614572e+11</td>\n",
       "      <td>5</td>\n",
       "      <td>15127.0</td>\n",
       "      <td>0</td>\n",
       "      <td>0</td>\n",
       "      <td>0</td>\n",
       "      <td>0</td>\n",
       "      <td>0</td>\n",
       "      <td>...</td>\n",
       "      <td>0</td>\n",
       "      <td>0</td>\n",
       "      <td>0</td>\n",
       "      <td>0</td>\n",
       "      <td>0</td>\n",
       "      <td>0</td>\n",
       "      <td>0</td>\n",
       "      <td>0</td>\n",
       "      <td>0</td>\n",
       "      <td>1</td>\n",
       "    </tr>\n",
       "    <tr>\n",
       "      <th>66076</th>\n",
       "      <td>191347</td>\n",
       "      <td>Sunday</td>\n",
       "      <td>7.990067e+09</td>\n",
       "      <td>2</td>\n",
       "      <td>5112.0</td>\n",
       "      <td>0</td>\n",
       "      <td>0</td>\n",
       "      <td>0</td>\n",
       "      <td>0</td>\n",
       "      <td>0</td>\n",
       "      <td>...</td>\n",
       "      <td>0</td>\n",
       "      <td>0</td>\n",
       "      <td>0</td>\n",
       "      <td>0</td>\n",
       "      <td>0</td>\n",
       "      <td>0</td>\n",
       "      <td>0</td>\n",
       "      <td>0</td>\n",
       "      <td>0</td>\n",
       "      <td>0</td>\n",
       "    </tr>\n",
       "  </tbody>\n",
       "</table>\n",
       "<p>66077 rows × 73 columns</p>\n",
       "</div>"
      ],
      "text/plain": [
       "       VisitNumber Weekday           Upc  ScanCount  FinelineNumber  \\\n",
       "0                5  Friday  6.811315e+10         -1          1000.0   \n",
       "1                9  Friday  1.070088e+09          3          5719.0   \n",
       "2               10  Friday  1.700927e+10          3         10073.0   \n",
       "3               11  Friday  2.273895e+10          4          7499.0   \n",
       "4               12  Friday  1.832173e+11          7         15639.0   \n",
       "...            ...     ...           ...        ...             ...   \n",
       "66072       191329  Sunday  5.830656e+11         20         75311.0   \n",
       "66073       191337  Sunday  2.659169e+11         27        113908.0   \n",
       "66074       191343  Sunday  4.516225e+11          9         33991.0   \n",
       "66075       191344  Sunday  1.614572e+11          5         15127.0   \n",
       "66076       191347  Sunday  7.990067e+09          2          5112.0   \n",
       "\n",
       "       DepartmentDescription_1-HR PHOTO  DepartmentDescription_ACCESSORIES  \\\n",
       "0                                     0                                  0   \n",
       "1                                     0                                  0   \n",
       "2                                     0                                  0   \n",
       "3                                     0                                  0   \n",
       "4                                     0                                  0   \n",
       "...                                 ...                                ...   \n",
       "66072                                 0                                  0   \n",
       "66073                                 0                                  0   \n",
       "66074                                 0                                  0   \n",
       "66075                                 0                                  0   \n",
       "66076                                 0                                  0   \n",
       "\n",
       "       DepartmentDescription_AUTOMOTIVE  DepartmentDescription_BAKERY  \\\n",
       "0                                     0                             0   \n",
       "1                                     0                             0   \n",
       "2                                     0                             0   \n",
       "3                                     0                             0   \n",
       "4                                     0                             0   \n",
       "...                                 ...                           ...   \n",
       "66072                                 0                             0   \n",
       "66073                                 0                             1   \n",
       "66074                                 0                             0   \n",
       "66075                                 0                             0   \n",
       "66076                                 0                             0   \n",
       "\n",
       "       DepartmentDescription_BATH AND SHOWER  ...  \\\n",
       "0                                          0  ...   \n",
       "1                                          0  ...   \n",
       "2                                          0  ...   \n",
       "3                                          0  ...   \n",
       "4                                          0  ...   \n",
       "...                                      ...  ...   \n",
       "66072                                      2  ...   \n",
       "66073                                      0  ...   \n",
       "66074                                      0  ...   \n",
       "66075                                      0  ...   \n",
       "66076                                      0  ...   \n",
       "\n",
       "       DepartmentDescription_SEAFOOD  DepartmentDescription_SEASONAL  \\\n",
       "0                                  0                               0   \n",
       "1                                  0                               0   \n",
       "2                                  0                               0   \n",
       "3                                  0                               0   \n",
       "4                                  0                               0   \n",
       "...                              ...                             ...   \n",
       "66072                              0                               0   \n",
       "66073                              0                               0   \n",
       "66074                              0                               0   \n",
       "66075                              0                               0   \n",
       "66076                              0                               0   \n",
       "\n",
       "       DepartmentDescription_SERVICE DELI  \\\n",
       "0                                       0   \n",
       "1                                       0   \n",
       "2                                       0   \n",
       "3                                       0   \n",
       "4                                       0   \n",
       "...                                   ...   \n",
       "66072                                   0   \n",
       "66073                                   0   \n",
       "66074                                   0   \n",
       "66075                                   0   \n",
       "66076                                   0   \n",
       "\n",
       "       DepartmentDescription_SHEER HOSIERY  DepartmentDescription_SHOES  \\\n",
       "0                                        0                            0   \n",
       "1                                        0                            0   \n",
       "2                                        0                            0   \n",
       "3                                        0                            0   \n",
       "4                                        0                            1   \n",
       "...                                    ...                          ...   \n",
       "66072                                    0                            0   \n",
       "66073                                    0                            0   \n",
       "66074                                    0                            0   \n",
       "66075                                    0                            0   \n",
       "66076                                    0                            0   \n",
       "\n",
       "       DepartmentDescription_SLEEPWEAR/FOUNDATIONS  \\\n",
       "0                                                0   \n",
       "1                                                0   \n",
       "2                                                0   \n",
       "3                                                0   \n",
       "4                                                0   \n",
       "...                                            ...   \n",
       "66072                                            0   \n",
       "66073                                            0   \n",
       "66074                                            0   \n",
       "66075                                            0   \n",
       "66076                                            0   \n",
       "\n",
       "       DepartmentDescription_SPORTING GOODS  \\\n",
       "0                                         0   \n",
       "1                                         0   \n",
       "2                                         0   \n",
       "3                                         0   \n",
       "4                                         0   \n",
       "...                                     ...   \n",
       "66072                                     0   \n",
       "66073                                     0   \n",
       "66074                                     0   \n",
       "66075                                     0   \n",
       "66076                                     0   \n",
       "\n",
       "       DepartmentDescription_SWIMWEAR/OUTERWEAR  DepartmentDescription_TOYS  \\\n",
       "0                                             0                           0   \n",
       "1                                             0                           0   \n",
       "2                                             0                           0   \n",
       "3                                             0                           0   \n",
       "4                                             0                           0   \n",
       "...                                         ...                         ...   \n",
       "66072                                         0                           0   \n",
       "66073                                         0                           0   \n",
       "66074                                         0                           0   \n",
       "66075                                         0                           0   \n",
       "66076                                         0                           0   \n",
       "\n",
       "       DepartmentDescription_WIRELESS  \n",
       "0                                   0  \n",
       "1                                   0  \n",
       "2                                   0  \n",
       "3                                   0  \n",
       "4                                   0  \n",
       "...                               ...  \n",
       "66072                               0  \n",
       "66073                               0  \n",
       "66074                               0  \n",
       "66075                               1  \n",
       "66076                               0  \n",
       "\n",
       "[66077 rows x 73 columns]"
      ]
     },
     "execution_count": 23,
     "metadata": {},
     "output_type": "execute_result"
    }
   ],
   "source": [
    "df"
   ]
  },
  {
   "cell_type": "code",
   "execution_count": 24,
   "metadata": {
    "execution": {
     "iopub.execute_input": "2020-09-30T16:02:08.824343Z",
     "iopub.status.busy": "2020-09-30T16:02:08.823984Z",
     "iopub.status.idle": "2020-09-30T16:02:08.841326Z",
     "shell.execute_reply": "2020-09-30T16:02:08.840152Z",
     "shell.execute_reply.started": "2020-09-30T16:02:08.824291Z"
    }
   },
   "outputs": [],
   "source": [
    "def transform_data(train_data_fname, test_data_fname):\n",
    "    df_train = pd.read_csv(train_data_fname)\n",
    "    df_train['is_train_set'] = 1\n",
    "    df_test = pd.read_csv(test_data_fname)\n",
    "    df_test['is_train_set'] = 0\n",
    "\n",
    "    # we  get the TripType for the train set. To do that, we group by VisitNumber and\n",
    "    # then we get the max\n",
    "    y = df_train.groupby([\"VisitNumber\", \"Weekday\"], as_index=False).max().TripType\n",
    "\n",
    "    # we remove the TripType now, and concat training and testing data\n",
    "    # the concat is done so that we have the same columns for both datasets\n",
    "    # after one-hot encoding\n",
    "    df_train = df_train.drop(\"TripType\", axis=1)\n",
    "    df = pd.concat([df_train, df_test])\n",
    "    \n",
    "    df['FinelineNumber'].fillna(df['FinelineNumber'].mode()[0], inplace=True)\n",
    "    df['Upc'].fillna(df['Upc'].mode()[0], inplace=True)\n",
    "    \n",
    "    # one-hot encoding for the DepartmentDescription\n",
    "    df = pd.get_dummies(df, columns=[\"DepartmentDescription\"],dummy_na=False)\n",
    "\n",
    "    # now we add the groupby values\n",
    "    df = df.groupby([\"VisitNumber\", \"Weekday\"], as_index=False).sum()\n",
    "\n",
    "    # finally, we do one-hot encoding for the Weekday\n",
    "    df = pd.get_dummies(df, columns=[\"Weekday\"], dummy_na=False)\n",
    "\n",
    "    # get train and test back\n",
    "    df_train = df[df.is_train_set != 0]\n",
    "    df_test = df[df.is_train_set == 0]\n",
    "    \n",
    "    X = df_train.drop([\"is_train_set\"], axis=1)\n",
    "    yy = None\n",
    "    XX = df_test.drop([\"is_train_set\"], axis=1)\n",
    "\n",
    "    return X, y, XX, yy"
   ]
  },
  {
   "cell_type": "markdown",
   "metadata": {},
   "source": [
    "Load the data..."
   ]
  },
  {
   "cell_type": "code",
   "execution_count": 25,
   "metadata": {
    "execution": {
     "iopub.execute_input": "2020-09-30T16:02:08.843169Z",
     "iopub.status.busy": "2020-09-30T16:02:08.842825Z",
     "iopub.status.idle": "2020-09-30T16:02:14.966710Z",
     "shell.execute_reply": "2020-09-30T16:02:14.965489Z",
     "shell.execute_reply.started": "2020-09-30T16:02:08.843118Z"
    }
   },
   "outputs": [],
   "source": [
    "X, y, XX, yy = transform_data(\"./data/train.csv\", \"./data/test.csv\")"
   ]
  },
  {
   "cell_type": "code",
   "execution_count": 26,
   "metadata": {
    "execution": {
     "iopub.execute_input": "2020-09-30T16:02:14.974136Z",
     "iopub.status.busy": "2020-09-30T16:02:14.973748Z",
     "iopub.status.idle": "2020-09-30T16:02:14.991673Z",
     "shell.execute_reply": "2020-09-30T16:02:14.990619Z",
     "shell.execute_reply.started": "2020-09-30T16:02:14.974069Z"
    }
   },
   "outputs": [
    {
     "data": {
      "text/plain": [
       "(67029, 79)"
      ]
     },
     "execution_count": 26,
     "metadata": {},
     "output_type": "execute_result"
    }
   ],
   "source": [
    "X.shape"
   ]
  },
  {
   "cell_type": "code",
   "execution_count": 27,
   "metadata": {
    "execution": {
     "iopub.execute_input": "2020-09-30T16:02:14.994486Z",
     "iopub.status.busy": "2020-09-30T16:02:14.994141Z",
     "iopub.status.idle": "2020-09-30T16:02:15.043354Z",
     "shell.execute_reply": "2020-09-30T16:02:15.042259Z",
     "shell.execute_reply.started": "2020-09-30T16:02:14.994436Z"
    }
   },
   "outputs": [
    {
     "data": {
      "text/html": [
       "<div>\n",
       "<style scoped>\n",
       "    .dataframe tbody tr th:only-of-type {\n",
       "        vertical-align: middle;\n",
       "    }\n",
       "\n",
       "    .dataframe tbody tr th {\n",
       "        vertical-align: top;\n",
       "    }\n",
       "\n",
       "    .dataframe thead th {\n",
       "        text-align: right;\n",
       "    }\n",
       "</style>\n",
       "<table border=\"1\" class=\"dataframe\">\n",
       "  <thead>\n",
       "    <tr style=\"text-align: right;\">\n",
       "      <th></th>\n",
       "      <th>VisitNumber</th>\n",
       "      <th>Upc</th>\n",
       "      <th>ScanCount</th>\n",
       "      <th>FinelineNumber</th>\n",
       "      <th>DepartmentDescription_1-HR PHOTO</th>\n",
       "      <th>DepartmentDescription_ACCESSORIES</th>\n",
       "      <th>DepartmentDescription_AUTOMOTIVE</th>\n",
       "      <th>DepartmentDescription_BAKERY</th>\n",
       "      <th>DepartmentDescription_BATH AND SHOWER</th>\n",
       "      <th>DepartmentDescription_BEAUTY</th>\n",
       "      <th>...</th>\n",
       "      <th>DepartmentDescription_SWIMWEAR/OUTERWEAR</th>\n",
       "      <th>DepartmentDescription_TOYS</th>\n",
       "      <th>DepartmentDescription_WIRELESS</th>\n",
       "      <th>Weekday_Friday</th>\n",
       "      <th>Weekday_Monday</th>\n",
       "      <th>Weekday_Saturday</th>\n",
       "      <th>Weekday_Sunday</th>\n",
       "      <th>Weekday_Thursday</th>\n",
       "      <th>Weekday_Tuesday</th>\n",
       "      <th>Weekday_Wednesday</th>\n",
       "    </tr>\n",
       "  </thead>\n",
       "  <tbody>\n",
       "    <tr>\n",
       "      <th>3</th>\n",
       "      <td>9</td>\n",
       "      <td>1.070088e+09</td>\n",
       "      <td>3</td>\n",
       "      <td>5719.0</td>\n",
       "      <td>0</td>\n",
       "      <td>0</td>\n",
       "      <td>0</td>\n",
       "      <td>0</td>\n",
       "      <td>0</td>\n",
       "      <td>0</td>\n",
       "      <td>...</td>\n",
       "      <td>0</td>\n",
       "      <td>0</td>\n",
       "      <td>0</td>\n",
       "      <td>1</td>\n",
       "      <td>0</td>\n",
       "      <td>0</td>\n",
       "      <td>0</td>\n",
       "      <td>0</td>\n",
       "      <td>0</td>\n",
       "      <td>0</td>\n",
       "    </tr>\n",
       "  </tbody>\n",
       "</table>\n",
       "<p>1 rows × 79 columns</p>\n",
       "</div>"
      ],
      "text/plain": [
       "   VisitNumber           Upc  ScanCount  FinelineNumber  \\\n",
       "3            9  1.070088e+09          3          5719.0   \n",
       "\n",
       "   DepartmentDescription_1-HR PHOTO  DepartmentDescription_ACCESSORIES  \\\n",
       "3                                 0                                  0   \n",
       "\n",
       "   DepartmentDescription_AUTOMOTIVE  DepartmentDescription_BAKERY  \\\n",
       "3                                 0                             0   \n",
       "\n",
       "   DepartmentDescription_BATH AND SHOWER  DepartmentDescription_BEAUTY  ...  \\\n",
       "3                                      0                             0  ...   \n",
       "\n",
       "   DepartmentDescription_SWIMWEAR/OUTERWEAR  DepartmentDescription_TOYS  \\\n",
       "3                                         0                           0   \n",
       "\n",
       "   DepartmentDescription_WIRELESS  Weekday_Friday  Weekday_Monday  \\\n",
       "3                               0               1               0   \n",
       "\n",
       "   Weekday_Saturday  Weekday_Sunday  Weekday_Thursday  Weekday_Tuesday  \\\n",
       "3                 0               0                 0                0   \n",
       "\n",
       "   Weekday_Wednesday  \n",
       "3                  0  \n",
       "\n",
       "[1 rows x 79 columns]"
      ]
     },
     "execution_count": 27,
     "metadata": {},
     "output_type": "execute_result"
    }
   ],
   "source": [
    "#Verifico un numero de visito de ejemplo\n",
    "X[X.VisitNumber==9]"
   ]
  },
  {
   "cell_type": "markdown",
   "metadata": {},
   "source": [
    "Create the model and evaluate it"
   ]
  },
  {
   "cell_type": "code",
   "execution_count": 28,
   "metadata": {
    "execution": {
     "iopub.execute_input": "2020-09-30T16:02:15.045344Z",
     "iopub.status.busy": "2020-09-30T16:02:15.044983Z",
     "iopub.status.idle": "2020-09-30T16:02:16.892477Z",
     "shell.execute_reply": "2020-09-30T16:02:16.880330Z",
     "shell.execute_reply.started": "2020-09-30T16:02:15.045293Z"
    }
   },
   "outputs": [],
   "source": [
    "# split training dataset into train and \"validation\" \n",
    "# (we won't be using validation set in this example, because of the cross-validation;\n",
    "# but it could be useful for you depending on your approach)\n",
    "from sklearn.model_selection import train_test_split\n",
    "X_train, X_valid, y_train, y_valid = train_test_split(X, y, test_size=0.3, random_state=42)"
   ]
  },
  {
   "cell_type": "markdown",
   "metadata": {},
   "source": [
    "**Ejecucion Random Forest**"
   ]
  },
  {
   "cell_type": "code",
   "execution_count": 29,
   "metadata": {
    "execution": {
     "iopub.execute_input": "2020-09-30T16:02:16.894673Z",
     "iopub.status.busy": "2020-09-30T16:02:16.894298Z",
     "iopub.status.idle": "2020-09-30T16:02:16.901719Z",
     "shell.execute_reply": "2020-09-30T16:02:16.900422Z",
     "shell.execute_reply.started": "2020-09-30T16:02:16.894619Z"
    }
   },
   "outputs": [
    {
     "data": {
      "text/plain": [
       "(46920, 79)"
      ]
     },
     "execution_count": 29,
     "metadata": {},
     "output_type": "execute_result"
    }
   ],
   "source": [
    "X_train.shape"
   ]
  },
  {
   "cell_type": "code",
   "execution_count": 30,
   "metadata": {
    "execution": {
     "iopub.execute_input": "2020-09-30T16:02:16.903679Z",
     "iopub.status.busy": "2020-09-30T16:02:16.903319Z",
     "iopub.status.idle": "2020-09-30T16:02:46.698522Z",
     "shell.execute_reply": "2020-09-30T16:02:46.697405Z",
     "shell.execute_reply.started": "2020-09-30T16:02:16.903611Z"
    }
   },
   "outputs": [
    {
     "data": {
      "text/plain": [
       "RandomForestClassifier(random_state=42)"
      ]
     },
     "execution_count": 30,
     "metadata": {},
     "output_type": "execute_result"
    }
   ],
   "source": [
    "from sklearn.ensemble import RandomForestClassifier\n",
    "\n",
    "#Create a Gaussian Classifier\n",
    "clf=RandomForestClassifier(n_estimators=100,random_state=42)\n",
    "\n",
    "#Train the model using the training sets y_pred=clf.predict(X_test)\n",
    "clf.fit(X_train,y_train)"
   ]
  },
  {
   "cell_type": "code",
   "execution_count": 31,
   "metadata": {
    "execution": {
     "iopub.execute_input": "2020-09-30T16:02:46.700590Z",
     "iopub.status.busy": "2020-09-30T16:02:46.700237Z",
     "iopub.status.idle": "2020-09-30T16:02:49.438700Z",
     "shell.execute_reply": "2020-09-30T16:02:49.437455Z",
     "shell.execute_reply.started": "2020-09-30T16:02:46.700538Z"
    }
   },
   "outputs": [
    {
     "name": "stdout",
     "output_type": "stream",
     "text": [
      "Accuracy: 0.6976478193843553\n"
     ]
    }
   ],
   "source": [
    "from sklearn import metrics\n",
    "# prediction on test set\n",
    "preds=clf.predict(X_valid)\n",
    "\n",
    "# Model Accuracy, how often is the classifier correct?\n",
    "print(\"Accuracy:\",metrics.accuracy_score(y_valid, preds))"
   ]
  },
  {
   "cell_type": "code",
   "execution_count": 32,
   "metadata": {
    "execution": {
     "iopub.execute_input": "2020-09-30T16:02:49.440799Z",
     "iopub.status.busy": "2020-09-30T16:02:49.440443Z",
     "iopub.status.idle": "2020-09-30T16:02:53.008549Z",
     "shell.execute_reply": "2020-09-30T16:02:53.007317Z",
     "shell.execute_reply.started": "2020-09-30T16:02:49.440747Z"
    }
   },
   "outputs": [],
   "source": [
    "preds=clf.predict(XX)"
   ]
  },
  {
   "cell_type": "code",
   "execution_count": 33,
   "metadata": {
    "execution": {
     "iopub.execute_input": "2020-09-30T16:02:53.010662Z",
     "iopub.status.busy": "2020-09-30T16:02:53.010309Z",
     "iopub.status.idle": "2020-09-30T16:02:53.118903Z",
     "shell.execute_reply": "2020-09-30T16:02:53.117806Z",
     "shell.execute_reply.started": "2020-09-30T16:02:53.010610Z"
    }
   },
   "outputs": [
    {
     "data": {
      "text/html": [
       "<div>\n",
       "<style scoped>\n",
       "    .dataframe tbody tr th:only-of-type {\n",
       "        vertical-align: middle;\n",
       "    }\n",
       "\n",
       "    .dataframe tbody tr th {\n",
       "        vertical-align: top;\n",
       "    }\n",
       "\n",
       "    .dataframe thead th {\n",
       "        text-align: right;\n",
       "    }\n",
       "</style>\n",
       "<table border=\"1\" class=\"dataframe\">\n",
       "  <thead>\n",
       "    <tr style=\"text-align: right;\">\n",
       "      <th></th>\n",
       "      <th>Importancia</th>\n",
       "    </tr>\n",
       "  </thead>\n",
       "  <tbody>\n",
       "    <tr>\n",
       "      <th>ScanCount</th>\n",
       "      <td>0.151785</td>\n",
       "    </tr>\n",
       "    <tr>\n",
       "      <th>FinelineNumber</th>\n",
       "      <td>0.106828</td>\n",
       "    </tr>\n",
       "    <tr>\n",
       "      <th>Upc</th>\n",
       "      <td>0.102244</td>\n",
       "    </tr>\n",
       "    <tr>\n",
       "      <th>VisitNumber</th>\n",
       "      <td>0.059056</td>\n",
       "    </tr>\n",
       "    <tr>\n",
       "      <th>DepartmentDescription_DSD GROCERY</th>\n",
       "      <td>0.032035</td>\n",
       "    </tr>\n",
       "    <tr>\n",
       "      <th>...</th>\n",
       "      <td>...</td>\n",
       "    </tr>\n",
       "    <tr>\n",
       "      <th>DepartmentDescription_MENSWEAR</th>\n",
       "      <td>0.000489</td>\n",
       "    </tr>\n",
       "    <tr>\n",
       "      <th>DepartmentDescription_CONCEPT STORES</th>\n",
       "      <td>0.000364</td>\n",
       "    </tr>\n",
       "    <tr>\n",
       "      <th>DepartmentDescription_OTHER DEPARTMENTS</th>\n",
       "      <td>0.000218</td>\n",
       "    </tr>\n",
       "    <tr>\n",
       "      <th>DepartmentDescription_SEASONAL</th>\n",
       "      <td>0.000019</td>\n",
       "    </tr>\n",
       "    <tr>\n",
       "      <th>DepartmentDescription_HEALTH AND BEAUTY AIDS</th>\n",
       "      <td>0.000006</td>\n",
       "    </tr>\n",
       "  </tbody>\n",
       "</table>\n",
       "<p>79 rows × 1 columns</p>\n",
       "</div>"
      ],
      "text/plain": [
       "                                              Importancia\n",
       "ScanCount                                        0.151785\n",
       "FinelineNumber                                   0.106828\n",
       "Upc                                              0.102244\n",
       "VisitNumber                                      0.059056\n",
       "DepartmentDescription_DSD GROCERY                0.032035\n",
       "...                                                   ...\n",
       "DepartmentDescription_MENSWEAR                   0.000489\n",
       "DepartmentDescription_CONCEPT STORES             0.000364\n",
       "DepartmentDescription_OTHER DEPARTMENTS          0.000218\n",
       "DepartmentDescription_SEASONAL                   0.000019\n",
       "DepartmentDescription_HEALTH AND BEAUTY AIDS     0.000006\n",
       "\n",
       "[79 rows x 1 columns]"
      ]
     },
     "execution_count": 33,
     "metadata": {},
     "output_type": "execute_result"
    }
   ],
   "source": [
    "#Verificamos las features mas importantes\n",
    "feature_imp = pd.Series(clf.feature_importances_,index=X_train.columns).sort_values(ascending=False)\n",
    "dffeature_imp=pd.DataFrame(feature_imp)\n",
    "dffeature_imp.columns=['Importancia']\n",
    "dffeature_imp"
   ]
  },
  {
   "cell_type": "code",
   "execution_count": 34,
   "metadata": {
    "execution": {
     "iopub.execute_input": "2020-09-30T16:02:53.120883Z",
     "iopub.status.busy": "2020-09-30T16:02:53.120537Z",
     "iopub.status.idle": "2020-09-30T16:02:53.127650Z",
     "shell.execute_reply": "2020-09-30T16:02:53.126497Z",
     "shell.execute_reply.started": "2020-09-30T16:02:53.120831Z"
    }
   },
   "outputs": [],
   "source": [
    "#Sacamos las features menos importantes\n",
    "dict_features_menos_frecuentas = dffeature_imp['Importancia'].nsmallest(4).sort_values(ascending=True)"
   ]
  },
  {
   "cell_type": "code",
   "execution_count": 35,
   "metadata": {
    "execution": {
     "iopub.execute_input": "2020-09-30T16:02:53.129668Z",
     "iopub.status.busy": "2020-09-30T16:02:53.129184Z",
     "iopub.status.idle": "2020-09-30T16:02:53.137831Z",
     "shell.execute_reply": "2020-09-30T16:02:53.136536Z",
     "shell.execute_reply.started": "2020-09-30T16:02:53.129617Z"
    }
   },
   "outputs": [
    {
     "data": {
      "text/plain": [
       "Index(['DepartmentDescription_HEALTH AND BEAUTY AIDS',\n",
       "       'DepartmentDescription_SEASONAL',\n",
       "       'DepartmentDescription_OTHER DEPARTMENTS',\n",
       "       'DepartmentDescription_CONCEPT STORES'],\n",
       "      dtype='object')"
      ]
     },
     "execution_count": 35,
     "metadata": {},
     "output_type": "execute_result"
    }
   ],
   "source": [
    "pd.DataFrame(dict_features_menos_frecuentas).index"
   ]
  },
  {
   "cell_type": "code",
   "execution_count": 36,
   "metadata": {
    "execution": {
     "iopub.execute_input": "2020-09-30T16:02:53.139755Z",
     "iopub.status.busy": "2020-09-30T16:02:53.139239Z",
     "iopub.status.idle": "2020-09-30T16:02:53.148230Z",
     "shell.execute_reply": "2020-09-30T16:02:53.147272Z",
     "shell.execute_reply.started": "2020-09-30T16:02:53.139703Z"
    }
   },
   "outputs": [
    {
     "data": {
      "text/plain": [
       "(46920, 79)"
      ]
     },
     "execution_count": 36,
     "metadata": {},
     "output_type": "execute_result"
    }
   ],
   "source": [
    "X_train_new = X_train.copy()\n",
    "X_train_new.shape"
   ]
  },
  {
   "cell_type": "code",
   "execution_count": 37,
   "metadata": {
    "execution": {
     "iopub.execute_input": "2020-09-30T16:02:53.150240Z",
     "iopub.status.busy": "2020-09-30T16:02:53.149708Z",
     "iopub.status.idle": "2020-09-30T16:02:53.162112Z",
     "shell.execute_reply": "2020-09-30T16:02:53.161044Z",
     "shell.execute_reply.started": "2020-09-30T16:02:53.150185Z"
    }
   },
   "outputs": [],
   "source": [
    "X_train_new.drop(pd.DataFrame(dict_features_menos_frecuentas).index, axis=1, inplace=True)"
   ]
  },
  {
   "cell_type": "code",
   "execution_count": 38,
   "metadata": {
    "execution": {
     "iopub.execute_input": "2020-09-30T16:02:53.164206Z",
     "iopub.status.busy": "2020-09-30T16:02:53.163663Z",
     "iopub.status.idle": "2020-09-30T16:02:53.170337Z",
     "shell.execute_reply": "2020-09-30T16:02:53.169272Z",
     "shell.execute_reply.started": "2020-09-30T16:02:53.164151Z"
    }
   },
   "outputs": [
    {
     "data": {
      "text/plain": [
       "(46920, 75)"
      ]
     },
     "execution_count": 38,
     "metadata": {},
     "output_type": "execute_result"
    }
   ],
   "source": [
    "X_train_new.shape"
   ]
  },
  {
   "cell_type": "code",
   "execution_count": 39,
   "metadata": {
    "execution": {
     "iopub.execute_input": "2020-09-30T16:02:53.172241Z",
     "iopub.status.busy": "2020-09-30T16:02:53.171709Z",
     "iopub.status.idle": "2020-09-30T16:03:21.964810Z",
     "shell.execute_reply": "2020-09-30T16:03:21.963729Z",
     "shell.execute_reply.started": "2020-09-30T16:02:53.172188Z"
    }
   },
   "outputs": [
    {
     "data": {
      "text/plain": [
       "RandomForestClassifier(random_state=42)"
      ]
     },
     "execution_count": 39,
     "metadata": {},
     "output_type": "execute_result"
    }
   ],
   "source": [
    "#Create a Gaussian Classifier\n",
    "clf_new=RandomForestClassifier(n_estimators=100,random_state=42)\n",
    "\n",
    "#Train the model using the training sets y_pred=clf.predict(X_test)\n",
    "clf_new.fit(X_train_new,y_train)"
   ]
  },
  {
   "cell_type": "code",
   "execution_count": 40,
   "metadata": {
    "execution": {
     "iopub.execute_input": "2020-09-30T16:03:21.966879Z",
     "iopub.status.busy": "2020-09-30T16:03:21.966526Z",
     "iopub.status.idle": "2020-09-30T16:03:21.977954Z",
     "shell.execute_reply": "2020-09-30T16:03:21.976787Z",
     "shell.execute_reply.started": "2020-09-30T16:03:21.966827Z"
    }
   },
   "outputs": [],
   "source": [
    "X_valid_new = X_valid.copy()\n",
    "X_valid_new.drop(pd.DataFrame(dict_features_menos_frecuentas).index, axis=1, inplace=True)"
   ]
  },
  {
   "cell_type": "code",
   "execution_count": 41,
   "metadata": {
    "execution": {
     "iopub.execute_input": "2020-09-30T16:03:21.980163Z",
     "iopub.status.busy": "2020-09-30T16:03:21.979792Z",
     "iopub.status.idle": "2020-09-30T16:03:24.738481Z",
     "shell.execute_reply": "2020-09-30T16:03:24.727222Z",
     "shell.execute_reply.started": "2020-09-30T16:03:21.980096Z"
    }
   },
   "outputs": [
    {
     "name": "stdout",
     "output_type": "stream",
     "text": [
      "Accuracy: 0.6981451091551046\n"
     ]
    }
   ],
   "source": [
    "# prediction on test set\n",
    "preds_new=clf_new.predict(X_valid_new)\n",
    "\n",
    "# Model Accuracy, how often is the classifier correct?\n",
    "print(\"Accuracy:\",metrics.accuracy_score(y_valid, preds_new))"
   ]
  },
  {
   "cell_type": "markdown",
   "metadata": {},
   "source": [
    "**The last thing we do is generating a file that should be *submitted* on kaggle**"
   ]
  },
  {
   "cell_type": "code",
   "execution_count": 42,
   "metadata": {
    "execution": {
     "iopub.execute_input": "2020-09-30T16:03:24.740538Z",
     "iopub.status.busy": "2020-09-30T16:03:24.740181Z",
     "iopub.status.idle": "2020-09-30T16:03:24.747591Z",
     "shell.execute_reply": "2020-09-30T16:03:24.746549Z",
     "shell.execute_reply.started": "2020-09-30T16:03:24.740485Z"
    }
   },
   "outputs": [
    {
     "data": {
      "text/plain": [
       "((28645, 79), (28645,))"
      ]
     },
     "execution_count": 42,
     "metadata": {},
     "output_type": "execute_result"
    }
   ],
   "source": [
    "XX.shape, preds.shape"
   ]
  },
  {
   "cell_type": "code",
   "execution_count": 43,
   "metadata": {
    "execution": {
     "iopub.execute_input": "2020-09-30T16:03:24.749633Z",
     "iopub.status.busy": "2020-09-30T16:03:24.749287Z",
     "iopub.status.idle": "2020-09-30T16:03:24.885561Z",
     "shell.execute_reply": "2020-09-30T16:03:24.872265Z",
     "shell.execute_reply.started": "2020-09-30T16:03:24.749582Z"
    }
   },
   "outputs": [],
   "source": [
    "submission = pd.DataFrame(list(zip(XX.VisitNumber, preds)), columns=[\"VisitNumber\", \"TripType\"])"
   ]
  },
  {
   "cell_type": "code",
   "execution_count": 44,
   "metadata": {
    "execution": {
     "iopub.execute_input": "2020-09-30T16:03:24.887675Z",
     "iopub.status.busy": "2020-09-30T16:03:24.887124Z",
     "iopub.status.idle": "2020-09-30T16:03:24.893824Z",
     "shell.execute_reply": "2020-09-30T16:03:24.892878Z",
     "shell.execute_reply.started": "2020-09-30T16:03:24.887620Z"
    }
   },
   "outputs": [
    {
     "data": {
      "text/plain": [
       "(28645, 2)"
      ]
     },
     "execution_count": 44,
     "metadata": {},
     "output_type": "execute_result"
    }
   ],
   "source": [
    "submission.shape"
   ]
  },
  {
   "cell_type": "code",
   "execution_count": 45,
   "metadata": {
    "execution": {
     "iopub.execute_input": "2020-09-30T16:03:24.895914Z",
     "iopub.status.busy": "2020-09-30T16:03:24.895395Z",
     "iopub.status.idle": "2020-09-30T16:03:25.121832Z",
     "shell.execute_reply": "2020-09-30T16:03:25.120684Z",
     "shell.execute_reply.started": "2020-09-30T16:03:24.895862Z"
    }
   },
   "outputs": [],
   "source": [
    "submission.to_csv(\"./data/submission_rfc.csv\", header=True, index=False)"
   ]
  }
 ],
 "metadata": {
  "kernelspec": {
   "display_name": "Python 3",
   "language": "python",
   "name": "python3"
  },
  "language_info": {
   "codemirror_mode": {
    "name": "ipython",
    "version": 3
   },
   "file_extension": ".py",
   "mimetype": "text/x-python",
   "name": "python",
   "nbconvert_exporter": "python",
   "pygments_lexer": "ipython3",
   "version": "3.8.5"
  },
  "toc": {
   "base_numbering": 1,
   "nav_menu": {},
   "number_sections": true,
   "sideBar": true,
   "skip_h1_title": false,
   "title_cell": "Table of Contents",
   "title_sidebar": "Contents",
   "toc_cell": true,
   "toc_position": {},
   "toc_section_display": true,
   "toc_window_display": true
  }
 },
 "nbformat": 4,
 "nbformat_minor": 4
}
