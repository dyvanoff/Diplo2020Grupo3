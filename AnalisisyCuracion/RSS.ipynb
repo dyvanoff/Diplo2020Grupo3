{
  "nbformat": 4,
  "nbformat_minor": 0,
  "metadata": {
    "colab": {
      "name": "RSS.ipynb",
      "provenance": [],
      "collapsed_sections": [],
      "authorship_tag": "ABX9TyMmkJihU5dZJFKfWG+wzhBO",
      "include_colab_link": true
    },
    "kernelspec": {
      "name": "python3",
      "display_name": "Python 3"
    }
  },
  "cells": [
    {
      "cell_type": "markdown",
      "metadata": {
        "id": "view-in-github",
        "colab_type": "text"
      },
      "source": [
        "<a href=\"https://colab.research.google.com/github/dyvanoff/Diplo2020Grupo3/blob/master/AnalisisyCuracion/RSS.ipynb\" target=\"_parent\"><img src=\"https://colab.research.google.com/assets/colab-badge.svg\" alt=\"Open In Colab\"/></a>"
      ]
    },
    {
      "cell_type": "code",
      "metadata": {
        "id": "muncM0wfUP8-",
        "colab_type": "code",
        "colab": {
          "base_uri": "https://localhost:8080/",
          "height": 386
        },
        "outputId": "cb801950-c1b0-4399-e6fa-5004cb280317"
      },
      "source": [
        "import sys\n",
        "import bs4\n",
        "if 'feedparser' not in sys.modules:\n",
        "  !pip install feedparser\n",
        "import feedparser\n",
        "if 'slugify' not in sys.modules:\n",
        "  !pip install slugify\n",
        "from slugify import slugify\n",
        "import os"
      ],
      "execution_count": 1,
      "outputs": [
        {
          "output_type": "stream",
          "text": [
            "Collecting feedparser\n",
            "\u001b[?25l  Downloading https://files.pythonhosted.org/packages/91/d8/7d37fec71ff7c9dbcdd80d2b48bcdd86d6af502156fc93846fb0102cb2c4/feedparser-5.2.1.tar.bz2 (192kB)\n",
            "\r\u001b[K     |█▊                              | 10kB 26.6MB/s eta 0:00:01\r\u001b[K     |███▍                            | 20kB 1.5MB/s eta 0:00:01\r\u001b[K     |█████▏                          | 30kB 1.8MB/s eta 0:00:01\r\u001b[K     |██████▉                         | 40kB 2.1MB/s eta 0:00:01\r\u001b[K     |████████▌                       | 51kB 1.9MB/s eta 0:00:01\r\u001b[K     |██████████▎                     | 61kB 2.1MB/s eta 0:00:01\r\u001b[K     |████████████                    | 71kB 2.3MB/s eta 0:00:01\r\u001b[K     |█████████████▋                  | 81kB 2.5MB/s eta 0:00:01\r\u001b[K     |███████████████▍                | 92kB 2.4MB/s eta 0:00:01\r\u001b[K     |█████████████████               | 102kB 2.6MB/s eta 0:00:01\r\u001b[K     |██████████████████▊             | 112kB 2.6MB/s eta 0:00:01\r\u001b[K     |████████████████████▌           | 122kB 2.6MB/s eta 0:00:01\r\u001b[K     |██████████████████████▏         | 133kB 2.6MB/s eta 0:00:01\r\u001b[K     |███████████████████████▉        | 143kB 2.6MB/s eta 0:00:01\r\u001b[K     |█████████████████████████▋      | 153kB 2.6MB/s eta 0:00:01\r\u001b[K     |███████████████████████████▎    | 163kB 2.6MB/s eta 0:00:01\r\u001b[K     |█████████████████████████████   | 174kB 2.6MB/s eta 0:00:01\r\u001b[K     |██████████████████████████████▊ | 184kB 2.6MB/s eta 0:00:01\r\u001b[K     |████████████████████████████████| 194kB 2.6MB/s \n",
            "\u001b[?25hBuilding wheels for collected packages: feedparser\n",
            "  Building wheel for feedparser (setup.py) ... \u001b[?25l\u001b[?25hdone\n",
            "  Created wheel for feedparser: filename=feedparser-5.2.1-cp36-none-any.whl size=44940 sha256=42fce53d9cce6ea0d07d1140153796d6642d8b3af6392efb3cf7c9bd0fe9d879\n",
            "  Stored in directory: /root/.cache/pip/wheels/8c/69/b7/f52763c41c5471df57703a0ef718a32a5e81ee35dcf6d4f97f\n",
            "Successfully built feedparser\n",
            "Installing collected packages: feedparser\n",
            "Successfully installed feedparser-5.2.1\n",
            "Collecting slugify\n",
            "  Downloading https://files.pythonhosted.org/packages/7b/89/fbb7391d777b60c82d4e1376bb181b98e75adf506b3f7ffe837eca64570b/slugify-0.0.1.tar.gz\n",
            "Building wheels for collected packages: slugify\n",
            "  Building wheel for slugify (setup.py) ... \u001b[?25l\u001b[?25hdone\n",
            "  Created wheel for slugify: filename=slugify-0.0.1-cp36-none-any.whl size=1910 sha256=a873f06213e93b2500a4c1ab6639417621702414ab88b261306fbedb3fe9bb47\n",
            "  Stored in directory: /root/.cache/pip/wheels/f9/68/7b/b797d07992b6c7ef1666a59cc79f45fb37aab4344efa6cc3e1\n",
            "Successfully built slugify\n",
            "Installing collected packages: slugify\n",
            "Successfully installed slugify-0.0.1\n"
          ],
          "name": "stdout"
        }
      ]
    },
    {
      "cell_type": "code",
      "metadata": {
        "id": "_qBy_ApeUTw7",
        "colab_type": "code",
        "colab": {
          "base_uri": "https://localhost:8080/",
          "height": 570
        },
        "outputId": "749143f1-9bad-4377-9857-8736f2748cb1"
      },
      "source": [
        "feeds = ['https://www.lavoz.com.ar/rss/tecnologia.xml']\n",
        "\n",
        "parsed = feedparser.parse(feeds[0])\n",
        "\n",
        "posts = parsed.entries\n",
        "\n",
        "posts[0]"
      ],
      "execution_count": 2,
      "outputs": [
        {
          "output_type": "execute_result",
          "data": {
            "text/plain": [
              "{'author': 'LaVoz.com.ar | Tecnología',\n",
              " 'author_detail': {'name': 'LaVoz.com.ar | Tecnología'},\n",
              " 'authors': [{'name': 'LaVoz.com.ar | Tecnología'}],\n",
              " 'content': [{'base': 'https://www.lavoz.com.ar/rss/tecnologia.xml',\n",
              "   'language': None,\n",
              "   'type': 'text/html',\n",
              "   'value': '<p>Actualmente, más de 2 mil millones de personas de todas partes del mundo usan WhatsApp por lo que la plataforma de mensajería de Facebook va a implementar una serie de diseños y nuevas herramientas para \"disfrutar\" en la <em>app</em>.</p>\\n            <p>\"Aunque nuestro objetivo principal sigue siendo ofrecer una plataforma simple, confiable y privada para que las personas chateen con sus familiares y amigos, eso no nos impide mejorar constantemente el diseño de nuestro producto con el fin de asegurar que WhatsApp continúe siendo la forma más útil de conectarse para todos los usuarios y desde cualquier lugar\", se indicó desde el <a href=\"https://blog.whatsapp.com/?lang=es\" target=\"_blank\">blog de WhatsApp</a>.</p>\\n            <p>Las nuevas herramientas se estarán lanzando en las siguientes semanas.</p>\\n            <p class=\"SubTitulo\">Lo que viene, contado por WhatsApp</p>\\n            <ul>\\n                <li>\\n                    <strong>Stickers animados:</strong> Los stickers constituyen una de las herramientas de comunicación más populares entre los usuarios de WhatsApp. Cada día se envían miles de millones de estos elementos. Estamos lanzando nuevos paquetes de stickers animados que son aun más divertidos y expresivos.</li>\\n                    <li>\\n                        <strong>Códigos QR:</strong> Ahora, añadir un nuevo contacto será más fácil que nunca. Pronto, cuando conozcas a alguien, podrás escanear su código QR para añadirlo a tus contactos. ¡Ya no tendrás que ingresar cada número de teléfono manualmente!</li>\\n                        <li>\\n                            <strong>Modo oscuro para WhatsApp Web y Escritorio:</strong> Ahora, el increíblemente popular Modo oscuro se extenderá a tu computadora.</li>\\n                            <li>\\n                                <strong>Mejoras a las videollamadas grupales:</strong> Ahora que las videollamadas admiten hasta 8 participantes a la vez, si quieres centrar tu atención en alguno de ellos en particular, solo tienes que mantener el dedo presionado sobre el video para maximizarlo a modo de pantalla completa. También añadimos un ícono de video en los chats grupales de 8 participantes o menos, para que puedas iniciar fácilmente una videollamada con un solo toque.</li>\\n                                <li>\\n                                    <strong>Disponibilidad de los estados en KaiOS:</strong> Ahora los usuarios de KaiOS podrán disfrutar de la popular función que permite compartir estados que desaparecen luego de 24 horas.</li>\\n                                </ul>\\n                                <p>\\n                                </p>\\n                                <section class=\"type:slideshow\">\\n                                    <figure>\\n                                        <img src=\"https://cdn.lavoz.com.ar/sites/default/files/nota_periodistica/wsp_1593622547.jpg\">\\n                                        <figcaption>wsp_1593622547.jpg</figcaption>\\n                                    </figure>\\n                                </section>\\n                                <iframe width=\"560\" height=\"315\" src=\"https://www.youtube.com/embed/u-7Sl31uH4Q\" frameborder=\"0\" allow=\"accelerometer; autoplay; encrypted-media; gyroscope; picture-in-picture\" allowfullscreen>\\n                            </iframe>'}],\n",
              " 'guidislink': False,\n",
              " 'id': 'https://www.lavoz.com.ar/tecnologia/lo-que-se-viene-en-whatsapp-stickers-animados-codigos-qr-y-mas',\n",
              " 'link': 'https://www.lavoz.com.ar/tecnologia/lo-que-se-viene-en-whatsapp-stickers-animados-codigos-qr-y-mas',\n",
              " 'links': [{'href': 'https://www.lavoz.com.ar/tecnologia/lo-que-se-viene-en-whatsapp-stickers-animados-codigos-qr-y-mas',\n",
              "   'rel': 'alternate',\n",
              "   'type': 'text/html'},\n",
              "  {'href': 'https://cdn.lavoz.com.ar/sites/default/files/nota_periodistica/wsp_1593622547.jpg',\n",
              "   'length': '0',\n",
              "   'rel': 'enclosure',\n",
              "   'type': 'image/jpg'}],\n",
              " 'published': 'Wed, 01 Jul 2020 13:57:31 -0300',\n",
              " 'published_parsed': time.struct_time(tm_year=2020, tm_mon=7, tm_mday=1, tm_hour=16, tm_min=57, tm_sec=31, tm_wday=2, tm_yday=183, tm_isdst=0),\n",
              " 'summary': 'Actualmente, más de 2 mil millones de personas de todas partes del mundo usan WhatsApp por lo que la plataforma de mensajería de Facebook va a implementar una serie de diseños y nuevas herramientas para \"disfrutar\" en la app.',\n",
              " 'summary_detail': {'base': 'https://www.lavoz.com.ar/rss/tecnologia.xml',\n",
              "  'language': None,\n",
              "  'type': 'text/html',\n",
              "  'value': 'Actualmente, más de 2 mil millones de personas de todas partes del mundo usan WhatsApp por lo que la plataforma de mensajería de Facebook va a implementar una serie de diseños y nuevas herramientas para \"disfrutar\" en la app.'},\n",
              " 'title': 'Lo que se viene en WhatsApp: stickers animados, códigos QR y más',\n",
              " 'title_detail': {'base': 'https://www.lavoz.com.ar/rss/tecnologia.xml',\n",
              "  'language': None,\n",
              "  'type': 'text/plain',\n",
              "  'value': 'Lo que se viene en WhatsApp: stickers animados, códigos QR y más'}}"
            ]
          },
          "metadata": {
            "tags": []
          },
          "execution_count": 2
        }
      ]
    },
    {
      "cell_type": "code",
      "metadata": {
        "id": "Q3KsWe1aUqv7",
        "colab_type": "code",
        "colab": {
          "base_uri": "https://localhost:8080/",
          "height": 35
        },
        "outputId": "2d11cc3e-bf7d-41ce-be10-ab3e0bf8c77b"
      },
      "source": [
        "posts[0].title"
      ],
      "execution_count": 3,
      "outputs": [
        {
          "output_type": "execute_result",
          "data": {
            "application/vnd.google.colaboratory.intrinsic": {
              "type": "string"
            },
            "text/plain": [
              "'Lo que se viene en WhatsApp: stickers animados, códigos QR y más'"
            ]
          },
          "metadata": {
            "tags": []
          },
          "execution_count": 3
        }
      ]
    },
    {
      "cell_type": "code",
      "metadata": {
        "id": "D5dK8TQZUwjS",
        "colab_type": "code",
        "colab": {}
      },
      "source": [
        "html = posts[0].content[0].get('value')\n",
        "soup = bs4.BeautifulSoup(html, 'html5lib')"
      ],
      "execution_count": 4,
      "outputs": []
    },
    {
      "cell_type": "code",
      "metadata": {
        "id": "43d2ROdE-TWB",
        "colab_type": "code",
        "colab": {
          "base_uri": "https://localhost:8080/",
          "height": 515
        },
        "outputId": "3290b4ce-b88c-4321-e2ef-84b9adf3898a"
      },
      "source": [
        "soup"
      ],
      "execution_count": 6,
      "outputs": [
        {
          "output_type": "execute_result",
          "data": {
            "text/plain": [
              "<html><head></head><body><p>Actualmente, más de 2 mil millones de personas de todas partes del mundo usan WhatsApp por lo que la plataforma de mensajería de Facebook va a implementar una serie de diseños y nuevas herramientas para \"disfrutar\" en la <em>app</em>.</p>\n",
              "            <p>\"Aunque nuestro objetivo principal sigue siendo ofrecer una plataforma simple, confiable y privada para que las personas chateen con sus familiares y amigos, eso no nos impide mejorar constantemente el diseño de nuestro producto con el fin de asegurar que WhatsApp continúe siendo la forma más útil de conectarse para todos los usuarios y desde cualquier lugar\", se indicó desde el <a href=\"https://blog.whatsapp.com/?lang=es\" target=\"_blank\">blog de WhatsApp</a>.</p>\n",
              "            <p>Las nuevas herramientas se estarán lanzando en las siguientes semanas.</p>\n",
              "            <p class=\"SubTitulo\">Lo que viene, contado por WhatsApp</p>\n",
              "            <ul>\n",
              "                <li>\n",
              "                    <strong>Stickers animados:</strong> Los stickers constituyen una de las herramientas de comunicación más populares entre los usuarios de WhatsApp. Cada día se envían miles de millones de estos elementos. Estamos lanzando nuevos paquetes de stickers animados que son aun más divertidos y expresivos.</li>\n",
              "                    <li>\n",
              "                        <strong>Códigos QR:</strong> Ahora, añadir un nuevo contacto será más fácil que nunca. Pronto, cuando conozcas a alguien, podrás escanear su código QR para añadirlo a tus contactos. ¡Ya no tendrás que ingresar cada número de teléfono manualmente!</li>\n",
              "                        <li>\n",
              "                            <strong>Modo oscuro para WhatsApp Web y Escritorio:</strong> Ahora, el increíblemente popular Modo oscuro se extenderá a tu computadora.</li>\n",
              "                            <li>\n",
              "                                <strong>Mejoras a las videollamadas grupales:</strong> Ahora que las videollamadas admiten hasta 8 participantes a la vez, si quieres centrar tu atención en alguno de ellos en particular, solo tienes que mantener el dedo presionado sobre el video para maximizarlo a modo de pantalla completa. También añadimos un ícono de video en los chats grupales de 8 participantes o menos, para que puedas iniciar fácilmente una videollamada con un solo toque.</li>\n",
              "                                <li>\n",
              "                                    <strong>Disponibilidad de los estados en KaiOS:</strong> Ahora los usuarios de KaiOS podrán disfrutar de la popular función que permite compartir estados que desaparecen luego de 24 horas.</li>\n",
              "                                </ul>\n",
              "                                <p>\n",
              "                                </p>\n",
              "                                <section class=\"type:slideshow\">\n",
              "                                    <figure>\n",
              "                                        <img src=\"https://cdn.lavoz.com.ar/sites/default/files/nota_periodistica/wsp_1593622547.jpg\"/>\n",
              "                                        <figcaption>wsp_1593622547.jpg</figcaption>\n",
              "                                    </figure>\n",
              "                                </section>\n",
              "                                <iframe allow=\"accelerometer; autoplay; encrypted-media; gyroscope; picture-in-picture\" allowfullscreen=\"\" frameborder=\"0\" height=\"315\" src=\"https://www.youtube.com/embed/u-7Sl31uH4Q\" width=\"560\">\n",
              "                            </iframe></body></html>"
            ]
          },
          "metadata": {
            "tags": []
          },
          "execution_count": 6
        }
      ]
    },
    {
      "cell_type": "code",
      "metadata": {
        "id": "Z2x3ECCHU0KC",
        "colab_type": "code",
        "colab": {
          "base_uri": "https://localhost:8080/",
          "height": 90
        },
        "outputId": "9ec40cf2-ebef-4391-acfd-8f18ede62ec6"
      },
      "source": [
        "#Accedemos a la parte 'figure'\n",
        "soup.find_all('figure')"
      ],
      "execution_count": 7,
      "outputs": [
        {
          "output_type": "execute_result",
          "data": {
            "text/plain": [
              "[<figure>\n",
              "                                         <img src=\"https://cdn.lavoz.com.ar/sites/default/files/nota_periodistica/wsp_1593622547.jpg\"/>\n",
              "                                         <figcaption>wsp_1593622547.jpg</figcaption>\n",
              "                                     </figure>]"
            ]
          },
          "metadata": {
            "tags": []
          },
          "execution_count": 7
        }
      ]
    },
    {
      "cell_type": "code",
      "metadata": {
        "id": "djlR3uSkU26N",
        "colab_type": "code",
        "colab": {}
      },
      "source": [
        ""
      ],
      "execution_count": null,
      "outputs": []
    }
  ]
}