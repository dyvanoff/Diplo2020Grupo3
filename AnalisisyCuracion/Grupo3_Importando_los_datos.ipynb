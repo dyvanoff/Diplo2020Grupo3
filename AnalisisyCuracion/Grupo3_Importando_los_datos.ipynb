{
  "nbformat": 4,
  "nbformat_minor": 0,
  "metadata": {
    "colab": {
      "name": "Grupo3 - Importando los datos.ipynb",
      "provenance": [],
      "collapsed_sections": [
        "c2qVOSsQIXUf",
        "oGI_4tR0IXUz"
      ],
      "include_colab_link": true
    },
    "kernelspec": {
      "display_name": "Python 3",
      "language": "python",
      "name": "python3"
    },
    "language_info": {
      "codemirror_mode": {
        "name": "ipython",
        "version": 3
      },
      "file_extension": ".py",
      "mimetype": "text/x-python",
      "name": "python",
      "nbconvert_exporter": "python",
      "pygments_lexer": "ipython3",
      "version": "3.7.3"
    }
  },
  "cells": [
    {
      "cell_type": "markdown",
      "metadata": {
        "id": "view-in-github",
        "colab_type": "text"
      },
      "source": [
        "<a href=\"https://colab.research.google.com/github/dyvanoff/Diplo2020Grupo3/blob/master/AnalisisyCuracion/Grupo3_Importando_los_datos.ipynb\" target=\"_parent\"><img src=\"https://colab.research.google.com/assets/colab-badge.svg\" alt=\"Open In Colab\"/></a>"
      ]
    },
    {
      "cell_type": "markdown",
      "metadata": {
        "id": "H6BKrnzXdK3U",
        "colab_type": "text"
      },
      "source": [
        "# Limpieza de datos"
      ]
    },
    {
      "cell_type": "markdown",
      "metadata": {
        "id": "FnZB8IEvdK3a",
        "colab_type": "text"
      },
      "source": [
        "Vamos a aplicar el [checklist del Banco Mundial](https://dimewiki.worldbank.org/wiki/Checklist:_Data_Cleaning) en Python usando el [SciPy stack](https://www.scipy.org/stackspec.html), principalmente pandas"
      ]
    },
    {
      "cell_type": "markdown",
      "metadata": {
        "colab_type": "text",
        "id": "0Z9ck1e6FMXn"
      },
      "source": [
        "## 0. Prerequisitos"
      ]
    },
    {
      "cell_type": "markdown",
      "metadata": {
        "id": "p3IHcsa3dK3p",
        "colab_type": "text"
      },
      "source": [
        "Aclaración: La próxima celda es para compatilibidad con Colab, NO ES RECOMENDADO realizar pip install desde un notebook."
      ]
    },
    {
      "cell_type": "code",
      "metadata": {
        "colab_type": "code",
        "id": "53S0ap0UFLRz",
        "colab": {
          "base_uri": "https://localhost:8080/",
          "height": 54
        },
        "outputId": "535ed1fe-019d-40e9-cf18-718fcac77c9f"
      },
      "source": [
        "import sys\n",
        "in_colab = 'google.colab' in sys.modules\n",
        "\n",
        "if in_colab:\n",
        "  BASE_DIR = \"https://github.com/DiploDatos/AnalisisYCuracion/raw/master/\"\n",
        "else:\n",
        "  BASE_DIR = \"..\"\n",
        "if 'ftfy' not in sys.modules:\n",
        "    !pip install 'ftfy<5.6'"
      ],
      "execution_count": null,
      "outputs": [
        {
          "output_type": "stream",
          "text": [
            "Requirement already satisfied: ftfy<5.6 in /usr/local/lib/python3.6/dist-packages (5.5.1)\n",
            "Requirement already satisfied: wcwidth in /usr/local/lib/python3.6/dist-packages (from ftfy<5.6) (0.2.5)\n"
          ],
          "name": "stdout"
        }
      ]
    },
    {
      "cell_type": "markdown",
      "metadata": {
        "id": "x5Rmt6SldK4R",
        "colab_type": "text"
      },
      "source": [
        "# 1. Importando los datos"
      ]
    },
    {
      "cell_type": "markdown",
      "metadata": {
        "colab_type": "text",
        "id": "uD9wmnXUYStG"
      },
      "source": [
        "# 1.1. Verificar que no hay problemas en la importación"
      ]
    },
    {
      "cell_type": "code",
      "metadata": {
        "colab_type": "code",
        "id": "VYFnOBCKYStI",
        "colab": {}
      },
      "source": [
        "import pandas as pd\n",
        "pd.options.display.float_format = '{:.2f}'.format"
      ],
      "execution_count": null,
      "outputs": []
    },
    {
      "cell_type": "markdown",
      "metadata": {
        "colab_type": "text",
        "id": "0MdlP2YUYStN"
      },
      "source": [
        "Veamos de importar datos de proyectos de Kickstarter la plataforma de Crowdsourcing"
      ]
    },
    {
      "cell_type": "code",
      "metadata": {
        "colab_type": "code",
        "id": "Ee_D4yTvYStN",
        "colab": {}
      },
      "source": [
        "##Este falla por: \n",
        "### UnicodeDecodeError: 'utf-8' codec can't decode byte 0x99 in position 11: invalid start byte ###\n",
        "\n",
        "#kickstarter_2016 = pd.read_csv(BASE_DIR + \"/input/kickstarter-projects/ks-projects-201612.csv\")"
      ],
      "execution_count": null,
      "outputs": []
    },
    {
      "cell_type": "markdown",
      "metadata": {
        "colab_type": "text",
        "id": "Wc9tdkDSYStT"
      },
      "source": [
        "Por defecto Pandas falla si hay errores para leer datos https://pandas.pydata.org/pandas-docs/stable/io.html#error-handling"
      ]
    },
    {
      "cell_type": "markdown",
      "metadata": {
        "id": "qQFxxvdIdK5F",
        "colab_type": "text"
      },
      "source": [
        "Por ahora cambiamos a un archivo más actualizado, volveremos a este error más adelante"
      ]
    },
    {
      "cell_type": "code",
      "metadata": {
        "colab_type": "code",
        "id": "b-_bMXxOYStW",
        "colab": {}
      },
      "source": [
        "kickstarter_2018 = pd.read_csv(BASE_DIR + \"/input/kickstarter-projects/ks-projects-201801.csv\")"
      ],
      "execution_count": null,
      "outputs": []
    },
    {
      "cell_type": "markdown",
      "metadata": {
        "colab_type": "text",
        "id": "2p0dbU1yYStY"
      },
      "source": [
        "Veamos los datos cargados en el dataframe"
      ]
    },
    {
      "cell_type": "code",
      "metadata": {
        "colab_type": "code",
        "id": "etZ09t5MYStZ",
        "colab": {
          "base_uri": "https://localhost:8080/",
          "height": 895
        },
        "outputId": "5478600f-3786-4c18-87fe-471269f080a0"
      },
      "source": [
        "kickstarter_2018"
      ],
      "execution_count": null,
      "outputs": [
        {
          "output_type": "execute_result",
          "data": {
            "text/html": [
              "<div>\n",
              "<style scoped>\n",
              "    .dataframe tbody tr th:only-of-type {\n",
              "        vertical-align: middle;\n",
              "    }\n",
              "\n",
              "    .dataframe tbody tr th {\n",
              "        vertical-align: top;\n",
              "    }\n",
              "\n",
              "    .dataframe thead th {\n",
              "        text-align: right;\n",
              "    }\n",
              "</style>\n",
              "<table border=\"1\" class=\"dataframe\">\n",
              "  <thead>\n",
              "    <tr style=\"text-align: right;\">\n",
              "      <th></th>\n",
              "      <th>ID</th>\n",
              "      <th>name</th>\n",
              "      <th>category</th>\n",
              "      <th>main_category</th>\n",
              "      <th>currency</th>\n",
              "      <th>deadline</th>\n",
              "      <th>goal</th>\n",
              "      <th>launched</th>\n",
              "      <th>pledged</th>\n",
              "      <th>state</th>\n",
              "      <th>backers</th>\n",
              "      <th>country</th>\n",
              "      <th>usd pledged</th>\n",
              "      <th>usd_pledged_real</th>\n",
              "      <th>usd_goal_real</th>\n",
              "    </tr>\n",
              "  </thead>\n",
              "  <tbody>\n",
              "    <tr>\n",
              "      <th>0</th>\n",
              "      <td>1000002330</td>\n",
              "      <td>The Songs of Adelaide &amp; Abullah</td>\n",
              "      <td>Poetry</td>\n",
              "      <td>Publishing</td>\n",
              "      <td>GBP</td>\n",
              "      <td>2015-10-09</td>\n",
              "      <td>1000.00</td>\n",
              "      <td>2015-08-11 12:12:28</td>\n",
              "      <td>0.00</td>\n",
              "      <td>failed</td>\n",
              "      <td>0</td>\n",
              "      <td>GB</td>\n",
              "      <td>0.00</td>\n",
              "      <td>0.00</td>\n",
              "      <td>1533.95</td>\n",
              "    </tr>\n",
              "    <tr>\n",
              "      <th>1</th>\n",
              "      <td>1000003930</td>\n",
              "      <td>Greeting From Earth: ZGAC Arts Capsule For ET</td>\n",
              "      <td>Narrative Film</td>\n",
              "      <td>Film &amp; Video</td>\n",
              "      <td>USD</td>\n",
              "      <td>2017-11-01</td>\n",
              "      <td>30000.00</td>\n",
              "      <td>2017-09-02 04:43:57</td>\n",
              "      <td>2421.00</td>\n",
              "      <td>failed</td>\n",
              "      <td>15</td>\n",
              "      <td>US</td>\n",
              "      <td>100.00</td>\n",
              "      <td>2421.00</td>\n",
              "      <td>30000.00</td>\n",
              "    </tr>\n",
              "    <tr>\n",
              "      <th>2</th>\n",
              "      <td>1000004038</td>\n",
              "      <td>Where is Hank?</td>\n",
              "      <td>Narrative Film</td>\n",
              "      <td>Film &amp; Video</td>\n",
              "      <td>USD</td>\n",
              "      <td>2013-02-26</td>\n",
              "      <td>45000.00</td>\n",
              "      <td>2013-01-12 00:20:50</td>\n",
              "      <td>220.00</td>\n",
              "      <td>failed</td>\n",
              "      <td>3</td>\n",
              "      <td>US</td>\n",
              "      <td>220.00</td>\n",
              "      <td>220.00</td>\n",
              "      <td>45000.00</td>\n",
              "    </tr>\n",
              "    <tr>\n",
              "      <th>3</th>\n",
              "      <td>1000007540</td>\n",
              "      <td>ToshiCapital Rekordz Needs Help to Complete Album</td>\n",
              "      <td>Music</td>\n",
              "      <td>Music</td>\n",
              "      <td>USD</td>\n",
              "      <td>2012-04-16</td>\n",
              "      <td>5000.00</td>\n",
              "      <td>2012-03-17 03:24:11</td>\n",
              "      <td>1.00</td>\n",
              "      <td>failed</td>\n",
              "      <td>1</td>\n",
              "      <td>US</td>\n",
              "      <td>1.00</td>\n",
              "      <td>1.00</td>\n",
              "      <td>5000.00</td>\n",
              "    </tr>\n",
              "    <tr>\n",
              "      <th>4</th>\n",
              "      <td>1000011046</td>\n",
              "      <td>Community Film Project: The Art of Neighborhoo...</td>\n",
              "      <td>Film &amp; Video</td>\n",
              "      <td>Film &amp; Video</td>\n",
              "      <td>USD</td>\n",
              "      <td>2015-08-29</td>\n",
              "      <td>19500.00</td>\n",
              "      <td>2015-07-04 08:35:03</td>\n",
              "      <td>1283.00</td>\n",
              "      <td>canceled</td>\n",
              "      <td>14</td>\n",
              "      <td>US</td>\n",
              "      <td>1283.00</td>\n",
              "      <td>1283.00</td>\n",
              "      <td>19500.00</td>\n",
              "    </tr>\n",
              "    <tr>\n",
              "      <th>...</th>\n",
              "      <td>...</td>\n",
              "      <td>...</td>\n",
              "      <td>...</td>\n",
              "      <td>...</td>\n",
              "      <td>...</td>\n",
              "      <td>...</td>\n",
              "      <td>...</td>\n",
              "      <td>...</td>\n",
              "      <td>...</td>\n",
              "      <td>...</td>\n",
              "      <td>...</td>\n",
              "      <td>...</td>\n",
              "      <td>...</td>\n",
              "      <td>...</td>\n",
              "      <td>...</td>\n",
              "    </tr>\n",
              "    <tr>\n",
              "      <th>378656</th>\n",
              "      <td>999976400</td>\n",
              "      <td>ChknTruk Nationwide Charity Drive 2014 (Canceled)</td>\n",
              "      <td>Documentary</td>\n",
              "      <td>Film &amp; Video</td>\n",
              "      <td>USD</td>\n",
              "      <td>2014-10-17</td>\n",
              "      <td>50000.00</td>\n",
              "      <td>2014-09-17 02:35:30</td>\n",
              "      <td>25.00</td>\n",
              "      <td>canceled</td>\n",
              "      <td>1</td>\n",
              "      <td>US</td>\n",
              "      <td>25.00</td>\n",
              "      <td>25.00</td>\n",
              "      <td>50000.00</td>\n",
              "    </tr>\n",
              "    <tr>\n",
              "      <th>378657</th>\n",
              "      <td>999977640</td>\n",
              "      <td>The Tribe</td>\n",
              "      <td>Narrative Film</td>\n",
              "      <td>Film &amp; Video</td>\n",
              "      <td>USD</td>\n",
              "      <td>2011-07-19</td>\n",
              "      <td>1500.00</td>\n",
              "      <td>2011-06-22 03:35:14</td>\n",
              "      <td>155.00</td>\n",
              "      <td>failed</td>\n",
              "      <td>5</td>\n",
              "      <td>US</td>\n",
              "      <td>155.00</td>\n",
              "      <td>155.00</td>\n",
              "      <td>1500.00</td>\n",
              "    </tr>\n",
              "    <tr>\n",
              "      <th>378658</th>\n",
              "      <td>999986353</td>\n",
              "      <td>Walls of Remedy- New lesbian Romantic Comedy f...</td>\n",
              "      <td>Narrative Film</td>\n",
              "      <td>Film &amp; Video</td>\n",
              "      <td>USD</td>\n",
              "      <td>2010-08-16</td>\n",
              "      <td>15000.00</td>\n",
              "      <td>2010-07-01 19:40:30</td>\n",
              "      <td>20.00</td>\n",
              "      <td>failed</td>\n",
              "      <td>1</td>\n",
              "      <td>US</td>\n",
              "      <td>20.00</td>\n",
              "      <td>20.00</td>\n",
              "      <td>15000.00</td>\n",
              "    </tr>\n",
              "    <tr>\n",
              "      <th>378659</th>\n",
              "      <td>999987933</td>\n",
              "      <td>BioDefense Education Kit</td>\n",
              "      <td>Technology</td>\n",
              "      <td>Technology</td>\n",
              "      <td>USD</td>\n",
              "      <td>2016-02-13</td>\n",
              "      <td>15000.00</td>\n",
              "      <td>2016-01-13 18:13:53</td>\n",
              "      <td>200.00</td>\n",
              "      <td>failed</td>\n",
              "      <td>6</td>\n",
              "      <td>US</td>\n",
              "      <td>200.00</td>\n",
              "      <td>200.00</td>\n",
              "      <td>15000.00</td>\n",
              "    </tr>\n",
              "    <tr>\n",
              "      <th>378660</th>\n",
              "      <td>999988282</td>\n",
              "      <td>Nou Renmen Ayiti!  We Love Haiti!</td>\n",
              "      <td>Performance Art</td>\n",
              "      <td>Art</td>\n",
              "      <td>USD</td>\n",
              "      <td>2011-08-16</td>\n",
              "      <td>2000.00</td>\n",
              "      <td>2011-07-19 09:07:47</td>\n",
              "      <td>524.00</td>\n",
              "      <td>failed</td>\n",
              "      <td>17</td>\n",
              "      <td>US</td>\n",
              "      <td>524.00</td>\n",
              "      <td>524.00</td>\n",
              "      <td>2000.00</td>\n",
              "    </tr>\n",
              "  </tbody>\n",
              "</table>\n",
              "<p>378661 rows × 15 columns</p>\n",
              "</div>"
            ],
            "text/plain": [
              "                ID  ... usd_goal_real\n",
              "0       1000002330  ...       1533.95\n",
              "1       1000003930  ...      30000.00\n",
              "2       1000004038  ...      45000.00\n",
              "3       1000007540  ...       5000.00\n",
              "4       1000011046  ...      19500.00\n",
              "...            ...  ...           ...\n",
              "378656   999976400  ...      50000.00\n",
              "378657   999977640  ...       1500.00\n",
              "378658   999986353  ...      15000.00\n",
              "378659   999987933  ...      15000.00\n",
              "378660   999988282  ...       2000.00\n",
              "\n",
              "[378661 rows x 15 columns]"
            ]
          },
          "metadata": {
            "tags": []
          },
          "execution_count": 6
        }
      ]
    },
    {
      "cell_type": "markdown",
      "metadata": {
        "colab_type": "text",
        "id": "MFpogEXQYStc"
      },
      "source": [
        "Por defecto solo vemos los valores al comienzo o al final del archivo.\n",
        "\n",
        "Tomemos una muestra al azar para ver valores más dispersos"
      ]
    },
    {
      "cell_type": "code",
      "metadata": {
        "colab_type": "code",
        "id": "Upvlit8QYStd",
        "colab": {}
      },
      "source": [
        "# set seed for reproducibility\n",
        "import numpy as np\n",
        "np.random.seed(0)"
      ],
      "execution_count": null,
      "outputs": []
    },
    {
      "cell_type": "code",
      "metadata": {
        "colab_type": "code",
        "id": "vDQdf2xEYStf",
        "colab": {
          "base_uri": "https://localhost:8080/",
          "height": 452
        },
        "outputId": "a7d7039d-b0d2-4b57-c36b-50019223d57a"
      },
      "source": [
        "kickstarter_2018.sample(5)"
      ],
      "execution_count": null,
      "outputs": [
        {
          "output_type": "execute_result",
          "data": {
            "text/html": [
              "<div>\n",
              "<style scoped>\n",
              "    .dataframe tbody tr th:only-of-type {\n",
              "        vertical-align: middle;\n",
              "    }\n",
              "\n",
              "    .dataframe tbody tr th {\n",
              "        vertical-align: top;\n",
              "    }\n",
              "\n",
              "    .dataframe thead th {\n",
              "        text-align: right;\n",
              "    }\n",
              "</style>\n",
              "<table border=\"1\" class=\"dataframe\">\n",
              "  <thead>\n",
              "    <tr style=\"text-align: right;\">\n",
              "      <th></th>\n",
              "      <th>ID</th>\n",
              "      <th>name</th>\n",
              "      <th>category</th>\n",
              "      <th>main_category</th>\n",
              "      <th>currency</th>\n",
              "      <th>deadline</th>\n",
              "      <th>goal</th>\n",
              "      <th>launched</th>\n",
              "      <th>pledged</th>\n",
              "      <th>state</th>\n",
              "      <th>backers</th>\n",
              "      <th>country</th>\n",
              "      <th>usd pledged</th>\n",
              "      <th>usd_pledged_real</th>\n",
              "      <th>usd_goal_real</th>\n",
              "    </tr>\n",
              "  </thead>\n",
              "  <tbody>\n",
              "    <tr>\n",
              "      <th>338862</th>\n",
              "      <td>796196901</td>\n",
              "      <td>10G Christmas Tree</td>\n",
              "      <td>Art</td>\n",
              "      <td>Art</td>\n",
              "      <td>USD</td>\n",
              "      <td>2010-12-26</td>\n",
              "      <td>10526.00</td>\n",
              "      <td>2010-12-08 08:44:04</td>\n",
              "      <td>0.00</td>\n",
              "      <td>failed</td>\n",
              "      <td>0</td>\n",
              "      <td>US</td>\n",
              "      <td>0.00</td>\n",
              "      <td>0.00</td>\n",
              "      <td>10526.00</td>\n",
              "    </tr>\n",
              "    <tr>\n",
              "      <th>277871</th>\n",
              "      <td>483825010</td>\n",
              "      <td>Gliff</td>\n",
              "      <td>Gaming Hardware</td>\n",
              "      <td>Games</td>\n",
              "      <td>USD</td>\n",
              "      <td>2016-03-28</td>\n",
              "      <td>10000.00</td>\n",
              "      <td>2016-01-28 04:56:18</td>\n",
              "      <td>51.00</td>\n",
              "      <td>failed</td>\n",
              "      <td>5</td>\n",
              "      <td>US</td>\n",
              "      <td>51.00</td>\n",
              "      <td>51.00</td>\n",
              "      <td>10000.00</td>\n",
              "    </tr>\n",
              "    <tr>\n",
              "      <th>47000</th>\n",
              "      <td>123916947</td>\n",
              "      <td>STUFFED Food Truck</td>\n",
              "      <td>Food Trucks</td>\n",
              "      <td>Food</td>\n",
              "      <td>USD</td>\n",
              "      <td>2015-01-06</td>\n",
              "      <td>60000.00</td>\n",
              "      <td>2014-11-07 02:24:36</td>\n",
              "      <td>25.00</td>\n",
              "      <td>failed</td>\n",
              "      <td>1</td>\n",
              "      <td>US</td>\n",
              "      <td>25.00</td>\n",
              "      <td>25.00</td>\n",
              "      <td>60000.00</td>\n",
              "    </tr>\n",
              "    <tr>\n",
              "      <th>111338</th>\n",
              "      <td>1565733636</td>\n",
              "      <td>NeoExodus Adventure: Origin of Man for Pathfin...</td>\n",
              "      <td>Tabletop Games</td>\n",
              "      <td>Games</td>\n",
              "      <td>USD</td>\n",
              "      <td>2012-05-01</td>\n",
              "      <td>500.00</td>\n",
              "      <td>2012-03-15 01:16:10</td>\n",
              "      <td>585.00</td>\n",
              "      <td>successful</td>\n",
              "      <td>17</td>\n",
              "      <td>US</td>\n",
              "      <td>585.00</td>\n",
              "      <td>585.00</td>\n",
              "      <td>500.00</td>\n",
              "    </tr>\n",
              "    <tr>\n",
              "      <th>53743</th>\n",
              "      <td>1273544891</td>\n",
              "      <td>NAPOLEON IN NEW YORK! an original TV Series</td>\n",
              "      <td>Comedy</td>\n",
              "      <td>Film &amp; Video</td>\n",
              "      <td>USD</td>\n",
              "      <td>2016-07-26</td>\n",
              "      <td>25000.00</td>\n",
              "      <td>2016-05-27 00:07:25</td>\n",
              "      <td>25.00</td>\n",
              "      <td>failed</td>\n",
              "      <td>1</td>\n",
              "      <td>US</td>\n",
              "      <td>25.00</td>\n",
              "      <td>25.00</td>\n",
              "      <td>25000.00</td>\n",
              "    </tr>\n",
              "  </tbody>\n",
              "</table>\n",
              "</div>"
            ],
            "text/plain": [
              "                ID  ... usd_goal_real\n",
              "338862   796196901  ...      10526.00\n",
              "277871   483825010  ...      10000.00\n",
              "47000    123916947  ...      60000.00\n",
              "111338  1565733636  ...        500.00\n",
              "53743   1273544891  ...      25000.00\n",
              "\n",
              "[5 rows x 15 columns]"
            ]
          },
          "metadata": {
            "tags": []
          },
          "execution_count": 8
        }
      ]
    },
    {
      "cell_type": "markdown",
      "metadata": {
        "colab_type": "text",
        "id": "e-cEmDnQYSti"
      },
      "source": [
        "No se observa a simple vista ningún problema obvio.\n",
        "\n",
        "Notar que todos vimos los mismos resultados. Al fijar la semilla no hubo tal azar, esto es algo necesario cuando queremos \"reproducir valores aleatorios\""
      ]
    },
    {
      "cell_type": "markdown",
      "metadata": {
        "colab_type": "text",
        "id": "O7mBSqudYStj"
      },
      "source": [
        "Veamos la descripción del dataset si se corresponde con lo levantado https://www.kaggle.com/kemical/kickstarter-projects/data"
      ]
    },
    {
      "cell_type": "code",
      "metadata": {
        "colab_type": "code",
        "id": "GMoezCxSYStk",
        "colab": {
          "base_uri": "https://localhost:8080/",
          "height": 520
        },
        "outputId": "b64ce124-80d7-467a-971e-8c3c5d2c2c83"
      },
      "source": [
        "pd.DataFrame([[\"ID\", \"No description provided\", \"Numeric\"],\n",
        "[\"name\", \"No description provided\", \"String\"],\n",
        "[\"category\", \"No description provided\", \"String\"],\n",
        "[\"main_category\", \"No description provided\", \"String\"],\n",
        "[\"currency\", \"No description provided\", \"String\"],\n",
        "[\"deadline\", \"No description provided\", \"DateTime\"],\n",
        "[\"goal\", \"Goal amount in project currency\", \"Numeric\"],\n",
        "[\"launched\", \"No description provided\", \"DateTime\"],\n",
        "[\"pledged\", \"Pledged amount in the project currency\", \"Numeric\"],\n",
        "[\"state\", \"No description provided\", \"String\"],\n",
        "[\"backers\", \"No description provided\", \"Numeric\"],\n",
        "[\"country\", \"No description provided\", \"String\"],\n",
        "[\"usd pledged\", \"Pledged amount in USD (conversion made by KS)\", \"Numeric\"],\n",
        "[\"usd_pledged_real\", \"Pledged amount in USD (conversion made by fixer.io api)\", \"Numeric\"],\n",
        "[\"usd_goal_real\", \"Goal amount in USD\", \"Numeric\"]], columns=[\"Field name\",\"Field description\", \"Type\"])"
      ],
      "execution_count": null,
      "outputs": [
        {
          "output_type": "execute_result",
          "data": {
            "text/html": [
              "<div>\n",
              "<style scoped>\n",
              "    .dataframe tbody tr th:only-of-type {\n",
              "        vertical-align: middle;\n",
              "    }\n",
              "\n",
              "    .dataframe tbody tr th {\n",
              "        vertical-align: top;\n",
              "    }\n",
              "\n",
              "    .dataframe thead th {\n",
              "        text-align: right;\n",
              "    }\n",
              "</style>\n",
              "<table border=\"1\" class=\"dataframe\">\n",
              "  <thead>\n",
              "    <tr style=\"text-align: right;\">\n",
              "      <th></th>\n",
              "      <th>Field name</th>\n",
              "      <th>Field description</th>\n",
              "      <th>Type</th>\n",
              "    </tr>\n",
              "  </thead>\n",
              "  <tbody>\n",
              "    <tr>\n",
              "      <th>0</th>\n",
              "      <td>ID</td>\n",
              "      <td>No description provided</td>\n",
              "      <td>Numeric</td>\n",
              "    </tr>\n",
              "    <tr>\n",
              "      <th>1</th>\n",
              "      <td>name</td>\n",
              "      <td>No description provided</td>\n",
              "      <td>String</td>\n",
              "    </tr>\n",
              "    <tr>\n",
              "      <th>2</th>\n",
              "      <td>category</td>\n",
              "      <td>No description provided</td>\n",
              "      <td>String</td>\n",
              "    </tr>\n",
              "    <tr>\n",
              "      <th>3</th>\n",
              "      <td>main_category</td>\n",
              "      <td>No description provided</td>\n",
              "      <td>String</td>\n",
              "    </tr>\n",
              "    <tr>\n",
              "      <th>4</th>\n",
              "      <td>currency</td>\n",
              "      <td>No description provided</td>\n",
              "      <td>String</td>\n",
              "    </tr>\n",
              "    <tr>\n",
              "      <th>5</th>\n",
              "      <td>deadline</td>\n",
              "      <td>No description provided</td>\n",
              "      <td>DateTime</td>\n",
              "    </tr>\n",
              "    <tr>\n",
              "      <th>6</th>\n",
              "      <td>goal</td>\n",
              "      <td>Goal amount in project currency</td>\n",
              "      <td>Numeric</td>\n",
              "    </tr>\n",
              "    <tr>\n",
              "      <th>7</th>\n",
              "      <td>launched</td>\n",
              "      <td>No description provided</td>\n",
              "      <td>DateTime</td>\n",
              "    </tr>\n",
              "    <tr>\n",
              "      <th>8</th>\n",
              "      <td>pledged</td>\n",
              "      <td>Pledged amount in the project currency</td>\n",
              "      <td>Numeric</td>\n",
              "    </tr>\n",
              "    <tr>\n",
              "      <th>9</th>\n",
              "      <td>state</td>\n",
              "      <td>No description provided</td>\n",
              "      <td>String</td>\n",
              "    </tr>\n",
              "    <tr>\n",
              "      <th>10</th>\n",
              "      <td>backers</td>\n",
              "      <td>No description provided</td>\n",
              "      <td>Numeric</td>\n",
              "    </tr>\n",
              "    <tr>\n",
              "      <th>11</th>\n",
              "      <td>country</td>\n",
              "      <td>No description provided</td>\n",
              "      <td>String</td>\n",
              "    </tr>\n",
              "    <tr>\n",
              "      <th>12</th>\n",
              "      <td>usd pledged</td>\n",
              "      <td>Pledged amount in USD (conversion made by KS)</td>\n",
              "      <td>Numeric</td>\n",
              "    </tr>\n",
              "    <tr>\n",
              "      <th>13</th>\n",
              "      <td>usd_pledged_real</td>\n",
              "      <td>Pledged amount in USD (conversion made by fixe...</td>\n",
              "      <td>Numeric</td>\n",
              "    </tr>\n",
              "    <tr>\n",
              "      <th>14</th>\n",
              "      <td>usd_goal_real</td>\n",
              "      <td>Goal amount in USD</td>\n",
              "      <td>Numeric</td>\n",
              "    </tr>\n",
              "  </tbody>\n",
              "</table>\n",
              "</div>"
            ],
            "text/plain": [
              "          Field name  ...      Type\n",
              "0                 ID  ...   Numeric\n",
              "1               name  ...    String\n",
              "2           category  ...    String\n",
              "3      main_category  ...    String\n",
              "4           currency  ...    String\n",
              "5           deadline  ...  DateTime\n",
              "6               goal  ...   Numeric\n",
              "7           launched  ...  DateTime\n",
              "8            pledged  ...   Numeric\n",
              "9              state  ...    String\n",
              "10           backers  ...   Numeric\n",
              "11           country  ...    String\n",
              "12       usd pledged  ...   Numeric\n",
              "13  usd_pledged_real  ...   Numeric\n",
              "14     usd_goal_real  ...   Numeric\n",
              "\n",
              "[15 rows x 3 columns]"
            ]
          },
          "metadata": {
            "tags": []
          },
          "execution_count": 9
        }
      ]
    },
    {
      "cell_type": "markdown",
      "metadata": {
        "id": "IwaFsktZdK6z",
        "colab_type": "text"
      },
      "source": [
        "Ahora veamos los tipos de datos que detectó pandas"
      ]
    },
    {
      "cell_type": "code",
      "metadata": {
        "colab_type": "code",
        "id": "kYTfRt4GYStn",
        "colab": {
          "base_uri": "https://localhost:8080/",
          "height": 311
        },
        "outputId": "beca2c6b-8d6b-4851-dffd-c646a92007f6"
      },
      "source": [
        "kickstarter_2018.dtypes"
      ],
      "execution_count": null,
      "outputs": [
        {
          "output_type": "execute_result",
          "data": {
            "text/plain": [
              "ID                    int64\n",
              "name                 object\n",
              "category             object\n",
              "main_category        object\n",
              "currency             object\n",
              "deadline             object\n",
              "goal                float64\n",
              "launched             object\n",
              "pledged             float64\n",
              "state                object\n",
              "backers               int64\n",
              "country              object\n",
              "usd pledged         float64\n",
              "usd_pledged_real    float64\n",
              "usd_goal_real       float64\n",
              "dtype: object"
            ]
          },
          "metadata": {
            "tags": []
          },
          "execution_count": 10
        }
      ]
    },
    {
      "cell_type": "markdown",
      "metadata": {
        "colab_type": "text",
        "id": "9mmqjlyoYStq"
      },
      "source": [
        "Los campos object generalmente son String, entonces parece que no reconoció como fechas en **deadline** y **launched** :("
      ]
    },
    {
      "cell_type": "markdown",
      "metadata": {
        "colab_type": "text",
        "id": "tovZm0SrYStq"
      },
      "source": [
        "Veamos los datos un resumen de los datos"
      ]
    },
    {
      "cell_type": "code",
      "metadata": {
        "colab_type": "code",
        "id": "rJYD_yW5YStr",
        "colab": {
          "base_uri": "https://localhost:8080/",
          "height": 300
        },
        "outputId": "e60d2c7d-0d08-49b6-f0c7-10eeae9cc45e"
      },
      "source": [
        "kickstarter_2018.describe()"
      ],
      "execution_count": null,
      "outputs": [
        {
          "output_type": "execute_result",
          "data": {
            "text/html": [
              "<div>\n",
              "<style scoped>\n",
              "    .dataframe tbody tr th:only-of-type {\n",
              "        vertical-align: middle;\n",
              "    }\n",
              "\n",
              "    .dataframe tbody tr th {\n",
              "        vertical-align: top;\n",
              "    }\n",
              "\n",
              "    .dataframe thead th {\n",
              "        text-align: right;\n",
              "    }\n",
              "</style>\n",
              "<table border=\"1\" class=\"dataframe\">\n",
              "  <thead>\n",
              "    <tr style=\"text-align: right;\">\n",
              "      <th></th>\n",
              "      <th>ID</th>\n",
              "      <th>goal</th>\n",
              "      <th>pledged</th>\n",
              "      <th>backers</th>\n",
              "      <th>usd pledged</th>\n",
              "      <th>usd_pledged_real</th>\n",
              "      <th>usd_goal_real</th>\n",
              "    </tr>\n",
              "  </thead>\n",
              "  <tbody>\n",
              "    <tr>\n",
              "      <th>count</th>\n",
              "      <td>378661.00</td>\n",
              "      <td>378661.00</td>\n",
              "      <td>378661.00</td>\n",
              "      <td>378661.00</td>\n",
              "      <td>374864.00</td>\n",
              "      <td>378661.00</td>\n",
              "      <td>378661.00</td>\n",
              "    </tr>\n",
              "    <tr>\n",
              "      <th>mean</th>\n",
              "      <td>1074731191.99</td>\n",
              "      <td>49080.79</td>\n",
              "      <td>9682.98</td>\n",
              "      <td>105.62</td>\n",
              "      <td>7036.73</td>\n",
              "      <td>9058.92</td>\n",
              "      <td>45454.40</td>\n",
              "    </tr>\n",
              "    <tr>\n",
              "      <th>std</th>\n",
              "      <td>619086204.32</td>\n",
              "      <td>1183391.26</td>\n",
              "      <td>95636.01</td>\n",
              "      <td>907.19</td>\n",
              "      <td>78639.75</td>\n",
              "      <td>90973.34</td>\n",
              "      <td>1152950.06</td>\n",
              "    </tr>\n",
              "    <tr>\n",
              "      <th>min</th>\n",
              "      <td>5971.00</td>\n",
              "      <td>0.01</td>\n",
              "      <td>0.00</td>\n",
              "      <td>0.00</td>\n",
              "      <td>0.00</td>\n",
              "      <td>0.00</td>\n",
              "      <td>0.01</td>\n",
              "    </tr>\n",
              "    <tr>\n",
              "      <th>25%</th>\n",
              "      <td>538263516.00</td>\n",
              "      <td>2000.00</td>\n",
              "      <td>30.00</td>\n",
              "      <td>2.00</td>\n",
              "      <td>16.98</td>\n",
              "      <td>31.00</td>\n",
              "      <td>2000.00</td>\n",
              "    </tr>\n",
              "    <tr>\n",
              "      <th>50%</th>\n",
              "      <td>1075275634.00</td>\n",
              "      <td>5200.00</td>\n",
              "      <td>620.00</td>\n",
              "      <td>12.00</td>\n",
              "      <td>394.72</td>\n",
              "      <td>624.33</td>\n",
              "      <td>5500.00</td>\n",
              "    </tr>\n",
              "    <tr>\n",
              "      <th>75%</th>\n",
              "      <td>1610148624.00</td>\n",
              "      <td>16000.00</td>\n",
              "      <td>4076.00</td>\n",
              "      <td>56.00</td>\n",
              "      <td>3034.09</td>\n",
              "      <td>4050.00</td>\n",
              "      <td>15500.00</td>\n",
              "    </tr>\n",
              "    <tr>\n",
              "      <th>max</th>\n",
              "      <td>2147476221.00</td>\n",
              "      <td>100000000.00</td>\n",
              "      <td>20338986.27</td>\n",
              "      <td>219382.00</td>\n",
              "      <td>20338986.27</td>\n",
              "      <td>20338986.27</td>\n",
              "      <td>166361390.71</td>\n",
              "    </tr>\n",
              "  </tbody>\n",
              "</table>\n",
              "</div>"
            ],
            "text/plain": [
              "                 ID         goal  ...  usd_pledged_real  usd_goal_real\n",
              "count     378661.00    378661.00  ...         378661.00      378661.00\n",
              "mean  1074731191.99     49080.79  ...           9058.92       45454.40\n",
              "std    619086204.32   1183391.26  ...          90973.34     1152950.06\n",
              "min         5971.00         0.01  ...              0.00           0.01\n",
              "25%    538263516.00      2000.00  ...             31.00        2000.00\n",
              "50%   1075275634.00      5200.00  ...            624.33        5500.00\n",
              "75%   1610148624.00     16000.00  ...           4050.00       15500.00\n",
              "max   2147476221.00 100000000.00  ...       20338986.27   166361390.71\n",
              "\n",
              "[8 rows x 7 columns]"
            ]
          },
          "metadata": {
            "tags": []
          },
          "execution_count": 11
        }
      ]
    },
    {
      "cell_type": "markdown",
      "metadata": {
        "colab_type": "text",
        "id": "JE0dlfRdYStv"
      },
      "source": [
        "Por defecto se ven los datos numéricos, veamos el resto."
      ]
    },
    {
      "cell_type": "code",
      "metadata": {
        "colab_type": "code",
        "id": "F3vOZk3zYStw",
        "colab": {
          "base_uri": "https://localhost:8080/",
          "height": 175
        },
        "outputId": "d963b472-ed55-442a-c2b1-289c7a35524d"
      },
      "source": [
        "kickstarter_2018.describe(include=['object'])"
      ],
      "execution_count": null,
      "outputs": [
        {
          "output_type": "execute_result",
          "data": {
            "text/html": [
              "<div>\n",
              "<style scoped>\n",
              "    .dataframe tbody tr th:only-of-type {\n",
              "        vertical-align: middle;\n",
              "    }\n",
              "\n",
              "    .dataframe tbody tr th {\n",
              "        vertical-align: top;\n",
              "    }\n",
              "\n",
              "    .dataframe thead th {\n",
              "        text-align: right;\n",
              "    }\n",
              "</style>\n",
              "<table border=\"1\" class=\"dataframe\">\n",
              "  <thead>\n",
              "    <tr style=\"text-align: right;\">\n",
              "      <th></th>\n",
              "      <th>name</th>\n",
              "      <th>category</th>\n",
              "      <th>main_category</th>\n",
              "      <th>currency</th>\n",
              "      <th>deadline</th>\n",
              "      <th>launched</th>\n",
              "      <th>state</th>\n",
              "      <th>country</th>\n",
              "    </tr>\n",
              "  </thead>\n",
              "  <tbody>\n",
              "    <tr>\n",
              "      <th>count</th>\n",
              "      <td>378657</td>\n",
              "      <td>378661</td>\n",
              "      <td>378661</td>\n",
              "      <td>378661</td>\n",
              "      <td>378661</td>\n",
              "      <td>378661</td>\n",
              "      <td>378661</td>\n",
              "      <td>378661</td>\n",
              "    </tr>\n",
              "    <tr>\n",
              "      <th>unique</th>\n",
              "      <td>375764</td>\n",
              "      <td>159</td>\n",
              "      <td>15</td>\n",
              "      <td>14</td>\n",
              "      <td>3164</td>\n",
              "      <td>378089</td>\n",
              "      <td>6</td>\n",
              "      <td>23</td>\n",
              "    </tr>\n",
              "    <tr>\n",
              "      <th>top</th>\n",
              "      <td>New EP/Music Development</td>\n",
              "      <td>Product Design</td>\n",
              "      <td>Film &amp; Video</td>\n",
              "      <td>USD</td>\n",
              "      <td>2014-08-08</td>\n",
              "      <td>1970-01-01 01:00:00</td>\n",
              "      <td>failed</td>\n",
              "      <td>US</td>\n",
              "    </tr>\n",
              "    <tr>\n",
              "      <th>freq</th>\n",
              "      <td>41</td>\n",
              "      <td>22314</td>\n",
              "      <td>63585</td>\n",
              "      <td>295365</td>\n",
              "      <td>705</td>\n",
              "      <td>7</td>\n",
              "      <td>197719</td>\n",
              "      <td>292627</td>\n",
              "    </tr>\n",
              "  </tbody>\n",
              "</table>\n",
              "</div>"
            ],
            "text/plain": [
              "                            name        category  ...   state country\n",
              "count                     378657          378661  ...  378661  378661\n",
              "unique                    375764             159  ...       6      23\n",
              "top     New EP/Music Development  Product Design  ...  failed      US\n",
              "freq                          41           22314  ...  197719  292627\n",
              "\n",
              "[4 rows x 8 columns]"
            ]
          },
          "metadata": {
            "tags": []
          },
          "execution_count": 12
        }
      ]
    },
    {
      "cell_type": "markdown",
      "metadata": {
        "colab_type": "text",
        "id": "ql55gxdOYStz"
      },
      "source": [
        "Operemos un cacho sobre los datos de lanzamiento"
      ]
    },
    {
      "cell_type": "code",
      "metadata": {
        "colab_type": "code",
        "id": "lWP5PHJdYSt0",
        "colab": {
          "base_uri": "https://localhost:8080/",
          "height": 35
        },
        "outputId": "dc9a2fa3-ad93-4fc8-904e-3579102c2917"
      },
      "source": [
        "kickstarter_2018['launched'].min()"
      ],
      "execution_count": null,
      "outputs": [
        {
          "output_type": "execute_result",
          "data": {
            "application/vnd.google.colaboratory.intrinsic": {
              "type": "string"
            },
            "text/plain": [
              "'1970-01-01 01:00:00'"
            ]
          },
          "metadata": {
            "tags": []
          },
          "execution_count": 13
        }
      ]
    },
    {
      "cell_type": "markdown",
      "metadata": {
        "colab_type": "text",
        "id": "lBuefqnNYSt3"
      },
      "source": [
        "Parece funcionar, pero ahora calculemos el rango de fechas de los proyectos"
      ]
    },
    {
      "cell_type": "code",
      "metadata": {
        "colab_type": "code",
        "id": "Eohs3eNwYSt4",
        "colab": {
          "base_uri": "https://localhost:8080/",
          "height": 193
        },
        "outputId": "809f5cf1-aaf4-495c-bdb2-a4ef4770d77c"
      },
      "source": [
        "kickstarter_2018['launched'].max() - kickstarter_2018['launched'].min()\n",
        "#Este falla ya que no son fechas para pandas"
      ],
      "execution_count": null,
      "outputs": [
        {
          "output_type": "error",
          "ename": "TypeError",
          "evalue": "ignored",
          "traceback": [
            "\u001b[0;31m---------------------------------------------------------------------------\u001b[0m",
            "\u001b[0;31mTypeError\u001b[0m                                 Traceback (most recent call last)",
            "\u001b[0;32m<ipython-input-14-825007e36752>\u001b[0m in \u001b[0;36m<module>\u001b[0;34m()\u001b[0m\n\u001b[0;32m----> 1\u001b[0;31m \u001b[0mkickstarter_2018\u001b[0m\u001b[0;34m[\u001b[0m\u001b[0;34m'launched'\u001b[0m\u001b[0;34m]\u001b[0m\u001b[0;34m.\u001b[0m\u001b[0mmax\u001b[0m\u001b[0;34m(\u001b[0m\u001b[0;34m)\u001b[0m \u001b[0;34m-\u001b[0m \u001b[0mkickstarter_2018\u001b[0m\u001b[0;34m[\u001b[0m\u001b[0;34m'launched'\u001b[0m\u001b[0;34m]\u001b[0m\u001b[0;34m.\u001b[0m\u001b[0mmin\u001b[0m\u001b[0;34m(\u001b[0m\u001b[0;34m)\u001b[0m\u001b[0;34m\u001b[0m\u001b[0;34m\u001b[0m\u001b[0m\n\u001b[0m\u001b[1;32m      2\u001b[0m \u001b[0;31m#Este falla ya que no son fechas para pandas\u001b[0m\u001b[0;34m\u001b[0m\u001b[0;34m\u001b[0m\u001b[0;34m\u001b[0m\u001b[0m\n",
            "\u001b[0;31mTypeError\u001b[0m: unsupported operand type(s) for -: 'str' and 'str'"
          ]
        }
      ]
    },
    {
      "cell_type": "markdown",
      "metadata": {
        "colab_type": "text",
        "id": "29NhQ8eEYSt9"
      },
      "source": [
        "Indiquemos que columnas son fechas como indica la [documentación](https://pandas.pydata.org/pandas-docs/stable/io.html#datetime-handling)"
      ]
    },
    {
      "cell_type": "code",
      "metadata": {
        "colab_type": "code",
        "id": "8Y21tDSYYSt_",
        "colab": {
          "base_uri": "https://localhost:8080/",
          "height": 311
        },
        "outputId": "e9453cfd-2e30-4091-bd07-95a3bc418ae9"
      },
      "source": [
        "kickstarter_2018 = pd.read_csv(BASE_DIR + \"/input/kickstarter-projects/ks-projects-201801.csv\", \n",
        "                               parse_dates=[\"deadline\",\"launched\"]) #Leemos las fechas como tal\n",
        "kickstarter_2018.dtypes"
      ],
      "execution_count": null,
      "outputs": [
        {
          "output_type": "execute_result",
          "data": {
            "text/plain": [
              "ID                           int64\n",
              "name                        object\n",
              "category                    object\n",
              "main_category               object\n",
              "currency                    object\n",
              "deadline            datetime64[ns]\n",
              "goal                       float64\n",
              "launched            datetime64[ns]\n",
              "pledged                    float64\n",
              "state                       object\n",
              "backers                      int64\n",
              "country                     object\n",
              "usd pledged                float64\n",
              "usd_pledged_real           float64\n",
              "usd_goal_real              float64\n",
              "dtype: object"
            ]
          },
          "metadata": {
            "tags": []
          },
          "execution_count": 15
        }
      ]
    },
    {
      "cell_type": "markdown",
      "metadata": {
        "colab_type": "text",
        "id": "qKtgnTnYYSuD"
      },
      "source": [
        "Ahora vemos que esas columnas fueron reconocidas como fechas\n",
        "\n",
        "Veamos la misma muestra de nuevo"
      ]
    },
    {
      "cell_type": "code",
      "metadata": {
        "colab_type": "code",
        "id": "PW04V4DiYSuF",
        "colab": {
          "base_uri": "https://localhost:8080/",
          "height": 521
        },
        "outputId": "929a3711-4758-4889-e03c-710d8921daff"
      },
      "source": [
        "kickstarter_2018.sample(5)"
      ],
      "execution_count": null,
      "outputs": [
        {
          "output_type": "execute_result",
          "data": {
            "text/html": [
              "<div>\n",
              "<style scoped>\n",
              "    .dataframe tbody tr th:only-of-type {\n",
              "        vertical-align: middle;\n",
              "    }\n",
              "\n",
              "    .dataframe tbody tr th {\n",
              "        vertical-align: top;\n",
              "    }\n",
              "\n",
              "    .dataframe thead th {\n",
              "        text-align: right;\n",
              "    }\n",
              "</style>\n",
              "<table border=\"1\" class=\"dataframe\">\n",
              "  <thead>\n",
              "    <tr style=\"text-align: right;\">\n",
              "      <th></th>\n",
              "      <th>ID</th>\n",
              "      <th>name</th>\n",
              "      <th>category</th>\n",
              "      <th>main_category</th>\n",
              "      <th>currency</th>\n",
              "      <th>deadline</th>\n",
              "      <th>goal</th>\n",
              "      <th>launched</th>\n",
              "      <th>pledged</th>\n",
              "      <th>state</th>\n",
              "      <th>backers</th>\n",
              "      <th>country</th>\n",
              "      <th>usd pledged</th>\n",
              "      <th>usd_pledged_real</th>\n",
              "      <th>usd_goal_real</th>\n",
              "    </tr>\n",
              "  </thead>\n",
              "  <tbody>\n",
              "    <tr>\n",
              "      <th>299667</th>\n",
              "      <td>595962034</td>\n",
              "      <td>Button Poetry Live!</td>\n",
              "      <td>Mixed Media</td>\n",
              "      <td>Art</td>\n",
              "      <td>USD</td>\n",
              "      <td>2015-09-18</td>\n",
              "      <td>10000.00</td>\n",
              "      <td>2015-08-19 19:34:20</td>\n",
              "      <td>18216.27</td>\n",
              "      <td>successful</td>\n",
              "      <td>455</td>\n",
              "      <td>US</td>\n",
              "      <td>18216.27</td>\n",
              "      <td>18216.27</td>\n",
              "      <td>10000.00</td>\n",
              "    </tr>\n",
              "    <tr>\n",
              "      <th>181674</th>\n",
              "      <td>1924707671</td>\n",
              "      <td>C STREET 2012 : Tbilisi, Georgia</td>\n",
              "      <td>World Music</td>\n",
              "      <td>Music</td>\n",
              "      <td>USD</td>\n",
              "      <td>2012-06-07</td>\n",
              "      <td>5000.00</td>\n",
              "      <td>2012-05-08 18:22:59</td>\n",
              "      <td>7210.69</td>\n",
              "      <td>successful</td>\n",
              "      <td>82</td>\n",
              "      <td>US</td>\n",
              "      <td>7210.69</td>\n",
              "      <td>7210.69</td>\n",
              "      <td>5000.00</td>\n",
              "    </tr>\n",
              "    <tr>\n",
              "      <th>137583</th>\n",
              "      <td>1698707842</td>\n",
              "      <td>Dérive's Next Project</td>\n",
              "      <td>Punk</td>\n",
              "      <td>Music</td>\n",
              "      <td>USD</td>\n",
              "      <td>2014-07-06</td>\n",
              "      <td>1200.00</td>\n",
              "      <td>2014-06-08 17:58:37</td>\n",
              "      <td>1255.66</td>\n",
              "      <td>successful</td>\n",
              "      <td>33</td>\n",
              "      <td>US</td>\n",
              "      <td>1255.66</td>\n",
              "      <td>1255.66</td>\n",
              "      <td>1200.00</td>\n",
              "    </tr>\n",
              "    <tr>\n",
              "      <th>296861</th>\n",
              "      <td>581269566</td>\n",
              "      <td>Photo Book - World Santa Claus Congress</td>\n",
              "      <td>Photobooks</td>\n",
              "      <td>Photography</td>\n",
              "      <td>DKK</td>\n",
              "      <td>2017-04-14</td>\n",
              "      <td>110000.00</td>\n",
              "      <td>2017-03-14 23:45:35</td>\n",
              "      <td>462.00</td>\n",
              "      <td>failed</td>\n",
              "      <td>5</td>\n",
              "      <td>DK</td>\n",
              "      <td>0.00</td>\n",
              "      <td>66.46</td>\n",
              "      <td>15823.47</td>\n",
              "    </tr>\n",
              "    <tr>\n",
              "      <th>66362</th>\n",
              "      <td>1337585114</td>\n",
              "      <td>Kickstart CLE Brewing to greatness!</td>\n",
              "      <td>Drinks</td>\n",
              "      <td>Food</td>\n",
              "      <td>USD</td>\n",
              "      <td>2017-08-19</td>\n",
              "      <td>6500.00</td>\n",
              "      <td>2017-07-20 21:22:43</td>\n",
              "      <td>250.00</td>\n",
              "      <td>failed</td>\n",
              "      <td>5</td>\n",
              "      <td>US</td>\n",
              "      <td>75.00</td>\n",
              "      <td>250.00</td>\n",
              "      <td>6500.00</td>\n",
              "    </tr>\n",
              "  </tbody>\n",
              "</table>\n",
              "</div>"
            ],
            "text/plain": [
              "                ID  ... usd_goal_real\n",
              "299667   595962034  ...      10000.00\n",
              "181674  1924707671  ...       5000.00\n",
              "137583  1698707842  ...       1200.00\n",
              "296861   581269566  ...      15823.47\n",
              "66362   1337585114  ...       6500.00\n",
              "\n",
              "[5 rows x 15 columns]"
            ]
          },
          "metadata": {
            "tags": []
          },
          "execution_count": 16
        }
      ]
    },
    {
      "cell_type": "markdown",
      "metadata": {
        "colab_type": "text",
        "id": "yizWLJJ6YSuI"
      },
      "source": [
        "Y veamos el resumen de los datos"
      ]
    },
    {
      "cell_type": "code",
      "metadata": {
        "colab_type": "code",
        "id": "2PAmAj3XYSuJ",
        "colab": {
          "base_uri": "https://localhost:8080/",
          "height": 564
        },
        "outputId": "cb1e62c1-a7f9-47a2-c230-0c651056868d"
      },
      "source": [
        "kickstarter_2018.describe(include='all')"
      ],
      "execution_count": null,
      "outputs": [
        {
          "output_type": "execute_result",
          "data": {
            "text/html": [
              "<div>\n",
              "<style scoped>\n",
              "    .dataframe tbody tr th:only-of-type {\n",
              "        vertical-align: middle;\n",
              "    }\n",
              "\n",
              "    .dataframe tbody tr th {\n",
              "        vertical-align: top;\n",
              "    }\n",
              "\n",
              "    .dataframe thead th {\n",
              "        text-align: right;\n",
              "    }\n",
              "</style>\n",
              "<table border=\"1\" class=\"dataframe\">\n",
              "  <thead>\n",
              "    <tr style=\"text-align: right;\">\n",
              "      <th></th>\n",
              "      <th>ID</th>\n",
              "      <th>name</th>\n",
              "      <th>category</th>\n",
              "      <th>main_category</th>\n",
              "      <th>currency</th>\n",
              "      <th>deadline</th>\n",
              "      <th>goal</th>\n",
              "      <th>launched</th>\n",
              "      <th>pledged</th>\n",
              "      <th>state</th>\n",
              "      <th>backers</th>\n",
              "      <th>country</th>\n",
              "      <th>usd pledged</th>\n",
              "      <th>usd_pledged_real</th>\n",
              "      <th>usd_goal_real</th>\n",
              "    </tr>\n",
              "  </thead>\n",
              "  <tbody>\n",
              "    <tr>\n",
              "      <th>count</th>\n",
              "      <td>378661.00</td>\n",
              "      <td>378657</td>\n",
              "      <td>378661</td>\n",
              "      <td>378661</td>\n",
              "      <td>378661</td>\n",
              "      <td>378661</td>\n",
              "      <td>378661.00</td>\n",
              "      <td>378661</td>\n",
              "      <td>378661.00</td>\n",
              "      <td>378661</td>\n",
              "      <td>378661.00</td>\n",
              "      <td>378661</td>\n",
              "      <td>374864.00</td>\n",
              "      <td>378661.00</td>\n",
              "      <td>378661.00</td>\n",
              "    </tr>\n",
              "    <tr>\n",
              "      <th>unique</th>\n",
              "      <td>nan</td>\n",
              "      <td>375764</td>\n",
              "      <td>159</td>\n",
              "      <td>15</td>\n",
              "      <td>14</td>\n",
              "      <td>3164</td>\n",
              "      <td>nan</td>\n",
              "      <td>378089</td>\n",
              "      <td>nan</td>\n",
              "      <td>6</td>\n",
              "      <td>nan</td>\n",
              "      <td>23</td>\n",
              "      <td>nan</td>\n",
              "      <td>nan</td>\n",
              "      <td>nan</td>\n",
              "    </tr>\n",
              "    <tr>\n",
              "      <th>top</th>\n",
              "      <td>nan</td>\n",
              "      <td>New EP/Music Development</td>\n",
              "      <td>Product Design</td>\n",
              "      <td>Film &amp; Video</td>\n",
              "      <td>USD</td>\n",
              "      <td>2014-08-08 00:00:00</td>\n",
              "      <td>nan</td>\n",
              "      <td>1970-01-01 01:00:00</td>\n",
              "      <td>nan</td>\n",
              "      <td>failed</td>\n",
              "      <td>nan</td>\n",
              "      <td>US</td>\n",
              "      <td>nan</td>\n",
              "      <td>nan</td>\n",
              "      <td>nan</td>\n",
              "    </tr>\n",
              "    <tr>\n",
              "      <th>freq</th>\n",
              "      <td>nan</td>\n",
              "      <td>41</td>\n",
              "      <td>22314</td>\n",
              "      <td>63585</td>\n",
              "      <td>295365</td>\n",
              "      <td>705</td>\n",
              "      <td>nan</td>\n",
              "      <td>7</td>\n",
              "      <td>nan</td>\n",
              "      <td>197719</td>\n",
              "      <td>nan</td>\n",
              "      <td>292627</td>\n",
              "      <td>nan</td>\n",
              "      <td>nan</td>\n",
              "      <td>nan</td>\n",
              "    </tr>\n",
              "    <tr>\n",
              "      <th>first</th>\n",
              "      <td>nan</td>\n",
              "      <td>NaN</td>\n",
              "      <td>NaN</td>\n",
              "      <td>NaN</td>\n",
              "      <td>NaN</td>\n",
              "      <td>2009-05-03 00:00:00</td>\n",
              "      <td>nan</td>\n",
              "      <td>1970-01-01 01:00:00</td>\n",
              "      <td>nan</td>\n",
              "      <td>NaN</td>\n",
              "      <td>nan</td>\n",
              "      <td>NaN</td>\n",
              "      <td>nan</td>\n",
              "      <td>nan</td>\n",
              "      <td>nan</td>\n",
              "    </tr>\n",
              "    <tr>\n",
              "      <th>last</th>\n",
              "      <td>nan</td>\n",
              "      <td>NaN</td>\n",
              "      <td>NaN</td>\n",
              "      <td>NaN</td>\n",
              "      <td>NaN</td>\n",
              "      <td>2018-03-03 00:00:00</td>\n",
              "      <td>nan</td>\n",
              "      <td>2018-01-02 15:02:31</td>\n",
              "      <td>nan</td>\n",
              "      <td>NaN</td>\n",
              "      <td>nan</td>\n",
              "      <td>NaN</td>\n",
              "      <td>nan</td>\n",
              "      <td>nan</td>\n",
              "      <td>nan</td>\n",
              "    </tr>\n",
              "    <tr>\n",
              "      <th>mean</th>\n",
              "      <td>1074731191.99</td>\n",
              "      <td>NaN</td>\n",
              "      <td>NaN</td>\n",
              "      <td>NaN</td>\n",
              "      <td>NaN</td>\n",
              "      <td>NaN</td>\n",
              "      <td>49080.79</td>\n",
              "      <td>NaN</td>\n",
              "      <td>9682.98</td>\n",
              "      <td>NaN</td>\n",
              "      <td>105.62</td>\n",
              "      <td>NaN</td>\n",
              "      <td>7036.73</td>\n",
              "      <td>9058.92</td>\n",
              "      <td>45454.40</td>\n",
              "    </tr>\n",
              "    <tr>\n",
              "      <th>std</th>\n",
              "      <td>619086204.32</td>\n",
              "      <td>NaN</td>\n",
              "      <td>NaN</td>\n",
              "      <td>NaN</td>\n",
              "      <td>NaN</td>\n",
              "      <td>NaN</td>\n",
              "      <td>1183391.26</td>\n",
              "      <td>NaN</td>\n",
              "      <td>95636.01</td>\n",
              "      <td>NaN</td>\n",
              "      <td>907.19</td>\n",
              "      <td>NaN</td>\n",
              "      <td>78639.75</td>\n",
              "      <td>90973.34</td>\n",
              "      <td>1152950.06</td>\n",
              "    </tr>\n",
              "    <tr>\n",
              "      <th>min</th>\n",
              "      <td>5971.00</td>\n",
              "      <td>NaN</td>\n",
              "      <td>NaN</td>\n",
              "      <td>NaN</td>\n",
              "      <td>NaN</td>\n",
              "      <td>NaN</td>\n",
              "      <td>0.01</td>\n",
              "      <td>NaN</td>\n",
              "      <td>0.00</td>\n",
              "      <td>NaN</td>\n",
              "      <td>0.00</td>\n",
              "      <td>NaN</td>\n",
              "      <td>0.00</td>\n",
              "      <td>0.00</td>\n",
              "      <td>0.01</td>\n",
              "    </tr>\n",
              "    <tr>\n",
              "      <th>25%</th>\n",
              "      <td>538263516.00</td>\n",
              "      <td>NaN</td>\n",
              "      <td>NaN</td>\n",
              "      <td>NaN</td>\n",
              "      <td>NaN</td>\n",
              "      <td>NaN</td>\n",
              "      <td>2000.00</td>\n",
              "      <td>NaN</td>\n",
              "      <td>30.00</td>\n",
              "      <td>NaN</td>\n",
              "      <td>2.00</td>\n",
              "      <td>NaN</td>\n",
              "      <td>16.98</td>\n",
              "      <td>31.00</td>\n",
              "      <td>2000.00</td>\n",
              "    </tr>\n",
              "    <tr>\n",
              "      <th>50%</th>\n",
              "      <td>1075275634.00</td>\n",
              "      <td>NaN</td>\n",
              "      <td>NaN</td>\n",
              "      <td>NaN</td>\n",
              "      <td>NaN</td>\n",
              "      <td>NaN</td>\n",
              "      <td>5200.00</td>\n",
              "      <td>NaN</td>\n",
              "      <td>620.00</td>\n",
              "      <td>NaN</td>\n",
              "      <td>12.00</td>\n",
              "      <td>NaN</td>\n",
              "      <td>394.72</td>\n",
              "      <td>624.33</td>\n",
              "      <td>5500.00</td>\n",
              "    </tr>\n",
              "    <tr>\n",
              "      <th>75%</th>\n",
              "      <td>1610148624.00</td>\n",
              "      <td>NaN</td>\n",
              "      <td>NaN</td>\n",
              "      <td>NaN</td>\n",
              "      <td>NaN</td>\n",
              "      <td>NaN</td>\n",
              "      <td>16000.00</td>\n",
              "      <td>NaN</td>\n",
              "      <td>4076.00</td>\n",
              "      <td>NaN</td>\n",
              "      <td>56.00</td>\n",
              "      <td>NaN</td>\n",
              "      <td>3034.09</td>\n",
              "      <td>4050.00</td>\n",
              "      <td>15500.00</td>\n",
              "    </tr>\n",
              "    <tr>\n",
              "      <th>max</th>\n",
              "      <td>2147476221.00</td>\n",
              "      <td>NaN</td>\n",
              "      <td>NaN</td>\n",
              "      <td>NaN</td>\n",
              "      <td>NaN</td>\n",
              "      <td>NaN</td>\n",
              "      <td>100000000.00</td>\n",
              "      <td>NaN</td>\n",
              "      <td>20338986.27</td>\n",
              "      <td>NaN</td>\n",
              "      <td>219382.00</td>\n",
              "      <td>NaN</td>\n",
              "      <td>20338986.27</td>\n",
              "      <td>20338986.27</td>\n",
              "      <td>166361390.71</td>\n",
              "    </tr>\n",
              "  </tbody>\n",
              "</table>\n",
              "</div>"
            ],
            "text/plain": [
              "                  ID                      name  ... usd_pledged_real usd_goal_real\n",
              "count      378661.00                    378657  ...        378661.00     378661.00\n",
              "unique           nan                    375764  ...              nan           nan\n",
              "top              nan  New EP/Music Development  ...              nan           nan\n",
              "freq             nan                        41  ...              nan           nan\n",
              "first            nan                       NaN  ...              nan           nan\n",
              "last             nan                       NaN  ...              nan           nan\n",
              "mean   1074731191.99                       NaN  ...          9058.92      45454.40\n",
              "std     619086204.32                       NaN  ...         90973.34    1152950.06\n",
              "min          5971.00                       NaN  ...             0.00          0.01\n",
              "25%     538263516.00                       NaN  ...            31.00       2000.00\n",
              "50%    1075275634.00                       NaN  ...           624.33       5500.00\n",
              "75%    1610148624.00                       NaN  ...          4050.00      15500.00\n",
              "max    2147476221.00                       NaN  ...      20338986.27  166361390.71\n",
              "\n",
              "[13 rows x 15 columns]"
            ]
          },
          "metadata": {
            "tags": []
          },
          "execution_count": 17
        }
      ]
    },
    {
      "cell_type": "markdown",
      "metadata": {
        "colab_type": "text",
        "id": "WSd5WYsMYSuQ"
      },
      "source": [
        "Podemos ver que tenemos primero y último en el resumen de las columnas de fechas.\n",
        "\n",
        "Ahora deberíamos poder calcular el rango de fechas de lanzamietos"
      ]
    },
    {
      "cell_type": "code",
      "metadata": {
        "colab_type": "code",
        "id": "8qhSEoVJYSuR",
        "colab": {
          "base_uri": "https://localhost:8080/",
          "height": 35
        },
        "outputId": "bcfdc066-3c56-449f-de9e-6d2bf981a498"
      },
      "source": [
        "kickstarter_2018['launched'].max() - kickstarter_2018['launched'].min()"
      ],
      "execution_count": null,
      "outputs": [
        {
          "output_type": "execute_result",
          "data": {
            "text/plain": [
              "Timedelta('17533 days 14:02:31')"
            ]
          },
          "metadata": {
            "tags": []
          },
          "execution_count": 18
        }
      ]
    },
    {
      "cell_type": "markdown",
      "metadata": {
        "colab_type": "text",
        "id": "kUuWg5XxYSuU"
      },
      "source": [
        "# 1.2. Asegurar de tener ids/claves únicas"
      ]
    },
    {
      "cell_type": "markdown",
      "metadata": {
        "colab_type": "text",
        "id": "a8kLSONTYSuV"
      },
      "source": [
        "Chequear que no hay datos duplicados"
      ]
    },
    {
      "cell_type": "code",
      "metadata": {
        "colab_type": "code",
        "id": "wIbpcwGKYSuW",
        "colab": {
          "base_uri": "https://localhost:8080/",
          "height": 35
        },
        "outputId": "13ea7c33-61b6-407d-963d-fff19968f83e"
      },
      "source": [
        "kickstarter_2018.shape"
      ],
      "execution_count": null,
      "outputs": [
        {
          "output_type": "execute_result",
          "data": {
            "text/plain": [
              "(378661, 15)"
            ]
          },
          "metadata": {
            "tags": []
          },
          "execution_count": 19
        }
      ]
    },
    {
      "cell_type": "markdown",
      "metadata": {
        "id": "wchEz0SOdK9d",
        "colab_type": "text"
      },
      "source": [
        "Pandas soporta índices en los DataFrames vamos a recargar el conjunto de datos"
      ]
    },
    {
      "cell_type": "code",
      "metadata": {
        "colab_type": "code",
        "id": "85qApsv2YSuZ",
        "colab": {}
      },
      "source": [
        "kickstarter_2018 = pd.read_csv(BASE_DIR + \"/input/kickstarter-projects/ks-projects-201801.csv\", \n",
        "                               parse_dates=[\"deadline\",\"launched\"], #Leemos las fechas como tal\n",
        "                               index_col=['ID']) #Leemos los ID como tal"
      ],
      "execution_count": null,
      "outputs": []
    },
    {
      "cell_type": "code",
      "metadata": {
        "colab_type": "code",
        "id": "zUl3zjhQYSuc",
        "colab": {
          "base_uri": "https://localhost:8080/",
          "height": 927
        },
        "outputId": "cac24de7-8402-4d41-fbf8-668ef51b26b9"
      },
      "source": [
        "kickstarter_2018"
      ],
      "execution_count": null,
      "outputs": [
        {
          "output_type": "execute_result",
          "data": {
            "text/html": [
              "<div>\n",
              "<style scoped>\n",
              "    .dataframe tbody tr th:only-of-type {\n",
              "        vertical-align: middle;\n",
              "    }\n",
              "\n",
              "    .dataframe tbody tr th {\n",
              "        vertical-align: top;\n",
              "    }\n",
              "\n",
              "    .dataframe thead th {\n",
              "        text-align: right;\n",
              "    }\n",
              "</style>\n",
              "<table border=\"1\" class=\"dataframe\">\n",
              "  <thead>\n",
              "    <tr style=\"text-align: right;\">\n",
              "      <th></th>\n",
              "      <th>name</th>\n",
              "      <th>category</th>\n",
              "      <th>main_category</th>\n",
              "      <th>currency</th>\n",
              "      <th>deadline</th>\n",
              "      <th>goal</th>\n",
              "      <th>launched</th>\n",
              "      <th>pledged</th>\n",
              "      <th>state</th>\n",
              "      <th>backers</th>\n",
              "      <th>country</th>\n",
              "      <th>usd pledged</th>\n",
              "      <th>usd_pledged_real</th>\n",
              "      <th>usd_goal_real</th>\n",
              "    </tr>\n",
              "    <tr>\n",
              "      <th>ID</th>\n",
              "      <th></th>\n",
              "      <th></th>\n",
              "      <th></th>\n",
              "      <th></th>\n",
              "      <th></th>\n",
              "      <th></th>\n",
              "      <th></th>\n",
              "      <th></th>\n",
              "      <th></th>\n",
              "      <th></th>\n",
              "      <th></th>\n",
              "      <th></th>\n",
              "      <th></th>\n",
              "      <th></th>\n",
              "    </tr>\n",
              "  </thead>\n",
              "  <tbody>\n",
              "    <tr>\n",
              "      <th>1000002330</th>\n",
              "      <td>The Songs of Adelaide &amp; Abullah</td>\n",
              "      <td>Poetry</td>\n",
              "      <td>Publishing</td>\n",
              "      <td>GBP</td>\n",
              "      <td>2015-10-09</td>\n",
              "      <td>1000.00</td>\n",
              "      <td>2015-08-11 12:12:28</td>\n",
              "      <td>0.00</td>\n",
              "      <td>failed</td>\n",
              "      <td>0</td>\n",
              "      <td>GB</td>\n",
              "      <td>0.00</td>\n",
              "      <td>0.00</td>\n",
              "      <td>1533.95</td>\n",
              "    </tr>\n",
              "    <tr>\n",
              "      <th>1000003930</th>\n",
              "      <td>Greeting From Earth: ZGAC Arts Capsule For ET</td>\n",
              "      <td>Narrative Film</td>\n",
              "      <td>Film &amp; Video</td>\n",
              "      <td>USD</td>\n",
              "      <td>2017-11-01</td>\n",
              "      <td>30000.00</td>\n",
              "      <td>2017-09-02 04:43:57</td>\n",
              "      <td>2421.00</td>\n",
              "      <td>failed</td>\n",
              "      <td>15</td>\n",
              "      <td>US</td>\n",
              "      <td>100.00</td>\n",
              "      <td>2421.00</td>\n",
              "      <td>30000.00</td>\n",
              "    </tr>\n",
              "    <tr>\n",
              "      <th>1000004038</th>\n",
              "      <td>Where is Hank?</td>\n",
              "      <td>Narrative Film</td>\n",
              "      <td>Film &amp; Video</td>\n",
              "      <td>USD</td>\n",
              "      <td>2013-02-26</td>\n",
              "      <td>45000.00</td>\n",
              "      <td>2013-01-12 00:20:50</td>\n",
              "      <td>220.00</td>\n",
              "      <td>failed</td>\n",
              "      <td>3</td>\n",
              "      <td>US</td>\n",
              "      <td>220.00</td>\n",
              "      <td>220.00</td>\n",
              "      <td>45000.00</td>\n",
              "    </tr>\n",
              "    <tr>\n",
              "      <th>1000007540</th>\n",
              "      <td>ToshiCapital Rekordz Needs Help to Complete Album</td>\n",
              "      <td>Music</td>\n",
              "      <td>Music</td>\n",
              "      <td>USD</td>\n",
              "      <td>2012-04-16</td>\n",
              "      <td>5000.00</td>\n",
              "      <td>2012-03-17 03:24:11</td>\n",
              "      <td>1.00</td>\n",
              "      <td>failed</td>\n",
              "      <td>1</td>\n",
              "      <td>US</td>\n",
              "      <td>1.00</td>\n",
              "      <td>1.00</td>\n",
              "      <td>5000.00</td>\n",
              "    </tr>\n",
              "    <tr>\n",
              "      <th>1000011046</th>\n",
              "      <td>Community Film Project: The Art of Neighborhoo...</td>\n",
              "      <td>Film &amp; Video</td>\n",
              "      <td>Film &amp; Video</td>\n",
              "      <td>USD</td>\n",
              "      <td>2015-08-29</td>\n",
              "      <td>19500.00</td>\n",
              "      <td>2015-07-04 08:35:03</td>\n",
              "      <td>1283.00</td>\n",
              "      <td>canceled</td>\n",
              "      <td>14</td>\n",
              "      <td>US</td>\n",
              "      <td>1283.00</td>\n",
              "      <td>1283.00</td>\n",
              "      <td>19500.00</td>\n",
              "    </tr>\n",
              "    <tr>\n",
              "      <th>...</th>\n",
              "      <td>...</td>\n",
              "      <td>...</td>\n",
              "      <td>...</td>\n",
              "      <td>...</td>\n",
              "      <td>...</td>\n",
              "      <td>...</td>\n",
              "      <td>...</td>\n",
              "      <td>...</td>\n",
              "      <td>...</td>\n",
              "      <td>...</td>\n",
              "      <td>...</td>\n",
              "      <td>...</td>\n",
              "      <td>...</td>\n",
              "      <td>...</td>\n",
              "    </tr>\n",
              "    <tr>\n",
              "      <th>999976400</th>\n",
              "      <td>ChknTruk Nationwide Charity Drive 2014 (Canceled)</td>\n",
              "      <td>Documentary</td>\n",
              "      <td>Film &amp; Video</td>\n",
              "      <td>USD</td>\n",
              "      <td>2014-10-17</td>\n",
              "      <td>50000.00</td>\n",
              "      <td>2014-09-17 02:35:30</td>\n",
              "      <td>25.00</td>\n",
              "      <td>canceled</td>\n",
              "      <td>1</td>\n",
              "      <td>US</td>\n",
              "      <td>25.00</td>\n",
              "      <td>25.00</td>\n",
              "      <td>50000.00</td>\n",
              "    </tr>\n",
              "    <tr>\n",
              "      <th>999977640</th>\n",
              "      <td>The Tribe</td>\n",
              "      <td>Narrative Film</td>\n",
              "      <td>Film &amp; Video</td>\n",
              "      <td>USD</td>\n",
              "      <td>2011-07-19</td>\n",
              "      <td>1500.00</td>\n",
              "      <td>2011-06-22 03:35:14</td>\n",
              "      <td>155.00</td>\n",
              "      <td>failed</td>\n",
              "      <td>5</td>\n",
              "      <td>US</td>\n",
              "      <td>155.00</td>\n",
              "      <td>155.00</td>\n",
              "      <td>1500.00</td>\n",
              "    </tr>\n",
              "    <tr>\n",
              "      <th>999986353</th>\n",
              "      <td>Walls of Remedy- New lesbian Romantic Comedy f...</td>\n",
              "      <td>Narrative Film</td>\n",
              "      <td>Film &amp; Video</td>\n",
              "      <td>USD</td>\n",
              "      <td>2010-08-16</td>\n",
              "      <td>15000.00</td>\n",
              "      <td>2010-07-01 19:40:30</td>\n",
              "      <td>20.00</td>\n",
              "      <td>failed</td>\n",
              "      <td>1</td>\n",
              "      <td>US</td>\n",
              "      <td>20.00</td>\n",
              "      <td>20.00</td>\n",
              "      <td>15000.00</td>\n",
              "    </tr>\n",
              "    <tr>\n",
              "      <th>999987933</th>\n",
              "      <td>BioDefense Education Kit</td>\n",
              "      <td>Technology</td>\n",
              "      <td>Technology</td>\n",
              "      <td>USD</td>\n",
              "      <td>2016-02-13</td>\n",
              "      <td>15000.00</td>\n",
              "      <td>2016-01-13 18:13:53</td>\n",
              "      <td>200.00</td>\n",
              "      <td>failed</td>\n",
              "      <td>6</td>\n",
              "      <td>US</td>\n",
              "      <td>200.00</td>\n",
              "      <td>200.00</td>\n",
              "      <td>15000.00</td>\n",
              "    </tr>\n",
              "    <tr>\n",
              "      <th>999988282</th>\n",
              "      <td>Nou Renmen Ayiti!  We Love Haiti!</td>\n",
              "      <td>Performance Art</td>\n",
              "      <td>Art</td>\n",
              "      <td>USD</td>\n",
              "      <td>2011-08-16</td>\n",
              "      <td>2000.00</td>\n",
              "      <td>2011-07-19 09:07:47</td>\n",
              "      <td>524.00</td>\n",
              "      <td>failed</td>\n",
              "      <td>17</td>\n",
              "      <td>US</td>\n",
              "      <td>524.00</td>\n",
              "      <td>524.00</td>\n",
              "      <td>2000.00</td>\n",
              "    </tr>\n",
              "  </tbody>\n",
              "</table>\n",
              "<p>378661 rows × 14 columns</p>\n",
              "</div>"
            ],
            "text/plain": [
              "                                                         name  ... usd_goal_real\n",
              "ID                                                             ...              \n",
              "1000002330                    The Songs of Adelaide & Abullah  ...       1533.95\n",
              "1000003930      Greeting From Earth: ZGAC Arts Capsule For ET  ...      30000.00\n",
              "1000004038                                     Where is Hank?  ...      45000.00\n",
              "1000007540  ToshiCapital Rekordz Needs Help to Complete Album  ...       5000.00\n",
              "1000011046  Community Film Project: The Art of Neighborhoo...  ...      19500.00\n",
              "...                                                       ...  ...           ...\n",
              "999976400   ChknTruk Nationwide Charity Drive 2014 (Canceled)  ...      50000.00\n",
              "999977640                                           The Tribe  ...       1500.00\n",
              "999986353   Walls of Remedy- New lesbian Romantic Comedy f...  ...      15000.00\n",
              "999987933                            BioDefense Education Kit  ...      15000.00\n",
              "999988282                   Nou Renmen Ayiti!  We Love Haiti!  ...       2000.00\n",
              "\n",
              "[378661 rows x 14 columns]"
            ]
          },
          "metadata": {
            "tags": []
          },
          "execution_count": 22
        }
      ]
    },
    {
      "cell_type": "code",
      "metadata": {
        "colab_type": "code",
        "id": "RirO_GHkYSuf",
        "colab": {
          "base_uri": "https://localhost:8080/",
          "height": 35
        },
        "outputId": "67ac3d69-19a4-4e2c-889b-5e0e744e038a"
      },
      "source": [
        "kickstarter_2018.shape"
      ],
      "execution_count": null,
      "outputs": [
        {
          "output_type": "execute_result",
          "data": {
            "text/plain": [
              "(378661, 14)"
            ]
          },
          "metadata": {
            "tags": []
          },
          "execution_count": 23
        }
      ]
    },
    {
      "cell_type": "markdown",
      "metadata": {
        "id": "w4mUZEiIdK-F",
        "colab_type": "text"
      },
      "source": [
        "De esta forma podemos buscar por el índice"
      ]
    },
    {
      "cell_type": "code",
      "metadata": {
        "id": "TchzXWYJdK-H",
        "colab_type": "code",
        "colab": {
          "base_uri": "https://localhost:8080/",
          "height": 293
        },
        "outputId": "8e1f353f-d6fc-4d1f-9472-b4dcff193f22"
      },
      "source": [
        "kickstarter_2018.loc[999988282]"
      ],
      "execution_count": null,
      "outputs": [
        {
          "output_type": "execute_result",
          "data": {
            "text/plain": [
              "name                Nou Renmen Ayiti!  We Love Haiti!\n",
              "category                              Performance Art\n",
              "main_category                                     Art\n",
              "currency                                          USD\n",
              "deadline                          2011-08-16 00:00:00\n",
              "goal                                          2000.00\n",
              "launched                          2011-07-19 09:07:47\n",
              "pledged                                        524.00\n",
              "state                                          failed\n",
              "backers                                            17\n",
              "country                                            US\n",
              "usd pledged                                    524.00\n",
              "usd_pledged_real                               524.00\n",
              "usd_goal_real                                 2000.00\n",
              "Name: 999988282, dtype: object"
            ]
          },
          "metadata": {
            "tags": []
          },
          "execution_count": 24
        }
      ]
    },
    {
      "cell_type": "markdown",
      "metadata": {
        "id": "P5F3a5bZdK-R",
        "colab_type": "text"
      },
      "source": [
        "También podemos verificar si hay filas de contenidos duplicado"
      ]
    },
    {
      "cell_type": "code",
      "metadata": {
        "colab_type": "code",
        "id": "ezFOfJESYSui",
        "colab": {
          "base_uri": "https://localhost:8080/",
          "height": 81
        },
        "outputId": "d704ccae-6fac-4715-8ef9-c33f9122d57e"
      },
      "source": [
        "kickstarter_2018[kickstarter_2018.duplicated()]"
      ],
      "execution_count": null,
      "outputs": [
        {
          "output_type": "execute_result",
          "data": {
            "text/html": [
              "<div>\n",
              "<style scoped>\n",
              "    .dataframe tbody tr th:only-of-type {\n",
              "        vertical-align: middle;\n",
              "    }\n",
              "\n",
              "    .dataframe tbody tr th {\n",
              "        vertical-align: top;\n",
              "    }\n",
              "\n",
              "    .dataframe thead th {\n",
              "        text-align: right;\n",
              "    }\n",
              "</style>\n",
              "<table border=\"1\" class=\"dataframe\">\n",
              "  <thead>\n",
              "    <tr style=\"text-align: right;\">\n",
              "      <th></th>\n",
              "      <th>name</th>\n",
              "      <th>category</th>\n",
              "      <th>main_category</th>\n",
              "      <th>currency</th>\n",
              "      <th>deadline</th>\n",
              "      <th>goal</th>\n",
              "      <th>launched</th>\n",
              "      <th>pledged</th>\n",
              "      <th>state</th>\n",
              "      <th>backers</th>\n",
              "      <th>country</th>\n",
              "      <th>usd pledged</th>\n",
              "      <th>usd_pledged_real</th>\n",
              "      <th>usd_goal_real</th>\n",
              "    </tr>\n",
              "    <tr>\n",
              "      <th>ID</th>\n",
              "      <th></th>\n",
              "      <th></th>\n",
              "      <th></th>\n",
              "      <th></th>\n",
              "      <th></th>\n",
              "      <th></th>\n",
              "      <th></th>\n",
              "      <th></th>\n",
              "      <th></th>\n",
              "      <th></th>\n",
              "      <th></th>\n",
              "      <th></th>\n",
              "      <th></th>\n",
              "      <th></th>\n",
              "    </tr>\n",
              "  </thead>\n",
              "  <tbody>\n",
              "  </tbody>\n",
              "</table>\n",
              "</div>"
            ],
            "text/plain": [
              "Empty DataFrame\n",
              "Columns: [name, category, main_category, currency, deadline, goal, launched, pledged, state, backers, country, usd pledged, usd_pledged_real, usd_goal_real]\n",
              "Index: []"
            ]
          },
          "metadata": {
            "tags": []
          },
          "execution_count": 25
        }
      ]
    },
    {
      "cell_type": "markdown",
      "metadata": {
        "id": "U5__mGBIdK-f",
        "colab_type": "text"
      },
      "source": [
        "Como Pandas acepta valores duplicados en los índices también debemos verificar ahí"
      ]
    },
    {
      "cell_type": "code",
      "metadata": {
        "id": "A56wdgJLdK-j",
        "colab_type": "code",
        "colab": {
          "base_uri": "https://localhost:8080/",
          "height": 109
        },
        "outputId": "01882ca4-3e6d-41cc-f32d-e56b6f24252c"
      },
      "source": [
        "pd.Series(kickstarter_2018.index,dtype=str).describe()"
      ],
      "execution_count": null,
      "outputs": [
        {
          "output_type": "execute_result",
          "data": {
            "text/plain": [
              "count        378661\n",
              "unique       378661\n",
              "top       237179899\n",
              "freq              1\n",
              "Name: ID, dtype: object"
            ]
          },
          "metadata": {
            "tags": []
          },
          "execution_count": 26
        }
      ]
    },
    {
      "cell_type": "code",
      "metadata": {
        "id": "2l7_mj2edK-u",
        "colab_type": "code",
        "colab": {
          "base_uri": "https://localhost:8080/",
          "height": 81
        },
        "outputId": "743883cd-e383-47cb-98e8-5b118c4430ac"
      },
      "source": [
        "kickstarter_2018[kickstarter_2018.index.duplicated()]"
      ],
      "execution_count": null,
      "outputs": [
        {
          "output_type": "execute_result",
          "data": {
            "text/html": [
              "<div>\n",
              "<style scoped>\n",
              "    .dataframe tbody tr th:only-of-type {\n",
              "        vertical-align: middle;\n",
              "    }\n",
              "\n",
              "    .dataframe tbody tr th {\n",
              "        vertical-align: top;\n",
              "    }\n",
              "\n",
              "    .dataframe thead th {\n",
              "        text-align: right;\n",
              "    }\n",
              "</style>\n",
              "<table border=\"1\" class=\"dataframe\">\n",
              "  <thead>\n",
              "    <tr style=\"text-align: right;\">\n",
              "      <th></th>\n",
              "      <th>name</th>\n",
              "      <th>category</th>\n",
              "      <th>main_category</th>\n",
              "      <th>currency</th>\n",
              "      <th>deadline</th>\n",
              "      <th>goal</th>\n",
              "      <th>launched</th>\n",
              "      <th>pledged</th>\n",
              "      <th>state</th>\n",
              "      <th>backers</th>\n",
              "      <th>country</th>\n",
              "      <th>usd pledged</th>\n",
              "      <th>usd_pledged_real</th>\n",
              "      <th>usd_goal_real</th>\n",
              "    </tr>\n",
              "    <tr>\n",
              "      <th>ID</th>\n",
              "      <th></th>\n",
              "      <th></th>\n",
              "      <th></th>\n",
              "      <th></th>\n",
              "      <th></th>\n",
              "      <th></th>\n",
              "      <th></th>\n",
              "      <th></th>\n",
              "      <th></th>\n",
              "      <th></th>\n",
              "      <th></th>\n",
              "      <th></th>\n",
              "      <th></th>\n",
              "      <th></th>\n",
              "    </tr>\n",
              "  </thead>\n",
              "  <tbody>\n",
              "  </tbody>\n",
              "</table>\n",
              "</div>"
            ],
            "text/plain": [
              "Empty DataFrame\n",
              "Columns: [name, category, main_category, currency, deadline, goal, launched, pledged, state, backers, country, usd pledged, usd_pledged_real, usd_goal_real]\n",
              "Index: []"
            ]
          },
          "metadata": {
            "tags": []
          },
          "execution_count": 27
        }
      ]
    },
    {
      "cell_type": "markdown",
      "metadata": {
        "id": "UGR2Hx-4dK-5",
        "colab_type": "text"
      },
      "source": [
        "Repasamos con un ejemplo de juguete"
      ]
    },
    {
      "cell_type": "code",
      "metadata": {
        "colab_type": "code",
        "id": "YJFhG_xcYSul",
        "colab": {
          "base_uri": "https://localhost:8080/",
          "height": 72
        },
        "outputId": "cc1b834c-9e62-4718-89c1-3e41eed0315a"
      },
      "source": [
        "csv='1,2\\n3,3\\n1,3'\n",
        "print(csv)"
      ],
      "execution_count": null,
      "outputs": [
        {
          "output_type": "stream",
          "text": [
            "1,2\n",
            "3,3\n",
            "1,3\n"
          ],
          "name": "stdout"
        }
      ]
    },
    {
      "cell_type": "code",
      "metadata": {
        "colab_type": "code",
        "id": "rNyteTc8YSuo",
        "colab": {
          "base_uri": "https://localhost:8080/",
          "height": 175
        },
        "outputId": "add8143d-bf45-4553-d1f1-38d602112749"
      },
      "source": [
        "from io import StringIO\n",
        "df = pd.read_csv(StringIO(csv), names=['id','value'], index_col='id')\n",
        "df"
      ],
      "execution_count": null,
      "outputs": [
        {
          "output_type": "execute_result",
          "data": {
            "text/html": [
              "<div>\n",
              "<style scoped>\n",
              "    .dataframe tbody tr th:only-of-type {\n",
              "        vertical-align: middle;\n",
              "    }\n",
              "\n",
              "    .dataframe tbody tr th {\n",
              "        vertical-align: top;\n",
              "    }\n",
              "\n",
              "    .dataframe thead th {\n",
              "        text-align: right;\n",
              "    }\n",
              "</style>\n",
              "<table border=\"1\" class=\"dataframe\">\n",
              "  <thead>\n",
              "    <tr style=\"text-align: right;\">\n",
              "      <th></th>\n",
              "      <th>value</th>\n",
              "    </tr>\n",
              "    <tr>\n",
              "      <th>id</th>\n",
              "      <th></th>\n",
              "    </tr>\n",
              "  </thead>\n",
              "  <tbody>\n",
              "    <tr>\n",
              "      <th>1</th>\n",
              "      <td>2</td>\n",
              "    </tr>\n",
              "    <tr>\n",
              "      <th>3</th>\n",
              "      <td>3</td>\n",
              "    </tr>\n",
              "    <tr>\n",
              "      <th>1</th>\n",
              "      <td>3</td>\n",
              "    </tr>\n",
              "  </tbody>\n",
              "</table>\n",
              "</div>"
            ],
            "text/plain": [
              "    value\n",
              "id       \n",
              "1       2\n",
              "3       3\n",
              "1       3"
            ]
          },
          "metadata": {
            "tags": []
          },
          "execution_count": 29
        }
      ]
    },
    {
      "cell_type": "code",
      "metadata": {
        "colab_type": "code",
        "id": "9WWSayCYYSus",
        "colab": {
          "base_uri": "https://localhost:8080/",
          "height": 112
        },
        "outputId": "d2134cf0-bdfb-4d31-f541-433f24a791f4"
      },
      "source": [
        "df[df.duplicated()]"
      ],
      "execution_count": null,
      "outputs": [
        {
          "output_type": "execute_result",
          "data": {
            "text/html": [
              "<div>\n",
              "<style scoped>\n",
              "    .dataframe tbody tr th:only-of-type {\n",
              "        vertical-align: middle;\n",
              "    }\n",
              "\n",
              "    .dataframe tbody tr th {\n",
              "        vertical-align: top;\n",
              "    }\n",
              "\n",
              "    .dataframe thead th {\n",
              "        text-align: right;\n",
              "    }\n",
              "</style>\n",
              "<table border=\"1\" class=\"dataframe\">\n",
              "  <thead>\n",
              "    <tr style=\"text-align: right;\">\n",
              "      <th></th>\n",
              "      <th>value</th>\n",
              "    </tr>\n",
              "    <tr>\n",
              "      <th>id</th>\n",
              "      <th></th>\n",
              "    </tr>\n",
              "  </thead>\n",
              "  <tbody>\n",
              "    <tr>\n",
              "      <th>1</th>\n",
              "      <td>3</td>\n",
              "    </tr>\n",
              "  </tbody>\n",
              "</table>\n",
              "</div>"
            ],
            "text/plain": [
              "    value\n",
              "id       \n",
              "1       3"
            ]
          },
          "metadata": {
            "tags": []
          },
          "execution_count": 30
        }
      ]
    },
    {
      "cell_type": "code",
      "metadata": {
        "colab_type": "code",
        "id": "r7e3fEnWYSuu",
        "colab": {
          "base_uri": "https://localhost:8080/",
          "height": 143
        },
        "outputId": "140fc4a7-dd5d-4ace-a3e7-e2e6bf737ac2"
      },
      "source": [
        "df[df.index.duplicated(keep=False)]"
      ],
      "execution_count": null,
      "outputs": [
        {
          "output_type": "execute_result",
          "data": {
            "text/html": [
              "<div>\n",
              "<style scoped>\n",
              "    .dataframe tbody tr th:only-of-type {\n",
              "        vertical-align: middle;\n",
              "    }\n",
              "\n",
              "    .dataframe tbody tr th {\n",
              "        vertical-align: top;\n",
              "    }\n",
              "\n",
              "    .dataframe thead th {\n",
              "        text-align: right;\n",
              "    }\n",
              "</style>\n",
              "<table border=\"1\" class=\"dataframe\">\n",
              "  <thead>\n",
              "    <tr style=\"text-align: right;\">\n",
              "      <th></th>\n",
              "      <th>value</th>\n",
              "    </tr>\n",
              "    <tr>\n",
              "      <th>id</th>\n",
              "      <th></th>\n",
              "    </tr>\n",
              "  </thead>\n",
              "  <tbody>\n",
              "    <tr>\n",
              "      <th>1</th>\n",
              "      <td>2</td>\n",
              "    </tr>\n",
              "    <tr>\n",
              "      <th>1</th>\n",
              "      <td>3</td>\n",
              "    </tr>\n",
              "  </tbody>\n",
              "</table>\n",
              "</div>"
            ],
            "text/plain": [
              "    value\n",
              "id       \n",
              "1       2\n",
              "1       3"
            ]
          },
          "metadata": {
            "tags": []
          },
          "execution_count": 31
        }
      ]
    },
    {
      "cell_type": "code",
      "metadata": {
        "id": "ptOSpl_vg0mU",
        "colab_type": "code",
        "colab": {
          "base_uri": "https://localhost:8080/",
          "height": 840
        },
        "outputId": "46626261-3ac0-4d2b-98a1-33f8d9d1396e"
      },
      "source": [
        "kickstarter_2018[kickstarter_2018.name.duplicated(keep=False)].sort_values(['name'])"
      ],
      "execution_count": null,
      "outputs": [
        {
          "output_type": "execute_result",
          "data": {
            "text/html": [
              "<div>\n",
              "<style scoped>\n",
              "    .dataframe tbody tr th:only-of-type {\n",
              "        vertical-align: middle;\n",
              "    }\n",
              "\n",
              "    .dataframe tbody tr th {\n",
              "        vertical-align: top;\n",
              "    }\n",
              "\n",
              "    .dataframe thead th {\n",
              "        text-align: right;\n",
              "    }\n",
              "</style>\n",
              "<table border=\"1\" class=\"dataframe\">\n",
              "  <thead>\n",
              "    <tr style=\"text-align: right;\">\n",
              "      <th></th>\n",
              "      <th>name</th>\n",
              "      <th>category</th>\n",
              "      <th>main_category</th>\n",
              "      <th>currency</th>\n",
              "      <th>deadline</th>\n",
              "      <th>goal</th>\n",
              "      <th>launched</th>\n",
              "      <th>pledged</th>\n",
              "      <th>state</th>\n",
              "      <th>backers</th>\n",
              "      <th>country</th>\n",
              "      <th>usd pledged</th>\n",
              "      <th>usd_pledged_real</th>\n",
              "      <th>usd_goal_real</th>\n",
              "    </tr>\n",
              "    <tr>\n",
              "      <th>ID</th>\n",
              "      <th></th>\n",
              "      <th></th>\n",
              "      <th></th>\n",
              "      <th></th>\n",
              "      <th></th>\n",
              "      <th></th>\n",
              "      <th></th>\n",
              "      <th></th>\n",
              "      <th></th>\n",
              "      <th></th>\n",
              "      <th></th>\n",
              "      <th></th>\n",
              "      <th></th>\n",
              "      <th></th>\n",
              "    </tr>\n",
              "  </thead>\n",
              "  <tbody>\n",
              "    <tr>\n",
              "      <th>816998285</th>\n",
              "      <td>\"...The Last shall be first...\" LODB Lifestyle...</td>\n",
              "      <td>Fashion</td>\n",
              "      <td>Fashion</td>\n",
              "      <td>USD</td>\n",
              "      <td>2014-02-09</td>\n",
              "      <td>6500.00</td>\n",
              "      <td>2013-12-19 21:51:50</td>\n",
              "      <td>0.00</td>\n",
              "      <td>canceled</td>\n",
              "      <td>0</td>\n",
              "      <td>US</td>\n",
              "      <td>0.00</td>\n",
              "      <td>0.00</td>\n",
              "      <td>6500.00</td>\n",
              "    </tr>\n",
              "    <tr>\n",
              "      <th>815783250</th>\n",
              "      <td>\"...The Last shall be first...\" LODB Lifestyle...</td>\n",
              "      <td>Fashion</td>\n",
              "      <td>Fashion</td>\n",
              "      <td>USD</td>\n",
              "      <td>2014-03-01</td>\n",
              "      <td>6500.00</td>\n",
              "      <td>2014-01-03 20:39:16</td>\n",
              "      <td>37.00</td>\n",
              "      <td>failed</td>\n",
              "      <td>3</td>\n",
              "      <td>US</td>\n",
              "      <td>37.00</td>\n",
              "      <td>37.00</td>\n",
              "      <td>6500.00</td>\n",
              "    </tr>\n",
              "    <tr>\n",
              "      <th>1010584633</th>\n",
              "      <td>\"A Fresh Start\"</td>\n",
              "      <td>Shorts</td>\n",
              "      <td>Film &amp; Video</td>\n",
              "      <td>USD</td>\n",
              "      <td>2011-09-25</td>\n",
              "      <td>3000.00</td>\n",
              "      <td>2011-08-28 21:27:52</td>\n",
              "      <td>3000.00</td>\n",
              "      <td>successful</td>\n",
              "      <td>24</td>\n",
              "      <td>US</td>\n",
              "      <td>3000.00</td>\n",
              "      <td>3000.00</td>\n",
              "      <td>3000.00</td>\n",
              "    </tr>\n",
              "    <tr>\n",
              "      <th>713417995</th>\n",
              "      <td>\"A Fresh Start\"</td>\n",
              "      <td>Documentary</td>\n",
              "      <td>Film &amp; Video</td>\n",
              "      <td>USD</td>\n",
              "      <td>2013-03-27</td>\n",
              "      <td>5000.00</td>\n",
              "      <td>2013-01-26 03:51:47</td>\n",
              "      <td>1417.00</td>\n",
              "      <td>failed</td>\n",
              "      <td>26</td>\n",
              "      <td>US</td>\n",
              "      <td>1417.00</td>\n",
              "      <td>1417.00</td>\n",
              "      <td>5000.00</td>\n",
              "    </tr>\n",
              "    <tr>\n",
              "      <th>1880084695</th>\n",
              "      <td>\"American Sports Stories\" - An Athletic Quest</td>\n",
              "      <td>Shorts</td>\n",
              "      <td>Film &amp; Video</td>\n",
              "      <td>USD</td>\n",
              "      <td>2015-08-26</td>\n",
              "      <td>100000.00</td>\n",
              "      <td>2015-06-27 02:02:00</td>\n",
              "      <td>100.00</td>\n",
              "      <td>failed</td>\n",
              "      <td>1</td>\n",
              "      <td>US</td>\n",
              "      <td>100.00</td>\n",
              "      <td>100.00</td>\n",
              "      <td>100000.00</td>\n",
              "    </tr>\n",
              "    <tr>\n",
              "      <th>...</th>\n",
              "      <td>...</td>\n",
              "      <td>...</td>\n",
              "      <td>...</td>\n",
              "      <td>...</td>\n",
              "      <td>...</td>\n",
              "      <td>...</td>\n",
              "      <td>...</td>\n",
              "      <td>...</td>\n",
              "      <td>...</td>\n",
              "      <td>...</td>\n",
              "      <td>...</td>\n",
              "      <td>...</td>\n",
              "      <td>...</td>\n",
              "      <td>...</td>\n",
              "    </tr>\n",
              "    <tr>\n",
              "      <th>329580179</th>\n",
              "      <td>xxx (Canceled)</td>\n",
              "      <td>Art</td>\n",
              "      <td>Art</td>\n",
              "      <td>USD</td>\n",
              "      <td>2011-09-03</td>\n",
              "      <td>10000.00</td>\n",
              "      <td>2011-06-05 04:54:37</td>\n",
              "      <td>1151.00</td>\n",
              "      <td>canceled</td>\n",
              "      <td>18</td>\n",
              "      <td>US</td>\n",
              "      <td>1151.00</td>\n",
              "      <td>1151.00</td>\n",
              "      <td>10000.00</td>\n",
              "    </tr>\n",
              "    <tr>\n",
              "      <th>1848699072</th>\n",
              "      <td>NaN</td>\n",
              "      <td>Narrative Film</td>\n",
              "      <td>Film &amp; Video</td>\n",
              "      <td>USD</td>\n",
              "      <td>2012-02-29</td>\n",
              "      <td>200000.00</td>\n",
              "      <td>2012-01-01 12:35:31</td>\n",
              "      <td>100.00</td>\n",
              "      <td>failed</td>\n",
              "      <td>1</td>\n",
              "      <td>US</td>\n",
              "      <td>100.00</td>\n",
              "      <td>100.00</td>\n",
              "      <td>200000.00</td>\n",
              "    </tr>\n",
              "    <tr>\n",
              "      <th>634871725</th>\n",
              "      <td>NaN</td>\n",
              "      <td>Video Games</td>\n",
              "      <td>Games</td>\n",
              "      <td>GBP</td>\n",
              "      <td>2013-01-06</td>\n",
              "      <td>2000.00</td>\n",
              "      <td>2012-12-19 23:57:48</td>\n",
              "      <td>196.00</td>\n",
              "      <td>failed</td>\n",
              "      <td>12</td>\n",
              "      <td>GB</td>\n",
              "      <td>317.73</td>\n",
              "      <td>316.05</td>\n",
              "      <td>3224.97</td>\n",
              "    </tr>\n",
              "    <tr>\n",
              "      <th>648853978</th>\n",
              "      <td>NaN</td>\n",
              "      <td>Product Design</td>\n",
              "      <td>Design</td>\n",
              "      <td>USD</td>\n",
              "      <td>2016-07-18</td>\n",
              "      <td>2500.00</td>\n",
              "      <td>2016-06-18 05:01:47</td>\n",
              "      <td>0.00</td>\n",
              "      <td>suspended</td>\n",
              "      <td>0</td>\n",
              "      <td>US</td>\n",
              "      <td>0.00</td>\n",
              "      <td>0.00</td>\n",
              "      <td>2500.00</td>\n",
              "    </tr>\n",
              "    <tr>\n",
              "      <th>796533179</th>\n",
              "      <td>NaN</td>\n",
              "      <td>Painting</td>\n",
              "      <td>Art</td>\n",
              "      <td>USD</td>\n",
              "      <td>2011-12-05</td>\n",
              "      <td>35000.00</td>\n",
              "      <td>2011-11-06 23:55:55</td>\n",
              "      <td>220.00</td>\n",
              "      <td>failed</td>\n",
              "      <td>5</td>\n",
              "      <td>US</td>\n",
              "      <td>220.00</td>\n",
              "      <td>220.00</td>\n",
              "      <td>35000.00</td>\n",
              "    </tr>\n",
              "  </tbody>\n",
              "</table>\n",
              "<p>5125 rows × 14 columns</p>\n",
              "</div>"
            ],
            "text/plain": [
              "                                                         name  ... usd_goal_real\n",
              "ID                                                             ...              \n",
              "816998285   \"...The Last shall be first...\" LODB Lifestyle...  ...       6500.00\n",
              "815783250   \"...The Last shall be first...\" LODB Lifestyle...  ...       6500.00\n",
              "1010584633                                    \"A Fresh Start\"  ...       3000.00\n",
              "713417995                                     \"A Fresh Start\"  ...       5000.00\n",
              "1880084695      \"American Sports Stories\" - An Athletic Quest  ...     100000.00\n",
              "...                                                       ...  ...           ...\n",
              "329580179                                      xxx (Canceled)  ...      10000.00\n",
              "1848699072                                                NaN  ...     200000.00\n",
              "634871725                                                 NaN  ...       3224.97\n",
              "648853978                                                 NaN  ...       2500.00\n",
              "796533179                                                 NaN  ...      35000.00\n",
              "\n",
              "[5125 rows x 14 columns]"
            ]
          },
          "metadata": {
            "tags": []
          },
          "execution_count": 32
        }
      ]
    },
    {
      "cell_type": "code",
      "metadata": {
        "id": "cEnebsY-iyO_",
        "colab_type": "code",
        "colab": {}
      },
      "source": [
        "##Para hallar duplicados en 2 columnas\n",
        "#kickstarter_2018[kickstarter_2018.duplicated(subset=['name','goal'], keep=False)].sort_values(['name'])"
      ],
      "execution_count": null,
      "outputs": []
    },
    {
      "cell_type": "markdown",
      "metadata": {
        "id": "z2iiaUmjdK_p",
        "colab_type": "text"
      },
      "source": [
        "#### Ejercicio 1:\n",
        "\n",
        "Armar una tabla con todos los proyectos con nombres duplicados, ordenados para revisar agrupados. "
      ]
    },
    {
      "cell_type": "code",
      "metadata": {
        "id": "6pcjKPfNUOlw",
        "colab_type": "code",
        "colab": {
          "base_uri": "https://localhost:8080/",
          "height": 840
        },
        "outputId": "12ba8c89-7a49-45e2-e57f-3342b85cbd63"
      },
      "source": [
        "dfdupname=kickstarter_2018[kickstarter_2018.name.duplicated(keep=False)]\n",
        "dfdupname.sort_values(['name'])"
      ],
      "execution_count": null,
      "outputs": [
        {
          "output_type": "execute_result",
          "data": {
            "text/html": [
              "<div>\n",
              "<style scoped>\n",
              "    .dataframe tbody tr th:only-of-type {\n",
              "        vertical-align: middle;\n",
              "    }\n",
              "\n",
              "    .dataframe tbody tr th {\n",
              "        vertical-align: top;\n",
              "    }\n",
              "\n",
              "    .dataframe thead th {\n",
              "        text-align: right;\n",
              "    }\n",
              "</style>\n",
              "<table border=\"1\" class=\"dataframe\">\n",
              "  <thead>\n",
              "    <tr style=\"text-align: right;\">\n",
              "      <th></th>\n",
              "      <th>name</th>\n",
              "      <th>category</th>\n",
              "      <th>main_category</th>\n",
              "      <th>currency</th>\n",
              "      <th>deadline</th>\n",
              "      <th>goal</th>\n",
              "      <th>launched</th>\n",
              "      <th>pledged</th>\n",
              "      <th>state</th>\n",
              "      <th>backers</th>\n",
              "      <th>country</th>\n",
              "      <th>usd pledged</th>\n",
              "      <th>usd_pledged_real</th>\n",
              "      <th>usd_goal_real</th>\n",
              "    </tr>\n",
              "    <tr>\n",
              "      <th>ID</th>\n",
              "      <th></th>\n",
              "      <th></th>\n",
              "      <th></th>\n",
              "      <th></th>\n",
              "      <th></th>\n",
              "      <th></th>\n",
              "      <th></th>\n",
              "      <th></th>\n",
              "      <th></th>\n",
              "      <th></th>\n",
              "      <th></th>\n",
              "      <th></th>\n",
              "      <th></th>\n",
              "      <th></th>\n",
              "    </tr>\n",
              "  </thead>\n",
              "  <tbody>\n",
              "    <tr>\n",
              "      <th>816998285</th>\n",
              "      <td>\"...The Last shall be first...\" LODB Lifestyle...</td>\n",
              "      <td>Fashion</td>\n",
              "      <td>Fashion</td>\n",
              "      <td>USD</td>\n",
              "      <td>2014-02-09</td>\n",
              "      <td>6500.00</td>\n",
              "      <td>2013-12-19 21:51:50</td>\n",
              "      <td>0.00</td>\n",
              "      <td>canceled</td>\n",
              "      <td>0</td>\n",
              "      <td>US</td>\n",
              "      <td>0.00</td>\n",
              "      <td>0.00</td>\n",
              "      <td>6500.00</td>\n",
              "    </tr>\n",
              "    <tr>\n",
              "      <th>815783250</th>\n",
              "      <td>\"...The Last shall be first...\" LODB Lifestyle...</td>\n",
              "      <td>Fashion</td>\n",
              "      <td>Fashion</td>\n",
              "      <td>USD</td>\n",
              "      <td>2014-03-01</td>\n",
              "      <td>6500.00</td>\n",
              "      <td>2014-01-03 20:39:16</td>\n",
              "      <td>37.00</td>\n",
              "      <td>failed</td>\n",
              "      <td>3</td>\n",
              "      <td>US</td>\n",
              "      <td>37.00</td>\n",
              "      <td>37.00</td>\n",
              "      <td>6500.00</td>\n",
              "    </tr>\n",
              "    <tr>\n",
              "      <th>1010584633</th>\n",
              "      <td>\"A Fresh Start\"</td>\n",
              "      <td>Shorts</td>\n",
              "      <td>Film &amp; Video</td>\n",
              "      <td>USD</td>\n",
              "      <td>2011-09-25</td>\n",
              "      <td>3000.00</td>\n",
              "      <td>2011-08-28 21:27:52</td>\n",
              "      <td>3000.00</td>\n",
              "      <td>successful</td>\n",
              "      <td>24</td>\n",
              "      <td>US</td>\n",
              "      <td>3000.00</td>\n",
              "      <td>3000.00</td>\n",
              "      <td>3000.00</td>\n",
              "    </tr>\n",
              "    <tr>\n",
              "      <th>713417995</th>\n",
              "      <td>\"A Fresh Start\"</td>\n",
              "      <td>Documentary</td>\n",
              "      <td>Film &amp; Video</td>\n",
              "      <td>USD</td>\n",
              "      <td>2013-03-27</td>\n",
              "      <td>5000.00</td>\n",
              "      <td>2013-01-26 03:51:47</td>\n",
              "      <td>1417.00</td>\n",
              "      <td>failed</td>\n",
              "      <td>26</td>\n",
              "      <td>US</td>\n",
              "      <td>1417.00</td>\n",
              "      <td>1417.00</td>\n",
              "      <td>5000.00</td>\n",
              "    </tr>\n",
              "    <tr>\n",
              "      <th>1880084695</th>\n",
              "      <td>\"American Sports Stories\" - An Athletic Quest</td>\n",
              "      <td>Shorts</td>\n",
              "      <td>Film &amp; Video</td>\n",
              "      <td>USD</td>\n",
              "      <td>2015-08-26</td>\n",
              "      <td>100000.00</td>\n",
              "      <td>2015-06-27 02:02:00</td>\n",
              "      <td>100.00</td>\n",
              "      <td>failed</td>\n",
              "      <td>1</td>\n",
              "      <td>US</td>\n",
              "      <td>100.00</td>\n",
              "      <td>100.00</td>\n",
              "      <td>100000.00</td>\n",
              "    </tr>\n",
              "    <tr>\n",
              "      <th>...</th>\n",
              "      <td>...</td>\n",
              "      <td>...</td>\n",
              "      <td>...</td>\n",
              "      <td>...</td>\n",
              "      <td>...</td>\n",
              "      <td>...</td>\n",
              "      <td>...</td>\n",
              "      <td>...</td>\n",
              "      <td>...</td>\n",
              "      <td>...</td>\n",
              "      <td>...</td>\n",
              "      <td>...</td>\n",
              "      <td>...</td>\n",
              "      <td>...</td>\n",
              "    </tr>\n",
              "    <tr>\n",
              "      <th>329580179</th>\n",
              "      <td>xxx (Canceled)</td>\n",
              "      <td>Art</td>\n",
              "      <td>Art</td>\n",
              "      <td>USD</td>\n",
              "      <td>2011-09-03</td>\n",
              "      <td>10000.00</td>\n",
              "      <td>2011-06-05 04:54:37</td>\n",
              "      <td>1151.00</td>\n",
              "      <td>canceled</td>\n",
              "      <td>18</td>\n",
              "      <td>US</td>\n",
              "      <td>1151.00</td>\n",
              "      <td>1151.00</td>\n",
              "      <td>10000.00</td>\n",
              "    </tr>\n",
              "    <tr>\n",
              "      <th>1848699072</th>\n",
              "      <td>NaN</td>\n",
              "      <td>Narrative Film</td>\n",
              "      <td>Film &amp; Video</td>\n",
              "      <td>USD</td>\n",
              "      <td>2012-02-29</td>\n",
              "      <td>200000.00</td>\n",
              "      <td>2012-01-01 12:35:31</td>\n",
              "      <td>100.00</td>\n",
              "      <td>failed</td>\n",
              "      <td>1</td>\n",
              "      <td>US</td>\n",
              "      <td>100.00</td>\n",
              "      <td>100.00</td>\n",
              "      <td>200000.00</td>\n",
              "    </tr>\n",
              "    <tr>\n",
              "      <th>634871725</th>\n",
              "      <td>NaN</td>\n",
              "      <td>Video Games</td>\n",
              "      <td>Games</td>\n",
              "      <td>GBP</td>\n",
              "      <td>2013-01-06</td>\n",
              "      <td>2000.00</td>\n",
              "      <td>2012-12-19 23:57:48</td>\n",
              "      <td>196.00</td>\n",
              "      <td>failed</td>\n",
              "      <td>12</td>\n",
              "      <td>GB</td>\n",
              "      <td>317.73</td>\n",
              "      <td>316.05</td>\n",
              "      <td>3224.97</td>\n",
              "    </tr>\n",
              "    <tr>\n",
              "      <th>648853978</th>\n",
              "      <td>NaN</td>\n",
              "      <td>Product Design</td>\n",
              "      <td>Design</td>\n",
              "      <td>USD</td>\n",
              "      <td>2016-07-18</td>\n",
              "      <td>2500.00</td>\n",
              "      <td>2016-06-18 05:01:47</td>\n",
              "      <td>0.00</td>\n",
              "      <td>suspended</td>\n",
              "      <td>0</td>\n",
              "      <td>US</td>\n",
              "      <td>0.00</td>\n",
              "      <td>0.00</td>\n",
              "      <td>2500.00</td>\n",
              "    </tr>\n",
              "    <tr>\n",
              "      <th>796533179</th>\n",
              "      <td>NaN</td>\n",
              "      <td>Painting</td>\n",
              "      <td>Art</td>\n",
              "      <td>USD</td>\n",
              "      <td>2011-12-05</td>\n",
              "      <td>35000.00</td>\n",
              "      <td>2011-11-06 23:55:55</td>\n",
              "      <td>220.00</td>\n",
              "      <td>failed</td>\n",
              "      <td>5</td>\n",
              "      <td>US</td>\n",
              "      <td>220.00</td>\n",
              "      <td>220.00</td>\n",
              "      <td>35000.00</td>\n",
              "    </tr>\n",
              "  </tbody>\n",
              "</table>\n",
              "<p>5125 rows × 14 columns</p>\n",
              "</div>"
            ],
            "text/plain": [
              "                                                         name  ... usd_goal_real\n",
              "ID                                                             ...              \n",
              "816998285   \"...The Last shall be first...\" LODB Lifestyle...  ...       6500.00\n",
              "815783250   \"...The Last shall be first...\" LODB Lifestyle...  ...       6500.00\n",
              "1010584633                                    \"A Fresh Start\"  ...       3000.00\n",
              "713417995                                     \"A Fresh Start\"  ...       5000.00\n",
              "1880084695      \"American Sports Stories\" - An Athletic Quest  ...     100000.00\n",
              "...                                                       ...  ...           ...\n",
              "329580179                                      xxx (Canceled)  ...      10000.00\n",
              "1848699072                                                NaN  ...     200000.00\n",
              "634871725                                                 NaN  ...       3224.97\n",
              "648853978                                                 NaN  ...       2500.00\n",
              "796533179                                                 NaN  ...      35000.00\n",
              "\n",
              "[5125 rows x 14 columns]"
            ]
          },
          "metadata": {
            "tags": []
          },
          "execution_count": 34
        }
      ]
    },
    {
      "cell_type": "markdown",
      "metadata": {
        "colab_type": "text",
        "id": "NeVjrYP2YSu2"
      },
      "source": [
        "# 1.3. Despersonalizar datos y guardarlos en un nuevo archivo"
      ]
    },
    {
      "cell_type": "markdown",
      "metadata": {
        "colab_type": "text",
        "id": "oKIo48BBYSu3"
      },
      "source": [
        "Hay muuuchas técnicas para despersonalizar datos.\n",
        "\n",
        "Para ilustrar mostramos las ofrecidas por Google https://cloud.google.com/dlp/docs/transformations-reference:\n",
        "\n",
        "* **Reemplazo**: Reemplaza cada valor de entrada con un valor determinado.\n",
        "* **Ocultamiento**: Quita un valor y lo oculta.\n",
        "* **Enmascaramiento con caracteres**: Enmascara una string por completo o parcialmente mediante el reemplazo de un número determinado de caracteres con un carácter fijo especificado..\n",
        "* **Seudonimización mediante el reemplazo de un valor de entrada con un hash criptográfico**: Reemplaza valores de entrada con una string hexadecimal de 32 bytes mediante una clave de encriptación de datos.\n",
        "* **Cambio de fechas**: Cambia las fechas por un número de días al azar, con la opción de ser coherente en el mismo contexto..\n",
        "* **Seudonimización mediante el reemplazo con token de preservación de formato criptográfico**: Reemplaza un valor de entrada con un token, o valor sustituto, de la misma longitud mediante la encriptación de preservación de formato (FPE) con el modo de operación FFX. Esto permite que se use el resultado en sistemas con validación de formato o que necesitan aparecer como reales a pesar de que la información no se revela.\n",
        "* **Valores de depósito con base en rangos de tamaño fijos**: Enmascara los valores de entrada y los reemplaza por depósitos, o rangos dentro de los cuales se encuentra el valor de entrada.\n",
        "* **Valores de depósito con base en rangos de tamaño personalizados**: Valores de entrada de depósito con base en rangos configurables por el usuario y valores de reemplazo.\n",
        "* **Extracción de datos de tiempo**: EExtrae o preserva una porción de los valores Date, Timestamp y TimeOfDay."
      ]
    },
    {
      "cell_type": "code",
      "metadata": {
        "colab_type": "code",
        "id": "VQ5HQI73YSu3",
        "colab": {}
      },
      "source": [
        "from hashlib import md5"
      ],
      "execution_count": null,
      "outputs": []
    },
    {
      "cell_type": "code",
      "metadata": {
        "colab_type": "code",
        "id": "6ZR9TgenYSu5",
        "colab": {}
      },
      "source": [
        "##Este falla por: \n",
        "### TypeError: Unicode-objects must be encoded before hashing ###\n",
        "\n",
        "#kickstarter_2018['name'].apply(md5)"
      ],
      "execution_count": null,
      "outputs": []
    },
    {
      "cell_type": "code",
      "metadata": {
        "colab_type": "code",
        "id": "LL_nCq68YSu8",
        "colab": {}
      },
      "source": [
        "##Este falla por: \n",
        "### AttributeError: 'float' object has no attribute 'encode' ###\n",
        "\n",
        "#def hashit(val):\n",
        "#    return md5(val.encode('utf-8'))\n",
        "\n",
        "#kickstarter_2018['name'].apply(hashit)"
      ],
      "execution_count": null,
      "outputs": []
    },
    {
      "cell_type": "code",
      "metadata": {
        "colab_type": "code",
        "id": "Hsxx-0ovYSvA",
        "colab": {
          "base_uri": "https://localhost:8080/",
          "height": 419
        },
        "outputId": "296fa6f6-82ab-435e-8a77-70737a139fed"
      },
      "source": [
        "##Este es para ver bien por qué falla, y el error viene en: \n",
        "### AttributeError: 'float' object has no attribute 'encode' ###\n",
        "\n",
        "def hashit(val):\n",
        "    try:\n",
        "        return md5(val.encode('utf-8'))\n",
        "    except Exception as e:\n",
        "        print(val, type(val))\n",
        "        raise(e)\n",
        "\n",
        "kickstarter_2018['name'].apply(hashit)"
      ],
      "execution_count": null,
      "outputs": [
        {
          "output_type": "stream",
          "text": [
            "nan <class 'float'>\n"
          ],
          "name": "stdout"
        },
        {
          "output_type": "error",
          "ename": "AttributeError",
          "evalue": "ignored",
          "traceback": [
            "\u001b[0;31m---------------------------------------------------------------------------\u001b[0m",
            "\u001b[0;31mAttributeError\u001b[0m                            Traceback (most recent call last)",
            "\u001b[0;32m<ipython-input-38-319e0f6f7853>\u001b[0m in \u001b[0;36m<module>\u001b[0;34m()\u001b[0m\n\u001b[1;32m      9\u001b[0m         \u001b[0;32mraise\u001b[0m\u001b[0;34m(\u001b[0m\u001b[0me\u001b[0m\u001b[0;34m)\u001b[0m\u001b[0;34m\u001b[0m\u001b[0;34m\u001b[0m\u001b[0m\n\u001b[1;32m     10\u001b[0m \u001b[0;34m\u001b[0m\u001b[0m\n\u001b[0;32m---> 11\u001b[0;31m \u001b[0mkickstarter_2018\u001b[0m\u001b[0;34m[\u001b[0m\u001b[0;34m'name'\u001b[0m\u001b[0;34m]\u001b[0m\u001b[0;34m.\u001b[0m\u001b[0mapply\u001b[0m\u001b[0;34m(\u001b[0m\u001b[0mhashit\u001b[0m\u001b[0;34m)\u001b[0m\u001b[0;34m\u001b[0m\u001b[0;34m\u001b[0m\u001b[0m\n\u001b[0m",
            "\u001b[0;32m/usr/local/lib/python3.6/dist-packages/pandas/core/series.py\u001b[0m in \u001b[0;36mapply\u001b[0;34m(self, func, convert_dtype, args, **kwds)\u001b[0m\n\u001b[1;32m   3846\u001b[0m             \u001b[0;32melse\u001b[0m\u001b[0;34m:\u001b[0m\u001b[0;34m\u001b[0m\u001b[0;34m\u001b[0m\u001b[0m\n\u001b[1;32m   3847\u001b[0m                 \u001b[0mvalues\u001b[0m \u001b[0;34m=\u001b[0m \u001b[0mself\u001b[0m\u001b[0;34m.\u001b[0m\u001b[0mastype\u001b[0m\u001b[0;34m(\u001b[0m\u001b[0mobject\u001b[0m\u001b[0;34m)\u001b[0m\u001b[0;34m.\u001b[0m\u001b[0mvalues\u001b[0m\u001b[0;34m\u001b[0m\u001b[0;34m\u001b[0m\u001b[0m\n\u001b[0;32m-> 3848\u001b[0;31m                 \u001b[0mmapped\u001b[0m \u001b[0;34m=\u001b[0m \u001b[0mlib\u001b[0m\u001b[0;34m.\u001b[0m\u001b[0mmap_infer\u001b[0m\u001b[0;34m(\u001b[0m\u001b[0mvalues\u001b[0m\u001b[0;34m,\u001b[0m \u001b[0mf\u001b[0m\u001b[0;34m,\u001b[0m \u001b[0mconvert\u001b[0m\u001b[0;34m=\u001b[0m\u001b[0mconvert_dtype\u001b[0m\u001b[0;34m)\u001b[0m\u001b[0;34m\u001b[0m\u001b[0;34m\u001b[0m\u001b[0m\n\u001b[0m\u001b[1;32m   3849\u001b[0m \u001b[0;34m\u001b[0m\u001b[0m\n\u001b[1;32m   3850\u001b[0m         \u001b[0;32mif\u001b[0m \u001b[0mlen\u001b[0m\u001b[0;34m(\u001b[0m\u001b[0mmapped\u001b[0m\u001b[0;34m)\u001b[0m \u001b[0;32mand\u001b[0m \u001b[0misinstance\u001b[0m\u001b[0;34m(\u001b[0m\u001b[0mmapped\u001b[0m\u001b[0;34m[\u001b[0m\u001b[0;36m0\u001b[0m\u001b[0;34m]\u001b[0m\u001b[0;34m,\u001b[0m \u001b[0mSeries\u001b[0m\u001b[0;34m)\u001b[0m\u001b[0;34m:\u001b[0m\u001b[0;34m\u001b[0m\u001b[0;34m\u001b[0m\u001b[0m\n",
            "\u001b[0;32mpandas/_libs/lib.pyx\u001b[0m in \u001b[0;36mpandas._libs.lib.map_infer\u001b[0;34m()\u001b[0m\n",
            "\u001b[0;32m<ipython-input-38-319e0f6f7853>\u001b[0m in \u001b[0;36mhashit\u001b[0;34m(val)\u001b[0m\n\u001b[1;32m      7\u001b[0m     \u001b[0;32mexcept\u001b[0m \u001b[0mException\u001b[0m \u001b[0;32mas\u001b[0m \u001b[0me\u001b[0m\u001b[0;34m:\u001b[0m\u001b[0;34m\u001b[0m\u001b[0;34m\u001b[0m\u001b[0m\n\u001b[1;32m      8\u001b[0m         \u001b[0mprint\u001b[0m\u001b[0;34m(\u001b[0m\u001b[0mval\u001b[0m\u001b[0;34m,\u001b[0m \u001b[0mtype\u001b[0m\u001b[0;34m(\u001b[0m\u001b[0mval\u001b[0m\u001b[0;34m)\u001b[0m\u001b[0;34m)\u001b[0m\u001b[0;34m\u001b[0m\u001b[0;34m\u001b[0m\u001b[0m\n\u001b[0;32m----> 9\u001b[0;31m         \u001b[0;32mraise\u001b[0m\u001b[0;34m(\u001b[0m\u001b[0me\u001b[0m\u001b[0;34m)\u001b[0m\u001b[0;34m\u001b[0m\u001b[0;34m\u001b[0m\u001b[0m\n\u001b[0m\u001b[1;32m     10\u001b[0m \u001b[0;34m\u001b[0m\u001b[0m\n\u001b[1;32m     11\u001b[0m \u001b[0mkickstarter_2018\u001b[0m\u001b[0;34m[\u001b[0m\u001b[0;34m'name'\u001b[0m\u001b[0;34m]\u001b[0m\u001b[0;34m.\u001b[0m\u001b[0mapply\u001b[0m\u001b[0;34m(\u001b[0m\u001b[0mhashit\u001b[0m\u001b[0;34m)\u001b[0m\u001b[0;34m\u001b[0m\u001b[0;34m\u001b[0m\u001b[0m\n",
            "\u001b[0;32m<ipython-input-38-319e0f6f7853>\u001b[0m in \u001b[0;36mhashit\u001b[0;34m(val)\u001b[0m\n\u001b[1;32m      4\u001b[0m \u001b[0;32mdef\u001b[0m \u001b[0mhashit\u001b[0m\u001b[0;34m(\u001b[0m\u001b[0mval\u001b[0m\u001b[0;34m)\u001b[0m\u001b[0;34m:\u001b[0m\u001b[0;34m\u001b[0m\u001b[0;34m\u001b[0m\u001b[0m\n\u001b[1;32m      5\u001b[0m     \u001b[0;32mtry\u001b[0m\u001b[0;34m:\u001b[0m\u001b[0;34m\u001b[0m\u001b[0;34m\u001b[0m\u001b[0m\n\u001b[0;32m----> 6\u001b[0;31m         \u001b[0;32mreturn\u001b[0m \u001b[0mmd5\u001b[0m\u001b[0;34m(\u001b[0m\u001b[0mval\u001b[0m\u001b[0;34m.\u001b[0m\u001b[0mencode\u001b[0m\u001b[0;34m(\u001b[0m\u001b[0;34m'utf-8'\u001b[0m\u001b[0;34m)\u001b[0m\u001b[0;34m)\u001b[0m\u001b[0;34m\u001b[0m\u001b[0;34m\u001b[0m\u001b[0m\n\u001b[0m\u001b[1;32m      7\u001b[0m     \u001b[0;32mexcept\u001b[0m \u001b[0mException\u001b[0m \u001b[0;32mas\u001b[0m \u001b[0me\u001b[0m\u001b[0;34m:\u001b[0m\u001b[0;34m\u001b[0m\u001b[0;34m\u001b[0m\u001b[0m\n\u001b[1;32m      8\u001b[0m         \u001b[0mprint\u001b[0m\u001b[0;34m(\u001b[0m\u001b[0mval\u001b[0m\u001b[0;34m,\u001b[0m \u001b[0mtype\u001b[0m\u001b[0;34m(\u001b[0m\u001b[0mval\u001b[0m\u001b[0;34m)\u001b[0m\u001b[0;34m)\u001b[0m\u001b[0;34m\u001b[0m\u001b[0;34m\u001b[0m\u001b[0m\n",
            "\u001b[0;31mAttributeError\u001b[0m: 'float' object has no attribute 'encode'"
          ]
        }
      ]
    },
    {
      "cell_type": "code",
      "metadata": {
        "colab_type": "code",
        "id": "Dv1gB3GpYSvF",
        "colab": {
          "base_uri": "https://localhost:8080/",
          "height": 256
        },
        "outputId": "5696c913-e6b8-4e0b-9464-beba28d7cd2f"
      },
      "source": [
        "#Ahora que ya conocemos el problema, hacemos el encoding (fila a fila), solucionando los problemas \n",
        "\n",
        "def hashit(val):\n",
        "    if isinstance(val, float): \n",
        "        return str(val)\n",
        "    return md5(val.encode('utf-8')).hexdigest()\n",
        "\n",
        "kickstarter_2018['name'].apply(hashit)"
      ],
      "execution_count": null,
      "outputs": [
        {
          "output_type": "execute_result",
          "data": {
            "text/plain": [
              "ID\n",
              "1000002330    a6828ae8a2eca25f0dd7035efc0af0a0\n",
              "1000003930    81609b3bdc0b96f429672d69702f2524\n",
              "1000004038    c12f5c3bace2f0213cdb2679a265dca0\n",
              "1000007540    4dbdcf09c86bbf5683ec39bc57b77f81\n",
              "1000011046    9c01404a2ef702811c2088ce139042ad\n",
              "                            ...               \n",
              "999976400     d89228576343394467096843057f3aa4\n",
              "999977640     bbcb30bd9bd4f9bff0a96fc44d0001f0\n",
              "999986353     6c3094666e1a315b6e179566fe3972d9\n",
              "999987933     887be409ad8b93f26084845a41d4c178\n",
              "999988282     11f7ae3385c567df409deb5f4ac9a2a5\n",
              "Name: name, Length: 378661, dtype: object"
            ]
          },
          "metadata": {
            "tags": []
          },
          "execution_count": 39
        }
      ]
    },
    {
      "cell_type": "markdown",
      "metadata": {
        "id": "CsjQ4tLmdLAn",
        "colab_type": "text"
      },
      "source": [
        "#### Ejercicio 2:\n",
        "\n",
        "Verificar que los proyectos que tienen nombres duplicados también tienen el hash de nombre duplicado"
      ]
    },
    {
      "cell_type": "code",
      "metadata": {
        "id": "WZFq5rD2wA9f",
        "colab_type": "code",
        "colab": {
          "base_uri": "https://localhost:8080/",
          "height": 455
        },
        "outputId": "378686bd-e7b6-4e38-a668-347105d1e8f1"
      },
      "source": [
        "df = pd.DataFrame(kickstarter_2018['name'].apply(hashit))\n",
        "df.columns = ['pseudoname']\n",
        "df"
      ],
      "execution_count": null,
      "outputs": [
        {
          "output_type": "execute_result",
          "data": {
            "text/html": [
              "<div>\n",
              "<style scoped>\n",
              "    .dataframe tbody tr th:only-of-type {\n",
              "        vertical-align: middle;\n",
              "    }\n",
              "\n",
              "    .dataframe tbody tr th {\n",
              "        vertical-align: top;\n",
              "    }\n",
              "\n",
              "    .dataframe thead th {\n",
              "        text-align: right;\n",
              "    }\n",
              "</style>\n",
              "<table border=\"1\" class=\"dataframe\">\n",
              "  <thead>\n",
              "    <tr style=\"text-align: right;\">\n",
              "      <th></th>\n",
              "      <th>pseudoname</th>\n",
              "    </tr>\n",
              "    <tr>\n",
              "      <th>ID</th>\n",
              "      <th></th>\n",
              "    </tr>\n",
              "  </thead>\n",
              "  <tbody>\n",
              "    <tr>\n",
              "      <th>1000002330</th>\n",
              "      <td>a6828ae8a2eca25f0dd7035efc0af0a0</td>\n",
              "    </tr>\n",
              "    <tr>\n",
              "      <th>1000003930</th>\n",
              "      <td>81609b3bdc0b96f429672d69702f2524</td>\n",
              "    </tr>\n",
              "    <tr>\n",
              "      <th>1000004038</th>\n",
              "      <td>c12f5c3bace2f0213cdb2679a265dca0</td>\n",
              "    </tr>\n",
              "    <tr>\n",
              "      <th>1000007540</th>\n",
              "      <td>4dbdcf09c86bbf5683ec39bc57b77f81</td>\n",
              "    </tr>\n",
              "    <tr>\n",
              "      <th>1000011046</th>\n",
              "      <td>9c01404a2ef702811c2088ce139042ad</td>\n",
              "    </tr>\n",
              "    <tr>\n",
              "      <th>...</th>\n",
              "      <td>...</td>\n",
              "    </tr>\n",
              "    <tr>\n",
              "      <th>999976400</th>\n",
              "      <td>d89228576343394467096843057f3aa4</td>\n",
              "    </tr>\n",
              "    <tr>\n",
              "      <th>999977640</th>\n",
              "      <td>bbcb30bd9bd4f9bff0a96fc44d0001f0</td>\n",
              "    </tr>\n",
              "    <tr>\n",
              "      <th>999986353</th>\n",
              "      <td>6c3094666e1a315b6e179566fe3972d9</td>\n",
              "    </tr>\n",
              "    <tr>\n",
              "      <th>999987933</th>\n",
              "      <td>887be409ad8b93f26084845a41d4c178</td>\n",
              "    </tr>\n",
              "    <tr>\n",
              "      <th>999988282</th>\n",
              "      <td>11f7ae3385c567df409deb5f4ac9a2a5</td>\n",
              "    </tr>\n",
              "  </tbody>\n",
              "</table>\n",
              "<p>378661 rows × 1 columns</p>\n",
              "</div>"
            ],
            "text/plain": [
              "                                  pseudoname\n",
              "ID                                          \n",
              "1000002330  a6828ae8a2eca25f0dd7035efc0af0a0\n",
              "1000003930  81609b3bdc0b96f429672d69702f2524\n",
              "1000004038  c12f5c3bace2f0213cdb2679a265dca0\n",
              "1000007540  4dbdcf09c86bbf5683ec39bc57b77f81\n",
              "1000011046  9c01404a2ef702811c2088ce139042ad\n",
              "...                                      ...\n",
              "999976400   d89228576343394467096843057f3aa4\n",
              "999977640   bbcb30bd9bd4f9bff0a96fc44d0001f0\n",
              "999986353   6c3094666e1a315b6e179566fe3972d9\n",
              "999987933   887be409ad8b93f26084845a41d4c178\n",
              "999988282   11f7ae3385c567df409deb5f4ac9a2a5\n",
              "\n",
              "[378661 rows x 1 columns]"
            ]
          },
          "metadata": {
            "tags": []
          },
          "execution_count": 40
        }
      ]
    },
    {
      "cell_type": "code",
      "metadata": {
        "id": "lfrcKorgvfBD",
        "colab_type": "code",
        "colab": {}
      },
      "source": [
        "#Obtenemos hash name duplicados\n",
        "dfduphash=df[df.pseudoname.duplicated(keep=False)]"
      ],
      "execution_count": null,
      "outputs": []
    },
    {
      "cell_type": "code",
      "metadata": {
        "id": "C-j6TQONqWTu",
        "colab_type": "code",
        "colab": {
          "base_uri": "https://localhost:8080/",
          "height": 35
        },
        "outputId": "4c805492-9883-4f2d-df0e-250104e7c458"
      },
      "source": [
        "#Esta función dice si son iguales los índices\n",
        "if (dfduphash.index.equals(dfdupname.index)):\n",
        "  print('Los índices son iguales') \n",
        "else:\n",
        "   print('Los índices son distintos')"
      ],
      "execution_count": null,
      "outputs": [
        {
          "output_type": "stream",
          "text": [
            "Los índices son iguales\n"
          ],
          "name": "stdout"
        }
      ]
    },
    {
      "cell_type": "code",
      "metadata": {
        "id": "l_ZbdFWuhisJ",
        "colab_type": "code",
        "colab": {
          "base_uri": "https://localhost:8080/",
          "height": 455
        },
        "outputId": "ea18ac79-0bfa-4c23-e457-7568cd0f2b7b"
      },
      "source": [
        "#Mostramos las filas con nombres duplicados y hash de nombre duplicados ordenado por nombre. \n",
        "merged_inner = pd.merge(left=dfduphash, right=dfdupname.name, how='inner', left_on='ID', right_on='ID')\n",
        "merged_inner.sort_values(['name'])"
      ],
      "execution_count": null,
      "outputs": [
        {
          "output_type": "execute_result",
          "data": {
            "text/html": [
              "<div>\n",
              "<style scoped>\n",
              "    .dataframe tbody tr th:only-of-type {\n",
              "        vertical-align: middle;\n",
              "    }\n",
              "\n",
              "    .dataframe tbody tr th {\n",
              "        vertical-align: top;\n",
              "    }\n",
              "\n",
              "    .dataframe thead th {\n",
              "        text-align: right;\n",
              "    }\n",
              "</style>\n",
              "<table border=\"1\" class=\"dataframe\">\n",
              "  <thead>\n",
              "    <tr style=\"text-align: right;\">\n",
              "      <th></th>\n",
              "      <th>pseudoname</th>\n",
              "      <th>name</th>\n",
              "    </tr>\n",
              "    <tr>\n",
              "      <th>ID</th>\n",
              "      <th></th>\n",
              "      <th></th>\n",
              "    </tr>\n",
              "  </thead>\n",
              "  <tbody>\n",
              "    <tr>\n",
              "      <th>816998285</th>\n",
              "      <td>0c7a251ffe4c7834cbc4b04906952ff1</td>\n",
              "      <td>\"...The Last shall be first...\" LODB Lifestyle...</td>\n",
              "    </tr>\n",
              "    <tr>\n",
              "      <th>815783250</th>\n",
              "      <td>0c7a251ffe4c7834cbc4b04906952ff1</td>\n",
              "      <td>\"...The Last shall be first...\" LODB Lifestyle...</td>\n",
              "    </tr>\n",
              "    <tr>\n",
              "      <th>1010584633</th>\n",
              "      <td>67554ab4203d95f2f2f05365f768206e</td>\n",
              "      <td>\"A Fresh Start\"</td>\n",
              "    </tr>\n",
              "    <tr>\n",
              "      <th>713417995</th>\n",
              "      <td>67554ab4203d95f2f2f05365f768206e</td>\n",
              "      <td>\"A Fresh Start\"</td>\n",
              "    </tr>\n",
              "    <tr>\n",
              "      <th>1880084695</th>\n",
              "      <td>19a82bc4c5961834282575d07d9b5f7c</td>\n",
              "      <td>\"American Sports Stories\" - An Athletic Quest</td>\n",
              "    </tr>\n",
              "    <tr>\n",
              "      <th>...</th>\n",
              "      <td>...</td>\n",
              "      <td>...</td>\n",
              "    </tr>\n",
              "    <tr>\n",
              "      <th>329580179</th>\n",
              "      <td>930857c212f21166427b23d4a7fe52a3</td>\n",
              "      <td>xxx (Canceled)</td>\n",
              "    </tr>\n",
              "    <tr>\n",
              "      <th>1848699072</th>\n",
              "      <td>nan</td>\n",
              "      <td>NaN</td>\n",
              "    </tr>\n",
              "    <tr>\n",
              "      <th>634871725</th>\n",
              "      <td>nan</td>\n",
              "      <td>NaN</td>\n",
              "    </tr>\n",
              "    <tr>\n",
              "      <th>648853978</th>\n",
              "      <td>nan</td>\n",
              "      <td>NaN</td>\n",
              "    </tr>\n",
              "    <tr>\n",
              "      <th>796533179</th>\n",
              "      <td>nan</td>\n",
              "      <td>NaN</td>\n",
              "    </tr>\n",
              "  </tbody>\n",
              "</table>\n",
              "<p>5125 rows × 2 columns</p>\n",
              "</div>"
            ],
            "text/plain": [
              "                                  pseudoname                                               name\n",
              "ID                                                                                             \n",
              "816998285   0c7a251ffe4c7834cbc4b04906952ff1  \"...The Last shall be first...\" LODB Lifestyle...\n",
              "815783250   0c7a251ffe4c7834cbc4b04906952ff1  \"...The Last shall be first...\" LODB Lifestyle...\n",
              "1010584633  67554ab4203d95f2f2f05365f768206e                                    \"A Fresh Start\"\n",
              "713417995   67554ab4203d95f2f2f05365f768206e                                    \"A Fresh Start\"\n",
              "1880084695  19a82bc4c5961834282575d07d9b5f7c      \"American Sports Stories\" - An Athletic Quest\n",
              "...                                      ...                                                ...\n",
              "329580179   930857c212f21166427b23d4a7fe52a3                                     xxx (Canceled)\n",
              "1848699072                               nan                                                NaN\n",
              "634871725                                nan                                                NaN\n",
              "648853978                                nan                                                NaN\n",
              "796533179                                nan                                                NaN\n",
              "\n",
              "[5125 rows x 2 columns]"
            ]
          },
          "metadata": {
            "tags": []
          },
          "execution_count": 43
        }
      ]
    },
    {
      "cell_type": "markdown",
      "metadata": {
        "colab_type": "text",
        "id": "XGk94uFaYSvI"
      },
      "source": [
        "# 1.4. Nunca modificar los datos crudos u originales\n"
      ]
    },
    {
      "cell_type": "code",
      "metadata": {
        "colab_type": "code",
        "id": "ZicBTqBaYSvJ",
        "colab": {}
      },
      "source": [
        "if not in_colab:\n",
        "  kickstarter_2018.to_csv(BASE_DIR + \"/output/ks-projects-201801-for-pandas.csv\")"
      ],
      "execution_count": null,
      "outputs": []
    },
    {
      "cell_type": "markdown",
      "metadata": {
        "colab_type": "text",
        "id": "XzR8-UpTIS8S"
      },
      "source": [
        "\n",
        "# 2. Pasos necesarios\n"
      ]
    },
    {
      "cell_type": "code",
      "metadata": {
        "colab_type": "code",
        "id": "jY_rB6dIIXTS",
        "colab": {}
      },
      "source": [
        "if not in_colab:\n",
        "  kickstarter_2018 = pd.read_csv(BASE_DIR + \"/output/ks-projects-201801-for-pandas.csv\",\n",
        "                        index_col='ID',\n",
        "                        parse_dates=['deadline','launched'])"
      ],
      "execution_count": null,
      "outputs": []
    },
    {
      "cell_type": "code",
      "metadata": {
        "colab_type": "code",
        "id": "dXFOyYeiIXTV",
        "colab": {
          "base_uri": "https://localhost:8080/",
          "height": 564
        },
        "outputId": "079baa1d-9772-4d4f-9225-771dc0eab5ff"
      },
      "source": [
        "kickstarter_2018.describe(include='all')"
      ],
      "execution_count": null,
      "outputs": [
        {
          "output_type": "execute_result",
          "data": {
            "text/html": [
              "<div>\n",
              "<style scoped>\n",
              "    .dataframe tbody tr th:only-of-type {\n",
              "        vertical-align: middle;\n",
              "    }\n",
              "\n",
              "    .dataframe tbody tr th {\n",
              "        vertical-align: top;\n",
              "    }\n",
              "\n",
              "    .dataframe thead th {\n",
              "        text-align: right;\n",
              "    }\n",
              "</style>\n",
              "<table border=\"1\" class=\"dataframe\">\n",
              "  <thead>\n",
              "    <tr style=\"text-align: right;\">\n",
              "      <th></th>\n",
              "      <th>name</th>\n",
              "      <th>category</th>\n",
              "      <th>main_category</th>\n",
              "      <th>currency</th>\n",
              "      <th>deadline</th>\n",
              "      <th>goal</th>\n",
              "      <th>launched</th>\n",
              "      <th>pledged</th>\n",
              "      <th>state</th>\n",
              "      <th>backers</th>\n",
              "      <th>country</th>\n",
              "      <th>usd pledged</th>\n",
              "      <th>usd_pledged_real</th>\n",
              "      <th>usd_goal_real</th>\n",
              "    </tr>\n",
              "  </thead>\n",
              "  <tbody>\n",
              "    <tr>\n",
              "      <th>count</th>\n",
              "      <td>378657</td>\n",
              "      <td>378661</td>\n",
              "      <td>378661</td>\n",
              "      <td>378661</td>\n",
              "      <td>378661</td>\n",
              "      <td>378661.00</td>\n",
              "      <td>378661</td>\n",
              "      <td>378661.00</td>\n",
              "      <td>378661</td>\n",
              "      <td>378661.00</td>\n",
              "      <td>378661</td>\n",
              "      <td>374864.00</td>\n",
              "      <td>378661.00</td>\n",
              "      <td>378661.00</td>\n",
              "    </tr>\n",
              "    <tr>\n",
              "      <th>unique</th>\n",
              "      <td>375764</td>\n",
              "      <td>159</td>\n",
              "      <td>15</td>\n",
              "      <td>14</td>\n",
              "      <td>3164</td>\n",
              "      <td>nan</td>\n",
              "      <td>378089</td>\n",
              "      <td>nan</td>\n",
              "      <td>6</td>\n",
              "      <td>nan</td>\n",
              "      <td>23</td>\n",
              "      <td>nan</td>\n",
              "      <td>nan</td>\n",
              "      <td>nan</td>\n",
              "    </tr>\n",
              "    <tr>\n",
              "      <th>top</th>\n",
              "      <td>New EP/Music Development</td>\n",
              "      <td>Product Design</td>\n",
              "      <td>Film &amp; Video</td>\n",
              "      <td>USD</td>\n",
              "      <td>2014-08-08 00:00:00</td>\n",
              "      <td>nan</td>\n",
              "      <td>1970-01-01 01:00:00</td>\n",
              "      <td>nan</td>\n",
              "      <td>failed</td>\n",
              "      <td>nan</td>\n",
              "      <td>US</td>\n",
              "      <td>nan</td>\n",
              "      <td>nan</td>\n",
              "      <td>nan</td>\n",
              "    </tr>\n",
              "    <tr>\n",
              "      <th>freq</th>\n",
              "      <td>41</td>\n",
              "      <td>22314</td>\n",
              "      <td>63585</td>\n",
              "      <td>295365</td>\n",
              "      <td>705</td>\n",
              "      <td>nan</td>\n",
              "      <td>7</td>\n",
              "      <td>nan</td>\n",
              "      <td>197719</td>\n",
              "      <td>nan</td>\n",
              "      <td>292627</td>\n",
              "      <td>nan</td>\n",
              "      <td>nan</td>\n",
              "      <td>nan</td>\n",
              "    </tr>\n",
              "    <tr>\n",
              "      <th>first</th>\n",
              "      <td>NaN</td>\n",
              "      <td>NaN</td>\n",
              "      <td>NaN</td>\n",
              "      <td>NaN</td>\n",
              "      <td>2009-05-03 00:00:00</td>\n",
              "      <td>nan</td>\n",
              "      <td>1970-01-01 01:00:00</td>\n",
              "      <td>nan</td>\n",
              "      <td>NaN</td>\n",
              "      <td>nan</td>\n",
              "      <td>NaN</td>\n",
              "      <td>nan</td>\n",
              "      <td>nan</td>\n",
              "      <td>nan</td>\n",
              "    </tr>\n",
              "    <tr>\n",
              "      <th>last</th>\n",
              "      <td>NaN</td>\n",
              "      <td>NaN</td>\n",
              "      <td>NaN</td>\n",
              "      <td>NaN</td>\n",
              "      <td>2018-03-03 00:00:00</td>\n",
              "      <td>nan</td>\n",
              "      <td>2018-01-02 15:02:31</td>\n",
              "      <td>nan</td>\n",
              "      <td>NaN</td>\n",
              "      <td>nan</td>\n",
              "      <td>NaN</td>\n",
              "      <td>nan</td>\n",
              "      <td>nan</td>\n",
              "      <td>nan</td>\n",
              "    </tr>\n",
              "    <tr>\n",
              "      <th>mean</th>\n",
              "      <td>NaN</td>\n",
              "      <td>NaN</td>\n",
              "      <td>NaN</td>\n",
              "      <td>NaN</td>\n",
              "      <td>NaN</td>\n",
              "      <td>49080.79</td>\n",
              "      <td>NaN</td>\n",
              "      <td>9682.98</td>\n",
              "      <td>NaN</td>\n",
              "      <td>105.62</td>\n",
              "      <td>NaN</td>\n",
              "      <td>7036.73</td>\n",
              "      <td>9058.92</td>\n",
              "      <td>45454.40</td>\n",
              "    </tr>\n",
              "    <tr>\n",
              "      <th>std</th>\n",
              "      <td>NaN</td>\n",
              "      <td>NaN</td>\n",
              "      <td>NaN</td>\n",
              "      <td>NaN</td>\n",
              "      <td>NaN</td>\n",
              "      <td>1183391.26</td>\n",
              "      <td>NaN</td>\n",
              "      <td>95636.01</td>\n",
              "      <td>NaN</td>\n",
              "      <td>907.19</td>\n",
              "      <td>NaN</td>\n",
              "      <td>78639.75</td>\n",
              "      <td>90973.34</td>\n",
              "      <td>1152950.06</td>\n",
              "    </tr>\n",
              "    <tr>\n",
              "      <th>min</th>\n",
              "      <td>NaN</td>\n",
              "      <td>NaN</td>\n",
              "      <td>NaN</td>\n",
              "      <td>NaN</td>\n",
              "      <td>NaN</td>\n",
              "      <td>0.01</td>\n",
              "      <td>NaN</td>\n",
              "      <td>0.00</td>\n",
              "      <td>NaN</td>\n",
              "      <td>0.00</td>\n",
              "      <td>NaN</td>\n",
              "      <td>0.00</td>\n",
              "      <td>0.00</td>\n",
              "      <td>0.01</td>\n",
              "    </tr>\n",
              "    <tr>\n",
              "      <th>25%</th>\n",
              "      <td>NaN</td>\n",
              "      <td>NaN</td>\n",
              "      <td>NaN</td>\n",
              "      <td>NaN</td>\n",
              "      <td>NaN</td>\n",
              "      <td>2000.00</td>\n",
              "      <td>NaN</td>\n",
              "      <td>30.00</td>\n",
              "      <td>NaN</td>\n",
              "      <td>2.00</td>\n",
              "      <td>NaN</td>\n",
              "      <td>16.98</td>\n",
              "      <td>31.00</td>\n",
              "      <td>2000.00</td>\n",
              "    </tr>\n",
              "    <tr>\n",
              "      <th>50%</th>\n",
              "      <td>NaN</td>\n",
              "      <td>NaN</td>\n",
              "      <td>NaN</td>\n",
              "      <td>NaN</td>\n",
              "      <td>NaN</td>\n",
              "      <td>5200.00</td>\n",
              "      <td>NaN</td>\n",
              "      <td>620.00</td>\n",
              "      <td>NaN</td>\n",
              "      <td>12.00</td>\n",
              "      <td>NaN</td>\n",
              "      <td>394.72</td>\n",
              "      <td>624.33</td>\n",
              "      <td>5500.00</td>\n",
              "    </tr>\n",
              "    <tr>\n",
              "      <th>75%</th>\n",
              "      <td>NaN</td>\n",
              "      <td>NaN</td>\n",
              "      <td>NaN</td>\n",
              "      <td>NaN</td>\n",
              "      <td>NaN</td>\n",
              "      <td>16000.00</td>\n",
              "      <td>NaN</td>\n",
              "      <td>4076.00</td>\n",
              "      <td>NaN</td>\n",
              "      <td>56.00</td>\n",
              "      <td>NaN</td>\n",
              "      <td>3034.09</td>\n",
              "      <td>4050.00</td>\n",
              "      <td>15500.00</td>\n",
              "    </tr>\n",
              "    <tr>\n",
              "      <th>max</th>\n",
              "      <td>NaN</td>\n",
              "      <td>NaN</td>\n",
              "      <td>NaN</td>\n",
              "      <td>NaN</td>\n",
              "      <td>NaN</td>\n",
              "      <td>100000000.00</td>\n",
              "      <td>NaN</td>\n",
              "      <td>20338986.27</td>\n",
              "      <td>NaN</td>\n",
              "      <td>219382.00</td>\n",
              "      <td>NaN</td>\n",
              "      <td>20338986.27</td>\n",
              "      <td>20338986.27</td>\n",
              "      <td>166361390.71</td>\n",
              "    </tr>\n",
              "  </tbody>\n",
              "</table>\n",
              "</div>"
            ],
            "text/plain": [
              "                            name  ... usd_goal_real\n",
              "count                     378657  ...     378661.00\n",
              "unique                    375764  ...           nan\n",
              "top     New EP/Music Development  ...           nan\n",
              "freq                          41  ...           nan\n",
              "first                        NaN  ...           nan\n",
              "last                         NaN  ...           nan\n",
              "mean                         NaN  ...      45454.40\n",
              "std                          NaN  ...    1152950.06\n",
              "min                          NaN  ...          0.01\n",
              "25%                          NaN  ...       2000.00\n",
              "50%                          NaN  ...       5500.00\n",
              "75%                          NaN  ...      15500.00\n",
              "max                          NaN  ...  166361390.71\n",
              "\n",
              "[13 rows x 14 columns]"
            ]
          },
          "metadata": {
            "tags": []
          },
          "execution_count": 47
        }
      ]
    },
    {
      "cell_type": "markdown",
      "metadata": {
        "colab_type": "text",
        "id": "OUA2hGvQIXTX"
      },
      "source": [
        "## 2.1. Etiquetas de variables/columnas: no usar caracteres especiales\n",
        "\n"
      ]
    },
    {
      "cell_type": "code",
      "metadata": {
        "colab_type": "code",
        "id": "BkdI2pVDIXTX",
        "colab": {}
      },
      "source": [
        "# helpful character encoding module\n",
        "import chardet"
      ],
      "execution_count": null,
      "outputs": []
    },
    {
      "cell_type": "markdown",
      "metadata": {
        "colab_type": "text",
        "id": "lfyjvGsmIXTZ"
      },
      "source": [
        "¿Por qué? Por que aun hay limitaciones para trabajar con estos caracteres.\n",
        "\n",
        "¿Cúales son los caracteres \"normales\"? "
      ]
    },
    {
      "cell_type": "code",
      "metadata": {
        "colab_type": "code",
        "id": "fTc3NFPpIXTZ",
        "colab": {
          "base_uri": "https://localhost:8080/",
          "height": 35
        },
        "outputId": "81067203-b8d3-4c3e-ba14-64a7aa8a6151"
      },
      "source": [
        "import string\n",
        "\n",
        "string.ascii_letters + string.digits"
      ],
      "execution_count": null,
      "outputs": [
        {
          "output_type": "execute_result",
          "data": {
            "application/vnd.google.colaboratory.intrinsic": {
              "type": "string"
            },
            "text/plain": [
              "'abcdefghijklmnopqrstuvwxyzABCDEFGHIJKLMNOPQRSTUVWXYZ0123456789'"
            ]
          },
          "metadata": {
            "tags": []
          },
          "execution_count": 49
        }
      ]
    },
    {
      "cell_type": "markdown",
      "metadata": {
        "colab_type": "text",
        "id": "tWbcEuejIXTb"
      },
      "source": [
        "¿Qué es ASCII? Es una de las primeras codificaciones (o encoding) disponibles. Ver https://en.wikipedia.org/wiki/ASCII\n",
        "\n",
        "Un encoding es un mapa de caracteres a una representación en bits (por ejemplo 1000001). ASCII es uno de los primeros estandares para interoperatividad entre computadoras (antes cada fabricante de computadora usa su propia codificación), contempla sólo los caracteres ingleses y usa 7 bits, por ejemplo *1000001* codifica el caracter *A*\n",
        "\n",
        "Cómo sólo representaban los caracteres ingleses, empiezan a aparecer variantes para distintos idiomas, Microsoft hizo los propios para internacionalizar Windows, hubo otro estandar ISO 8859, hasta que llegó el éstandar Unicode que hizo múltiples encodings pero cada uno contempla múltiples idiomas e incluso es extensible a futuro. UTF-8 es de esos encodings el más utilizado. Ver https://en.wikipedia.org/wiki/Unicode\n",
        "\n",
        "En particular, Python 3 utiliza UTF-8 por defecto (lo que no sucedía en Python 2).\n",
        "\n",
        "Veamos un ejemplo práctico"
      ]
    },
    {
      "cell_type": "code",
      "metadata": {
        "colab_type": "code",
        "id": "uiUtEXG1IXTb",
        "colab": {
          "base_uri": "https://localhost:8080/",
          "height": 35
        },
        "outputId": "3f5d441c-ab35-485f-c100-1327f205fc01"
      },
      "source": [
        "# start with a string\n",
        "before = \"This is the euro symbol: €\"\n",
        "\n",
        "# check to see what datatype it is\n",
        "type(before)"
      ],
      "execution_count": null,
      "outputs": [
        {
          "output_type": "execute_result",
          "data": {
            "text/plain": [
              "str"
            ]
          },
          "metadata": {
            "tags": []
          },
          "execution_count": 50
        }
      ]
    },
    {
      "cell_type": "code",
      "metadata": {
        "colab_type": "code",
        "id": "ISgFFMiiIXTc",
        "colab": {
          "base_uri": "https://localhost:8080/",
          "height": 35
        },
        "outputId": "6ccae000-eca9-4e76-8cc1-58746fac199a"
      },
      "source": [
        "# encode it to a different encoding, replacing characters that raise errors\n",
        "after = before.encode(\"utf-8\", errors = \"replace\")\n",
        "\n",
        "# check the type\n",
        "type(after)"
      ],
      "execution_count": null,
      "outputs": [
        {
          "output_type": "execute_result",
          "data": {
            "text/plain": [
              "bytes"
            ]
          },
          "metadata": {
            "tags": []
          },
          "execution_count": 51
        }
      ]
    },
    {
      "cell_type": "code",
      "metadata": {
        "colab_type": "code",
        "id": "psYCTaZCIXTe",
        "colab": {
          "base_uri": "https://localhost:8080/",
          "height": 35
        },
        "outputId": "eb9d401d-883e-4b66-ef74-84fee9940e37"
      },
      "source": [
        "# take a look at what the bytes look like\n",
        "after"
      ],
      "execution_count": null,
      "outputs": [
        {
          "output_type": "execute_result",
          "data": {
            "text/plain": [
              "b'This is the euro symbol: \\xe2\\x82\\xac'"
            ]
          },
          "metadata": {
            "tags": []
          },
          "execution_count": 52
        }
      ]
    },
    {
      "cell_type": "code",
      "metadata": {
        "colab_type": "code",
        "id": "fkbXONwzIXTf",
        "colab": {
          "base_uri": "https://localhost:8080/",
          "height": 35
        },
        "outputId": "4a28678f-1126-4f2f-e7e7-0380af7b6cae"
      },
      "source": [
        "# convert it back to utf-8\n",
        "print(after.decode(\"utf-8\"))"
      ],
      "execution_count": null,
      "outputs": [
        {
          "output_type": "stream",
          "text": [
            "This is the euro symbol: €\n"
          ],
          "name": "stdout"
        }
      ]
    },
    {
      "cell_type": "code",
      "metadata": {
        "colab_type": "code",
        "id": "YeEGsG5pIXTh",
        "colab": {
          "base_uri": "https://localhost:8080/",
          "height": 193
        },
        "outputId": "66872990-6d57-49c5-a358-eee7e320d74c"
      },
      "source": [
        "# try to decode our bytes with the ascii encoding\n",
        "print(after.decode(\"ascii\"))"
      ],
      "execution_count": null,
      "outputs": [
        {
          "output_type": "error",
          "ename": "UnicodeDecodeError",
          "evalue": "ignored",
          "traceback": [
            "\u001b[0;31m---------------------------------------------------------------------------\u001b[0m",
            "\u001b[0;31mUnicodeDecodeError\u001b[0m                        Traceback (most recent call last)",
            "\u001b[0;32m<ipython-input-54-50fd8662e3ae>\u001b[0m in \u001b[0;36m<module>\u001b[0;34m()\u001b[0m\n\u001b[1;32m      1\u001b[0m \u001b[0;31m# try to decode our bytes with the ascii encoding\u001b[0m\u001b[0;34m\u001b[0m\u001b[0;34m\u001b[0m\u001b[0;34m\u001b[0m\u001b[0m\n\u001b[0;32m----> 2\u001b[0;31m \u001b[0mprint\u001b[0m\u001b[0;34m(\u001b[0m\u001b[0mafter\u001b[0m\u001b[0;34m.\u001b[0m\u001b[0mdecode\u001b[0m\u001b[0;34m(\u001b[0m\u001b[0;34m\"ascii\"\u001b[0m\u001b[0;34m)\u001b[0m\u001b[0;34m)\u001b[0m\u001b[0;34m\u001b[0m\u001b[0;34m\u001b[0m\u001b[0m\n\u001b[0m",
            "\u001b[0;31mUnicodeDecodeError\u001b[0m: 'ascii' codec can't decode byte 0xe2 in position 25: ordinal not in range(128)"
          ]
        }
      ]
    },
    {
      "cell_type": "code",
      "metadata": {
        "colab_type": "code",
        "id": "3RRKGvArIXTk",
        "colab": {
          "base_uri": "https://localhost:8080/",
          "height": 35
        },
        "outputId": "878df5fe-28dc-4a26-d710-6aa02a7d96a3"
      },
      "source": [
        "# start with a string\n",
        "before = \"This is the euro symbol: €\"\n",
        "\n",
        "# encode it to a different encoding, replacing characters that raise errors\n",
        "after = before.encode(\"ascii\", errors = \"replace\")\n",
        "\n",
        "# convert it back to utf-8\n",
        "print(after.decode(\"ascii\"))\n",
        "\n",
        "# We've lost the original underlying byte string! It's been \n",
        "# replaced with the underlying byte string for the unknown character :("
      ],
      "execution_count": null,
      "outputs": [
        {
          "output_type": "stream",
          "text": [
            "This is the euro symbol: ?\n"
          ],
          "name": "stdout"
        }
      ]
    },
    {
      "cell_type": "markdown",
      "metadata": {
        "colab_type": "text",
        "id": "IkaMZurZIXTm"
      },
      "source": [
        "Este error ya lo vimos..."
      ]
    },
    {
      "cell_type": "code",
      "metadata": {
        "colab_type": "code",
        "id": "vmfM_HNWIXTn",
        "colab": {}
      },
      "source": [
        "## Volverá a fallar po UnicodeDecodeError: 'utf-8' codec can't decode byte 0x99 in position 11: invalid start byte\n",
        "#kickstarter_2016 = pd.read_csv(BASE_DIR + \"/input/kickstarter-projects/ks-projects-201612.csv\")"
      ],
      "execution_count": null,
      "outputs": []
    },
    {
      "cell_type": "markdown",
      "metadata": {
        "colab_type": "text",
        "id": "PP9Xzf3qIXTt"
      },
      "source": [
        "El error `UnicodeDecodeError` nos indica que el archivo no estaría en Unicode. Si no está en algún metadato o no fue indicado es dificil detectar el encoding, por suerte hay un paquete para esto en Python, que aplica unas heurísticas para detectar encoding."
      ]
    },
    {
      "cell_type": "code",
      "metadata": {
        "colab_type": "code",
        "id": "KVSigmfDIXTv",
        "colab": {
          "base_uri": "https://localhost:8080/",
          "height": 329
        },
        "outputId": "320f4061-6569-4cf9-c123-e63d7364833d"
      },
      "source": [
        "# In Colab we need to download data locally\n",
        "if in_colab:\n",
        "  !wget -c $BASE_DIR/input/kickstarter-projects/ks-projects-201612.csv\n",
        "  DOWN_DIR = \"./\"\n",
        "else:\n",
        "  DOWN_DIR = BASE_DIR + \"/input/kickstarter-projects/\"\n",
        "  \n",
        "# look at the first ten thousand bytes to guess the character encoding\n",
        "with open(DOWN_DIR + \"/ks-projects-201612.csv\", 'rb') as rawdata:\n",
        "    result = chardet.detect(rawdata.read(10000))\n",
        "\n",
        "# check what the character encoding might be\n",
        "result"
      ],
      "execution_count": null,
      "outputs": [
        {
          "output_type": "stream",
          "text": [
            "--2020-06-28 00:26:37--  https://github.com/DiploDatos/AnalisisYCuracion/raw/master//input/kickstarter-projects/ks-projects-201612.csv\n",
            "Resolving github.com (github.com)... 140.82.113.4\n",
            "Connecting to github.com (github.com)|140.82.113.4|:443... connected.\n",
            "HTTP request sent, awaiting response... 302 Found\n",
            "Location: https://raw.githubusercontent.com/DiploDatos/AnalisisYCuracion/master/input/kickstarter-projects/ks-projects-201612.csv [following]\n",
            "--2020-06-28 00:26:38--  https://raw.githubusercontent.com/DiploDatos/AnalisisYCuracion/master/input/kickstarter-projects/ks-projects-201612.csv\n",
            "Resolving raw.githubusercontent.com (raw.githubusercontent.com)... 151.101.0.133, 151.101.64.133, 151.101.128.133, ...\n",
            "Connecting to raw.githubusercontent.com (raw.githubusercontent.com)|151.101.0.133|:443... connected.\n",
            "HTTP request sent, awaiting response... 200 OK\n",
            "Length: 46500324 (44M) [text/plain]\n",
            "Saving to: ‘ks-projects-201612.csv’\n",
            "\n",
            "ks-projects-201612. 100%[===================>]  44.35M  51.8MB/s    in 0.9s    \n",
            "\n",
            "2020-06-28 00:26:39 (51.8 MB/s) - ‘ks-projects-201612.csv’ saved [46500324/46500324]\n",
            "\n"
          ],
          "name": "stdout"
        },
        {
          "output_type": "execute_result",
          "data": {
            "text/plain": [
              "{'confidence': 0.73, 'encoding': 'Windows-1252', 'language': ''}"
            ]
          },
          "metadata": {
            "tags": []
          },
          "execution_count": 58
        }
      ]
    },
    {
      "cell_type": "markdown",
      "metadata": {
        "colab_type": "text",
        "id": "BRvRjn15IXTy"
      },
      "source": [
        "Entonces le podemos indicar el encoding al leer el archivos"
      ]
    },
    {
      "cell_type": "code",
      "metadata": {
        "colab_type": "code",
        "id": "HpHQldSDIXTz",
        "colab": {
          "base_uri": "https://localhost:8080/",
          "height": 471
        },
        "outputId": "6df75d2f-ff5c-46ce-d489-6a4d031ba042"
      },
      "source": [
        "# read in the file with the encoding detected by chardet\n",
        "kickstarter_2016 = pd.read_csv(BASE_DIR + \"/input/kickstarter-projects/ks-projects-201612.csv\", encoding='Windows-1252')\n",
        "\n",
        "# look at the first few lines\n",
        "kickstarter_2016.head()"
      ],
      "execution_count": null,
      "outputs": [
        {
          "output_type": "stream",
          "text": [
            "/usr/local/lib/python3.6/dist-packages/IPython/core/interactiveshell.py:2718: DtypeWarning: Columns (13,14,15) have mixed types.Specify dtype option on import or set low_memory=False.\n",
            "  interactivity=interactivity, compiler=compiler, result=result)\n"
          ],
          "name": "stderr"
        },
        {
          "output_type": "execute_result",
          "data": {
            "text/html": [
              "<div>\n",
              "<style scoped>\n",
              "    .dataframe tbody tr th:only-of-type {\n",
              "        vertical-align: middle;\n",
              "    }\n",
              "\n",
              "    .dataframe tbody tr th {\n",
              "        vertical-align: top;\n",
              "    }\n",
              "\n",
              "    .dataframe thead th {\n",
              "        text-align: right;\n",
              "    }\n",
              "</style>\n",
              "<table border=\"1\" class=\"dataframe\">\n",
              "  <thead>\n",
              "    <tr style=\"text-align: right;\">\n",
              "      <th></th>\n",
              "      <th>ID</th>\n",
              "      <th>name</th>\n",
              "      <th>category</th>\n",
              "      <th>main_category</th>\n",
              "      <th>currency</th>\n",
              "      <th>deadline</th>\n",
              "      <th>goal</th>\n",
              "      <th>launched</th>\n",
              "      <th>pledged</th>\n",
              "      <th>state</th>\n",
              "      <th>backers</th>\n",
              "      <th>country</th>\n",
              "      <th>usd pledged</th>\n",
              "      <th>Unnamed: 13</th>\n",
              "      <th>Unnamed: 14</th>\n",
              "      <th>Unnamed: 15</th>\n",
              "      <th>Unnamed: 16</th>\n",
              "    </tr>\n",
              "  </thead>\n",
              "  <tbody>\n",
              "    <tr>\n",
              "      <th>0</th>\n",
              "      <td>1000002330</td>\n",
              "      <td>The Songs of Adelaide &amp; Abullah</td>\n",
              "      <td>Poetry</td>\n",
              "      <td>Publishing</td>\n",
              "      <td>GBP</td>\n",
              "      <td>2015-10-09 11:36:00</td>\n",
              "      <td>1000</td>\n",
              "      <td>2015-08-11 12:12:28</td>\n",
              "      <td>0</td>\n",
              "      <td>failed</td>\n",
              "      <td>0</td>\n",
              "      <td>GB</td>\n",
              "      <td>0</td>\n",
              "      <td>NaN</td>\n",
              "      <td>NaN</td>\n",
              "      <td>NaN</td>\n",
              "      <td>nan</td>\n",
              "    </tr>\n",
              "    <tr>\n",
              "      <th>1</th>\n",
              "      <td>1000004038</td>\n",
              "      <td>Where is Hank?</td>\n",
              "      <td>Narrative Film</td>\n",
              "      <td>Film &amp; Video</td>\n",
              "      <td>USD</td>\n",
              "      <td>2013-02-26 00:20:50</td>\n",
              "      <td>45000</td>\n",
              "      <td>2013-01-12 00:20:50</td>\n",
              "      <td>220</td>\n",
              "      <td>failed</td>\n",
              "      <td>3</td>\n",
              "      <td>US</td>\n",
              "      <td>220</td>\n",
              "      <td>NaN</td>\n",
              "      <td>NaN</td>\n",
              "      <td>NaN</td>\n",
              "      <td>nan</td>\n",
              "    </tr>\n",
              "    <tr>\n",
              "      <th>2</th>\n",
              "      <td>1000007540</td>\n",
              "      <td>ToshiCapital Rekordz Needs Help to Complete Album</td>\n",
              "      <td>Music</td>\n",
              "      <td>Music</td>\n",
              "      <td>USD</td>\n",
              "      <td>2012-04-16 04:24:11</td>\n",
              "      <td>5000</td>\n",
              "      <td>2012-03-17 03:24:11</td>\n",
              "      <td>1</td>\n",
              "      <td>failed</td>\n",
              "      <td>1</td>\n",
              "      <td>US</td>\n",
              "      <td>1</td>\n",
              "      <td>NaN</td>\n",
              "      <td>NaN</td>\n",
              "      <td>NaN</td>\n",
              "      <td>nan</td>\n",
              "    </tr>\n",
              "    <tr>\n",
              "      <th>3</th>\n",
              "      <td>1000011046</td>\n",
              "      <td>Community Film Project: The Art of Neighborhoo...</td>\n",
              "      <td>Film &amp; Video</td>\n",
              "      <td>Film &amp; Video</td>\n",
              "      <td>USD</td>\n",
              "      <td>2015-08-29 01:00:00</td>\n",
              "      <td>19500</td>\n",
              "      <td>2015-07-04 08:35:03</td>\n",
              "      <td>1283</td>\n",
              "      <td>canceled</td>\n",
              "      <td>14</td>\n",
              "      <td>US</td>\n",
              "      <td>1283</td>\n",
              "      <td>NaN</td>\n",
              "      <td>NaN</td>\n",
              "      <td>NaN</td>\n",
              "      <td>nan</td>\n",
              "    </tr>\n",
              "    <tr>\n",
              "      <th>4</th>\n",
              "      <td>1000014025</td>\n",
              "      <td>Monarch Espresso Bar</td>\n",
              "      <td>Restaurants</td>\n",
              "      <td>Food</td>\n",
              "      <td>USD</td>\n",
              "      <td>2016-04-01 13:38:27</td>\n",
              "      <td>50000</td>\n",
              "      <td>2016-02-26 13:38:27</td>\n",
              "      <td>52375</td>\n",
              "      <td>successful</td>\n",
              "      <td>224</td>\n",
              "      <td>US</td>\n",
              "      <td>52375</td>\n",
              "      <td>NaN</td>\n",
              "      <td>NaN</td>\n",
              "      <td>NaN</td>\n",
              "      <td>nan</td>\n",
              "    </tr>\n",
              "  </tbody>\n",
              "</table>\n",
              "</div>"
            ],
            "text/plain": [
              "          ID   ... Unnamed: 16\n",
              "0  1000002330  ...         nan\n",
              "1  1000004038  ...         nan\n",
              "2  1000007540  ...         nan\n",
              "3  1000011046  ...         nan\n",
              "4  1000014025  ...         nan\n",
              "\n",
              "[5 rows x 17 columns]"
            ]
          },
          "metadata": {
            "tags": []
          },
          "execution_count": 59
        }
      ]
    },
    {
      "cell_type": "markdown",
      "metadata": {
        "colab_type": "text",
        "id": "EaBiRboHIXT6"
      },
      "source": [
        "Hay otro problema con los caracteres que es más sutíl: **[Mojibake](https://en.wikipedia.org/wiki/Mojibake)**\n",
        "\n",
        "Sucede al leer UTF-8 como ASCII extendido (ie. `Windows-*`, `iso-8859-*` entre otros)\n",
        "\n",
        "Ejemplo de mojibake:"
      ]
    },
    {
      "cell_type": "code",
      "metadata": {
        "colab_type": "code",
        "id": "5dFhIonJIXT6",
        "colab": {
          "base_uri": "https://localhost:8080/",
          "height": 35
        },
        "outputId": "9c4baf7f-350d-4d16-eaff-4c5757fcaa3b"
      },
      "source": [
        "\"cigüeña\".encode('utf-8').decode('iso-8859-1')"
      ],
      "execution_count": null,
      "outputs": [
        {
          "output_type": "execute_result",
          "data": {
            "application/vnd.google.colaboratory.intrinsic": {
              "type": "string"
            },
            "text/plain": [
              "'cigÃ¼eÃ±a'"
            ]
          },
          "metadata": {
            "tags": []
          },
          "execution_count": 60
        }
      ]
    },
    {
      "cell_type": "code",
      "metadata": {
        "id": "UiR8qRuCg3of",
        "colab_type": "code",
        "colab": {
          "base_uri": "https://localhost:8080/",
          "height": 35
        },
        "outputId": "3e084a13-0669-4b42-cb42-e8119b307abd"
      },
      "source": [
        "\"cigÃ¼eÃ±a\".encode('iso-8859-1').decode('utf-8')"
      ],
      "execution_count": null,
      "outputs": [
        {
          "output_type": "execute_result",
          "data": {
            "application/vnd.google.colaboratory.intrinsic": {
              "type": "string"
            },
            "text/plain": [
              "'cigüeña'"
            ]
          },
          "metadata": {
            "tags": []
          },
          "execution_count": 61
        }
      ]
    },
    {
      "cell_type": "markdown",
      "metadata": {
        "colab_type": "text",
        "id": "GYrNcEWGIXT8"
      },
      "source": [
        "Para esto vamos a usar un módulo específico [ftfy](https://ftfy.readthedocs.io/en/latest/). \n",
        "\n",
        "Que nos permite ordenar cadenas por rareza"
      ]
    },
    {
      "cell_type": "code",
      "metadata": {
        "colab_type": "code",
        "id": "iKpvvruQIXT8",
        "colab": {}
      },
      "source": [
        "import ftfy.badness as bad"
      ],
      "execution_count": null,
      "outputs": []
    },
    {
      "cell_type": "code",
      "metadata": {
        "colab_type": "code",
        "id": "qRTGjyZ-IXT-",
        "colab": {
          "base_uri": "https://localhost:8080/",
          "height": 1000
        },
        "outputId": "1f1e50b1-026c-477c-9192-ddb1f72bfa85"
      },
      "source": [
        "def weird(val):\n",
        "    if isinstance(val, float): \n",
        "        return 0\n",
        "    return bad.sequence_weirdness(val)\n",
        "\n",
        "\n",
        "kickstarter_2018['name_weirdness'] = kickstarter_2018['name'].apply(weird)\n",
        "kickstarter_2018[kickstarter_2018['name_weirdness'] > 1]"
      ],
      "execution_count": null,
      "outputs": [
        {
          "output_type": "execute_result",
          "data": {
            "text/html": [
              "<div>\n",
              "<style scoped>\n",
              "    .dataframe tbody tr th:only-of-type {\n",
              "        vertical-align: middle;\n",
              "    }\n",
              "\n",
              "    .dataframe tbody tr th {\n",
              "        vertical-align: top;\n",
              "    }\n",
              "\n",
              "    .dataframe thead th {\n",
              "        text-align: right;\n",
              "    }\n",
              "</style>\n",
              "<table border=\"1\" class=\"dataframe\">\n",
              "  <thead>\n",
              "    <tr style=\"text-align: right;\">\n",
              "      <th></th>\n",
              "      <th>name</th>\n",
              "      <th>category</th>\n",
              "      <th>main_category</th>\n",
              "      <th>currency</th>\n",
              "      <th>deadline</th>\n",
              "      <th>goal</th>\n",
              "      <th>launched</th>\n",
              "      <th>pledged</th>\n",
              "      <th>state</th>\n",
              "      <th>backers</th>\n",
              "      <th>country</th>\n",
              "      <th>usd pledged</th>\n",
              "      <th>usd_pledged_real</th>\n",
              "      <th>usd_goal_real</th>\n",
              "      <th>name_weirdness</th>\n",
              "    </tr>\n",
              "    <tr>\n",
              "      <th>ID</th>\n",
              "      <th></th>\n",
              "      <th></th>\n",
              "      <th></th>\n",
              "      <th></th>\n",
              "      <th></th>\n",
              "      <th></th>\n",
              "      <th></th>\n",
              "      <th></th>\n",
              "      <th></th>\n",
              "      <th></th>\n",
              "      <th></th>\n",
              "      <th></th>\n",
              "      <th></th>\n",
              "      <th></th>\n",
              "      <th></th>\n",
              "    </tr>\n",
              "  </thead>\n",
              "  <tbody>\n",
              "    <tr>\n",
              "      <th>1221990593</th>\n",
              "      <td>Support PMCD´s ¨From a Different Clay¨</td>\n",
              "      <td>Dance</td>\n",
              "      <td>Dance</td>\n",
              "      <td>USD</td>\n",
              "      <td>2011-06-08</td>\n",
              "      <td>1500.00</td>\n",
              "      <td>2011-04-28 05:15:32</td>\n",
              "      <td>1940.00</td>\n",
              "      <td>successful</td>\n",
              "      <td>27</td>\n",
              "      <td>US</td>\n",
              "      <td>1940.00</td>\n",
              "      <td>1940.00</td>\n",
              "      <td>1500.00</td>\n",
              "      <td>3</td>\n",
              "    </tr>\n",
              "    <tr>\n",
              "      <th>1234089244</th>\n",
              "      <td>Cracking (Mastering) the Metaphor \u000b(Political)...</td>\n",
              "      <td>Nonfiction</td>\n",
              "      <td>Publishing</td>\n",
              "      <td>USD</td>\n",
              "      <td>2013-10-27</td>\n",
              "      <td>30000.00</td>\n",
              "      <td>2013-09-27 23:33:29</td>\n",
              "      <td>0.00</td>\n",
              "      <td>failed</td>\n",
              "      <td>0</td>\n",
              "      <td>US</td>\n",
              "      <td>0.00</td>\n",
              "      <td>0.00</td>\n",
              "      <td>30000.00</td>\n",
              "      <td>2</td>\n",
              "    </tr>\n",
              "    <tr>\n",
              "      <th>124795481</th>\n",
              "      <td>µGALE (Canceled)</td>\n",
              "      <td>Wearables</td>\n",
              "      <td>Technology</td>\n",
              "      <td>EUR</td>\n",
              "      <td>2015-04-17</td>\n",
              "      <td>18000.00</td>\n",
              "      <td>2015-02-16 01:55:34</td>\n",
              "      <td>10.00</td>\n",
              "      <td>canceled</td>\n",
              "      <td>2</td>\n",
              "      <td>NL</td>\n",
              "      <td>11.39</td>\n",
              "      <td>10.81</td>\n",
              "      <td>19465.14</td>\n",
              "      <td>2</td>\n",
              "    </tr>\n",
              "    <tr>\n",
              "      <th>1468489999</th>\n",
              "      <td>µCurrent GOLD - Precision Multimeter Current A...</td>\n",
              "      <td>Hardware</td>\n",
              "      <td>Technology</td>\n",
              "      <td>AUD</td>\n",
              "      <td>2013-12-31</td>\n",
              "      <td>9900.00</td>\n",
              "      <td>2013-12-17 10:28:09</td>\n",
              "      <td>116575.17</td>\n",
              "      <td>successful</td>\n",
              "      <td>1268</td>\n",
              "      <td>AU</td>\n",
              "      <td>104343.69</td>\n",
              "      <td>104871.51</td>\n",
              "      <td>8906.08</td>\n",
              "      <td>2</td>\n",
              "    </tr>\n",
              "    <tr>\n",
              "      <th>1610503461</th>\n",
              "      <td>µPeek - The Professional Microscope that Fits ...</td>\n",
              "      <td>Technology</td>\n",
              "      <td>Technology</td>\n",
              "      <td>CHF</td>\n",
              "      <td>2016-01-09</td>\n",
              "      <td>125000.00</td>\n",
              "      <td>2015-12-10 10:08:18</td>\n",
              "      <td>247688.14</td>\n",
              "      <td>successful</td>\n",
              "      <td>1435</td>\n",
              "      <td>CH</td>\n",
              "      <td>249249.19</td>\n",
              "      <td>246848.85</td>\n",
              "      <td>124576.44</td>\n",
              "      <td>2</td>\n",
              "    </tr>\n",
              "    <tr>\n",
              "      <th>16174550</th>\n",
              "      <td>PARALELO 19 Nº</td>\n",
              "      <td>Photography</td>\n",
              "      <td>Photography</td>\n",
              "      <td>MXN</td>\n",
              "      <td>2017-04-15</td>\n",
              "      <td>15000.00</td>\n",
              "      <td>2017-03-01 00:00:24</td>\n",
              "      <td>3340.00</td>\n",
              "      <td>failed</td>\n",
              "      <td>8</td>\n",
              "      <td>MX</td>\n",
              "      <td>0.00</td>\n",
              "      <td>177.36</td>\n",
              "      <td>796.52</td>\n",
              "      <td>2</td>\n",
              "    </tr>\n",
              "    <tr>\n",
              "      <th>1719215256</th>\n",
              "      <td>Kickstarter Gold: Manual Coffeemaker Nº3</td>\n",
              "      <td>Product Design</td>\n",
              "      <td>Design</td>\n",
              "      <td>USD</td>\n",
              "      <td>2017-07-22</td>\n",
              "      <td>60000.00</td>\n",
              "      <td>2017-06-20 15:29:56</td>\n",
              "      <td>68587.33</td>\n",
              "      <td>successful</td>\n",
              "      <td>618</td>\n",
              "      <td>US</td>\n",
              "      <td>21002.00</td>\n",
              "      <td>68587.33</td>\n",
              "      <td>60000.00</td>\n",
              "      <td>2</td>\n",
              "    </tr>\n",
              "    <tr>\n",
              "      <th>1837094178</th>\n",
              "      <td>¨Midgard's taigh-seinnse/ Eröffnung Mittelalte...</td>\n",
              "      <td>Restaurants</td>\n",
              "      <td>Food</td>\n",
              "      <td>CHF</td>\n",
              "      <td>2016-09-29</td>\n",
              "      <td>50000.00</td>\n",
              "      <td>2016-08-30 09:36:42</td>\n",
              "      <td>150.00</td>\n",
              "      <td>failed</td>\n",
              "      <td>1</td>\n",
              "      <td>CH</td>\n",
              "      <td>0.00</td>\n",
              "      <td>153.93</td>\n",
              "      <td>51310.47</td>\n",
              "      <td>2</td>\n",
              "    </tr>\n",
              "    <tr>\n",
              "      <th>2056123754</th>\n",
              "      <td>ZEIº - the most simple time tracking solution</td>\n",
              "      <td>Technology</td>\n",
              "      <td>Technology</td>\n",
              "      <td>EUR</td>\n",
              "      <td>2016-10-26</td>\n",
              "      <td>75000.00</td>\n",
              "      <td>2016-09-20 15:54:49</td>\n",
              "      <td>313637.00</td>\n",
              "      <td>successful</td>\n",
              "      <td>3140</td>\n",
              "      <td>AT</td>\n",
              "      <td>9451.58</td>\n",
              "      <td>342555.54</td>\n",
              "      <td>81915.29</td>\n",
              "      <td>2</td>\n",
              "    </tr>\n",
              "    <tr>\n",
              "      <th>2068157547</th>\n",
              "      <td>Ballet Folklorico Infantil de la Universidad ...</td>\n",
              "      <td>Art</td>\n",
              "      <td>Art</td>\n",
              "      <td>MXN</td>\n",
              "      <td>2017-04-03</td>\n",
              "      <td>40000.00</td>\n",
              "      <td>2017-03-22 16:33:33</td>\n",
              "      <td>42480.00</td>\n",
              "      <td>successful</td>\n",
              "      <td>38</td>\n",
              "      <td>MX</td>\n",
              "      <td>532.09</td>\n",
              "      <td>2263.79</td>\n",
              "      <td>2131.63</td>\n",
              "      <td>2</td>\n",
              "    </tr>\n",
              "    <tr>\n",
              "      <th>2096648634</th>\n",
              "      <td>Funky City : a funky rpg</td>\n",
              "      <td>Video Games</td>\n",
              "      <td>Games</td>\n",
              "      <td>USD</td>\n",
              "      <td>2017-04-08</td>\n",
              "      <td>5000.00</td>\n",
              "      <td>2017-03-09 04:05:15</td>\n",
              "      <td>0.00</td>\n",
              "      <td>failed</td>\n",
              "      <td>0</td>\n",
              "      <td>US</td>\n",
              "      <td>0.00</td>\n",
              "      <td>0.00</td>\n",
              "      <td>5000.00</td>\n",
              "      <td>2</td>\n",
              "    </tr>\n",
              "    <tr>\n",
              "      <th>2102265118</th>\n",
              "      <td>Music Album ¨Dreams¨ Uplifting Tunes with Rap</td>\n",
              "      <td>Hip-Hop</td>\n",
              "      <td>Music</td>\n",
              "      <td>EUR</td>\n",
              "      <td>2017-12-24</td>\n",
              "      <td>28000.00</td>\n",
              "      <td>2017-11-24 12:49:09</td>\n",
              "      <td>0.00</td>\n",
              "      <td>failed</td>\n",
              "      <td>0</td>\n",
              "      <td>NL</td>\n",
              "      <td>0.00</td>\n",
              "      <td>0.00</td>\n",
              "      <td>33580.39</td>\n",
              "      <td>4</td>\n",
              "    </tr>\n",
              "    <tr>\n",
              "      <th>237780030</th>\n",
              "      <td>Solderdoodle Pro: Over 700ºF USB Rechargeable ...</td>\n",
              "      <td>DIY Electronics</td>\n",
              "      <td>Technology</td>\n",
              "      <td>USD</td>\n",
              "      <td>2014-08-19</td>\n",
              "      <td>37800.00</td>\n",
              "      <td>2014-07-29 16:52:31</td>\n",
              "      <td>15636.00</td>\n",
              "      <td>failed</td>\n",
              "      <td>318</td>\n",
              "      <td>US</td>\n",
              "      <td>15636.00</td>\n",
              "      <td>15636.00</td>\n",
              "      <td>37800.00</td>\n",
              "      <td>2</td>\n",
              "    </tr>\n",
              "    <tr>\n",
              "      <th>383244441</th>\n",
              "      <td>Virtual Roller Coaster in 4th Dimension</td>\n",
              "      <td>Makerspaces</td>\n",
              "      <td>Technology</td>\n",
              "      <td>MXN</td>\n",
              "      <td>2017-02-25</td>\n",
              "      <td>459900.00</td>\n",
              "      <td>2017-02-01 00:07:38</td>\n",
              "      <td>0.00</td>\n",
              "      <td>failed</td>\n",
              "      <td>0</td>\n",
              "      <td>MX</td>\n",
              "      <td>0.00</td>\n",
              "      <td>0.00</td>\n",
              "      <td>23399.82</td>\n",
              "      <td>2</td>\n",
              "    </tr>\n",
              "    <tr>\n",
              "      <th>458626388</th>\n",
              "      <td>Solderdoodle Pro: 700ºF USB Rechargeable Solde...</td>\n",
              "      <td>DIY Electronics</td>\n",
              "      <td>Technology</td>\n",
              "      <td>USD</td>\n",
              "      <td>2014-09-24</td>\n",
              "      <td>11400.00</td>\n",
              "      <td>2014-08-19 16:55:05</td>\n",
              "      <td>22565.00</td>\n",
              "      <td>successful</td>\n",
              "      <td>409</td>\n",
              "      <td>US</td>\n",
              "      <td>22565.00</td>\n",
              "      <td>22565.00</td>\n",
              "      <td>11400.00</td>\n",
              "      <td>2</td>\n",
              "    </tr>\n",
              "    <tr>\n",
              "      <th>466898065</th>\n",
              "      <td>Manual Tea Maker Nº1</td>\n",
              "      <td>Product Design</td>\n",
              "      <td>Design</td>\n",
              "      <td>USD</td>\n",
              "      <td>2016-08-20</td>\n",
              "      <td>40000.00</td>\n",
              "      <td>2016-07-18 04:25:44</td>\n",
              "      <td>67767.00</td>\n",
              "      <td>successful</td>\n",
              "      <td>1111</td>\n",
              "      <td>US</td>\n",
              "      <td>5534.00</td>\n",
              "      <td>67767.00</td>\n",
              "      <td>40000.00</td>\n",
              "      <td>2</td>\n",
              "    </tr>\n",
              "    <tr>\n",
              "      <th>516833776</th>\n",
              "      <td>µTracker - extremly Power Saving GPS + GSM Board</td>\n",
              "      <td>Hardware</td>\n",
              "      <td>Technology</td>\n",
              "      <td>EUR</td>\n",
              "      <td>2016-12-09</td>\n",
              "      <td>89000.00</td>\n",
              "      <td>2016-11-18 09:13:12</td>\n",
              "      <td>2032.00</td>\n",
              "      <td>failed</td>\n",
              "      <td>22</td>\n",
              "      <td>AT</td>\n",
              "      <td>546.70</td>\n",
              "      <td>2145.59</td>\n",
              "      <td>93975.04</td>\n",
              "      <td>2</td>\n",
              "    </tr>\n",
              "    <tr>\n",
              "      <th>549309727</th>\n",
              "      <td>Higher Grounds Coffee Company Mobile Coffee Tr...</td>\n",
              "      <td>Food Trucks</td>\n",
              "      <td>Food</td>\n",
              "      <td>USD</td>\n",
              "      <td>2018-01-12</td>\n",
              "      <td>10000.00</td>\n",
              "      <td>2017-12-07 16:07:54</td>\n",
              "      <td>4882.00</td>\n",
              "      <td>live</td>\n",
              "      <td>36</td>\n",
              "      <td>US</td>\n",
              "      <td>542.00</td>\n",
              "      <td>4882.00</td>\n",
              "      <td>10000.00</td>\n",
              "      <td>2</td>\n",
              "    </tr>\n",
              "    <tr>\n",
              "      <th>551994337</th>\n",
              "      <td>?? cybertwee ?? ¨*:·. bake sale on the deep we...</td>\n",
              "      <td>Digital Art</td>\n",
              "      <td>Art</td>\n",
              "      <td>USD</td>\n",
              "      <td>2015-09-18</td>\n",
              "      <td>100.00</td>\n",
              "      <td>2015-09-14 04:14:05</td>\n",
              "      <td>347.00</td>\n",
              "      <td>successful</td>\n",
              "      <td>66</td>\n",
              "      <td>US</td>\n",
              "      <td>347.00</td>\n",
              "      <td>347.00</td>\n",
              "      <td>100.00</td>\n",
              "      <td>2</td>\n",
              "    </tr>\n",
              "    <tr>\n",
              "      <th>558638957</th>\n",
              "      <td>Mµ Magazine</td>\n",
              "      <td>Zines</td>\n",
              "      <td>Publishing</td>\n",
              "      <td>CAD</td>\n",
              "      <td>2016-12-02</td>\n",
              "      <td>5000.00</td>\n",
              "      <td>2016-11-01 23:37:22</td>\n",
              "      <td>0.00</td>\n",
              "      <td>failed</td>\n",
              "      <td>0</td>\n",
              "      <td>CA</td>\n",
              "      <td>0.00</td>\n",
              "      <td>0.00</td>\n",
              "      <td>3758.55</td>\n",
              "      <td>2</td>\n",
              "    </tr>\n",
              "    <tr>\n",
              "      <th>718763713</th>\n",
              "      <td>Not Twins - New EP! \"The View from Down Here\"</td>\n",
              "      <td>Indie Rock</td>\n",
              "      <td>Music</td>\n",
              "      <td>USD</td>\n",
              "      <td>2017-03-27</td>\n",
              "      <td>3500.00</td>\n",
              "      <td>2017-02-26 18:34:59</td>\n",
              "      <td>4726.61</td>\n",
              "      <td>successful</td>\n",
              "      <td>171</td>\n",
              "      <td>US</td>\n",
              "      <td>1758.41</td>\n",
              "      <td>4726.61</td>\n",
              "      <td>3500.00</td>\n",
              "      <td>2</td>\n",
              "    </tr>\n",
              "    <tr>\n",
              "      <th>805839986</th>\n",
              "      <td>µRuler - Measure size in the micro-world under...</td>\n",
              "      <td>Technology</td>\n",
              "      <td>Technology</td>\n",
              "      <td>CAD</td>\n",
              "      <td>2017-04-07</td>\n",
              "      <td>2000.00</td>\n",
              "      <td>2017-03-08 03:42:19</td>\n",
              "      <td>5523.00</td>\n",
              "      <td>successful</td>\n",
              "      <td>213</td>\n",
              "      <td>CA</td>\n",
              "      <td>623.34</td>\n",
              "      <td>4118.26</td>\n",
              "      <td>1491.31</td>\n",
              "      <td>2</td>\n",
              "    </tr>\n",
              "    <tr>\n",
              "      <th>900880068</th>\n",
              "      <td>Newton ¨El Veterano¨</td>\n",
              "      <td>Music</td>\n",
              "      <td>Music</td>\n",
              "      <td>EUR</td>\n",
              "      <td>2016-12-10</td>\n",
              "      <td>2747.00</td>\n",
              "      <td>2016-10-31 21:24:36</td>\n",
              "      <td>838.00</td>\n",
              "      <td>failed</td>\n",
              "      <td>36</td>\n",
              "      <td>ES</td>\n",
              "      <td>0.00</td>\n",
              "      <td>874.78</td>\n",
              "      <td>2867.58</td>\n",
              "      <td>4</td>\n",
              "    </tr>\n",
              "    <tr>\n",
              "      <th>960506632</th>\n",
              "      <td>Degreesº to Extinction</td>\n",
              "      <td>Documentary</td>\n",
              "      <td>Film &amp; Video</td>\n",
              "      <td>USD</td>\n",
              "      <td>2016-12-21</td>\n",
              "      <td>30000.00</td>\n",
              "      <td>2016-12-06 00:26:54</td>\n",
              "      <td>30.00</td>\n",
              "      <td>failed</td>\n",
              "      <td>2</td>\n",
              "      <td>US</td>\n",
              "      <td>5.00</td>\n",
              "      <td>30.00</td>\n",
              "      <td>30000.00</td>\n",
              "      <td>2</td>\n",
              "    </tr>\n",
              "    <tr>\n",
              "      <th>963442008</th>\n",
              "      <td>theNewerYork Lit Mag: We M?§§ w/ Yoµr H£åd</td>\n",
              "      <td>Periodicals</td>\n",
              "      <td>Publishing</td>\n",
              "      <td>USD</td>\n",
              "      <td>2012-03-25</td>\n",
              "      <td>7000.00</td>\n",
              "      <td>2012-01-30 19:01:35</td>\n",
              "      <td>9892.49</td>\n",
              "      <td>successful</td>\n",
              "      <td>228</td>\n",
              "      <td>US</td>\n",
              "      <td>9892.49</td>\n",
              "      <td>9892.49</td>\n",
              "      <td>7000.00</td>\n",
              "      <td>2</td>\n",
              "    </tr>\n",
              "    <tr>\n",
              "      <th>98169605</th>\n",
              "      <td>µTøøl - The Ultimate pocket tool! Credit card ...</td>\n",
              "      <td>Technology</td>\n",
              "      <td>Technology</td>\n",
              "      <td>NZD</td>\n",
              "      <td>2016-01-01</td>\n",
              "      <td>20000.00</td>\n",
              "      <td>2015-12-02 06:04:57</td>\n",
              "      <td>2230.00</td>\n",
              "      <td>failed</td>\n",
              "      <td>83</td>\n",
              "      <td>NZ</td>\n",
              "      <td>1477.51</td>\n",
              "      <td>1472.34</td>\n",
              "      <td>13204.81</td>\n",
              "      <td>2</td>\n",
              "    </tr>\n",
              "  </tbody>\n",
              "</table>\n",
              "</div>"
            ],
            "text/plain": [
              "                                                         name  ... name_weirdness\n",
              "ID                                                             ...               \n",
              "1221990593             Support PMCD´s ¨From a Different Clay¨  ...              3\n",
              "1234089244  Cracking (Mastering) the Metaphor \n",
              "(Political)...  ...              2\n",
              "124795481                                    µGALE (Canceled)  ...              2\n",
              "1468489999  µCurrent GOLD - Precision Multimeter Current A...  ...              2\n",
              "1610503461  µPeek - The Professional Microscope that Fits ...  ...              2\n",
              "16174550                                       PARALELO 19 Nº  ...              2\n",
              "1719215256           Kickstarter Gold: Manual Coffeemaker Nº3  ...              2\n",
              "1837094178  ¨Midgard's taigh-seinnse/ Eröffnung Mittelalte...  ...              2\n",
              "2056123754      ZEIº - the most simple time tracking solution  ...              2\n",
              "2068157547  Ballet Folklorico Infantil de la Universidad ...  ...              2\n",
              "2096648634                          Funky City : a funky rpg  ...              2\n",
              "2102265118      Music Album ¨Dreams¨ Uplifting Tunes with Rap  ...              4\n",
              "237780030   Solderdoodle Pro: Over 700ºF USB Rechargeable ...  ...              2\n",
              "383244441            Virtual Roller Coaster in 4th Dimension  ...              2\n",
              "458626388   Solderdoodle Pro: 700ºF USB Rechargeable Solde...  ...              2\n",
              "466898065                                Manual Tea Maker Nº1  ...              2\n",
              "516833776    µTracker - extremly Power Saving GPS + GSM Board  ...              2\n",
              "549309727   Higher Grounds Coffee Company Mobile Coffee Tr...  ...              2\n",
              "551994337   ?? cybertwee ?? ¨*:·. bake sale on the deep we...  ...              2\n",
              "558638957                                         Mµ Magazine  ...              2\n",
              "718763713      Not Twins - New EP! \"The View from Down Here\"  ...              2\n",
              "805839986   µRuler - Measure size in the micro-world under...  ...              2\n",
              "900880068                                Newton ¨El Veterano¨  ...              4\n",
              "960506632                              Degreesº to Extinction  ...              2\n",
              "963442008          theNewerYork Lit Mag: We M?§§ w/ Yoµr H£åd  ...              2\n",
              "98169605    µTøøl - The Ultimate pocket tool! Credit card ...  ...              2\n",
              "\n",
              "[26 rows x 15 columns]"
            ]
          },
          "metadata": {
            "tags": []
          },
          "execution_count": 63
        }
      ]
    },
    {
      "cell_type": "markdown",
      "metadata": {
        "colab_type": "text",
        "id": "IWvV8C1LIXUA"
      },
      "source": [
        "Volviendo a la consigna original, chequeamos que no haya caracteres fuera de a-Z, 0-9 y _ en los nombres de columnas"
      ]
    },
    {
      "cell_type": "code",
      "metadata": {
        "colab_type": "code",
        "id": "dll59dNxIXUA",
        "colab": {
          "base_uri": "https://localhost:8080/",
          "height": 35
        },
        "outputId": "6276cdfe-5db0-4d8b-da79-2d168fd3bf4e"
      },
      "source": [
        "kickstarter_2018.columns[~kickstarter_2018.columns.str.match(r'^(\\w+)$')]"
      ],
      "execution_count": null,
      "outputs": [
        {
          "output_type": "execute_result",
          "data": {
            "text/plain": [
              "Index(['usd pledged'], dtype='object')"
            ]
          },
          "metadata": {
            "tags": []
          },
          "execution_count": 64
        }
      ]
    },
    {
      "cell_type": "code",
      "metadata": {
        "colab_type": "code",
        "id": "QvhxXo1xIXUE",
        "colab": {
          "base_uri": "https://localhost:8080/",
          "height": 303
        },
        "outputId": "4da50fb6-9366-45d0-ea03-616131088448"
      },
      "source": [
        "kickstarter_2018.usd_pledged.head()"
      ],
      "execution_count": null,
      "outputs": [
        {
          "output_type": "error",
          "ename": "AttributeError",
          "evalue": "ignored",
          "traceback": [
            "\u001b[0;31m---------------------------------------------------------------------------\u001b[0m",
            "\u001b[0;31mAttributeError\u001b[0m                            Traceback (most recent call last)",
            "\u001b[0;32m<ipython-input-65-82c7184671dd>\u001b[0m in \u001b[0;36m<module>\u001b[0;34m()\u001b[0m\n\u001b[0;32m----> 1\u001b[0;31m \u001b[0mkickstarter_2018\u001b[0m\u001b[0;34m.\u001b[0m\u001b[0musd_pledged\u001b[0m\u001b[0;34m.\u001b[0m\u001b[0mhead\u001b[0m\u001b[0;34m(\u001b[0m\u001b[0;34m)\u001b[0m\u001b[0;34m\u001b[0m\u001b[0;34m\u001b[0m\u001b[0m\n\u001b[0m",
            "\u001b[0;32m/usr/local/lib/python3.6/dist-packages/pandas/core/generic.py\u001b[0m in \u001b[0;36m__getattr__\u001b[0;34m(self, name)\u001b[0m\n\u001b[1;32m   5272\u001b[0m             \u001b[0;32mif\u001b[0m \u001b[0mself\u001b[0m\u001b[0;34m.\u001b[0m\u001b[0m_info_axis\u001b[0m\u001b[0;34m.\u001b[0m\u001b[0m_can_hold_identifiers_and_holds_name\u001b[0m\u001b[0;34m(\u001b[0m\u001b[0mname\u001b[0m\u001b[0;34m)\u001b[0m\u001b[0;34m:\u001b[0m\u001b[0;34m\u001b[0m\u001b[0;34m\u001b[0m\u001b[0m\n\u001b[1;32m   5273\u001b[0m                 \u001b[0;32mreturn\u001b[0m \u001b[0mself\u001b[0m\u001b[0;34m[\u001b[0m\u001b[0mname\u001b[0m\u001b[0;34m]\u001b[0m\u001b[0;34m\u001b[0m\u001b[0;34m\u001b[0m\u001b[0m\n\u001b[0;32m-> 5274\u001b[0;31m             \u001b[0;32mreturn\u001b[0m \u001b[0mobject\u001b[0m\u001b[0;34m.\u001b[0m\u001b[0m__getattribute__\u001b[0m\u001b[0;34m(\u001b[0m\u001b[0mself\u001b[0m\u001b[0;34m,\u001b[0m \u001b[0mname\u001b[0m\u001b[0;34m)\u001b[0m\u001b[0;34m\u001b[0m\u001b[0;34m\u001b[0m\u001b[0m\n\u001b[0m\u001b[1;32m   5275\u001b[0m \u001b[0;34m\u001b[0m\u001b[0m\n\u001b[1;32m   5276\u001b[0m     \u001b[0;32mdef\u001b[0m \u001b[0m__setattr__\u001b[0m\u001b[0;34m(\u001b[0m\u001b[0mself\u001b[0m\u001b[0;34m,\u001b[0m \u001b[0mname\u001b[0m\u001b[0;34m:\u001b[0m \u001b[0mstr\u001b[0m\u001b[0;34m,\u001b[0m \u001b[0mvalue\u001b[0m\u001b[0;34m)\u001b[0m \u001b[0;34m->\u001b[0m \u001b[0;32mNone\u001b[0m\u001b[0;34m:\u001b[0m\u001b[0;34m\u001b[0m\u001b[0;34m\u001b[0m\u001b[0m\n",
            "\u001b[0;31mAttributeError\u001b[0m: 'DataFrame' object has no attribute 'usd_pledged'"
          ]
        }
      ]
    },
    {
      "cell_type": "code",
      "metadata": {
        "colab_type": "code",
        "id": "qq6sydy8IXUG",
        "scrolled": true,
        "colab": {
          "base_uri": "https://localhost:8080/",
          "height": 483
        },
        "outputId": "ed6f24e4-eb0c-4a6e-d980-5e576485fe99"
      },
      "source": [
        "kickstarter_2018.columns = kickstarter_2018.columns.str.replace(' ', '_')\n",
        "kickstarter_2018.head()"
      ],
      "execution_count": null,
      "outputs": [
        {
          "output_type": "execute_result",
          "data": {
            "text/html": [
              "<div>\n",
              "<style scoped>\n",
              "    .dataframe tbody tr th:only-of-type {\n",
              "        vertical-align: middle;\n",
              "    }\n",
              "\n",
              "    .dataframe tbody tr th {\n",
              "        vertical-align: top;\n",
              "    }\n",
              "\n",
              "    .dataframe thead th {\n",
              "        text-align: right;\n",
              "    }\n",
              "</style>\n",
              "<table border=\"1\" class=\"dataframe\">\n",
              "  <thead>\n",
              "    <tr style=\"text-align: right;\">\n",
              "      <th></th>\n",
              "      <th>name</th>\n",
              "      <th>category</th>\n",
              "      <th>main_category</th>\n",
              "      <th>currency</th>\n",
              "      <th>deadline</th>\n",
              "      <th>goal</th>\n",
              "      <th>launched</th>\n",
              "      <th>pledged</th>\n",
              "      <th>state</th>\n",
              "      <th>backers</th>\n",
              "      <th>country</th>\n",
              "      <th>usd_pledged</th>\n",
              "      <th>usd_pledged_real</th>\n",
              "      <th>usd_goal_real</th>\n",
              "      <th>name_weirdness</th>\n",
              "    </tr>\n",
              "    <tr>\n",
              "      <th>ID</th>\n",
              "      <th></th>\n",
              "      <th></th>\n",
              "      <th></th>\n",
              "      <th></th>\n",
              "      <th></th>\n",
              "      <th></th>\n",
              "      <th></th>\n",
              "      <th></th>\n",
              "      <th></th>\n",
              "      <th></th>\n",
              "      <th></th>\n",
              "      <th></th>\n",
              "      <th></th>\n",
              "      <th></th>\n",
              "      <th></th>\n",
              "    </tr>\n",
              "  </thead>\n",
              "  <tbody>\n",
              "    <tr>\n",
              "      <th>1000002330</th>\n",
              "      <td>The Songs of Adelaide &amp; Abullah</td>\n",
              "      <td>Poetry</td>\n",
              "      <td>Publishing</td>\n",
              "      <td>GBP</td>\n",
              "      <td>2015-10-09</td>\n",
              "      <td>1000.00</td>\n",
              "      <td>2015-08-11 12:12:28</td>\n",
              "      <td>0.00</td>\n",
              "      <td>failed</td>\n",
              "      <td>0</td>\n",
              "      <td>GB</td>\n",
              "      <td>0.00</td>\n",
              "      <td>0.00</td>\n",
              "      <td>1533.95</td>\n",
              "      <td>0</td>\n",
              "    </tr>\n",
              "    <tr>\n",
              "      <th>1000003930</th>\n",
              "      <td>Greeting From Earth: ZGAC Arts Capsule For ET</td>\n",
              "      <td>Narrative Film</td>\n",
              "      <td>Film &amp; Video</td>\n",
              "      <td>USD</td>\n",
              "      <td>2017-11-01</td>\n",
              "      <td>30000.00</td>\n",
              "      <td>2017-09-02 04:43:57</td>\n",
              "      <td>2421.00</td>\n",
              "      <td>failed</td>\n",
              "      <td>15</td>\n",
              "      <td>US</td>\n",
              "      <td>100.00</td>\n",
              "      <td>2421.00</td>\n",
              "      <td>30000.00</td>\n",
              "      <td>0</td>\n",
              "    </tr>\n",
              "    <tr>\n",
              "      <th>1000004038</th>\n",
              "      <td>Where is Hank?</td>\n",
              "      <td>Narrative Film</td>\n",
              "      <td>Film &amp; Video</td>\n",
              "      <td>USD</td>\n",
              "      <td>2013-02-26</td>\n",
              "      <td>45000.00</td>\n",
              "      <td>2013-01-12 00:20:50</td>\n",
              "      <td>220.00</td>\n",
              "      <td>failed</td>\n",
              "      <td>3</td>\n",
              "      <td>US</td>\n",
              "      <td>220.00</td>\n",
              "      <td>220.00</td>\n",
              "      <td>45000.00</td>\n",
              "      <td>0</td>\n",
              "    </tr>\n",
              "    <tr>\n",
              "      <th>1000007540</th>\n",
              "      <td>ToshiCapital Rekordz Needs Help to Complete Album</td>\n",
              "      <td>Music</td>\n",
              "      <td>Music</td>\n",
              "      <td>USD</td>\n",
              "      <td>2012-04-16</td>\n",
              "      <td>5000.00</td>\n",
              "      <td>2012-03-17 03:24:11</td>\n",
              "      <td>1.00</td>\n",
              "      <td>failed</td>\n",
              "      <td>1</td>\n",
              "      <td>US</td>\n",
              "      <td>1.00</td>\n",
              "      <td>1.00</td>\n",
              "      <td>5000.00</td>\n",
              "      <td>0</td>\n",
              "    </tr>\n",
              "    <tr>\n",
              "      <th>1000011046</th>\n",
              "      <td>Community Film Project: The Art of Neighborhoo...</td>\n",
              "      <td>Film &amp; Video</td>\n",
              "      <td>Film &amp; Video</td>\n",
              "      <td>USD</td>\n",
              "      <td>2015-08-29</td>\n",
              "      <td>19500.00</td>\n",
              "      <td>2015-07-04 08:35:03</td>\n",
              "      <td>1283.00</td>\n",
              "      <td>canceled</td>\n",
              "      <td>14</td>\n",
              "      <td>US</td>\n",
              "      <td>1283.00</td>\n",
              "      <td>1283.00</td>\n",
              "      <td>19500.00</td>\n",
              "      <td>0</td>\n",
              "    </tr>\n",
              "  </tbody>\n",
              "</table>\n",
              "</div>"
            ],
            "text/plain": [
              "                                                         name  ... name_weirdness\n",
              "ID                                                             ...               \n",
              "1000002330                    The Songs of Adelaide & Abullah  ...              0\n",
              "1000003930      Greeting From Earth: ZGAC Arts Capsule For ET  ...              0\n",
              "1000004038                                     Where is Hank?  ...              0\n",
              "1000007540  ToshiCapital Rekordz Needs Help to Complete Album  ...              0\n",
              "1000011046  Community Film Project: The Art of Neighborhoo...  ...              0\n",
              "\n",
              "[5 rows x 15 columns]"
            ]
          },
          "metadata": {
            "tags": []
          },
          "execution_count": 66
        }
      ]
    },
    {
      "cell_type": "code",
      "metadata": {
        "colab_type": "code",
        "id": "O92pigy9IXUH",
        "colab": {
          "base_uri": "https://localhost:8080/",
          "height": 146
        },
        "outputId": "682cc2d0-7888-4b34-a9e0-fa1e5cb4b07f"
      },
      "source": [
        "kickstarter_2018.usd_pledged.head()"
      ],
      "execution_count": null,
      "outputs": [
        {
          "output_type": "execute_result",
          "data": {
            "text/plain": [
              "ID\n",
              "1000002330      0.00\n",
              "1000003930    100.00\n",
              "1000004038    220.00\n",
              "1000007540      1.00\n",
              "1000011046   1283.00\n",
              "Name: usd_pledged, dtype: float64"
            ]
          },
          "metadata": {
            "tags": []
          },
          "execution_count": 67
        }
      ]
    },
    {
      "cell_type": "markdown",
      "metadata": {
        "id": "zEv0UzJGdLDx",
        "colab_type": "text"
      },
      "source": [
        "#### Ejercicio 3\n",
        "\n",
        "Comparar la cantidad de nombres raros en kickstarter_2018 con la que obtenemos al cargar 'ks-projects-201801.csv' con encoding iso-8859-1."
      ]
    },
    {
      "cell_type": "code",
      "metadata": {
        "id": "_3jIUjkkyrMA",
        "colab_type": "code",
        "colab": {
          "base_uri": "https://localhost:8080/",
          "height": 525
        },
        "outputId": "78ad2f8b-d42e-42f4-f0f7-c27c86565bfc"
      },
      "source": [
        "# read in the file with the encoding detected by chardet\n",
        "kickstarter_2018_iso_8859_1 = pd.read_csv(BASE_DIR + \"/input/kickstarter-projects/ks-projects-201801.csv\", encoding='iso-8859-1')\n",
        "# look at the first few lines\n",
        "kickstarter_2018_iso_8859_1.sample(4)"
      ],
      "execution_count": null,
      "outputs": [
        {
          "output_type": "execute_result",
          "data": {
            "text/html": [
              "<div>\n",
              "<style scoped>\n",
              "    .dataframe tbody tr th:only-of-type {\n",
              "        vertical-align: middle;\n",
              "    }\n",
              "\n",
              "    .dataframe tbody tr th {\n",
              "        vertical-align: top;\n",
              "    }\n",
              "\n",
              "    .dataframe thead th {\n",
              "        text-align: right;\n",
              "    }\n",
              "</style>\n",
              "<table border=\"1\" class=\"dataframe\">\n",
              "  <thead>\n",
              "    <tr style=\"text-align: right;\">\n",
              "      <th></th>\n",
              "      <th>ID</th>\n",
              "      <th>name</th>\n",
              "      <th>category</th>\n",
              "      <th>main_category</th>\n",
              "      <th>currency</th>\n",
              "      <th>deadline</th>\n",
              "      <th>goal</th>\n",
              "      <th>launched</th>\n",
              "      <th>pledged</th>\n",
              "      <th>state</th>\n",
              "      <th>backers</th>\n",
              "      <th>country</th>\n",
              "      <th>usd pledged</th>\n",
              "      <th>usd_pledged_real</th>\n",
              "      <th>usd_goal_real</th>\n",
              "    </tr>\n",
              "  </thead>\n",
              "  <tbody>\n",
              "    <tr>\n",
              "      <th>210467</th>\n",
              "      <td>2072584855</td>\n",
              "      <td>\"The Dale Preston Show\" - The Next Level</td>\n",
              "      <td>Comedy</td>\n",
              "      <td>Film &amp; Video</td>\n",
              "      <td>USD</td>\n",
              "      <td>2016-05-05</td>\n",
              "      <td>23000.00</td>\n",
              "      <td>2016-04-05 02:11:17</td>\n",
              "      <td>91.00</td>\n",
              "      <td>failed</td>\n",
              "      <td>4</td>\n",
              "      <td>US</td>\n",
              "      <td>91.00</td>\n",
              "      <td>91.00</td>\n",
              "      <td>23000.00</td>\n",
              "    </tr>\n",
              "    <tr>\n",
              "      <th>227681</th>\n",
              "      <td>227668986</td>\n",
              "      <td>World Only 36\" MTB and 36\" Road Bikes for Tall...</td>\n",
              "      <td>Product Design</td>\n",
              "      <td>Design</td>\n",
              "      <td>USD</td>\n",
              "      <td>2017-04-11</td>\n",
              "      <td>19999.00</td>\n",
              "      <td>2017-03-11 16:21:07</td>\n",
              "      <td>20973.00</td>\n",
              "      <td>canceled</td>\n",
              "      <td>9</td>\n",
              "      <td>US</td>\n",
              "      <td>6554.00</td>\n",
              "      <td>20973.00</td>\n",
              "      <td>19999.00</td>\n",
              "    </tr>\n",
              "    <tr>\n",
              "      <th>262382</th>\n",
              "      <td>404608460</td>\n",
              "      <td>Love(ly) Letters</td>\n",
              "      <td>Crafts</td>\n",
              "      <td>Crafts</td>\n",
              "      <td>USD</td>\n",
              "      <td>2012-09-22</td>\n",
              "      <td>5.00</td>\n",
              "      <td>2012-08-23 21:37:00</td>\n",
              "      <td>131.00</td>\n",
              "      <td>successful</td>\n",
              "      <td>24</td>\n",
              "      <td>US</td>\n",
              "      <td>131.00</td>\n",
              "      <td>131.00</td>\n",
              "      <td>5.00</td>\n",
              "    </tr>\n",
              "    <tr>\n",
              "      <th>272105</th>\n",
              "      <td>454384095</td>\n",
              "      <td>Trill Times Brewing Co</td>\n",
              "      <td>Food</td>\n",
              "      <td>Food</td>\n",
              "      <td>USD</td>\n",
              "      <td>2013-07-02</td>\n",
              "      <td>5000.00</td>\n",
              "      <td>2013-05-03 02:58:35</td>\n",
              "      <td>87.99</td>\n",
              "      <td>failed</td>\n",
              "      <td>7</td>\n",
              "      <td>US</td>\n",
              "      <td>87.99</td>\n",
              "      <td>87.99</td>\n",
              "      <td>5000.00</td>\n",
              "    </tr>\n",
              "  </tbody>\n",
              "</table>\n",
              "</div>"
            ],
            "text/plain": [
              "                ID  ... usd_goal_real\n",
              "210467  2072584855  ...      23000.00\n",
              "227681   227668986  ...      19999.00\n",
              "262382   404608460  ...          5.00\n",
              "272105   454384095  ...       5000.00\n",
              "\n",
              "[4 rows x 15 columns]"
            ]
          },
          "metadata": {
            "tags": []
          },
          "execution_count": 72
        }
      ]
    },
    {
      "cell_type": "code",
      "metadata": {
        "id": "iQF0gRij0g3s",
        "colab_type": "code",
        "colab": {}
      },
      "source": [
        "kickstarter_2018_iso_8859_1['name_weirdness'] = kickstarter_2018_iso_8859_1['name'].apply(weird)\n",
        "weird_iso = kickstarter_2018_iso_8859_1[kickstarter_2018_iso_8859_1['name_weirdness'] > 1][['name','name_weirdness']].sort_values(by=['name_weirdness'], ascending=False)"
      ],
      "execution_count": null,
      "outputs": []
    },
    {
      "cell_type": "code",
      "metadata": {
        "id": "wN0RIGT-Lyxi",
        "colab_type": "code",
        "colab": {}
      },
      "source": [
        "weird_win=kickstarter_2018[kickstarter_2018['name_weirdness'] > 1]"
      ],
      "execution_count": null,
      "outputs": []
    },
    {
      "cell_type": "code",
      "metadata": {
        "id": "kKw5efyc0kpj",
        "colab_type": "code",
        "colab": {
          "base_uri": "https://localhost:8080/",
          "height": 35
        },
        "outputId": "9c10fbe1-c6b7-4ec1-d112-13807093f19f"
      },
      "source": [
        "win = len(weird_win)\n",
        "iso = len(weird_iso)\n",
        "print('Diferencia en cantidades |WIN - ISO|: %i' %np.abs(iso - win))"
      ],
      "execution_count": null,
      "outputs": [
        {
          "output_type": "stream",
          "text": [
            "Diferencia en cantidades |WIN - ISO|: 7656\n"
          ],
          "name": "stdout"
        }
      ]
    },
    {
      "cell_type": "markdown",
      "metadata": {
        "colab_type": "text",
        "id": "ahRhnkZ7IXUI"
      },
      "source": [
        "## 2.2. Tratar valores faltantes\n",
        "\n",
        "Veamos cuantos valores nulos tenemos"
      ]
    },
    {
      "cell_type": "code",
      "metadata": {
        "colab_type": "code",
        "id": "UkbDCMZtIXUJ",
        "scrolled": true,
        "colab": {
          "base_uri": "https://localhost:8080/",
          "height": 35
        },
        "outputId": "758593d3-6e98-4027-c704-f4d741154067"
      },
      "source": [
        "# get the number of missing data points per column\n",
        "missing_values_count = kickstarter_2018.isnull().sum()\n",
        "\n",
        "# look at the # of missing points in the first ten columns\n",
        "missing_values_count[missing_values_count > 0]"
      ],
      "execution_count": null,
      "outputs": [
        {
          "output_type": "execute_result",
          "data": {
            "text/plain": [
              "Series([], dtype: int64)"
            ]
          },
          "metadata": {
            "tags": []
          },
          "execution_count": 108
        }
      ]
    },
    {
      "cell_type": "markdown",
      "metadata": {
        "id": "aTVo_ZEHdLD7",
        "colab_type": "text"
      },
      "source": [
        "Esta medida en sí, no dice nada más que con cuantos valores debemos lidiar. \n",
        "\n",
        "Primero tenemos que ver si en términos relativos su impacto."
      ]
    },
    {
      "cell_type": "code",
      "metadata": {
        "colab_type": "code",
        "id": "1WC9vl6mIXUK",
        "colab": {
          "base_uri": "https://localhost:8080/",
          "height": 35
        },
        "outputId": "aee7668b-3ed3-4832-9dec-26395251d1fa"
      },
      "source": [
        "len(kickstarter_2018.dropna())/len(kickstarter_2018)"
      ],
      "execution_count": null,
      "outputs": [
        {
          "output_type": "execute_result",
          "data": {
            "text/plain": [
              "1.0"
            ]
          },
          "metadata": {
            "tags": []
          },
          "execution_count": 109
        }
      ]
    },
    {
      "cell_type": "code",
      "metadata": {
        "colab_type": "code",
        "id": "eqv839nVIXUN",
        "colab": {
          "base_uri": "https://localhost:8080/",
          "height": 35
        },
        "outputId": "235f2046-1e71-4779-cd04-e97a89f5a5fe"
      },
      "source": [
        "len(kickstarter_2018.dropna(subset=['name']))/len(kickstarter_2018)"
      ],
      "execution_count": null,
      "outputs": [
        {
          "output_type": "execute_result",
          "data": {
            "text/plain": [
              "1.0"
            ]
          },
          "metadata": {
            "tags": []
          },
          "execution_count": 110
        }
      ]
    },
    {
      "cell_type": "markdown",
      "metadata": {
        "id": "TXVtmhHYdLEL",
        "colab_type": "text"
      },
      "source": [
        "También debemos ver que significan en términos de representatividad e importancia de nuestro análisis."
      ]
    },
    {
      "cell_type": "code",
      "metadata": {
        "colab_type": "code",
        "id": "2Aa4DZm1IXUO",
        "colab": {
          "base_uri": "https://localhost:8080/",
          "height": 101
        },
        "outputId": "cb419d53-8e71-4dd1-82d2-ac87276ef315"
      },
      "source": [
        "kickstarter_2018[kickstarter_2018.name.isnull()]"
      ],
      "execution_count": null,
      "outputs": [
        {
          "output_type": "execute_result",
          "data": {
            "text/html": [
              "<div>\n",
              "<style scoped>\n",
              "    .dataframe tbody tr th:only-of-type {\n",
              "        vertical-align: middle;\n",
              "    }\n",
              "\n",
              "    .dataframe tbody tr th {\n",
              "        vertical-align: top;\n",
              "    }\n",
              "\n",
              "    .dataframe thead th {\n",
              "        text-align: right;\n",
              "    }\n",
              "</style>\n",
              "<table border=\"1\" class=\"dataframe\">\n",
              "  <thead>\n",
              "    <tr style=\"text-align: right;\">\n",
              "      <th></th>\n",
              "      <th>name</th>\n",
              "      <th>category</th>\n",
              "      <th>main_category</th>\n",
              "      <th>currency</th>\n",
              "      <th>deadline</th>\n",
              "      <th>goal</th>\n",
              "      <th>launched</th>\n",
              "      <th>pledged</th>\n",
              "      <th>state</th>\n",
              "      <th>backers</th>\n",
              "      <th>country</th>\n",
              "      <th>usd_pledged</th>\n",
              "      <th>usd_pledged_real</th>\n",
              "      <th>usd_goal_real</th>\n",
              "      <th>name_weirdness</th>\n",
              "    </tr>\n",
              "    <tr>\n",
              "      <th>ID</th>\n",
              "      <th></th>\n",
              "      <th></th>\n",
              "      <th></th>\n",
              "      <th></th>\n",
              "      <th></th>\n",
              "      <th></th>\n",
              "      <th></th>\n",
              "      <th></th>\n",
              "      <th></th>\n",
              "      <th></th>\n",
              "      <th></th>\n",
              "      <th></th>\n",
              "      <th></th>\n",
              "      <th></th>\n",
              "      <th></th>\n",
              "    </tr>\n",
              "  </thead>\n",
              "  <tbody>\n",
              "  </tbody>\n",
              "</table>\n",
              "</div>"
            ],
            "text/plain": [
              "Empty DataFrame\n",
              "Columns: [name, category, main_category, currency, deadline, goal, launched, pledged, state, backers, country, usd_pledged, usd_pledged_real, usd_goal_real, name_weirdness]\n",
              "Index: []"
            ]
          },
          "metadata": {
            "tags": []
          },
          "execution_count": 111
        }
      ]
    },
    {
      "cell_type": "markdown",
      "metadata": {
        "id": "Uz9mkBwTdLET",
        "colab_type": "text"
      },
      "source": [
        "Ejemplo, cuantos de los proyectos suspendidos no tienen nombre"
      ]
    },
    {
      "cell_type": "code",
      "metadata": {
        "id": "LTmj0u46dLEV",
        "colab_type": "code",
        "colab": {
          "base_uri": "https://localhost:8080/",
          "height": 35
        },
        "outputId": "f9fa6ae1-98f1-46b9-848b-d4f66c1387cb"
      },
      "source": [
        "len(kickstarter_2018[kickstarter_2018.state == 'suspended'].dropna(subset=['name'])) / \\\n",
        "    len(kickstarter_2018[kickstarter_2018.state == 'suspended'])"
      ],
      "execution_count": null,
      "outputs": [
        {
          "output_type": "execute_result",
          "data": {
            "text/plain": [
              "1.0"
            ]
          },
          "metadata": {
            "tags": []
          },
          "execution_count": 112
        }
      ]
    },
    {
      "cell_type": "markdown",
      "metadata": {
        "id": "g85cA8GhdLEn",
        "colab_type": "text"
      },
      "source": [
        "En este caso, creemos que es seguro descartar los proyectos sin nombre"
      ]
    },
    {
      "cell_type": "code",
      "metadata": {
        "colab_type": "code",
        "id": "7ig47EETIXUP",
        "colab": {}
      },
      "source": [
        "kickstarter_2018 = kickstarter_2018.dropna(subset=['name'])"
      ],
      "execution_count": null,
      "outputs": []
    },
    {
      "cell_type": "code",
      "metadata": {
        "colab_type": "code",
        "id": "_mguXGJ7IXUQ",
        "colab": {
          "base_uri": "https://localhost:8080/",
          "height": 35
        },
        "outputId": "5e1ef541-1a5d-4829-afd8-acb89193aab4"
      },
      "source": [
        "missing_values_count = kickstarter_2018.isnull().sum()\n",
        "missing_values_count[missing_values_count > 0]"
      ],
      "execution_count": null,
      "outputs": [
        {
          "output_type": "execute_result",
          "data": {
            "text/plain": [
              "Series([], dtype: int64)"
            ]
          },
          "metadata": {
            "tags": []
          },
          "execution_count": 114
        }
      ]
    },
    {
      "cell_type": "code",
      "metadata": {
        "colab_type": "code",
        "id": "Xi85q0ytIXUR",
        "scrolled": true,
        "colab": {
          "base_uri": "https://localhost:8080/",
          "height": 101
        },
        "outputId": "186ee1fc-56b9-4ec9-8725-22f815f76666"
      },
      "source": [
        "kickstarter_2018[kickstarter_2018.usd_pledged.isnull()]"
      ],
      "execution_count": null,
      "outputs": [
        {
          "output_type": "execute_result",
          "data": {
            "text/html": [
              "<div>\n",
              "<style scoped>\n",
              "    .dataframe tbody tr th:only-of-type {\n",
              "        vertical-align: middle;\n",
              "    }\n",
              "\n",
              "    .dataframe tbody tr th {\n",
              "        vertical-align: top;\n",
              "    }\n",
              "\n",
              "    .dataframe thead th {\n",
              "        text-align: right;\n",
              "    }\n",
              "</style>\n",
              "<table border=\"1\" class=\"dataframe\">\n",
              "  <thead>\n",
              "    <tr style=\"text-align: right;\">\n",
              "      <th></th>\n",
              "      <th>name</th>\n",
              "      <th>category</th>\n",
              "      <th>main_category</th>\n",
              "      <th>currency</th>\n",
              "      <th>deadline</th>\n",
              "      <th>goal</th>\n",
              "      <th>launched</th>\n",
              "      <th>pledged</th>\n",
              "      <th>state</th>\n",
              "      <th>backers</th>\n",
              "      <th>country</th>\n",
              "      <th>usd_pledged</th>\n",
              "      <th>usd_pledged_real</th>\n",
              "      <th>usd_goal_real</th>\n",
              "      <th>name_weirdness</th>\n",
              "    </tr>\n",
              "    <tr>\n",
              "      <th>ID</th>\n",
              "      <th></th>\n",
              "      <th></th>\n",
              "      <th></th>\n",
              "      <th></th>\n",
              "      <th></th>\n",
              "      <th></th>\n",
              "      <th></th>\n",
              "      <th></th>\n",
              "      <th></th>\n",
              "      <th></th>\n",
              "      <th></th>\n",
              "      <th></th>\n",
              "      <th></th>\n",
              "      <th></th>\n",
              "      <th></th>\n",
              "    </tr>\n",
              "  </thead>\n",
              "  <tbody>\n",
              "  </tbody>\n",
              "</table>\n",
              "</div>"
            ],
            "text/plain": [
              "Empty DataFrame\n",
              "Columns: [name, category, main_category, currency, deadline, goal, launched, pledged, state, backers, country, usd_pledged, usd_pledged_real, usd_goal_real, name_weirdness]\n",
              "Index: []"
            ]
          },
          "metadata": {
            "tags": []
          },
          "execution_count": 115
        }
      ]
    },
    {
      "cell_type": "code",
      "metadata": {
        "colab_type": "code",
        "id": "hIHOdVWuIXUU",
        "colab": {
          "base_uri": "https://localhost:8080/",
          "height": 414
        },
        "outputId": "c41da6c5-7570-41de-f5b0-247dec37882c"
      },
      "source": [
        "kickstarter_2018[kickstarter_2018.usd_pledged.isnull()].describe(include='all')"
      ],
      "execution_count": null,
      "outputs": [
        {
          "output_type": "execute_result",
          "data": {
            "text/html": [
              "<div>\n",
              "<style scoped>\n",
              "    .dataframe tbody tr th:only-of-type {\n",
              "        vertical-align: middle;\n",
              "    }\n",
              "\n",
              "    .dataframe tbody tr th {\n",
              "        vertical-align: top;\n",
              "    }\n",
              "\n",
              "    .dataframe thead th {\n",
              "        text-align: right;\n",
              "    }\n",
              "</style>\n",
              "<table border=\"1\" class=\"dataframe\">\n",
              "  <thead>\n",
              "    <tr style=\"text-align: right;\">\n",
              "      <th></th>\n",
              "      <th>name</th>\n",
              "      <th>category</th>\n",
              "      <th>main_category</th>\n",
              "      <th>currency</th>\n",
              "      <th>deadline</th>\n",
              "      <th>goal</th>\n",
              "      <th>launched</th>\n",
              "      <th>pledged</th>\n",
              "      <th>state</th>\n",
              "      <th>backers</th>\n",
              "      <th>country</th>\n",
              "      <th>usd_pledged</th>\n",
              "      <th>usd_pledged_real</th>\n",
              "      <th>usd_goal_real</th>\n",
              "      <th>name_weirdness</th>\n",
              "    </tr>\n",
              "  </thead>\n",
              "  <tbody>\n",
              "    <tr>\n",
              "      <th>count</th>\n",
              "      <td>0</td>\n",
              "      <td>0</td>\n",
              "      <td>0</td>\n",
              "      <td>0</td>\n",
              "      <td>0</td>\n",
              "      <td>0.00</td>\n",
              "      <td>0</td>\n",
              "      <td>0.00</td>\n",
              "      <td>0</td>\n",
              "      <td>0.00</td>\n",
              "      <td>0</td>\n",
              "      <td>0.00</td>\n",
              "      <td>0.00</td>\n",
              "      <td>0.00</td>\n",
              "      <td>0.00</td>\n",
              "    </tr>\n",
              "    <tr>\n",
              "      <th>unique</th>\n",
              "      <td>0</td>\n",
              "      <td>0</td>\n",
              "      <td>0</td>\n",
              "      <td>0</td>\n",
              "      <td>0</td>\n",
              "      <td>nan</td>\n",
              "      <td>0</td>\n",
              "      <td>nan</td>\n",
              "      <td>0</td>\n",
              "      <td>nan</td>\n",
              "      <td>0</td>\n",
              "      <td>nan</td>\n",
              "      <td>nan</td>\n",
              "      <td>nan</td>\n",
              "      <td>nan</td>\n",
              "    </tr>\n",
              "    <tr>\n",
              "      <th>top</th>\n",
              "      <td>NaN</td>\n",
              "      <td>NaN</td>\n",
              "      <td>NaN</td>\n",
              "      <td>NaN</td>\n",
              "      <td>NaN</td>\n",
              "      <td>nan</td>\n",
              "      <td>NaN</td>\n",
              "      <td>nan</td>\n",
              "      <td>NaN</td>\n",
              "      <td>nan</td>\n",
              "      <td>NaN</td>\n",
              "      <td>nan</td>\n",
              "      <td>nan</td>\n",
              "      <td>nan</td>\n",
              "      <td>nan</td>\n",
              "    </tr>\n",
              "    <tr>\n",
              "      <th>freq</th>\n",
              "      <td>NaN</td>\n",
              "      <td>NaN</td>\n",
              "      <td>NaN</td>\n",
              "      <td>NaN</td>\n",
              "      <td>NaN</td>\n",
              "      <td>nan</td>\n",
              "      <td>NaN</td>\n",
              "      <td>nan</td>\n",
              "      <td>NaN</td>\n",
              "      <td>nan</td>\n",
              "      <td>NaN</td>\n",
              "      <td>nan</td>\n",
              "      <td>nan</td>\n",
              "      <td>nan</td>\n",
              "      <td>nan</td>\n",
              "    </tr>\n",
              "    <tr>\n",
              "      <th>mean</th>\n",
              "      <td>NaN</td>\n",
              "      <td>NaN</td>\n",
              "      <td>NaN</td>\n",
              "      <td>NaN</td>\n",
              "      <td>NaN</td>\n",
              "      <td>nan</td>\n",
              "      <td>NaN</td>\n",
              "      <td>nan</td>\n",
              "      <td>NaN</td>\n",
              "      <td>nan</td>\n",
              "      <td>NaN</td>\n",
              "      <td>nan</td>\n",
              "      <td>nan</td>\n",
              "      <td>nan</td>\n",
              "      <td>nan</td>\n",
              "    </tr>\n",
              "    <tr>\n",
              "      <th>std</th>\n",
              "      <td>NaN</td>\n",
              "      <td>NaN</td>\n",
              "      <td>NaN</td>\n",
              "      <td>NaN</td>\n",
              "      <td>NaN</td>\n",
              "      <td>nan</td>\n",
              "      <td>NaN</td>\n",
              "      <td>nan</td>\n",
              "      <td>NaN</td>\n",
              "      <td>nan</td>\n",
              "      <td>NaN</td>\n",
              "      <td>nan</td>\n",
              "      <td>nan</td>\n",
              "      <td>nan</td>\n",
              "      <td>nan</td>\n",
              "    </tr>\n",
              "    <tr>\n",
              "      <th>min</th>\n",
              "      <td>NaN</td>\n",
              "      <td>NaN</td>\n",
              "      <td>NaN</td>\n",
              "      <td>NaN</td>\n",
              "      <td>NaN</td>\n",
              "      <td>nan</td>\n",
              "      <td>NaN</td>\n",
              "      <td>nan</td>\n",
              "      <td>NaN</td>\n",
              "      <td>nan</td>\n",
              "      <td>NaN</td>\n",
              "      <td>nan</td>\n",
              "      <td>nan</td>\n",
              "      <td>nan</td>\n",
              "      <td>nan</td>\n",
              "    </tr>\n",
              "    <tr>\n",
              "      <th>25%</th>\n",
              "      <td>NaN</td>\n",
              "      <td>NaN</td>\n",
              "      <td>NaN</td>\n",
              "      <td>NaN</td>\n",
              "      <td>NaN</td>\n",
              "      <td>nan</td>\n",
              "      <td>NaN</td>\n",
              "      <td>nan</td>\n",
              "      <td>NaN</td>\n",
              "      <td>nan</td>\n",
              "      <td>NaN</td>\n",
              "      <td>nan</td>\n",
              "      <td>nan</td>\n",
              "      <td>nan</td>\n",
              "      <td>nan</td>\n",
              "    </tr>\n",
              "    <tr>\n",
              "      <th>50%</th>\n",
              "      <td>NaN</td>\n",
              "      <td>NaN</td>\n",
              "      <td>NaN</td>\n",
              "      <td>NaN</td>\n",
              "      <td>NaN</td>\n",
              "      <td>nan</td>\n",
              "      <td>NaN</td>\n",
              "      <td>nan</td>\n",
              "      <td>NaN</td>\n",
              "      <td>nan</td>\n",
              "      <td>NaN</td>\n",
              "      <td>nan</td>\n",
              "      <td>nan</td>\n",
              "      <td>nan</td>\n",
              "      <td>nan</td>\n",
              "    </tr>\n",
              "    <tr>\n",
              "      <th>75%</th>\n",
              "      <td>NaN</td>\n",
              "      <td>NaN</td>\n",
              "      <td>NaN</td>\n",
              "      <td>NaN</td>\n",
              "      <td>NaN</td>\n",
              "      <td>nan</td>\n",
              "      <td>NaN</td>\n",
              "      <td>nan</td>\n",
              "      <td>NaN</td>\n",
              "      <td>nan</td>\n",
              "      <td>NaN</td>\n",
              "      <td>nan</td>\n",
              "      <td>nan</td>\n",
              "      <td>nan</td>\n",
              "      <td>nan</td>\n",
              "    </tr>\n",
              "    <tr>\n",
              "      <th>max</th>\n",
              "      <td>NaN</td>\n",
              "      <td>NaN</td>\n",
              "      <td>NaN</td>\n",
              "      <td>NaN</td>\n",
              "      <td>NaN</td>\n",
              "      <td>nan</td>\n",
              "      <td>NaN</td>\n",
              "      <td>nan</td>\n",
              "      <td>NaN</td>\n",
              "      <td>nan</td>\n",
              "      <td>NaN</td>\n",
              "      <td>nan</td>\n",
              "      <td>nan</td>\n",
              "      <td>nan</td>\n",
              "      <td>nan</td>\n",
              "    </tr>\n",
              "  </tbody>\n",
              "</table>\n",
              "</div>"
            ],
            "text/plain": [
              "       name category  ... usd_goal_real name_weirdness\n",
              "count     0        0  ...          0.00           0.00\n",
              "unique    0        0  ...           nan            nan\n",
              "top     NaN      NaN  ...           nan            nan\n",
              "freq    NaN      NaN  ...           nan            nan\n",
              "mean    NaN      NaN  ...           nan            nan\n",
              "std     NaN      NaN  ...           nan            nan\n",
              "min     NaN      NaN  ...           nan            nan\n",
              "25%     NaN      NaN  ...           nan            nan\n",
              "50%     NaN      NaN  ...           nan            nan\n",
              "75%     NaN      NaN  ...           nan            nan\n",
              "max     NaN      NaN  ...           nan            nan\n",
              "\n",
              "[11 rows x 15 columns]"
            ]
          },
          "metadata": {
            "tags": []
          },
          "execution_count": 116
        }
      ]
    },
    {
      "cell_type": "markdown",
      "metadata": {
        "id": "4NeoRYbLdLFI",
        "colab_type": "text"
      },
      "source": [
        "Interesante, todos los datos pertenecen a un país indeterminado.\n",
        "\n",
        "Todos los datos de ese \"país\" no tienen dinero prometido?"
      ]
    },
    {
      "cell_type": "code",
      "metadata": {
        "colab_type": "code",
        "id": "V1fJwrLFIXUW",
        "colab": {
          "base_uri": "https://localhost:8080/",
          "height": 362
        },
        "outputId": "2c24627a-b9ad-44f8-fc76-743603f0dcfe"
      },
      "source": [
        "kickstarter_2018[(kickstarter_2018.country == 'N,0\"') & ~(kickstarter_2018.usd_pledged.isnull())].head()"
      ],
      "execution_count": null,
      "outputs": [
        {
          "output_type": "execute_result",
          "data": {
            "text/html": [
              "<div>\n",
              "<style scoped>\n",
              "    .dataframe tbody tr th:only-of-type {\n",
              "        vertical-align: middle;\n",
              "    }\n",
              "\n",
              "    .dataframe tbody tr th {\n",
              "        vertical-align: top;\n",
              "    }\n",
              "\n",
              "    .dataframe thead th {\n",
              "        text-align: right;\n",
              "    }\n",
              "</style>\n",
              "<table border=\"1\" class=\"dataframe\">\n",
              "  <thead>\n",
              "    <tr style=\"text-align: right;\">\n",
              "      <th></th>\n",
              "      <th>name</th>\n",
              "      <th>category</th>\n",
              "      <th>main_category</th>\n",
              "      <th>currency</th>\n",
              "      <th>deadline</th>\n",
              "      <th>goal</th>\n",
              "      <th>launched</th>\n",
              "      <th>pledged</th>\n",
              "      <th>state</th>\n",
              "      <th>backers</th>\n",
              "      <th>country</th>\n",
              "      <th>usd_pledged</th>\n",
              "      <th>usd_pledged_real</th>\n",
              "      <th>usd_goal_real</th>\n",
              "      <th>name_weirdness</th>\n",
              "    </tr>\n",
              "    <tr>\n",
              "      <th>ID</th>\n",
              "      <th></th>\n",
              "      <th></th>\n",
              "      <th></th>\n",
              "      <th></th>\n",
              "      <th></th>\n",
              "      <th></th>\n",
              "      <th></th>\n",
              "      <th></th>\n",
              "      <th></th>\n",
              "      <th></th>\n",
              "      <th></th>\n",
              "      <th></th>\n",
              "      <th></th>\n",
              "      <th></th>\n",
              "      <th></th>\n",
              "    </tr>\n",
              "  </thead>\n",
              "  <tbody>\n",
              "    <tr>\n",
              "      <th>1000694855</th>\n",
              "      <td>STREETFIGHTERZ WHEELIE MURICA</td>\n",
              "      <td>Film &amp; Video</td>\n",
              "      <td>Film &amp; Video</td>\n",
              "      <td>USD</td>\n",
              "      <td>2014-09-20</td>\n",
              "      <td>6500.00</td>\n",
              "      <td>2014-08-06 21:28:36</td>\n",
              "      <td>555.00</td>\n",
              "      <td>undefined</td>\n",
              "      <td>0</td>\n",
              "      <td>N,0\"</td>\n",
              "      <td>0.00</td>\n",
              "      <td>555.00</td>\n",
              "      <td>6500.00</td>\n",
              "      <td>0</td>\n",
              "    </tr>\n",
              "    <tr>\n",
              "      <th>100149523</th>\n",
              "      <td>Duncan Woods - Chameleon EP</td>\n",
              "      <td>Music</td>\n",
              "      <td>Music</td>\n",
              "      <td>AUD</td>\n",
              "      <td>2015-08-25</td>\n",
              "      <td>4500.00</td>\n",
              "      <td>2015-08-04 12:05:17</td>\n",
              "      <td>4767.00</td>\n",
              "      <td>undefined</td>\n",
              "      <td>0</td>\n",
              "      <td>N,0\"</td>\n",
              "      <td>0.00</td>\n",
              "      <td>3402.08</td>\n",
              "      <td>3211.53</td>\n",
              "      <td>0</td>\n",
              "    </tr>\n",
              "    <tr>\n",
              "      <th>1003023003</th>\n",
              "      <td>The Making of Ashley Kelley's Debut Album</td>\n",
              "      <td>Music</td>\n",
              "      <td>Music</td>\n",
              "      <td>USD</td>\n",
              "      <td>2015-04-09</td>\n",
              "      <td>3500.00</td>\n",
              "      <td>2015-03-10 20:06:13</td>\n",
              "      <td>3576.00</td>\n",
              "      <td>undefined</td>\n",
              "      <td>0</td>\n",
              "      <td>N,0\"</td>\n",
              "      <td>0.00</td>\n",
              "      <td>3576.00</td>\n",
              "      <td>3500.00</td>\n",
              "      <td>0</td>\n",
              "    </tr>\n",
              "    <tr>\n",
              "      <th>1003130892</th>\n",
              "      <td>Butter Side Down Debut Album</td>\n",
              "      <td>Music</td>\n",
              "      <td>Music</td>\n",
              "      <td>USD</td>\n",
              "      <td>2015-11-26</td>\n",
              "      <td>6000.00</td>\n",
              "      <td>2015-11-02 22:09:19</td>\n",
              "      <td>7007.80</td>\n",
              "      <td>undefined</td>\n",
              "      <td>0</td>\n",
              "      <td>N,0\"</td>\n",
              "      <td>0.00</td>\n",
              "      <td>7007.80</td>\n",
              "      <td>6000.00</td>\n",
              "      <td>0</td>\n",
              "    </tr>\n",
              "    <tr>\n",
              "      <th>1003629045</th>\n",
              "      <td>Chase Goehring debut EP</td>\n",
              "      <td>Music</td>\n",
              "      <td>Music</td>\n",
              "      <td>USD</td>\n",
              "      <td>2016-03-21</td>\n",
              "      <td>3000.00</td>\n",
              "      <td>2016-02-23 03:09:49</td>\n",
              "      <td>3660.38</td>\n",
              "      <td>undefined</td>\n",
              "      <td>0</td>\n",
              "      <td>N,0\"</td>\n",
              "      <td>0.00</td>\n",
              "      <td>3660.38</td>\n",
              "      <td>3000.00</td>\n",
              "      <td>0</td>\n",
              "    </tr>\n",
              "  </tbody>\n",
              "</table>\n",
              "</div>"
            ],
            "text/plain": [
              "                                                 name  ... name_weirdness\n",
              "ID                                                     ...               \n",
              "1000694855              STREETFIGHTERZ WHEELIE MURICA  ...              0\n",
              "100149523                 Duncan Woods - Chameleon EP  ...              0\n",
              "1003023003  The Making of Ashley Kelley's Debut Album  ...              0\n",
              "1003130892               Butter Side Down Debut Album  ...              0\n",
              "1003629045                    Chase Goehring debut EP  ...              0\n",
              "\n",
              "[5 rows x 15 columns]"
            ]
          },
          "metadata": {
            "tags": []
          },
          "execution_count": 117
        }
      ]
    },
    {
      "cell_type": "markdown",
      "metadata": {
        "id": "a-5bHNFTdLFR",
        "colab_type": "text"
      },
      "source": [
        "A priori como los proyectos no tienen patrocinantes, completamos en 0 los valores"
      ]
    },
    {
      "cell_type": "code",
      "metadata": {
        "colab_type": "code",
        "id": "GRx81S7wIXUX",
        "colab": {
          "base_uri": "https://localhost:8080/",
          "height": 35
        },
        "outputId": "02b419fa-6e68-4476-c9b8-31c2c614f043"
      },
      "source": [
        "kickstarter_2018 = kickstarter_2018.fillna(0)\n",
        "missing_values_count = kickstarter_2018.isnull().sum()\n",
        "missing_values_count[missing_values_count > 0]"
      ],
      "execution_count": null,
      "outputs": [
        {
          "output_type": "execute_result",
          "data": {
            "text/plain": [
              "Series([], dtype: int64)"
            ]
          },
          "metadata": {
            "tags": []
          },
          "execution_count": 118
        }
      ]
    },
    {
      "cell_type": "code",
      "metadata": {
        "id": "fGumL6stdLFa",
        "colab_type": "code",
        "colab": {
          "base_uri": "https://localhost:8080/",
          "height": 35
        },
        "outputId": "b58a1de5-8402-4e85-9433-88e31996593c"
      },
      "source": [
        "kickstarter_2018.shape"
      ],
      "execution_count": null,
      "outputs": [
        {
          "output_type": "execute_result",
          "data": {
            "text/plain": [
              "(378657, 15)"
            ]
          },
          "metadata": {
            "tags": []
          },
          "execution_count": 119
        }
      ]
    },
    {
      "cell_type": "markdown",
      "metadata": {
        "colab_type": "text",
        "id": "kMX1NiqXIXUY"
      },
      "source": [
        "Más métodos disponibles en https://pandas.pydata.org/pandas-docs/stable/api.html#api-dataframe-missing y http://scikit-learn.org/stable/modules/classes.html#module-sklearn.preprocessing"
      ]
    },
    {
      "cell_type": "markdown",
      "metadata": {
        "colab_type": "text",
        "id": "wg5g7VivIXUY"
      },
      "source": [
        "## 2.3. Codificar variables\n",
        "\n",
        "Para trabajar con los algoritmos de aprendizaje automático, las variables categóricas estas deben ser codificadas como variables numéricas, no como cadenas.\n",
        "\n",
        "Para esta tarea también hay diferentes estrategias, dos comunes son: asociar cadena a número y asociar cadena a columna."
      ]
    },
    {
      "cell_type": "code",
      "metadata": {
        "colab_type": "code",
        "id": "vSA_t4gkIXUY",
        "colab": {}
      },
      "source": [
        "from sklearn import preprocessing"
      ],
      "execution_count": null,
      "outputs": []
    },
    {
      "cell_type": "code",
      "metadata": {
        "colab_type": "code",
        "id": "64TDAVR9IXUZ",
        "colab": {
          "base_uri": "https://localhost:8080/",
          "height": 175
        },
        "outputId": "8aedf63b-2223-44cb-c7da-f13c60c67e1a"
      },
      "source": [
        "kickstarter_2018.describe(include=['O'])"
      ],
      "execution_count": null,
      "outputs": [
        {
          "output_type": "execute_result",
          "data": {
            "text/html": [
              "<div>\n",
              "<style scoped>\n",
              "    .dataframe tbody tr th:only-of-type {\n",
              "        vertical-align: middle;\n",
              "    }\n",
              "\n",
              "    .dataframe tbody tr th {\n",
              "        vertical-align: top;\n",
              "    }\n",
              "\n",
              "    .dataframe thead th {\n",
              "        text-align: right;\n",
              "    }\n",
              "</style>\n",
              "<table border=\"1\" class=\"dataframe\">\n",
              "  <thead>\n",
              "    <tr style=\"text-align: right;\">\n",
              "      <th></th>\n",
              "      <th>name</th>\n",
              "      <th>category</th>\n",
              "      <th>main_category</th>\n",
              "      <th>currency</th>\n",
              "      <th>state</th>\n",
              "      <th>country</th>\n",
              "    </tr>\n",
              "  </thead>\n",
              "  <tbody>\n",
              "    <tr>\n",
              "      <th>count</th>\n",
              "      <td>378657</td>\n",
              "      <td>378657</td>\n",
              "      <td>378657</td>\n",
              "      <td>378657</td>\n",
              "      <td>378657</td>\n",
              "      <td>378657</td>\n",
              "    </tr>\n",
              "    <tr>\n",
              "      <th>unique</th>\n",
              "      <td>375764</td>\n",
              "      <td>159</td>\n",
              "      <td>15</td>\n",
              "      <td>14</td>\n",
              "      <td>6</td>\n",
              "      <td>23</td>\n",
              "    </tr>\n",
              "    <tr>\n",
              "      <th>top</th>\n",
              "      <td>New EP/Music Development</td>\n",
              "      <td>Product Design</td>\n",
              "      <td>Film &amp; Video</td>\n",
              "      <td>USD</td>\n",
              "      <td>failed</td>\n",
              "      <td>US</td>\n",
              "    </tr>\n",
              "    <tr>\n",
              "      <th>freq</th>\n",
              "      <td>41</td>\n",
              "      <td>22313</td>\n",
              "      <td>63584</td>\n",
              "      <td>295362</td>\n",
              "      <td>197716</td>\n",
              "      <td>292624</td>\n",
              "    </tr>\n",
              "  </tbody>\n",
              "</table>\n",
              "</div>"
            ],
            "text/plain": [
              "                            name        category  ...   state country\n",
              "count                     378657          378657  ...  378657  378657\n",
              "unique                    375764             159  ...       6      23\n",
              "top     New EP/Music Development  Product Design  ...  failed      US\n",
              "freq                          41           22313  ...  197716  292624\n",
              "\n",
              "[4 rows x 6 columns]"
            ]
          },
          "metadata": {
            "tags": []
          },
          "execution_count": 121
        }
      ]
    },
    {
      "cell_type": "code",
      "metadata": {
        "colab_type": "code",
        "id": "Furd8rzbIXUa",
        "colab": {
          "base_uri": "https://localhost:8080/",
          "height": 35
        },
        "outputId": "f0ddae11-b34a-46f1-949d-eb88a304019d"
      },
      "source": [
        "column='main_category'\n",
        "# Create a label (category) encoder object\n",
        "le = preprocessing.LabelEncoder()\n",
        "# Fit the encoder to the pandas column\n",
        "le.fit(kickstarter_2018[column])"
      ],
      "execution_count": null,
      "outputs": [
        {
          "output_type": "execute_result",
          "data": {
            "text/plain": [
              "LabelEncoder()"
            ]
          },
          "metadata": {
            "tags": []
          },
          "execution_count": 122
        }
      ]
    },
    {
      "cell_type": "code",
      "metadata": {
        "colab_type": "code",
        "id": "cit8woaJIXUb",
        "colab": {
          "base_uri": "https://localhost:8080/",
          "height": 293
        },
        "outputId": "f0aa7b18-9ee3-4826-ef20-5ea1e7d66208"
      },
      "source": [
        "# View encoder mapping\n",
        "dict(zip(le.classes_,le.transform(le.classes_)))"
      ],
      "execution_count": null,
      "outputs": [
        {
          "output_type": "execute_result",
          "data": {
            "text/plain": [
              "{'Art': 0,\n",
              " 'Comics': 1,\n",
              " 'Crafts': 2,\n",
              " 'Dance': 3,\n",
              " 'Design': 4,\n",
              " 'Fashion': 5,\n",
              " 'Film & Video': 6,\n",
              " 'Food': 7,\n",
              " 'Games': 8,\n",
              " 'Journalism': 9,\n",
              " 'Music': 10,\n",
              " 'Photography': 11,\n",
              " 'Publishing': 12,\n",
              " 'Technology': 13,\n",
              " 'Theater': 14}"
            ]
          },
          "metadata": {
            "tags": []
          },
          "execution_count": 123
        }
      ]
    },
    {
      "cell_type": "code",
      "metadata": {
        "colab_type": "code",
        "id": "ugnDG6WNIXUc",
        "colab": {
          "base_uri": "https://localhost:8080/",
          "height": 483
        },
        "outputId": "7cb691dd-0fd5-458d-a7c9-901e7726aeb2"
      },
      "source": [
        "# Apply the fitted encoder to the pandas column\n",
        "kickstarter_2018[column] = le.transform(kickstarter_2018[column]) \n",
        "kickstarter_2018.head()"
      ],
      "execution_count": null,
      "outputs": [
        {
          "output_type": "execute_result",
          "data": {
            "text/html": [
              "<div>\n",
              "<style scoped>\n",
              "    .dataframe tbody tr th:only-of-type {\n",
              "        vertical-align: middle;\n",
              "    }\n",
              "\n",
              "    .dataframe tbody tr th {\n",
              "        vertical-align: top;\n",
              "    }\n",
              "\n",
              "    .dataframe thead th {\n",
              "        text-align: right;\n",
              "    }\n",
              "</style>\n",
              "<table border=\"1\" class=\"dataframe\">\n",
              "  <thead>\n",
              "    <tr style=\"text-align: right;\">\n",
              "      <th></th>\n",
              "      <th>name</th>\n",
              "      <th>category</th>\n",
              "      <th>main_category</th>\n",
              "      <th>currency</th>\n",
              "      <th>deadline</th>\n",
              "      <th>goal</th>\n",
              "      <th>launched</th>\n",
              "      <th>pledged</th>\n",
              "      <th>state</th>\n",
              "      <th>backers</th>\n",
              "      <th>country</th>\n",
              "      <th>usd_pledged</th>\n",
              "      <th>usd_pledged_real</th>\n",
              "      <th>usd_goal_real</th>\n",
              "      <th>name_weirdness</th>\n",
              "    </tr>\n",
              "    <tr>\n",
              "      <th>ID</th>\n",
              "      <th></th>\n",
              "      <th></th>\n",
              "      <th></th>\n",
              "      <th></th>\n",
              "      <th></th>\n",
              "      <th></th>\n",
              "      <th></th>\n",
              "      <th></th>\n",
              "      <th></th>\n",
              "      <th></th>\n",
              "      <th></th>\n",
              "      <th></th>\n",
              "      <th></th>\n",
              "      <th></th>\n",
              "      <th></th>\n",
              "    </tr>\n",
              "  </thead>\n",
              "  <tbody>\n",
              "    <tr>\n",
              "      <th>1000002330</th>\n",
              "      <td>The Songs of Adelaide &amp; Abullah</td>\n",
              "      <td>Poetry</td>\n",
              "      <td>12</td>\n",
              "      <td>GBP</td>\n",
              "      <td>2015-10-09</td>\n",
              "      <td>1000.00</td>\n",
              "      <td>2015-08-11 12:12:28</td>\n",
              "      <td>0.00</td>\n",
              "      <td>failed</td>\n",
              "      <td>0</td>\n",
              "      <td>GB</td>\n",
              "      <td>0.00</td>\n",
              "      <td>0.00</td>\n",
              "      <td>1533.95</td>\n",
              "      <td>0</td>\n",
              "    </tr>\n",
              "    <tr>\n",
              "      <th>1000003930</th>\n",
              "      <td>Greeting From Earth: ZGAC Arts Capsule For ET</td>\n",
              "      <td>Narrative Film</td>\n",
              "      <td>6</td>\n",
              "      <td>USD</td>\n",
              "      <td>2017-11-01</td>\n",
              "      <td>30000.00</td>\n",
              "      <td>2017-09-02 04:43:57</td>\n",
              "      <td>2421.00</td>\n",
              "      <td>failed</td>\n",
              "      <td>15</td>\n",
              "      <td>US</td>\n",
              "      <td>100.00</td>\n",
              "      <td>2421.00</td>\n",
              "      <td>30000.00</td>\n",
              "      <td>0</td>\n",
              "    </tr>\n",
              "    <tr>\n",
              "      <th>1000004038</th>\n",
              "      <td>Where is Hank?</td>\n",
              "      <td>Narrative Film</td>\n",
              "      <td>6</td>\n",
              "      <td>USD</td>\n",
              "      <td>2013-02-26</td>\n",
              "      <td>45000.00</td>\n",
              "      <td>2013-01-12 00:20:50</td>\n",
              "      <td>220.00</td>\n",
              "      <td>failed</td>\n",
              "      <td>3</td>\n",
              "      <td>US</td>\n",
              "      <td>220.00</td>\n",
              "      <td>220.00</td>\n",
              "      <td>45000.00</td>\n",
              "      <td>0</td>\n",
              "    </tr>\n",
              "    <tr>\n",
              "      <th>1000007540</th>\n",
              "      <td>ToshiCapital Rekordz Needs Help to Complete Album</td>\n",
              "      <td>Music</td>\n",
              "      <td>10</td>\n",
              "      <td>USD</td>\n",
              "      <td>2012-04-16</td>\n",
              "      <td>5000.00</td>\n",
              "      <td>2012-03-17 03:24:11</td>\n",
              "      <td>1.00</td>\n",
              "      <td>failed</td>\n",
              "      <td>1</td>\n",
              "      <td>US</td>\n",
              "      <td>1.00</td>\n",
              "      <td>1.00</td>\n",
              "      <td>5000.00</td>\n",
              "      <td>0</td>\n",
              "    </tr>\n",
              "    <tr>\n",
              "      <th>1000011046</th>\n",
              "      <td>Community Film Project: The Art of Neighborhoo...</td>\n",
              "      <td>Film &amp; Video</td>\n",
              "      <td>6</td>\n",
              "      <td>USD</td>\n",
              "      <td>2015-08-29</td>\n",
              "      <td>19500.00</td>\n",
              "      <td>2015-07-04 08:35:03</td>\n",
              "      <td>1283.00</td>\n",
              "      <td>canceled</td>\n",
              "      <td>14</td>\n",
              "      <td>US</td>\n",
              "      <td>1283.00</td>\n",
              "      <td>1283.00</td>\n",
              "      <td>19500.00</td>\n",
              "      <td>0</td>\n",
              "    </tr>\n",
              "  </tbody>\n",
              "</table>\n",
              "</div>"
            ],
            "text/plain": [
              "                                                         name  ... name_weirdness\n",
              "ID                                                             ...               \n",
              "1000002330                    The Songs of Adelaide & Abullah  ...              0\n",
              "1000003930      Greeting From Earth: ZGAC Arts Capsule For ET  ...              0\n",
              "1000004038                                     Where is Hank?  ...              0\n",
              "1000007540  ToshiCapital Rekordz Needs Help to Complete Album  ...              0\n",
              "1000011046  Community Film Project: The Art of Neighborhoo...  ...              0\n",
              "\n",
              "[5 rows x 15 columns]"
            ]
          },
          "metadata": {
            "tags": []
          },
          "execution_count": 124
        }
      ]
    },
    {
      "cell_type": "code",
      "metadata": {
        "colab_type": "code",
        "id": "04eBH7hoIXUd",
        "colab": {
          "base_uri": "https://localhost:8080/",
          "height": 483
        },
        "outputId": "179f1234-38d6-4626-fffa-1fd3c2cde30b"
      },
      "source": [
        "# Reversing encoding\n",
        "kickstarter_2018[column] = le.inverse_transform(kickstarter_2018[column]) \n",
        "kickstarter_2018.head()"
      ],
      "execution_count": null,
      "outputs": [
        {
          "output_type": "execute_result",
          "data": {
            "text/html": [
              "<div>\n",
              "<style scoped>\n",
              "    .dataframe tbody tr th:only-of-type {\n",
              "        vertical-align: middle;\n",
              "    }\n",
              "\n",
              "    .dataframe tbody tr th {\n",
              "        vertical-align: top;\n",
              "    }\n",
              "\n",
              "    .dataframe thead th {\n",
              "        text-align: right;\n",
              "    }\n",
              "</style>\n",
              "<table border=\"1\" class=\"dataframe\">\n",
              "  <thead>\n",
              "    <tr style=\"text-align: right;\">\n",
              "      <th></th>\n",
              "      <th>name</th>\n",
              "      <th>category</th>\n",
              "      <th>main_category</th>\n",
              "      <th>currency</th>\n",
              "      <th>deadline</th>\n",
              "      <th>goal</th>\n",
              "      <th>launched</th>\n",
              "      <th>pledged</th>\n",
              "      <th>state</th>\n",
              "      <th>backers</th>\n",
              "      <th>country</th>\n",
              "      <th>usd_pledged</th>\n",
              "      <th>usd_pledged_real</th>\n",
              "      <th>usd_goal_real</th>\n",
              "      <th>name_weirdness</th>\n",
              "    </tr>\n",
              "    <tr>\n",
              "      <th>ID</th>\n",
              "      <th></th>\n",
              "      <th></th>\n",
              "      <th></th>\n",
              "      <th></th>\n",
              "      <th></th>\n",
              "      <th></th>\n",
              "      <th></th>\n",
              "      <th></th>\n",
              "      <th></th>\n",
              "      <th></th>\n",
              "      <th></th>\n",
              "      <th></th>\n",
              "      <th></th>\n",
              "      <th></th>\n",
              "      <th></th>\n",
              "    </tr>\n",
              "  </thead>\n",
              "  <tbody>\n",
              "    <tr>\n",
              "      <th>1000002330</th>\n",
              "      <td>The Songs of Adelaide &amp; Abullah</td>\n",
              "      <td>Poetry</td>\n",
              "      <td>Publishing</td>\n",
              "      <td>GBP</td>\n",
              "      <td>2015-10-09</td>\n",
              "      <td>1000.00</td>\n",
              "      <td>2015-08-11 12:12:28</td>\n",
              "      <td>0.00</td>\n",
              "      <td>failed</td>\n",
              "      <td>0</td>\n",
              "      <td>GB</td>\n",
              "      <td>0.00</td>\n",
              "      <td>0.00</td>\n",
              "      <td>1533.95</td>\n",
              "      <td>0</td>\n",
              "    </tr>\n",
              "    <tr>\n",
              "      <th>1000003930</th>\n",
              "      <td>Greeting From Earth: ZGAC Arts Capsule For ET</td>\n",
              "      <td>Narrative Film</td>\n",
              "      <td>Film &amp; Video</td>\n",
              "      <td>USD</td>\n",
              "      <td>2017-11-01</td>\n",
              "      <td>30000.00</td>\n",
              "      <td>2017-09-02 04:43:57</td>\n",
              "      <td>2421.00</td>\n",
              "      <td>failed</td>\n",
              "      <td>15</td>\n",
              "      <td>US</td>\n",
              "      <td>100.00</td>\n",
              "      <td>2421.00</td>\n",
              "      <td>30000.00</td>\n",
              "      <td>0</td>\n",
              "    </tr>\n",
              "    <tr>\n",
              "      <th>1000004038</th>\n",
              "      <td>Where is Hank?</td>\n",
              "      <td>Narrative Film</td>\n",
              "      <td>Film &amp; Video</td>\n",
              "      <td>USD</td>\n",
              "      <td>2013-02-26</td>\n",
              "      <td>45000.00</td>\n",
              "      <td>2013-01-12 00:20:50</td>\n",
              "      <td>220.00</td>\n",
              "      <td>failed</td>\n",
              "      <td>3</td>\n",
              "      <td>US</td>\n",
              "      <td>220.00</td>\n",
              "      <td>220.00</td>\n",
              "      <td>45000.00</td>\n",
              "      <td>0</td>\n",
              "    </tr>\n",
              "    <tr>\n",
              "      <th>1000007540</th>\n",
              "      <td>ToshiCapital Rekordz Needs Help to Complete Album</td>\n",
              "      <td>Music</td>\n",
              "      <td>Music</td>\n",
              "      <td>USD</td>\n",
              "      <td>2012-04-16</td>\n",
              "      <td>5000.00</td>\n",
              "      <td>2012-03-17 03:24:11</td>\n",
              "      <td>1.00</td>\n",
              "      <td>failed</td>\n",
              "      <td>1</td>\n",
              "      <td>US</td>\n",
              "      <td>1.00</td>\n",
              "      <td>1.00</td>\n",
              "      <td>5000.00</td>\n",
              "      <td>0</td>\n",
              "    </tr>\n",
              "    <tr>\n",
              "      <th>1000011046</th>\n",
              "      <td>Community Film Project: The Art of Neighborhoo...</td>\n",
              "      <td>Film &amp; Video</td>\n",
              "      <td>Film &amp; Video</td>\n",
              "      <td>USD</td>\n",
              "      <td>2015-08-29</td>\n",
              "      <td>19500.00</td>\n",
              "      <td>2015-07-04 08:35:03</td>\n",
              "      <td>1283.00</td>\n",
              "      <td>canceled</td>\n",
              "      <td>14</td>\n",
              "      <td>US</td>\n",
              "      <td>1283.00</td>\n",
              "      <td>1283.00</td>\n",
              "      <td>19500.00</td>\n",
              "      <td>0</td>\n",
              "    </tr>\n",
              "  </tbody>\n",
              "</table>\n",
              "</div>"
            ],
            "text/plain": [
              "                                                         name  ... name_weirdness\n",
              "ID                                                             ...               \n",
              "1000002330                    The Songs of Adelaide & Abullah  ...              0\n",
              "1000003930      Greeting From Earth: ZGAC Arts Capsule For ET  ...              0\n",
              "1000004038                                     Where is Hank?  ...              0\n",
              "1000007540  ToshiCapital Rekordz Needs Help to Complete Album  ...              0\n",
              "1000011046  Community Film Project: The Art of Neighborhoo...  ...              0\n",
              "\n",
              "[5 rows x 15 columns]"
            ]
          },
          "metadata": {
            "tags": []
          },
          "execution_count": 125
        }
      ]
    },
    {
      "cell_type": "code",
      "metadata": {
        "colab_type": "code",
        "id": "CwNKqbgbIXUd",
        "colab": {
          "base_uri": "https://localhost:8080/",
          "height": 363
        },
        "outputId": "c0888ac0-c999-4e93-c28c-7adfc73a4bda"
      },
      "source": [
        "from sklearn.preprocessing import LabelBinarizer\n",
        "other_column = 'state'\n",
        "\n",
        "lb = LabelBinarizer()\n",
        "\n",
        "lb_results = lb.fit_transform(kickstarter_2018[other_column])\n",
        "pd.DataFrame(lb_results, columns=((other_column + '_') + pd.Series(lb.classes_))).head(10)"
      ],
      "execution_count": null,
      "outputs": [
        {
          "output_type": "execute_result",
          "data": {
            "text/html": [
              "<div>\n",
              "<style scoped>\n",
              "    .dataframe tbody tr th:only-of-type {\n",
              "        vertical-align: middle;\n",
              "    }\n",
              "\n",
              "    .dataframe tbody tr th {\n",
              "        vertical-align: top;\n",
              "    }\n",
              "\n",
              "    .dataframe thead th {\n",
              "        text-align: right;\n",
              "    }\n",
              "</style>\n",
              "<table border=\"1\" class=\"dataframe\">\n",
              "  <thead>\n",
              "    <tr style=\"text-align: right;\">\n",
              "      <th></th>\n",
              "      <th>state_canceled</th>\n",
              "      <th>state_failed</th>\n",
              "      <th>state_live</th>\n",
              "      <th>state_successful</th>\n",
              "      <th>state_suspended</th>\n",
              "      <th>state_undefined</th>\n",
              "    </tr>\n",
              "  </thead>\n",
              "  <tbody>\n",
              "    <tr>\n",
              "      <th>0</th>\n",
              "      <td>0</td>\n",
              "      <td>1</td>\n",
              "      <td>0</td>\n",
              "      <td>0</td>\n",
              "      <td>0</td>\n",
              "      <td>0</td>\n",
              "    </tr>\n",
              "    <tr>\n",
              "      <th>1</th>\n",
              "      <td>0</td>\n",
              "      <td>1</td>\n",
              "      <td>0</td>\n",
              "      <td>0</td>\n",
              "      <td>0</td>\n",
              "      <td>0</td>\n",
              "    </tr>\n",
              "    <tr>\n",
              "      <th>2</th>\n",
              "      <td>0</td>\n",
              "      <td>1</td>\n",
              "      <td>0</td>\n",
              "      <td>0</td>\n",
              "      <td>0</td>\n",
              "      <td>0</td>\n",
              "    </tr>\n",
              "    <tr>\n",
              "      <th>3</th>\n",
              "      <td>0</td>\n",
              "      <td>1</td>\n",
              "      <td>0</td>\n",
              "      <td>0</td>\n",
              "      <td>0</td>\n",
              "      <td>0</td>\n",
              "    </tr>\n",
              "    <tr>\n",
              "      <th>4</th>\n",
              "      <td>1</td>\n",
              "      <td>0</td>\n",
              "      <td>0</td>\n",
              "      <td>0</td>\n",
              "      <td>0</td>\n",
              "      <td>0</td>\n",
              "    </tr>\n",
              "    <tr>\n",
              "      <th>5</th>\n",
              "      <td>0</td>\n",
              "      <td>0</td>\n",
              "      <td>0</td>\n",
              "      <td>1</td>\n",
              "      <td>0</td>\n",
              "      <td>0</td>\n",
              "    </tr>\n",
              "    <tr>\n",
              "      <th>6</th>\n",
              "      <td>0</td>\n",
              "      <td>0</td>\n",
              "      <td>0</td>\n",
              "      <td>1</td>\n",
              "      <td>0</td>\n",
              "      <td>0</td>\n",
              "    </tr>\n",
              "    <tr>\n",
              "      <th>7</th>\n",
              "      <td>0</td>\n",
              "      <td>1</td>\n",
              "      <td>0</td>\n",
              "      <td>0</td>\n",
              "      <td>0</td>\n",
              "      <td>0</td>\n",
              "    </tr>\n",
              "    <tr>\n",
              "      <th>8</th>\n",
              "      <td>1</td>\n",
              "      <td>0</td>\n",
              "      <td>0</td>\n",
              "      <td>0</td>\n",
              "      <td>0</td>\n",
              "      <td>0</td>\n",
              "    </tr>\n",
              "    <tr>\n",
              "      <th>9</th>\n",
              "      <td>1</td>\n",
              "      <td>0</td>\n",
              "      <td>0</td>\n",
              "      <td>0</td>\n",
              "      <td>0</td>\n",
              "      <td>0</td>\n",
              "    </tr>\n",
              "  </tbody>\n",
              "</table>\n",
              "</div>"
            ],
            "text/plain": [
              "   state_canceled  state_failed  ...  state_suspended  state_undefined\n",
              "0               0             1  ...                0                0\n",
              "1               0             1  ...                0                0\n",
              "2               0             1  ...                0                0\n",
              "3               0             1  ...                0                0\n",
              "4               1             0  ...                0                0\n",
              "5               0             0  ...                0                0\n",
              "6               0             0  ...                0                0\n",
              "7               0             1  ...                0                0\n",
              "8               1             0  ...                0                0\n",
              "9               1             0  ...                0                0\n",
              "\n",
              "[10 rows x 6 columns]"
            ]
          },
          "metadata": {
            "tags": []
          },
          "execution_count": 126
        }
      ]
    },
    {
      "cell_type": "markdown",
      "metadata": {
        "colab_type": "text",
        "id": "8N1YbkwSIXUe"
      },
      "source": [
        "More about preprocessing in http://scikit-learn.org/stable/modules/classes.html#module-sklearn.preprocessing"
      ]
    },
    {
      "cell_type": "markdown",
      "metadata": {
        "id": "9VR_fBqKdLGc",
        "colab_type": "text"
      },
      "source": [
        "#### Ejercicio 4\n",
        "\n",
        "Codificar `currency` con ambas estrategias"
      ]
    },
    {
      "cell_type": "code",
      "metadata": {
        "id": "_h2P4nvz9V5_",
        "colab_type": "code",
        "colab": {
          "base_uri": "https://localhost:8080/",
          "height": 35
        },
        "outputId": "e25b7170-118b-4f96-ecfd-bb3069dc60c4"
      },
      "source": [
        "column='currency'\n",
        "# Create a label (category) encoder object\n",
        "le_currency = preprocessing.LabelEncoder()\n",
        "# Fit _cthe encoder to the pandas column\n",
        "le_currency.fit(kickstarter_2018[column])"
      ],
      "execution_count": null,
      "outputs": [
        {
          "output_type": "execute_result",
          "data": {
            "text/plain": [
              "LabelEncoder()"
            ]
          },
          "metadata": {
            "tags": []
          },
          "execution_count": 95
        }
      ]
    },
    {
      "cell_type": "code",
      "metadata": {
        "id": "skNROXW-9pJi",
        "colab_type": "code",
        "colab": {
          "base_uri": "https://localhost:8080/",
          "height": 274
        },
        "outputId": "79bfe7ae-7355-4111-e29c-1840e0101ae2"
      },
      "source": [
        "dict(zip(le_currency.classes_,le_currency.transform(le_currency.classes_)))"
      ],
      "execution_count": null,
      "outputs": [
        {
          "output_type": "execute_result",
          "data": {
            "text/plain": [
              "{'AUD': 0,\n",
              " 'CAD': 1,\n",
              " 'CHF': 2,\n",
              " 'DKK': 3,\n",
              " 'EUR': 4,\n",
              " 'GBP': 5,\n",
              " 'HKD': 6,\n",
              " 'JPY': 7,\n",
              " 'MXN': 8,\n",
              " 'NOK': 9,\n",
              " 'NZD': 10,\n",
              " 'SEK': 11,\n",
              " 'SGD': 12,\n",
              " 'USD': 13}"
            ]
          },
          "metadata": {
            "tags": []
          },
          "execution_count": 96
        }
      ]
    },
    {
      "cell_type": "code",
      "metadata": {
        "id": "9lX7rGBd_Szw",
        "colab_type": "code",
        "colab": {
          "base_uri": "https://localhost:8080/",
          "height": 483
        },
        "outputId": "8c9afa21-4d9b-4bab-abe0-9f48da59669c"
      },
      "source": [
        "# Apply the fitted encoder to the pandas column\n",
        "kickstarter_2018[column] = le_currency.transform(kickstarter_2018[column]) \n",
        "kickstarter_2018.head()"
      ],
      "execution_count": null,
      "outputs": [
        {
          "output_type": "execute_result",
          "data": {
            "text/html": [
              "<div>\n",
              "<style scoped>\n",
              "    .dataframe tbody tr th:only-of-type {\n",
              "        vertical-align: middle;\n",
              "    }\n",
              "\n",
              "    .dataframe tbody tr th {\n",
              "        vertical-align: top;\n",
              "    }\n",
              "\n",
              "    .dataframe thead th {\n",
              "        text-align: right;\n",
              "    }\n",
              "</style>\n",
              "<table border=\"1\" class=\"dataframe\">\n",
              "  <thead>\n",
              "    <tr style=\"text-align: right;\">\n",
              "      <th></th>\n",
              "      <th>name</th>\n",
              "      <th>category</th>\n",
              "      <th>main_category</th>\n",
              "      <th>currency</th>\n",
              "      <th>deadline</th>\n",
              "      <th>goal</th>\n",
              "      <th>launched</th>\n",
              "      <th>pledged</th>\n",
              "      <th>state</th>\n",
              "      <th>backers</th>\n",
              "      <th>country</th>\n",
              "      <th>usd_pledged</th>\n",
              "      <th>usd_pledged_real</th>\n",
              "      <th>usd_goal_real</th>\n",
              "      <th>name_weirdness</th>\n",
              "    </tr>\n",
              "    <tr>\n",
              "      <th>ID</th>\n",
              "      <th></th>\n",
              "      <th></th>\n",
              "      <th></th>\n",
              "      <th></th>\n",
              "      <th></th>\n",
              "      <th></th>\n",
              "      <th></th>\n",
              "      <th></th>\n",
              "      <th></th>\n",
              "      <th></th>\n",
              "      <th></th>\n",
              "      <th></th>\n",
              "      <th></th>\n",
              "      <th></th>\n",
              "      <th></th>\n",
              "    </tr>\n",
              "  </thead>\n",
              "  <tbody>\n",
              "    <tr>\n",
              "      <th>1000002330</th>\n",
              "      <td>The Songs of Adelaide &amp; Abullah</td>\n",
              "      <td>Poetry</td>\n",
              "      <td>Publishing</td>\n",
              "      <td>5</td>\n",
              "      <td>2015-10-09</td>\n",
              "      <td>1000.00</td>\n",
              "      <td>2015-08-11 12:12:28</td>\n",
              "      <td>0.00</td>\n",
              "      <td>failed</td>\n",
              "      <td>0</td>\n",
              "      <td>GB</td>\n",
              "      <td>0.00</td>\n",
              "      <td>0.00</td>\n",
              "      <td>1533.95</td>\n",
              "      <td>0</td>\n",
              "    </tr>\n",
              "    <tr>\n",
              "      <th>1000003930</th>\n",
              "      <td>Greeting From Earth: ZGAC Arts Capsule For ET</td>\n",
              "      <td>Narrative Film</td>\n",
              "      <td>Film &amp; Video</td>\n",
              "      <td>13</td>\n",
              "      <td>2017-11-01</td>\n",
              "      <td>30000.00</td>\n",
              "      <td>2017-09-02 04:43:57</td>\n",
              "      <td>2421.00</td>\n",
              "      <td>failed</td>\n",
              "      <td>15</td>\n",
              "      <td>US</td>\n",
              "      <td>100.00</td>\n",
              "      <td>2421.00</td>\n",
              "      <td>30000.00</td>\n",
              "      <td>0</td>\n",
              "    </tr>\n",
              "    <tr>\n",
              "      <th>1000004038</th>\n",
              "      <td>Where is Hank?</td>\n",
              "      <td>Narrative Film</td>\n",
              "      <td>Film &amp; Video</td>\n",
              "      <td>13</td>\n",
              "      <td>2013-02-26</td>\n",
              "      <td>45000.00</td>\n",
              "      <td>2013-01-12 00:20:50</td>\n",
              "      <td>220.00</td>\n",
              "      <td>failed</td>\n",
              "      <td>3</td>\n",
              "      <td>US</td>\n",
              "      <td>220.00</td>\n",
              "      <td>220.00</td>\n",
              "      <td>45000.00</td>\n",
              "      <td>0</td>\n",
              "    </tr>\n",
              "    <tr>\n",
              "      <th>1000007540</th>\n",
              "      <td>ToshiCapital Rekordz Needs Help to Complete Album</td>\n",
              "      <td>Music</td>\n",
              "      <td>Music</td>\n",
              "      <td>13</td>\n",
              "      <td>2012-04-16</td>\n",
              "      <td>5000.00</td>\n",
              "      <td>2012-03-17 03:24:11</td>\n",
              "      <td>1.00</td>\n",
              "      <td>failed</td>\n",
              "      <td>1</td>\n",
              "      <td>US</td>\n",
              "      <td>1.00</td>\n",
              "      <td>1.00</td>\n",
              "      <td>5000.00</td>\n",
              "      <td>0</td>\n",
              "    </tr>\n",
              "    <tr>\n",
              "      <th>1000011046</th>\n",
              "      <td>Community Film Project: The Art of Neighborhoo...</td>\n",
              "      <td>Film &amp; Video</td>\n",
              "      <td>Film &amp; Video</td>\n",
              "      <td>13</td>\n",
              "      <td>2015-08-29</td>\n",
              "      <td>19500.00</td>\n",
              "      <td>2015-07-04 08:35:03</td>\n",
              "      <td>1283.00</td>\n",
              "      <td>canceled</td>\n",
              "      <td>14</td>\n",
              "      <td>US</td>\n",
              "      <td>1283.00</td>\n",
              "      <td>1283.00</td>\n",
              "      <td>19500.00</td>\n",
              "      <td>0</td>\n",
              "    </tr>\n",
              "  </tbody>\n",
              "</table>\n",
              "</div>"
            ],
            "text/plain": [
              "                                                         name  ... name_weirdness\n",
              "ID                                                             ...               \n",
              "1000002330                    The Songs of Adelaide & Abullah  ...              0\n",
              "1000003930      Greeting From Earth: ZGAC Arts Capsule For ET  ...              0\n",
              "1000004038                                     Where is Hank?  ...              0\n",
              "1000007540  ToshiCapital Rekordz Needs Help to Complete Album  ...              0\n",
              "1000011046  Community Film Project: The Art of Neighborhoo...  ...              0\n",
              "\n",
              "[5 rows x 15 columns]"
            ]
          },
          "metadata": {
            "tags": []
          },
          "execution_count": 97
        }
      ]
    },
    {
      "cell_type": "code",
      "metadata": {
        "id": "mC1cMytICjAV",
        "colab_type": "code",
        "colab": {
          "base_uri": "https://localhost:8080/",
          "height": 483
        },
        "outputId": "4437e783-a45f-4328-fb62-efeddb3d1123"
      },
      "source": [
        "# Reversing encoding\n",
        "kickstarter_2018[column] = le_currency.inverse_transform(kickstarter_2018[column]) \n",
        "kickstarter_2018.head()"
      ],
      "execution_count": null,
      "outputs": [
        {
          "output_type": "execute_result",
          "data": {
            "text/html": [
              "<div>\n",
              "<style scoped>\n",
              "    .dataframe tbody tr th:only-of-type {\n",
              "        vertical-align: middle;\n",
              "    }\n",
              "\n",
              "    .dataframe tbody tr th {\n",
              "        vertical-align: top;\n",
              "    }\n",
              "\n",
              "    .dataframe thead th {\n",
              "        text-align: right;\n",
              "    }\n",
              "</style>\n",
              "<table border=\"1\" class=\"dataframe\">\n",
              "  <thead>\n",
              "    <tr style=\"text-align: right;\">\n",
              "      <th></th>\n",
              "      <th>name</th>\n",
              "      <th>category</th>\n",
              "      <th>main_category</th>\n",
              "      <th>currency</th>\n",
              "      <th>deadline</th>\n",
              "      <th>goal</th>\n",
              "      <th>launched</th>\n",
              "      <th>pledged</th>\n",
              "      <th>state</th>\n",
              "      <th>backers</th>\n",
              "      <th>country</th>\n",
              "      <th>usd_pledged</th>\n",
              "      <th>usd_pledged_real</th>\n",
              "      <th>usd_goal_real</th>\n",
              "      <th>name_weirdness</th>\n",
              "    </tr>\n",
              "    <tr>\n",
              "      <th>ID</th>\n",
              "      <th></th>\n",
              "      <th></th>\n",
              "      <th></th>\n",
              "      <th></th>\n",
              "      <th></th>\n",
              "      <th></th>\n",
              "      <th></th>\n",
              "      <th></th>\n",
              "      <th></th>\n",
              "      <th></th>\n",
              "      <th></th>\n",
              "      <th></th>\n",
              "      <th></th>\n",
              "      <th></th>\n",
              "      <th></th>\n",
              "    </tr>\n",
              "  </thead>\n",
              "  <tbody>\n",
              "    <tr>\n",
              "      <th>1000002330</th>\n",
              "      <td>The Songs of Adelaide &amp; Abullah</td>\n",
              "      <td>Poetry</td>\n",
              "      <td>Publishing</td>\n",
              "      <td>GBP</td>\n",
              "      <td>2015-10-09</td>\n",
              "      <td>1000.00</td>\n",
              "      <td>2015-08-11 12:12:28</td>\n",
              "      <td>0.00</td>\n",
              "      <td>failed</td>\n",
              "      <td>0</td>\n",
              "      <td>GB</td>\n",
              "      <td>0.00</td>\n",
              "      <td>0.00</td>\n",
              "      <td>1533.95</td>\n",
              "      <td>0</td>\n",
              "    </tr>\n",
              "    <tr>\n",
              "      <th>1000003930</th>\n",
              "      <td>Greeting From Earth: ZGAC Arts Capsule For ET</td>\n",
              "      <td>Narrative Film</td>\n",
              "      <td>Film &amp; Video</td>\n",
              "      <td>USD</td>\n",
              "      <td>2017-11-01</td>\n",
              "      <td>30000.00</td>\n",
              "      <td>2017-09-02 04:43:57</td>\n",
              "      <td>2421.00</td>\n",
              "      <td>failed</td>\n",
              "      <td>15</td>\n",
              "      <td>US</td>\n",
              "      <td>100.00</td>\n",
              "      <td>2421.00</td>\n",
              "      <td>30000.00</td>\n",
              "      <td>0</td>\n",
              "    </tr>\n",
              "    <tr>\n",
              "      <th>1000004038</th>\n",
              "      <td>Where is Hank?</td>\n",
              "      <td>Narrative Film</td>\n",
              "      <td>Film &amp; Video</td>\n",
              "      <td>USD</td>\n",
              "      <td>2013-02-26</td>\n",
              "      <td>45000.00</td>\n",
              "      <td>2013-01-12 00:20:50</td>\n",
              "      <td>220.00</td>\n",
              "      <td>failed</td>\n",
              "      <td>3</td>\n",
              "      <td>US</td>\n",
              "      <td>220.00</td>\n",
              "      <td>220.00</td>\n",
              "      <td>45000.00</td>\n",
              "      <td>0</td>\n",
              "    </tr>\n",
              "    <tr>\n",
              "      <th>1000007540</th>\n",
              "      <td>ToshiCapital Rekordz Needs Help to Complete Album</td>\n",
              "      <td>Music</td>\n",
              "      <td>Music</td>\n",
              "      <td>USD</td>\n",
              "      <td>2012-04-16</td>\n",
              "      <td>5000.00</td>\n",
              "      <td>2012-03-17 03:24:11</td>\n",
              "      <td>1.00</td>\n",
              "      <td>failed</td>\n",
              "      <td>1</td>\n",
              "      <td>US</td>\n",
              "      <td>1.00</td>\n",
              "      <td>1.00</td>\n",
              "      <td>5000.00</td>\n",
              "      <td>0</td>\n",
              "    </tr>\n",
              "    <tr>\n",
              "      <th>1000011046</th>\n",
              "      <td>Community Film Project: The Art of Neighborhoo...</td>\n",
              "      <td>Film &amp; Video</td>\n",
              "      <td>Film &amp; Video</td>\n",
              "      <td>USD</td>\n",
              "      <td>2015-08-29</td>\n",
              "      <td>19500.00</td>\n",
              "      <td>2015-07-04 08:35:03</td>\n",
              "      <td>1283.00</td>\n",
              "      <td>canceled</td>\n",
              "      <td>14</td>\n",
              "      <td>US</td>\n",
              "      <td>1283.00</td>\n",
              "      <td>1283.00</td>\n",
              "      <td>19500.00</td>\n",
              "      <td>0</td>\n",
              "    </tr>\n",
              "  </tbody>\n",
              "</table>\n",
              "</div>"
            ],
            "text/plain": [
              "                                                         name  ... name_weirdness\n",
              "ID                                                             ...               \n",
              "1000002330                    The Songs of Adelaide & Abullah  ...              0\n",
              "1000003930      Greeting From Earth: ZGAC Arts Capsule For ET  ...              0\n",
              "1000004038                                     Where is Hank?  ...              0\n",
              "1000007540  ToshiCapital Rekordz Needs Help to Complete Album  ...              0\n",
              "1000011046  Community Film Project: The Art of Neighborhoo...  ...              0\n",
              "\n",
              "[5 rows x 15 columns]"
            ]
          },
          "metadata": {
            "tags": []
          },
          "execution_count": 98
        }
      ]
    },
    {
      "cell_type": "code",
      "metadata": {
        "id": "brQ8HQbm_y1O",
        "colab_type": "code",
        "colab": {
          "base_uri": "https://localhost:8080/",
          "height": 383
        },
        "outputId": "f48cc2b8-ebb8-48cb-d03d-e6b7c1f02713"
      },
      "source": [
        "other_column = 'currency'\n",
        "\n",
        "lb_currency = LabelBinarizer()\n",
        "\n",
        "lb_results = lb_currency.fit_transform(kickstarter_2018[other_column])\n",
        "pd.DataFrame(lb_results, columns=((other_column + '_') + pd.Series(lb_currency.classes_))).head(10)"
      ],
      "execution_count": null,
      "outputs": [
        {
          "output_type": "execute_result",
          "data": {
            "text/html": [
              "<div>\n",
              "<style scoped>\n",
              "    .dataframe tbody tr th:only-of-type {\n",
              "        vertical-align: middle;\n",
              "    }\n",
              "\n",
              "    .dataframe tbody tr th {\n",
              "        vertical-align: top;\n",
              "    }\n",
              "\n",
              "    .dataframe thead th {\n",
              "        text-align: right;\n",
              "    }\n",
              "</style>\n",
              "<table border=\"1\" class=\"dataframe\">\n",
              "  <thead>\n",
              "    <tr style=\"text-align: right;\">\n",
              "      <th></th>\n",
              "      <th>currency_AUD</th>\n",
              "      <th>currency_CAD</th>\n",
              "      <th>currency_CHF</th>\n",
              "      <th>currency_DKK</th>\n",
              "      <th>currency_EUR</th>\n",
              "      <th>currency_GBP</th>\n",
              "      <th>currency_HKD</th>\n",
              "      <th>currency_JPY</th>\n",
              "      <th>currency_MXN</th>\n",
              "      <th>currency_NOK</th>\n",
              "      <th>currency_NZD</th>\n",
              "      <th>currency_SEK</th>\n",
              "      <th>currency_SGD</th>\n",
              "      <th>currency_USD</th>\n",
              "    </tr>\n",
              "  </thead>\n",
              "  <tbody>\n",
              "    <tr>\n",
              "      <th>0</th>\n",
              "      <td>0</td>\n",
              "      <td>0</td>\n",
              "      <td>0</td>\n",
              "      <td>0</td>\n",
              "      <td>0</td>\n",
              "      <td>1</td>\n",
              "      <td>0</td>\n",
              "      <td>0</td>\n",
              "      <td>0</td>\n",
              "      <td>0</td>\n",
              "      <td>0</td>\n",
              "      <td>0</td>\n",
              "      <td>0</td>\n",
              "      <td>0</td>\n",
              "    </tr>\n",
              "    <tr>\n",
              "      <th>1</th>\n",
              "      <td>0</td>\n",
              "      <td>0</td>\n",
              "      <td>0</td>\n",
              "      <td>0</td>\n",
              "      <td>0</td>\n",
              "      <td>0</td>\n",
              "      <td>0</td>\n",
              "      <td>0</td>\n",
              "      <td>0</td>\n",
              "      <td>0</td>\n",
              "      <td>0</td>\n",
              "      <td>0</td>\n",
              "      <td>0</td>\n",
              "      <td>1</td>\n",
              "    </tr>\n",
              "    <tr>\n",
              "      <th>2</th>\n",
              "      <td>0</td>\n",
              "      <td>0</td>\n",
              "      <td>0</td>\n",
              "      <td>0</td>\n",
              "      <td>0</td>\n",
              "      <td>0</td>\n",
              "      <td>0</td>\n",
              "      <td>0</td>\n",
              "      <td>0</td>\n",
              "      <td>0</td>\n",
              "      <td>0</td>\n",
              "      <td>0</td>\n",
              "      <td>0</td>\n",
              "      <td>1</td>\n",
              "    </tr>\n",
              "    <tr>\n",
              "      <th>3</th>\n",
              "      <td>0</td>\n",
              "      <td>0</td>\n",
              "      <td>0</td>\n",
              "      <td>0</td>\n",
              "      <td>0</td>\n",
              "      <td>0</td>\n",
              "      <td>0</td>\n",
              "      <td>0</td>\n",
              "      <td>0</td>\n",
              "      <td>0</td>\n",
              "      <td>0</td>\n",
              "      <td>0</td>\n",
              "      <td>0</td>\n",
              "      <td>1</td>\n",
              "    </tr>\n",
              "    <tr>\n",
              "      <th>4</th>\n",
              "      <td>0</td>\n",
              "      <td>0</td>\n",
              "      <td>0</td>\n",
              "      <td>0</td>\n",
              "      <td>0</td>\n",
              "      <td>0</td>\n",
              "      <td>0</td>\n",
              "      <td>0</td>\n",
              "      <td>0</td>\n",
              "      <td>0</td>\n",
              "      <td>0</td>\n",
              "      <td>0</td>\n",
              "      <td>0</td>\n",
              "      <td>1</td>\n",
              "    </tr>\n",
              "    <tr>\n",
              "      <th>5</th>\n",
              "      <td>0</td>\n",
              "      <td>0</td>\n",
              "      <td>0</td>\n",
              "      <td>0</td>\n",
              "      <td>0</td>\n",
              "      <td>0</td>\n",
              "      <td>0</td>\n",
              "      <td>0</td>\n",
              "      <td>0</td>\n",
              "      <td>0</td>\n",
              "      <td>0</td>\n",
              "      <td>0</td>\n",
              "      <td>0</td>\n",
              "      <td>1</td>\n",
              "    </tr>\n",
              "    <tr>\n",
              "      <th>6</th>\n",
              "      <td>0</td>\n",
              "      <td>0</td>\n",
              "      <td>0</td>\n",
              "      <td>0</td>\n",
              "      <td>0</td>\n",
              "      <td>0</td>\n",
              "      <td>0</td>\n",
              "      <td>0</td>\n",
              "      <td>0</td>\n",
              "      <td>0</td>\n",
              "      <td>0</td>\n",
              "      <td>0</td>\n",
              "      <td>0</td>\n",
              "      <td>1</td>\n",
              "    </tr>\n",
              "    <tr>\n",
              "      <th>7</th>\n",
              "      <td>0</td>\n",
              "      <td>0</td>\n",
              "      <td>0</td>\n",
              "      <td>0</td>\n",
              "      <td>0</td>\n",
              "      <td>0</td>\n",
              "      <td>0</td>\n",
              "      <td>0</td>\n",
              "      <td>0</td>\n",
              "      <td>0</td>\n",
              "      <td>0</td>\n",
              "      <td>0</td>\n",
              "      <td>0</td>\n",
              "      <td>1</td>\n",
              "    </tr>\n",
              "    <tr>\n",
              "      <th>8</th>\n",
              "      <td>0</td>\n",
              "      <td>0</td>\n",
              "      <td>0</td>\n",
              "      <td>0</td>\n",
              "      <td>0</td>\n",
              "      <td>0</td>\n",
              "      <td>0</td>\n",
              "      <td>0</td>\n",
              "      <td>0</td>\n",
              "      <td>0</td>\n",
              "      <td>0</td>\n",
              "      <td>0</td>\n",
              "      <td>0</td>\n",
              "      <td>1</td>\n",
              "    </tr>\n",
              "    <tr>\n",
              "      <th>9</th>\n",
              "      <td>0</td>\n",
              "      <td>0</td>\n",
              "      <td>0</td>\n",
              "      <td>0</td>\n",
              "      <td>0</td>\n",
              "      <td>0</td>\n",
              "      <td>0</td>\n",
              "      <td>0</td>\n",
              "      <td>0</td>\n",
              "      <td>0</td>\n",
              "      <td>0</td>\n",
              "      <td>0</td>\n",
              "      <td>0</td>\n",
              "      <td>1</td>\n",
              "    </tr>\n",
              "  </tbody>\n",
              "</table>\n",
              "</div>"
            ],
            "text/plain": [
              "   currency_AUD  currency_CAD  ...  currency_SGD  currency_USD\n",
              "0             0             0  ...             0             0\n",
              "1             0             0  ...             0             1\n",
              "2             0             0  ...             0             1\n",
              "3             0             0  ...             0             1\n",
              "4             0             0  ...             0             1\n",
              "5             0             0  ...             0             1\n",
              "6             0             0  ...             0             1\n",
              "7             0             0  ...             0             1\n",
              "8             0             0  ...             0             1\n",
              "9             0             0  ...             0             1\n",
              "\n",
              "[10 rows x 14 columns]"
            ]
          },
          "metadata": {
            "tags": []
          },
          "execution_count": 99
        }
      ]
    },
    {
      "cell_type": "markdown",
      "metadata": {
        "colab_type": "text",
        "id": "c2qVOSsQIXUf"
      },
      "source": [
        "## 2.4. No cambiar los nombres de las variables de la fuente de origen\n"
      ]
    },
    {
      "cell_type": "markdown",
      "metadata": {
        "colab_type": "text",
        "id": "k9XvL-yMIXUf"
      },
      "source": [
        "## 2.5. Verificar la consistencia de las variables\n",
        "Aplicar reglas de integridad\n"
      ]
    },
    {
      "cell_type": "code",
      "metadata": {
        "colab_type": "code",
        "id": "y5W24vJwIXUf",
        "colab": {
          "base_uri": "https://localhost:8080/",
          "height": 483
        },
        "outputId": "4b37e49e-5152-4469-d061-ba4c54193142"
      },
      "source": [
        "kickstarter_2018.head()"
      ],
      "execution_count": null,
      "outputs": [
        {
          "output_type": "execute_result",
          "data": {
            "text/html": [
              "<div>\n",
              "<style scoped>\n",
              "    .dataframe tbody tr th:only-of-type {\n",
              "        vertical-align: middle;\n",
              "    }\n",
              "\n",
              "    .dataframe tbody tr th {\n",
              "        vertical-align: top;\n",
              "    }\n",
              "\n",
              "    .dataframe thead th {\n",
              "        text-align: right;\n",
              "    }\n",
              "</style>\n",
              "<table border=\"1\" class=\"dataframe\">\n",
              "  <thead>\n",
              "    <tr style=\"text-align: right;\">\n",
              "      <th></th>\n",
              "      <th>name</th>\n",
              "      <th>category</th>\n",
              "      <th>main_category</th>\n",
              "      <th>currency</th>\n",
              "      <th>deadline</th>\n",
              "      <th>goal</th>\n",
              "      <th>launched</th>\n",
              "      <th>pledged</th>\n",
              "      <th>state</th>\n",
              "      <th>backers</th>\n",
              "      <th>country</th>\n",
              "      <th>usd_pledged</th>\n",
              "      <th>usd_pledged_real</th>\n",
              "      <th>usd_goal_real</th>\n",
              "      <th>name_weirdness</th>\n",
              "    </tr>\n",
              "    <tr>\n",
              "      <th>ID</th>\n",
              "      <th></th>\n",
              "      <th></th>\n",
              "      <th></th>\n",
              "      <th></th>\n",
              "      <th></th>\n",
              "      <th></th>\n",
              "      <th></th>\n",
              "      <th></th>\n",
              "      <th></th>\n",
              "      <th></th>\n",
              "      <th></th>\n",
              "      <th></th>\n",
              "      <th></th>\n",
              "      <th></th>\n",
              "      <th></th>\n",
              "    </tr>\n",
              "  </thead>\n",
              "  <tbody>\n",
              "    <tr>\n",
              "      <th>1000002330</th>\n",
              "      <td>The Songs of Adelaide &amp; Abullah</td>\n",
              "      <td>Poetry</td>\n",
              "      <td>Publishing</td>\n",
              "      <td>GBP</td>\n",
              "      <td>2015-10-09</td>\n",
              "      <td>1000.00</td>\n",
              "      <td>2015-08-11 12:12:28</td>\n",
              "      <td>0.00</td>\n",
              "      <td>failed</td>\n",
              "      <td>0</td>\n",
              "      <td>GB</td>\n",
              "      <td>0.00</td>\n",
              "      <td>0.00</td>\n",
              "      <td>1533.95</td>\n",
              "      <td>0</td>\n",
              "    </tr>\n",
              "    <tr>\n",
              "      <th>1000003930</th>\n",
              "      <td>Greeting From Earth: ZGAC Arts Capsule For ET</td>\n",
              "      <td>Narrative Film</td>\n",
              "      <td>Film &amp; Video</td>\n",
              "      <td>USD</td>\n",
              "      <td>2017-11-01</td>\n",
              "      <td>30000.00</td>\n",
              "      <td>2017-09-02 04:43:57</td>\n",
              "      <td>2421.00</td>\n",
              "      <td>failed</td>\n",
              "      <td>15</td>\n",
              "      <td>US</td>\n",
              "      <td>100.00</td>\n",
              "      <td>2421.00</td>\n",
              "      <td>30000.00</td>\n",
              "      <td>0</td>\n",
              "    </tr>\n",
              "    <tr>\n",
              "      <th>1000004038</th>\n",
              "      <td>Where is Hank?</td>\n",
              "      <td>Narrative Film</td>\n",
              "      <td>Film &amp; Video</td>\n",
              "      <td>USD</td>\n",
              "      <td>2013-02-26</td>\n",
              "      <td>45000.00</td>\n",
              "      <td>2013-01-12 00:20:50</td>\n",
              "      <td>220.00</td>\n",
              "      <td>failed</td>\n",
              "      <td>3</td>\n",
              "      <td>US</td>\n",
              "      <td>220.00</td>\n",
              "      <td>220.00</td>\n",
              "      <td>45000.00</td>\n",
              "      <td>0</td>\n",
              "    </tr>\n",
              "    <tr>\n",
              "      <th>1000007540</th>\n",
              "      <td>ToshiCapital Rekordz Needs Help to Complete Album</td>\n",
              "      <td>Music</td>\n",
              "      <td>Music</td>\n",
              "      <td>USD</td>\n",
              "      <td>2012-04-16</td>\n",
              "      <td>5000.00</td>\n",
              "      <td>2012-03-17 03:24:11</td>\n",
              "      <td>1.00</td>\n",
              "      <td>failed</td>\n",
              "      <td>1</td>\n",
              "      <td>US</td>\n",
              "      <td>1.00</td>\n",
              "      <td>1.00</td>\n",
              "      <td>5000.00</td>\n",
              "      <td>0</td>\n",
              "    </tr>\n",
              "    <tr>\n",
              "      <th>1000011046</th>\n",
              "      <td>Community Film Project: The Art of Neighborhoo...</td>\n",
              "      <td>Film &amp; Video</td>\n",
              "      <td>Film &amp; Video</td>\n",
              "      <td>USD</td>\n",
              "      <td>2015-08-29</td>\n",
              "      <td>19500.00</td>\n",
              "      <td>2015-07-04 08:35:03</td>\n",
              "      <td>1283.00</td>\n",
              "      <td>canceled</td>\n",
              "      <td>14</td>\n",
              "      <td>US</td>\n",
              "      <td>1283.00</td>\n",
              "      <td>1283.00</td>\n",
              "      <td>19500.00</td>\n",
              "      <td>0</td>\n",
              "    </tr>\n",
              "  </tbody>\n",
              "</table>\n",
              "</div>"
            ],
            "text/plain": [
              "                                                         name  ... name_weirdness\n",
              "ID                                                             ...               \n",
              "1000002330                    The Songs of Adelaide & Abullah  ...              0\n",
              "1000003930      Greeting From Earth: ZGAC Arts Capsule For ET  ...              0\n",
              "1000004038                                     Where is Hank?  ...              0\n",
              "1000007540  ToshiCapital Rekordz Needs Help to Complete Album  ...              0\n",
              "1000011046  Community Film Project: The Art of Neighborhoo...  ...              0\n",
              "\n",
              "[5 rows x 15 columns]"
            ]
          },
          "metadata": {
            "tags": []
          },
          "execution_count": 127
        }
      ]
    },
    {
      "cell_type": "markdown",
      "metadata": {
        "colab_type": "text",
        "id": "4EAwb-5BIXUh"
      },
      "source": [
        "¿Hay proyectos sin patrocinadores pero con plata prometida?"
      ]
    },
    {
      "cell_type": "code",
      "metadata": {
        "colab_type": "code",
        "id": "x0YWqWntIXUh",
        "colab": {
          "base_uri": "https://localhost:8080/",
          "height": 701
        },
        "outputId": "6ff5b613-a47a-4e50-d2b2-0b8824774749"
      },
      "source": [
        "kickstarter_2018[(kickstarter_2018.backers == 0) & (kickstarter_2018.usd_pledged > 0)]"
      ],
      "execution_count": null,
      "outputs": [
        {
          "output_type": "execute_result",
          "data": {
            "text/html": [
              "<div>\n",
              "<style scoped>\n",
              "    .dataframe tbody tr th:only-of-type {\n",
              "        vertical-align: middle;\n",
              "    }\n",
              "\n",
              "    .dataframe tbody tr th {\n",
              "        vertical-align: top;\n",
              "    }\n",
              "\n",
              "    .dataframe thead th {\n",
              "        text-align: right;\n",
              "    }\n",
              "</style>\n",
              "<table border=\"1\" class=\"dataframe\">\n",
              "  <thead>\n",
              "    <tr style=\"text-align: right;\">\n",
              "      <th></th>\n",
              "      <th>name</th>\n",
              "      <th>category</th>\n",
              "      <th>main_category</th>\n",
              "      <th>currency</th>\n",
              "      <th>deadline</th>\n",
              "      <th>goal</th>\n",
              "      <th>launched</th>\n",
              "      <th>pledged</th>\n",
              "      <th>state</th>\n",
              "      <th>backers</th>\n",
              "      <th>country</th>\n",
              "      <th>usd_pledged</th>\n",
              "      <th>usd_pledged_real</th>\n",
              "      <th>usd_goal_real</th>\n",
              "      <th>name_weirdness</th>\n",
              "    </tr>\n",
              "    <tr>\n",
              "      <th>ID</th>\n",
              "      <th></th>\n",
              "      <th></th>\n",
              "      <th></th>\n",
              "      <th></th>\n",
              "      <th></th>\n",
              "      <th></th>\n",
              "      <th></th>\n",
              "      <th></th>\n",
              "      <th></th>\n",
              "      <th></th>\n",
              "      <th></th>\n",
              "      <th></th>\n",
              "      <th></th>\n",
              "      <th></th>\n",
              "      <th></th>\n",
              "    </tr>\n",
              "  </thead>\n",
              "  <tbody>\n",
              "    <tr>\n",
              "      <th>100173829</th>\n",
              "      <td>La Press: Make Soap at Home in 2 minutes. No C...</td>\n",
              "      <td>Gadgets</td>\n",
              "      <td>Technology</td>\n",
              "      <td>CAD</td>\n",
              "      <td>2017-11-11</td>\n",
              "      <td>40000.00</td>\n",
              "      <td>2017-09-12 05:11:01</td>\n",
              "      <td>0.00</td>\n",
              "      <td>failed</td>\n",
              "      <td>0</td>\n",
              "      <td>CA</td>\n",
              "      <td>86.46</td>\n",
              "      <td>0.00</td>\n",
              "      <td>31343.05</td>\n",
              "      <td>0</td>\n",
              "    </tr>\n",
              "    <tr>\n",
              "      <th>1004972393</th>\n",
              "      <td>AlwaysRemembered.com The new way to remember o...</td>\n",
              "      <td>Web</td>\n",
              "      <td>Technology</td>\n",
              "      <td>AUD</td>\n",
              "      <td>2017-05-15</td>\n",
              "      <td>100000.00</td>\n",
              "      <td>2017-04-15 09:17:40</td>\n",
              "      <td>0.00</td>\n",
              "      <td>failed</td>\n",
              "      <td>0</td>\n",
              "      <td>AU</td>\n",
              "      <td>18.93</td>\n",
              "      <td>0.00</td>\n",
              "      <td>74371.56</td>\n",
              "      <td>0</td>\n",
              "    </tr>\n",
              "    <tr>\n",
              "      <th>1006945199</th>\n",
              "      <td>Have your Cake and Eat it too!</td>\n",
              "      <td>Food</td>\n",
              "      <td>Food</td>\n",
              "      <td>USD</td>\n",
              "      <td>2016-12-05</td>\n",
              "      <td>10000.00</td>\n",
              "      <td>2016-11-05 20:16:29</td>\n",
              "      <td>0.00</td>\n",
              "      <td>canceled</td>\n",
              "      <td>0</td>\n",
              "      <td>US</td>\n",
              "      <td>24.00</td>\n",
              "      <td>0.00</td>\n",
              "      <td>10000.00</td>\n",
              "      <td>0</td>\n",
              "    </tr>\n",
              "    <tr>\n",
              "      <th>1019661678</th>\n",
              "      <td>Presidential Pareidolia</td>\n",
              "      <td>Digital Art</td>\n",
              "      <td>Art</td>\n",
              "      <td>USD</td>\n",
              "      <td>2017-05-14</td>\n",
              "      <td>66600.00</td>\n",
              "      <td>2017-04-14 23:13:10</td>\n",
              "      <td>0.00</td>\n",
              "      <td>failed</td>\n",
              "      <td>0</td>\n",
              "      <td>US</td>\n",
              "      <td>25.00</td>\n",
              "      <td>0.00</td>\n",
              "      <td>66600.00</td>\n",
              "      <td>0</td>\n",
              "    </tr>\n",
              "    <tr>\n",
              "      <th>1031663961</th>\n",
              "      <td>The Lite Bros. Series</td>\n",
              "      <td>Comics</td>\n",
              "      <td>Comics</td>\n",
              "      <td>USD</td>\n",
              "      <td>2017-05-09</td>\n",
              "      <td>10000.00</td>\n",
              "      <td>2017-04-09 02:20:51</td>\n",
              "      <td>0.00</td>\n",
              "      <td>failed</td>\n",
              "      <td>0</td>\n",
              "      <td>US</td>\n",
              "      <td>25.00</td>\n",
              "      <td>0.00</td>\n",
              "      <td>10000.00</td>\n",
              "      <td>0</td>\n",
              "    </tr>\n",
              "    <tr>\n",
              "      <th>...</th>\n",
              "      <td>...</td>\n",
              "      <td>...</td>\n",
              "      <td>...</td>\n",
              "      <td>...</td>\n",
              "      <td>...</td>\n",
              "      <td>...</td>\n",
              "      <td>...</td>\n",
              "      <td>...</td>\n",
              "      <td>...</td>\n",
              "      <td>...</td>\n",
              "      <td>...</td>\n",
              "      <td>...</td>\n",
              "      <td>...</td>\n",
              "      <td>...</td>\n",
              "      <td>...</td>\n",
              "    </tr>\n",
              "    <tr>\n",
              "      <th>928930112</th>\n",
              "      <td>Hitchhike for 5,610 miles and try to reach Ell...</td>\n",
              "      <td>Documentary</td>\n",
              "      <td>Film &amp; Video</td>\n",
              "      <td>SEK</td>\n",
              "      <td>2017-03-06</td>\n",
              "      <td>45000.00</td>\n",
              "      <td>2017-01-05 14:18:14</td>\n",
              "      <td>0.00</td>\n",
              "      <td>failed</td>\n",
              "      <td>0</td>\n",
              "      <td>SE</td>\n",
              "      <td>10.91</td>\n",
              "      <td>0.00</td>\n",
              "      <td>4983.11</td>\n",
              "      <td>0</td>\n",
              "    </tr>\n",
              "    <tr>\n",
              "      <th>930939140</th>\n",
              "      <td>RetroNemesis Arcade Clothing Line</td>\n",
              "      <td>Apparel</td>\n",
              "      <td>Fashion</td>\n",
              "      <td>USD</td>\n",
              "      <td>2017-05-12</td>\n",
              "      <td>750.00</td>\n",
              "      <td>2017-04-12 21:18:11</td>\n",
              "      <td>0.00</td>\n",
              "      <td>failed</td>\n",
              "      <td>0</td>\n",
              "      <td>US</td>\n",
              "      <td>25.00</td>\n",
              "      <td>0.00</td>\n",
              "      <td>750.00</td>\n",
              "      <td>0</td>\n",
              "    </tr>\n",
              "    <tr>\n",
              "      <th>945359364</th>\n",
              "      <td>Painting the faces of strangers</td>\n",
              "      <td>Digital Art</td>\n",
              "      <td>Art</td>\n",
              "      <td>GBP</td>\n",
              "      <td>2017-12-04</td>\n",
              "      <td>50.00</td>\n",
              "      <td>2017-11-03 23:48:24</td>\n",
              "      <td>0.00</td>\n",
              "      <td>failed</td>\n",
              "      <td>0</td>\n",
              "      <td>GB</td>\n",
              "      <td>53.12</td>\n",
              "      <td>0.00</td>\n",
              "      <td>67.08</td>\n",
              "      <td>0</td>\n",
              "    </tr>\n",
              "    <tr>\n",
              "      <th>950767056</th>\n",
              "      <td>Sins Of A Son</td>\n",
              "      <td>Documentary</td>\n",
              "      <td>Film &amp; Video</td>\n",
              "      <td>USD</td>\n",
              "      <td>2010-09-04</td>\n",
              "      <td>3500.00</td>\n",
              "      <td>2010-07-02 23:41:15</td>\n",
              "      <td>1.00</td>\n",
              "      <td>failed</td>\n",
              "      <td>0</td>\n",
              "      <td>US</td>\n",
              "      <td>1.00</td>\n",
              "      <td>1.00</td>\n",
              "      <td>3500.00</td>\n",
              "      <td>0</td>\n",
              "    </tr>\n",
              "    <tr>\n",
              "      <th>958530198</th>\n",
              "      <td>DIY Easy To Hang Handmade Reclaimed Barn Wood ...</td>\n",
              "      <td>DIY</td>\n",
              "      <td>Crafts</td>\n",
              "      <td>USD</td>\n",
              "      <td>2017-08-07</td>\n",
              "      <td>10000.00</td>\n",
              "      <td>2017-07-08 20:33:01</td>\n",
              "      <td>0.00</td>\n",
              "      <td>failed</td>\n",
              "      <td>0</td>\n",
              "      <td>US</td>\n",
              "      <td>100.00</td>\n",
              "      <td>0.00</td>\n",
              "      <td>10000.00</td>\n",
              "      <td>0</td>\n",
              "    </tr>\n",
              "  </tbody>\n",
              "</table>\n",
              "<p>315 rows × 15 columns</p>\n",
              "</div>"
            ],
            "text/plain": [
              "                                                         name  ... name_weirdness\n",
              "ID                                                             ...               \n",
              "100173829   La Press: Make Soap at Home in 2 minutes. No C...  ...              0\n",
              "1004972393  AlwaysRemembered.com The new way to remember o...  ...              0\n",
              "1006945199                     Have your Cake and Eat it too!  ...              0\n",
              "1019661678                            Presidential Pareidolia  ...              0\n",
              "1031663961                              The Lite Bros. Series  ...              0\n",
              "...                                                       ...  ...            ...\n",
              "928930112   Hitchhike for 5,610 miles and try to reach Ell...  ...              0\n",
              "930939140                   RetroNemesis Arcade Clothing Line  ...              0\n",
              "945359364                     Painting the faces of strangers  ...              0\n",
              "950767056                                       Sins Of A Son  ...              0\n",
              "958530198   DIY Easy To Hang Handmade Reclaimed Barn Wood ...  ...              0\n",
              "\n",
              "[315 rows x 15 columns]"
            ]
          },
          "metadata": {
            "tags": []
          },
          "execution_count": 128
        }
      ]
    },
    {
      "cell_type": "markdown",
      "metadata": {
        "colab_type": "text",
        "id": "8oFs6r9CIXUj"
      },
      "source": [
        "¿Hay proyecto no exitosos que pasaron el objetivo?"
      ]
    },
    {
      "cell_type": "code",
      "metadata": {
        "colab_type": "code",
        "id": "_5lPvwqYIXUj",
        "colab": {
          "base_uri": "https://localhost:8080/",
          "height": 1000
        },
        "outputId": "d34425fe-ebfa-497f-ecc4-6aa12085ace9"
      },
      "source": [
        "kickstarter_2018[(kickstarter_2018.state != 'successful') & (kickstarter_2018.pledged > kickstarter_2018.goal)]"
      ],
      "execution_count": null,
      "outputs": [
        {
          "output_type": "execute_result",
          "data": {
            "text/html": [
              "<div>\n",
              "<style scoped>\n",
              "    .dataframe tbody tr th:only-of-type {\n",
              "        vertical-align: middle;\n",
              "    }\n",
              "\n",
              "    .dataframe tbody tr th {\n",
              "        vertical-align: top;\n",
              "    }\n",
              "\n",
              "    .dataframe thead th {\n",
              "        text-align: right;\n",
              "    }\n",
              "</style>\n",
              "<table border=\"1\" class=\"dataframe\">\n",
              "  <thead>\n",
              "    <tr style=\"text-align: right;\">\n",
              "      <th></th>\n",
              "      <th>name</th>\n",
              "      <th>category</th>\n",
              "      <th>main_category</th>\n",
              "      <th>currency</th>\n",
              "      <th>deadline</th>\n",
              "      <th>goal</th>\n",
              "      <th>launched</th>\n",
              "      <th>pledged</th>\n",
              "      <th>state</th>\n",
              "      <th>backers</th>\n",
              "      <th>country</th>\n",
              "      <th>usd_pledged</th>\n",
              "      <th>usd_pledged_real</th>\n",
              "      <th>usd_goal_real</th>\n",
              "      <th>name_weirdness</th>\n",
              "    </tr>\n",
              "    <tr>\n",
              "      <th>ID</th>\n",
              "      <th></th>\n",
              "      <th></th>\n",
              "      <th></th>\n",
              "      <th></th>\n",
              "      <th></th>\n",
              "      <th></th>\n",
              "      <th></th>\n",
              "      <th></th>\n",
              "      <th></th>\n",
              "      <th></th>\n",
              "      <th></th>\n",
              "      <th></th>\n",
              "      <th></th>\n",
              "      <th></th>\n",
              "      <th></th>\n",
              "    </tr>\n",
              "  </thead>\n",
              "  <tbody>\n",
              "    <tr>\n",
              "      <th>100149523</th>\n",
              "      <td>Duncan Woods - Chameleon EP</td>\n",
              "      <td>Music</td>\n",
              "      <td>Music</td>\n",
              "      <td>AUD</td>\n",
              "      <td>2015-08-25</td>\n",
              "      <td>4500.00</td>\n",
              "      <td>2015-08-04 12:05:17</td>\n",
              "      <td>4767.00</td>\n",
              "      <td>undefined</td>\n",
              "      <td>0</td>\n",
              "      <td>N,0\"</td>\n",
              "      <td>0.00</td>\n",
              "      <td>3402.08</td>\n",
              "      <td>3211.53</td>\n",
              "      <td>0</td>\n",
              "    </tr>\n",
              "    <tr>\n",
              "      <th>1001732009</th>\n",
              "      <td>DotPen : Redefines drawing and writing for sma...</td>\n",
              "      <td>Product Design</td>\n",
              "      <td>Design</td>\n",
              "      <td>USD</td>\n",
              "      <td>2014-08-09</td>\n",
              "      <td>25000.00</td>\n",
              "      <td>2014-06-30 21:17:10</td>\n",
              "      <td>39693.00</td>\n",
              "      <td>suspended</td>\n",
              "      <td>647</td>\n",
              "      <td>US</td>\n",
              "      <td>39693.00</td>\n",
              "      <td>39693.00</td>\n",
              "      <td>25000.00</td>\n",
              "      <td>0</td>\n",
              "    </tr>\n",
              "    <tr>\n",
              "      <th>1002379225</th>\n",
              "      <td>The World's First Genuine, Intuitively-control...</td>\n",
              "      <td>Technology</td>\n",
              "      <td>Technology</td>\n",
              "      <td>USD</td>\n",
              "      <td>2017-06-15</td>\n",
              "      <td>5000.00</td>\n",
              "      <td>2017-05-01 18:37:51</td>\n",
              "      <td>61416.00</td>\n",
              "      <td>canceled</td>\n",
              "      <td>103</td>\n",
              "      <td>US</td>\n",
              "      <td>13700.00</td>\n",
              "      <td>61416.00</td>\n",
              "      <td>5000.00</td>\n",
              "      <td>0</td>\n",
              "    </tr>\n",
              "    <tr>\n",
              "      <th>1002854072</th>\n",
              "      <td>Spycup turns your iPhone into a hidden camera ...</td>\n",
              "      <td>Gadgets</td>\n",
              "      <td>Technology</td>\n",
              "      <td>CAD</td>\n",
              "      <td>2015-12-19</td>\n",
              "      <td>5000.00</td>\n",
              "      <td>2015-11-19 17:26:34</td>\n",
              "      <td>6672.00</td>\n",
              "      <td>canceled</td>\n",
              "      <td>115</td>\n",
              "      <td>CA</td>\n",
              "      <td>5006.57</td>\n",
              "      <td>4810.38</td>\n",
              "      <td>3604.90</td>\n",
              "      <td>0</td>\n",
              "    </tr>\n",
              "    <tr>\n",
              "      <th>1003023003</th>\n",
              "      <td>The Making of Ashley Kelley's Debut Album</td>\n",
              "      <td>Music</td>\n",
              "      <td>Music</td>\n",
              "      <td>USD</td>\n",
              "      <td>2015-04-09</td>\n",
              "      <td>3500.00</td>\n",
              "      <td>2015-03-10 20:06:13</td>\n",
              "      <td>3576.00</td>\n",
              "      <td>undefined</td>\n",
              "      <td>0</td>\n",
              "      <td>N,0\"</td>\n",
              "      <td>0.00</td>\n",
              "      <td>3576.00</td>\n",
              "      <td>3500.00</td>\n",
              "      <td>0</td>\n",
              "    </tr>\n",
              "    <tr>\n",
              "      <th>...</th>\n",
              "      <td>...</td>\n",
              "      <td>...</td>\n",
              "      <td>...</td>\n",
              "      <td>...</td>\n",
              "      <td>...</td>\n",
              "      <td>...</td>\n",
              "      <td>...</td>\n",
              "      <td>...</td>\n",
              "      <td>...</td>\n",
              "      <td>...</td>\n",
              "      <td>...</td>\n",
              "      <td>...</td>\n",
              "      <td>...</td>\n",
              "      <td>...</td>\n",
              "      <td>...</td>\n",
              "    </tr>\n",
              "    <tr>\n",
              "      <th>997445060</th>\n",
              "      <td>The Every Day Carry Sling Belt (Canceled)</td>\n",
              "      <td>Fashion</td>\n",
              "      <td>Fashion</td>\n",
              "      <td>USD</td>\n",
              "      <td>2012-05-28</td>\n",
              "      <td>1000.00</td>\n",
              "      <td>2012-04-28 07:12:06</td>\n",
              "      <td>1358.00</td>\n",
              "      <td>canceled</td>\n",
              "      <td>35</td>\n",
              "      <td>US</td>\n",
              "      <td>1358.00</td>\n",
              "      <td>1358.00</td>\n",
              "      <td>1000.00</td>\n",
              "      <td>0</td>\n",
              "    </tr>\n",
              "    <tr>\n",
              "      <th>997554968</th>\n",
              "      <td>Susan Picking: Making Music with Kids in the S...</td>\n",
              "      <td>Music</td>\n",
              "      <td>Music</td>\n",
              "      <td>USD</td>\n",
              "      <td>2015-03-01</td>\n",
              "      <td>8000.00</td>\n",
              "      <td>2015-01-31 20:58:01</td>\n",
              "      <td>8582.00</td>\n",
              "      <td>undefined</td>\n",
              "      <td>0</td>\n",
              "      <td>N,0\"</td>\n",
              "      <td>0.00</td>\n",
              "      <td>8582.00</td>\n",
              "      <td>8000.00</td>\n",
              "      <td>0</td>\n",
              "    </tr>\n",
              "    <tr>\n",
              "      <th>997915422</th>\n",
              "      <td>Otter's First Full Length Album</td>\n",
              "      <td>Music</td>\n",
              "      <td>Music</td>\n",
              "      <td>USD</td>\n",
              "      <td>2015-12-31</td>\n",
              "      <td>5000.00</td>\n",
              "      <td>2015-12-01 00:25:06</td>\n",
              "      <td>6065.26</td>\n",
              "      <td>undefined</td>\n",
              "      <td>0</td>\n",
              "      <td>N,0\"</td>\n",
              "      <td>0.00</td>\n",
              "      <td>6065.26</td>\n",
              "      <td>5000.00</td>\n",
              "      <td>0</td>\n",
              "    </tr>\n",
              "    <tr>\n",
              "      <th>998319149</th>\n",
              "      <td>Emily 2050 - Short Film</td>\n",
              "      <td>Film &amp; Video</td>\n",
              "      <td>Film &amp; Video</td>\n",
              "      <td>CAD</td>\n",
              "      <td>2014-05-23</td>\n",
              "      <td>3000.00</td>\n",
              "      <td>2014-04-08 00:30:09</td>\n",
              "      <td>3102.00</td>\n",
              "      <td>undefined</td>\n",
              "      <td>0</td>\n",
              "      <td>N,0\"</td>\n",
              "      <td>0.00</td>\n",
              "      <td>2845.61</td>\n",
              "      <td>2752.04</td>\n",
              "      <td>0</td>\n",
              "    </tr>\n",
              "    <tr>\n",
              "      <th>999610349</th>\n",
              "      <td>Lady Vendredi: Afrofuturist concept 12 inch EP</td>\n",
              "      <td>Music</td>\n",
              "      <td>Music</td>\n",
              "      <td>GBP</td>\n",
              "      <td>2015-10-19</td>\n",
              "      <td>2000.00</td>\n",
              "      <td>2015-09-21 22:33:18</td>\n",
              "      <td>2125.00</td>\n",
              "      <td>undefined</td>\n",
              "      <td>0</td>\n",
              "      <td>N,0\"</td>\n",
              "      <td>0.00</td>\n",
              "      <td>3273.36</td>\n",
              "      <td>3080.81</td>\n",
              "      <td>0</td>\n",
              "    </tr>\n",
              "  </tbody>\n",
              "</table>\n",
              "<p>2952 rows × 15 columns</p>\n",
              "</div>"
            ],
            "text/plain": [
              "                                                         name  ... name_weirdness\n",
              "ID                                                             ...               \n",
              "100149523                         Duncan Woods - Chameleon EP  ...              0\n",
              "1001732009  DotPen : Redefines drawing and writing for sma...  ...              0\n",
              "1002379225  The World's First Genuine, Intuitively-control...  ...              0\n",
              "1002854072  Spycup turns your iPhone into a hidden camera ...  ...              0\n",
              "1003023003          The Making of Ashley Kelley's Debut Album  ...              0\n",
              "...                                                       ...  ...            ...\n",
              "997445060           The Every Day Carry Sling Belt (Canceled)  ...              0\n",
              "997554968   Susan Picking: Making Music with Kids in the S...  ...              0\n",
              "997915422                     Otter's First Full Length Album  ...              0\n",
              "998319149                             Emily 2050 - Short Film  ...              0\n",
              "999610349      Lady Vendredi: Afrofuturist concept 12 inch EP  ...              0\n",
              "\n",
              "[2952 rows x 15 columns]"
            ]
          },
          "metadata": {
            "tags": []
          },
          "execution_count": 129
        }
      ]
    },
    {
      "cell_type": "markdown",
      "metadata": {
        "colab_type": "text",
        "id": "JcmsJSYXIXUl"
      },
      "source": [
        "¿Cómo es, en promedio, la correlación entre el objetivo y la plata obtenida?"
      ]
    },
    {
      "cell_type": "code",
      "metadata": {
        "colab_type": "code",
        "id": "vAI0_9m-IXUl",
        "colab": {
          "base_uri": "https://localhost:8080/",
          "height": 164
        },
        "outputId": "9a4b5e5e-f16e-4622-b98f-97fc40337485"
      },
      "source": [
        "df = kickstarter_2018.groupby('state')[['goal','pledged']].aggregate('mean')\n",
        "df['pledged'] / df['goal']"
      ],
      "execution_count": null,
      "outputs": [
        {
          "output_type": "execute_result",
          "data": {
            "text/plain": [
              "state\n",
              "canceled     0.03\n",
              "failed       0.02\n",
              "live         0.12\n",
              "successful   2.37\n",
              "suspended    0.06\n",
              "undefined    0.52\n",
              "dtype: float64"
            ]
          },
          "metadata": {
            "tags": []
          },
          "execution_count": 130
        }
      ]
    },
    {
      "cell_type": "markdown",
      "metadata": {
        "colab_type": "text",
        "id": "0alq6UDrIXUn"
      },
      "source": [
        "¿Cuánta plata se obtiene en promedio por estado y categoría?"
      ]
    },
    {
      "cell_type": "code",
      "metadata": {
        "colab_type": "code",
        "id": "ZDDTnENBIXUn",
        "colab": {
          "base_uri": "https://localhost:8080/",
          "height": 306
        },
        "outputId": "a44e19c5-c48d-4cda-abe7-ff4f55bc6db6"
      },
      "source": [
        "kickstarter_2018.pivot_table(values='usd_pledged',index='state',columns='main_category')"
      ],
      "execution_count": null,
      "outputs": [
        {
          "output_type": "execute_result",
          "data": {
            "text/html": [
              "<div>\n",
              "<style scoped>\n",
              "    .dataframe tbody tr th:only-of-type {\n",
              "        vertical-align: middle;\n",
              "    }\n",
              "\n",
              "    .dataframe tbody tr th {\n",
              "        vertical-align: top;\n",
              "    }\n",
              "\n",
              "    .dataframe thead th {\n",
              "        text-align: right;\n",
              "    }\n",
              "</style>\n",
              "<table border=\"1\" class=\"dataframe\">\n",
              "  <thead>\n",
              "    <tr style=\"text-align: right;\">\n",
              "      <th>main_category</th>\n",
              "      <th>Art</th>\n",
              "      <th>Comics</th>\n",
              "      <th>Crafts</th>\n",
              "      <th>Dance</th>\n",
              "      <th>Design</th>\n",
              "      <th>Fashion</th>\n",
              "      <th>Film &amp; Video</th>\n",
              "      <th>Food</th>\n",
              "      <th>Games</th>\n",
              "      <th>Journalism</th>\n",
              "      <th>Music</th>\n",
              "      <th>Photography</th>\n",
              "      <th>Publishing</th>\n",
              "      <th>Technology</th>\n",
              "      <th>Theater</th>\n",
              "    </tr>\n",
              "    <tr>\n",
              "      <th>state</th>\n",
              "      <th></th>\n",
              "      <th></th>\n",
              "      <th></th>\n",
              "      <th></th>\n",
              "      <th></th>\n",
              "      <th></th>\n",
              "      <th></th>\n",
              "      <th></th>\n",
              "      <th></th>\n",
              "      <th></th>\n",
              "      <th></th>\n",
              "      <th></th>\n",
              "      <th></th>\n",
              "      <th></th>\n",
              "      <th></th>\n",
              "    </tr>\n",
              "  </thead>\n",
              "  <tbody>\n",
              "    <tr>\n",
              "      <th>canceled</th>\n",
              "      <td>405.94</td>\n",
              "      <td>722.46</td>\n",
              "      <td>342.51</td>\n",
              "      <td>455.18</td>\n",
              "      <td>3361.22</td>\n",
              "      <td>996.49</td>\n",
              "      <td>1468.05</td>\n",
              "      <td>715.49</td>\n",
              "      <td>3312.50</td>\n",
              "      <td>198.61</td>\n",
              "      <td>585.91</td>\n",
              "      <td>418.70</td>\n",
              "      <td>451.11</td>\n",
              "      <td>3959.58</td>\n",
              "      <td>1472.81</td>\n",
              "    </tr>\n",
              "    <tr>\n",
              "      <th>failed</th>\n",
              "      <td>554.10</td>\n",
              "      <td>869.11</td>\n",
              "      <td>263.54</td>\n",
              "      <td>555.21</td>\n",
              "      <td>2353.08</td>\n",
              "      <td>686.00</td>\n",
              "      <td>1368.40</td>\n",
              "      <td>927.01</td>\n",
              "      <td>1970.92</td>\n",
              "      <td>452.95</td>\n",
              "      <td>557.37</td>\n",
              "      <td>565.53</td>\n",
              "      <td>539.22</td>\n",
              "      <td>2018.73</td>\n",
              "      <td>892.50</td>\n",
              "    </tr>\n",
              "    <tr>\n",
              "      <th>live</th>\n",
              "      <td>887.49</td>\n",
              "      <td>934.78</td>\n",
              "      <td>95.43</td>\n",
              "      <td>182.59</td>\n",
              "      <td>3559.01</td>\n",
              "      <td>443.48</td>\n",
              "      <td>336.93</td>\n",
              "      <td>1014.11</td>\n",
              "      <td>1678.80</td>\n",
              "      <td>762.78</td>\n",
              "      <td>434.78</td>\n",
              "      <td>832.48</td>\n",
              "      <td>1031.71</td>\n",
              "      <td>2028.49</td>\n",
              "      <td>479.18</td>\n",
              "    </tr>\n",
              "    <tr>\n",
              "      <th>successful</th>\n",
              "      <td>5420.99</td>\n",
              "      <td>9178.68</td>\n",
              "      <td>4053.92</td>\n",
              "      <td>4445.79</td>\n",
              "      <td>43545.99</td>\n",
              "      <td>15136.85</td>\n",
              "      <td>12403.29</td>\n",
              "      <td>14227.41</td>\n",
              "      <td>41643.05</td>\n",
              "      <td>8598.27</td>\n",
              "      <td>6283.11</td>\n",
              "      <td>7897.06</td>\n",
              "      <td>7257.91</td>\n",
              "      <td>67226.64</td>\n",
              "      <td>5289.17</td>\n",
              "    </tr>\n",
              "    <tr>\n",
              "      <th>suspended</th>\n",
              "      <td>436.70</td>\n",
              "      <td>347.47</td>\n",
              "      <td>201.33</td>\n",
              "      <td>320.43</td>\n",
              "      <td>11471.42</td>\n",
              "      <td>3539.29</td>\n",
              "      <td>2463.24</td>\n",
              "      <td>2708.65</td>\n",
              "      <td>2497.19</td>\n",
              "      <td>44.77</td>\n",
              "      <td>340.77</td>\n",
              "      <td>159.96</td>\n",
              "      <td>422.83</td>\n",
              "      <td>22953.52</td>\n",
              "      <td>57.08</td>\n",
              "    </tr>\n",
              "    <tr>\n",
              "      <th>undefined</th>\n",
              "      <td>nan</td>\n",
              "      <td>nan</td>\n",
              "      <td>nan</td>\n",
              "      <td>0.00</td>\n",
              "      <td>0.00</td>\n",
              "      <td>0.00</td>\n",
              "      <td>0.00</td>\n",
              "      <td>nan</td>\n",
              "      <td>0.00</td>\n",
              "      <td>nan</td>\n",
              "      <td>0.00</td>\n",
              "      <td>0.00</td>\n",
              "      <td>0.00</td>\n",
              "      <td>0.00</td>\n",
              "      <td>0.00</td>\n",
              "    </tr>\n",
              "  </tbody>\n",
              "</table>\n",
              "</div>"
            ],
            "text/plain": [
              "main_category     Art  Comics  Crafts  ...  Publishing  Technology  Theater\n",
              "state                                  ...                                 \n",
              "canceled       405.94  722.46  342.51  ...      451.11     3959.58  1472.81\n",
              "failed         554.10  869.11  263.54  ...      539.22     2018.73   892.50\n",
              "live           887.49  934.78   95.43  ...     1031.71     2028.49   479.18\n",
              "successful    5420.99 9178.68 4053.92  ...     7257.91    67226.64  5289.17\n",
              "suspended      436.70  347.47  201.33  ...      422.83    22953.52    57.08\n",
              "undefined         nan     nan     nan  ...        0.00        0.00     0.00\n",
              "\n",
              "[6 rows x 15 columns]"
            ]
          },
          "metadata": {
            "tags": []
          },
          "execution_count": 131
        }
      ]
    },
    {
      "cell_type": "markdown",
      "metadata": {
        "id": "JOal8yd7dLHT",
        "colab_type": "text"
      },
      "source": [
        "#### Ejercicio 5\n",
        "\n",
        "1. ¿Hay proyecto éxitosos que no consiguieron el objetivo? Si hay, ¿Qué porcentaje sí y cuál no?\n",
        "2. Calcular una tabla con la cantidad de proyectos por categoría principal y estado."
      ]
    },
    {
      "cell_type": "code",
      "metadata": {
        "id": "RjG67licXnK9",
        "colab_type": "code",
        "colab": {
          "base_uri": "https://localhost:8080/",
          "height": 483
        },
        "outputId": "1e4142dc-3a82-4cdf-8eeb-b24548a983a0"
      },
      "source": [
        "#Proyectos que son 'successful0, pero con 'pledged'<'goal'\n",
        "kickstarter_2018[(kickstarter_2018.state == 'successful') & (kickstarter_2018.pledged < kickstarter_2018.goal)]"
      ],
      "execution_count": null,
      "outputs": [
        {
          "output_type": "execute_result",
          "data": {
            "text/html": [
              "<div>\n",
              "<style scoped>\n",
              "    .dataframe tbody tr th:only-of-type {\n",
              "        vertical-align: middle;\n",
              "    }\n",
              "\n",
              "    .dataframe tbody tr th {\n",
              "        vertical-align: top;\n",
              "    }\n",
              "\n",
              "    .dataframe thead th {\n",
              "        text-align: right;\n",
              "    }\n",
              "</style>\n",
              "<table border=\"1\" class=\"dataframe\">\n",
              "  <thead>\n",
              "    <tr style=\"text-align: right;\">\n",
              "      <th></th>\n",
              "      <th>name</th>\n",
              "      <th>category</th>\n",
              "      <th>main_category</th>\n",
              "      <th>currency</th>\n",
              "      <th>deadline</th>\n",
              "      <th>goal</th>\n",
              "      <th>launched</th>\n",
              "      <th>pledged</th>\n",
              "      <th>state</th>\n",
              "      <th>backers</th>\n",
              "      <th>country</th>\n",
              "      <th>usd_pledged</th>\n",
              "      <th>usd_pledged_real</th>\n",
              "      <th>usd_goal_real</th>\n",
              "      <th>name_weirdness</th>\n",
              "    </tr>\n",
              "    <tr>\n",
              "      <th>ID</th>\n",
              "      <th></th>\n",
              "      <th></th>\n",
              "      <th></th>\n",
              "      <th></th>\n",
              "      <th></th>\n",
              "      <th></th>\n",
              "      <th></th>\n",
              "      <th></th>\n",
              "      <th></th>\n",
              "      <th></th>\n",
              "      <th></th>\n",
              "      <th></th>\n",
              "      <th></th>\n",
              "      <th></th>\n",
              "      <th></th>\n",
              "    </tr>\n",
              "  </thead>\n",
              "  <tbody>\n",
              "    <tr>\n",
              "      <th>1368992939</th>\n",
              "      <td>Santa's Sled</td>\n",
              "      <td>Art</td>\n",
              "      <td>Art</td>\n",
              "      <td>USD</td>\n",
              "      <td>2012-08-27</td>\n",
              "      <td>3600.00</td>\n",
              "      <td>2012-07-26 03:31:28</td>\n",
              "      <td>3599.69</td>\n",
              "      <td>successful</td>\n",
              "      <td>64</td>\n",
              "      <td>US</td>\n",
              "      <td>3599.69</td>\n",
              "      <td>3599.69</td>\n",
              "      <td>3600.00</td>\n",
              "      <td>0</td>\n",
              "    </tr>\n",
              "    <tr>\n",
              "      <th>1769772834</th>\n",
              "      <td>Borders of the Imagination - An Epic Sci-Fi/Fa...</td>\n",
              "      <td>Shorts</td>\n",
              "      <td>Film &amp; Video</td>\n",
              "      <td>USD</td>\n",
              "      <td>2015-12-27</td>\n",
              "      <td>36000.00</td>\n",
              "      <td>2015-11-12 19:06:18</td>\n",
              "      <td>30716.00</td>\n",
              "      <td>successful</td>\n",
              "      <td>275</td>\n",
              "      <td>US</td>\n",
              "      <td>30716.00</td>\n",
              "      <td>30716.00</td>\n",
              "      <td>36000.00</td>\n",
              "      <td>0</td>\n",
              "    </tr>\n",
              "    <tr>\n",
              "      <th>251325270</th>\n",
              "      <td>Documentary film about Les Blank.</td>\n",
              "      <td>Documentary</td>\n",
              "      <td>Film &amp; Video</td>\n",
              "      <td>USD</td>\n",
              "      <td>2010-07-18</td>\n",
              "      <td>8000.00</td>\n",
              "      <td>2010-06-02 22:15:38</td>\n",
              "      <td>7999.65</td>\n",
              "      <td>successful</td>\n",
              "      <td>73</td>\n",
              "      <td>US</td>\n",
              "      <td>7999.65</td>\n",
              "      <td>7999.65</td>\n",
              "      <td>8000.00</td>\n",
              "      <td>0</td>\n",
              "    </tr>\n",
              "    <tr>\n",
              "      <th>4732285</th>\n",
              "      <td>Insiders/Out: Exploring Outsider Art in America</td>\n",
              "      <td>Art</td>\n",
              "      <td>Art</td>\n",
              "      <td>USD</td>\n",
              "      <td>2010-07-08</td>\n",
              "      <td>2000.00</td>\n",
              "      <td>2010-05-27 00:26:33</td>\n",
              "      <td>1999.66</td>\n",
              "      <td>successful</td>\n",
              "      <td>30</td>\n",
              "      <td>US</td>\n",
              "      <td>1999.66</td>\n",
              "      <td>1999.66</td>\n",
              "      <td>2000.00</td>\n",
              "      <td>0</td>\n",
              "    </tr>\n",
              "    <tr>\n",
              "      <th>780863434</th>\n",
              "      <td>TUW Ruhla Watches - Comeback of a Legend</td>\n",
              "      <td>Product Design</td>\n",
              "      <td>Design</td>\n",
              "      <td>EUR</td>\n",
              "      <td>2016-03-19</td>\n",
              "      <td>25000.00</td>\n",
              "      <td>2016-02-08 19:14:02</td>\n",
              "      <td>24892.50</td>\n",
              "      <td>successful</td>\n",
              "      <td>90</td>\n",
              "      <td>DE</td>\n",
              "      <td>27778.24</td>\n",
              "      <td>27765.07</td>\n",
              "      <td>27884.98</td>\n",
              "      <td>0</td>\n",
              "    </tr>\n",
              "  </tbody>\n",
              "</table>\n",
              "</div>"
            ],
            "text/plain": [
              "                                                         name  ... name_weirdness\n",
              "ID                                                             ...               \n",
              "1368992939                                       Santa's Sled  ...              0\n",
              "1769772834  Borders of the Imagination - An Epic Sci-Fi/Fa...  ...              0\n",
              "251325270                   Documentary film about Les Blank.  ...              0\n",
              "4732285       Insiders/Out: Exploring Outsider Art in America  ...              0\n",
              "780863434            TUW Ruhla Watches - Comeback of a Legend  ...              0\n",
              "\n",
              "[5 rows x 15 columns]"
            ]
          },
          "metadata": {
            "tags": []
          },
          "execution_count": 133
        }
      ]
    },
    {
      "cell_type": "code",
      "metadata": {
        "id": "k7f5g6ibX8rj",
        "colab_type": "code",
        "colab": {
          "base_uri": "https://localhost:8080/",
          "height": 54
        },
        "outputId": "ccae9f0d-2687-4ffd-aedd-ac294886c355"
      },
      "source": [
        "#Veamos el porcentaje\n",
        "Porcentaje = 100/(kickstarter_2018.state == 'successful').sum() * ((kickstarter_2018.state == 'successful') & (kickstarter_2018.pledged > kickstarter_2018.goal)).sum()\n",
        "print('Consigió Objetivo    : %2.2f %%' \n",
        "      %Porcentaje)\n",
        "print('No Consigió Objetivo : %2.2f %%' \n",
        "      %(100-Porcentaje))"
      ],
      "execution_count": null,
      "outputs": [
        {
          "output_type": "stream",
          "text": [
            "Consigió Objetivo    : 96.97 %\n",
            "No Consigió Objetivo : 3.03 %\n"
          ],
          "name": "stdout"
        }
      ]
    },
    {
      "cell_type": "markdown",
      "metadata": {
        "id": "XIMElW90ZFSo",
        "colab_type": "text"
      },
      "source": [
        "Tabla con la cantidad de proyectos por categoría principal y estado."
      ]
    },
    {
      "cell_type": "code",
      "metadata": {
        "id": "DN8aJ3wRY1Ij",
        "colab_type": "code",
        "colab": {
          "base_uri": "https://localhost:8080/",
          "height": 306
        },
        "outputId": "a8f69983-613f-469f-fd4c-717a1b4c7691"
      },
      "source": [
        "kickstarter_2018.pivot_table(values='currency',index='state',columns='main_category', aggfunc='count')"
      ],
      "execution_count": null,
      "outputs": [
        {
          "output_type": "execute_result",
          "data": {
            "text/html": [
              "<div>\n",
              "<style scoped>\n",
              "    .dataframe tbody tr th:only-of-type {\n",
              "        vertical-align: middle;\n",
              "    }\n",
              "\n",
              "    .dataframe tbody tr th {\n",
              "        vertical-align: top;\n",
              "    }\n",
              "\n",
              "    .dataframe thead th {\n",
              "        text-align: right;\n",
              "    }\n",
              "</style>\n",
              "<table border=\"1\" class=\"dataframe\">\n",
              "  <thead>\n",
              "    <tr style=\"text-align: right;\">\n",
              "      <th>main_category</th>\n",
              "      <th>Art</th>\n",
              "      <th>Comics</th>\n",
              "      <th>Crafts</th>\n",
              "      <th>Dance</th>\n",
              "      <th>Design</th>\n",
              "      <th>Fashion</th>\n",
              "      <th>Film &amp; Video</th>\n",
              "      <th>Food</th>\n",
              "      <th>Games</th>\n",
              "      <th>Journalism</th>\n",
              "      <th>Music</th>\n",
              "      <th>Photography</th>\n",
              "      <th>Publishing</th>\n",
              "      <th>Technology</th>\n",
              "      <th>Theater</th>\n",
              "    </tr>\n",
              "    <tr>\n",
              "      <th>state</th>\n",
              "      <th></th>\n",
              "      <th></th>\n",
              "      <th></th>\n",
              "      <th></th>\n",
              "      <th></th>\n",
              "      <th></th>\n",
              "      <th></th>\n",
              "      <th></th>\n",
              "      <th></th>\n",
              "      <th></th>\n",
              "      <th></th>\n",
              "      <th></th>\n",
              "      <th></th>\n",
              "      <th></th>\n",
              "      <th></th>\n",
              "    </tr>\n",
              "  </thead>\n",
              "  <tbody>\n",
              "    <tr>\n",
              "      <th>canceled</th>\n",
              "      <td>2222.00</td>\n",
              "      <td>842.00</td>\n",
              "      <td>843.00</td>\n",
              "      <td>163.00</td>\n",
              "      <td>4152.00</td>\n",
              "      <td>2650.00</td>\n",
              "      <td>5755.00</td>\n",
              "      <td>2211.00</td>\n",
              "      <td>6202.00</td>\n",
              "      <td>523.00</td>\n",
              "      <td>3305.00</td>\n",
              "      <td>986.00</td>\n",
              "      <td>3602.00</td>\n",
              "      <td>4715.00</td>\n",
              "      <td>608.00</td>\n",
              "    </tr>\n",
              "    <tr>\n",
              "      <th>failed</th>\n",
              "      <td>14130.00</td>\n",
              "      <td>4036.00</td>\n",
              "      <td>5703.00</td>\n",
              "      <td>1235.00</td>\n",
              "      <td>14814.00</td>\n",
              "      <td>14182.00</td>\n",
              "      <td>32903.00</td>\n",
              "      <td>15969.00</td>\n",
              "      <td>16002.00</td>\n",
              "      <td>3137.00</td>\n",
              "      <td>21752.00</td>\n",
              "      <td>6384.00</td>\n",
              "      <td>23145.00</td>\n",
              "      <td>20616.00</td>\n",
              "      <td>3708.00</td>\n",
              "    </tr>\n",
              "    <tr>\n",
              "      <th>live</th>\n",
              "      <td>194.00</td>\n",
              "      <td>76.00</td>\n",
              "      <td>76.00</td>\n",
              "      <td>18.00</td>\n",
              "      <td>305.00</td>\n",
              "      <td>250.00</td>\n",
              "      <td>332.00</td>\n",
              "      <td>184.00</td>\n",
              "      <td>287.00</td>\n",
              "      <td>31.00</td>\n",
              "      <td>281.00</td>\n",
              "      <td>48.00</td>\n",
              "      <td>299.00</td>\n",
              "      <td>377.00</td>\n",
              "      <td>41.00</td>\n",
              "    </tr>\n",
              "    <tr>\n",
              "      <th>successful</th>\n",
              "      <td>11510.00</td>\n",
              "      <td>5842.00</td>\n",
              "      <td>2115.00</td>\n",
              "      <td>2338.00</td>\n",
              "      <td>10550.00</td>\n",
              "      <td>5593.00</td>\n",
              "      <td>23623.00</td>\n",
              "      <td>6085.00</td>\n",
              "      <td>12518.00</td>\n",
              "      <td>1012.00</td>\n",
              "      <td>24197.00</td>\n",
              "      <td>3305.00</td>\n",
              "      <td>12300.00</td>\n",
              "      <td>6434.00</td>\n",
              "      <td>6534.00</td>\n",
              "    </tr>\n",
              "    <tr>\n",
              "      <th>suspended</th>\n",
              "      <td>96.00</td>\n",
              "      <td>23.00</td>\n",
              "      <td>72.00</td>\n",
              "      <td>13.00</td>\n",
              "      <td>246.00</td>\n",
              "      <td>138.00</td>\n",
              "      <td>117.00</td>\n",
              "      <td>153.00</td>\n",
              "      <td>220.00</td>\n",
              "      <td>52.00</td>\n",
              "      <td>149.00</td>\n",
              "      <td>55.00</td>\n",
              "      <td>66.00</td>\n",
              "      <td>424.00</td>\n",
              "      <td>21.00</td>\n",
              "    </tr>\n",
              "    <tr>\n",
              "      <th>undefined</th>\n",
              "      <td>nan</td>\n",
              "      <td>nan</td>\n",
              "      <td>nan</td>\n",
              "      <td>1.00</td>\n",
              "      <td>2.00</td>\n",
              "      <td>3.00</td>\n",
              "      <td>854.00</td>\n",
              "      <td>nan</td>\n",
              "      <td>1.00</td>\n",
              "      <td>nan</td>\n",
              "      <td>2234.00</td>\n",
              "      <td>1.00</td>\n",
              "      <td>462.00</td>\n",
              "      <td>3.00</td>\n",
              "      <td>1.00</td>\n",
              "    </tr>\n",
              "  </tbody>\n",
              "</table>\n",
              "</div>"
            ],
            "text/plain": [
              "main_category      Art  Comics  Crafts  ...  Publishing  Technology  Theater\n",
              "state                                   ...                                 \n",
              "canceled       2222.00  842.00  843.00  ...     3602.00     4715.00   608.00\n",
              "failed        14130.00 4036.00 5703.00  ...    23145.00    20616.00  3708.00\n",
              "live            194.00   76.00   76.00  ...      299.00      377.00    41.00\n",
              "successful    11510.00 5842.00 2115.00  ...    12300.00     6434.00  6534.00\n",
              "suspended        96.00   23.00   72.00  ...       66.00      424.00    21.00\n",
              "undefined          nan     nan     nan  ...      462.00        3.00     1.00\n",
              "\n",
              "[6 rows x 15 columns]"
            ]
          },
          "metadata": {
            "tags": []
          },
          "execution_count": 140
        }
      ]
    },
    {
      "cell_type": "markdown",
      "metadata": {
        "colab_type": "text",
        "id": "3ci4iq7MIXUq"
      },
      "source": [
        "## 2.6. Identificar y documentar valores atípicos/outliers\n"
      ]
    },
    {
      "cell_type": "markdown",
      "metadata": {
        "colab_type": "text",
        "id": "CFiuuPAlIXUq"
      },
      "source": [
        "Queremos analizar las características de los proyectos que obtienen dinero pero sin considerar los casos atípicos."
      ]
    },
    {
      "cell_type": "code",
      "metadata": {
        "colab_type": "code",
        "id": "krohU7VxIXUq",
        "colab": {
          "base_uri": "https://localhost:8080/",
          "height": 278
        },
        "outputId": "aea98abd-c6d5-4bfc-f36b-28170efcee2c"
      },
      "source": [
        "%matplotlib inline\n",
        "kickstarter_2018.usd_pledged.hist();"
      ],
      "execution_count": null,
      "outputs": [
        {
          "output_type": "display_data",
          "data": {
            "image/png": "[encoded data removed]",
            "text/plain": [
              "<Figure size 432x288 with 1 Axes>"
            ]
          },
          "metadata": {
            "tags": [],
            "needs_background": "light"
          }
        }
      ]
    },
    {
      "cell_type": "code",
      "metadata": {
        "colab_type": "code",
        "id": "4KNUgM_xIXUr",
        "colab": {
          "base_uri": "https://localhost:8080/",
          "height": 277
        },
        "outputId": "45d92f46-a2c1-4cce-9c9b-c4f699f18289"
      },
      "source": [
        "kickstarter_2018.boxplot(column='usd_pledged');"
      ],
      "execution_count": null,
      "outputs": [
        {
          "output_type": "display_data",
          "data": {
            "image/png": "[encoded data removed]",
            "text/plain": [
              "<Figure size 432x288 with 1 Axes>"
            ]
          },
          "metadata": {
            "tags": [],
            "needs_background": "light"
          }
        }
      ]
    },
    {
      "cell_type": "markdown",
      "metadata": {
        "colab_type": "text",
        "id": "2JzBu_TmIXUw"
      },
      "source": [
        "\"There are many rules of thumb for how to define an outlier but there is no silver bullet. One rule of thumb is that any data point that is three standard deviations away from the mean of the same data point for all observations.\""
      ]
    },
    {
      "cell_type": "code",
      "metadata": {
        "colab_type": "code",
        "id": "crqXG6cQIXUx",
        "colab": {
          "base_uri": "https://localhost:8080/",
          "height": 736
        },
        "outputId": "dd78d4ba-7f59-4574-d6a1-6abc9861e0d4"
      },
      "source": [
        "outliers = kickstarter_2018[kickstarter_2018.usd_pledged > (kickstarter_2018.usd_pledged.mean() + \n",
        "                                                            3 * kickstarter_2018.usd_pledged.std())]\n",
        "outliers"
      ],
      "execution_count": null,
      "outputs": [
        {
          "output_type": "execute_result",
          "data": {
            "text/html": [
              "<div>\n",
              "<style scoped>\n",
              "    .dataframe tbody tr th:only-of-type {\n",
              "        vertical-align: middle;\n",
              "    }\n",
              "\n",
              "    .dataframe tbody tr th {\n",
              "        vertical-align: top;\n",
              "    }\n",
              "\n",
              "    .dataframe thead th {\n",
              "        text-align: right;\n",
              "    }\n",
              "</style>\n",
              "<table border=\"1\" class=\"dataframe\">\n",
              "  <thead>\n",
              "    <tr style=\"text-align: right;\">\n",
              "      <th></th>\n",
              "      <th>name</th>\n",
              "      <th>category</th>\n",
              "      <th>main_category</th>\n",
              "      <th>currency</th>\n",
              "      <th>deadline</th>\n",
              "      <th>goal</th>\n",
              "      <th>launched</th>\n",
              "      <th>pledged</th>\n",
              "      <th>state</th>\n",
              "      <th>backers</th>\n",
              "      <th>country</th>\n",
              "      <th>usd_pledged</th>\n",
              "      <th>usd_pledged_real</th>\n",
              "      <th>usd_goal_real</th>\n",
              "      <th>name_weirdness</th>\n",
              "    </tr>\n",
              "    <tr>\n",
              "      <th>ID</th>\n",
              "      <th></th>\n",
              "      <th></th>\n",
              "      <th></th>\n",
              "      <th></th>\n",
              "      <th></th>\n",
              "      <th></th>\n",
              "      <th></th>\n",
              "      <th></th>\n",
              "      <th></th>\n",
              "      <th></th>\n",
              "      <th></th>\n",
              "      <th></th>\n",
              "      <th></th>\n",
              "      <th></th>\n",
              "      <th></th>\n",
              "    </tr>\n",
              "  </thead>\n",
              "  <tbody>\n",
              "    <tr>\n",
              "      <th>1000629643</th>\n",
              "      <td>ODIN: Android 'Smart' Projector to Carry in Yo...</td>\n",
              "      <td>Hardware</td>\n",
              "      <td>Technology</td>\n",
              "      <td>USD</td>\n",
              "      <td>2014-07-08</td>\n",
              "      <td>250000.00</td>\n",
              "      <td>2014-05-28 13:54:18</td>\n",
              "      <td>268192.00</td>\n",
              "      <td>successful</td>\n",
              "      <td>561</td>\n",
              "      <td>US</td>\n",
              "      <td>268192.00</td>\n",
              "      <td>268192.00</td>\n",
              "      <td>250000.00</td>\n",
              "      <td>0</td>\n",
              "    </tr>\n",
              "    <tr>\n",
              "      <th>1000725978</th>\n",
              "      <td>Air Bonsai | Create your \"little star\"</td>\n",
              "      <td>Product Design</td>\n",
              "      <td>Design</td>\n",
              "      <td>USD</td>\n",
              "      <td>2016-03-01</td>\n",
              "      <td>80000.00</td>\n",
              "      <td>2016-01-21 12:18:00</td>\n",
              "      <td>843743.00</td>\n",
              "      <td>successful</td>\n",
              "      <td>3784</td>\n",
              "      <td>US</td>\n",
              "      <td>843743.00</td>\n",
              "      <td>843743.00</td>\n",
              "      <td>80000.00</td>\n",
              "      <td>0</td>\n",
              "    </tr>\n",
              "    <tr>\n",
              "      <th>1001502333</th>\n",
              "      <td>Pimax: The World's First 8K VR Headset</td>\n",
              "      <td>Hardware</td>\n",
              "      <td>Technology</td>\n",
              "      <td>USD</td>\n",
              "      <td>2017-11-03</td>\n",
              "      <td>200000.00</td>\n",
              "      <td>2017-09-19 19:02:23</td>\n",
              "      <td>4236618.49</td>\n",
              "      <td>successful</td>\n",
              "      <td>5946</td>\n",
              "      <td>US</td>\n",
              "      <td>608194.00</td>\n",
              "      <td>4236618.49</td>\n",
              "      <td>200000.00</td>\n",
              "      <td>0</td>\n",
              "    </tr>\n",
              "    <tr>\n",
              "      <th>1003182869</th>\n",
              "      <td>RinseKit: The Revolutionary Portable Shower</td>\n",
              "      <td>Gadgets</td>\n",
              "      <td>Technology</td>\n",
              "      <td>USD</td>\n",
              "      <td>2016-06-03</td>\n",
              "      <td>30000.00</td>\n",
              "      <td>2016-05-04 19:27:57</td>\n",
              "      <td>396299.00</td>\n",
              "      <td>successful</td>\n",
              "      <td>2412</td>\n",
              "      <td>US</td>\n",
              "      <td>396299.00</td>\n",
              "      <td>396299.00</td>\n",
              "      <td>30000.00</td>\n",
              "      <td>0</td>\n",
              "    </tr>\n",
              "    <tr>\n",
              "      <th>1006008989</th>\n",
              "      <td>War for the Overworld</td>\n",
              "      <td>Video Games</td>\n",
              "      <td>Games</td>\n",
              "      <td>GBP</td>\n",
              "      <td>2013-01-03</td>\n",
              "      <td>150000.00</td>\n",
              "      <td>2012-11-29 19:11:23</td>\n",
              "      <td>211371.50</td>\n",
              "      <td>successful</td>\n",
              "      <td>8351</td>\n",
              "      <td>GB</td>\n",
              "      <td>338527.51</td>\n",
              "      <td>338589.87</td>\n",
              "      <td>240280.65</td>\n",
              "      <td>0</td>\n",
              "    </tr>\n",
              "    <tr>\n",
              "      <th>...</th>\n",
              "      <td>...</td>\n",
              "      <td>...</td>\n",
              "      <td>...</td>\n",
              "      <td>...</td>\n",
              "      <td>...</td>\n",
              "      <td>...</td>\n",
              "      <td>...</td>\n",
              "      <td>...</td>\n",
              "      <td>...</td>\n",
              "      <td>...</td>\n",
              "      <td>...</td>\n",
              "      <td>...</td>\n",
              "      <td>...</td>\n",
              "      <td>...</td>\n",
              "      <td>...</td>\n",
              "    </tr>\n",
              "    <tr>\n",
              "      <th>994834878</th>\n",
              "      <td>KP Duffle - The Ultimate Travel Bag</td>\n",
              "      <td>Product Design</td>\n",
              "      <td>Design</td>\n",
              "      <td>USD</td>\n",
              "      <td>2016-03-04</td>\n",
              "      <td>15000.00</td>\n",
              "      <td>2016-01-19 17:00:36</td>\n",
              "      <td>624474.00</td>\n",
              "      <td>successful</td>\n",
              "      <td>3478</td>\n",
              "      <td>US</td>\n",
              "      <td>624474.00</td>\n",
              "      <td>624474.00</td>\n",
              "      <td>15000.00</td>\n",
              "      <td>0</td>\n",
              "    </tr>\n",
              "    <tr>\n",
              "      <th>995248054</th>\n",
              "      <td>LYFE - Set your plants free</td>\n",
              "      <td>Product Design</td>\n",
              "      <td>Design</td>\n",
              "      <td>USD</td>\n",
              "      <td>2016-07-01</td>\n",
              "      <td>80000.00</td>\n",
              "      <td>2016-06-01 18:53:37</td>\n",
              "      <td>328579.00</td>\n",
              "      <td>successful</td>\n",
              "      <td>1203</td>\n",
              "      <td>US</td>\n",
              "      <td>328579.00</td>\n",
              "      <td>328579.00</td>\n",
              "      <td>80000.00</td>\n",
              "      <td>0</td>\n",
              "    </tr>\n",
              "    <tr>\n",
              "      <th>995551135</th>\n",
              "      <td>Infinity: Battlescape</td>\n",
              "      <td>Video Games</td>\n",
              "      <td>Games</td>\n",
              "      <td>USD</td>\n",
              "      <td>2015-11-20</td>\n",
              "      <td>300000.00</td>\n",
              "      <td>2015-10-21 13:34:08</td>\n",
              "      <td>332620.81</td>\n",
              "      <td>successful</td>\n",
              "      <td>5828</td>\n",
              "      <td>US</td>\n",
              "      <td>332620.81</td>\n",
              "      <td>332620.81</td>\n",
              "      <td>300000.00</td>\n",
              "      <td>0</td>\n",
              "    </tr>\n",
              "    <tr>\n",
              "      <th>997256071</th>\n",
              "      <td>SoftPanels LED Lights with Intelligent/Precise...</td>\n",
              "      <td>Camera Equipment</td>\n",
              "      <td>Technology</td>\n",
              "      <td>USD</td>\n",
              "      <td>2016-05-08</td>\n",
              "      <td>30000.00</td>\n",
              "      <td>2016-04-08 22:18:23</td>\n",
              "      <td>394930.00</td>\n",
              "      <td>successful</td>\n",
              "      <td>213</td>\n",
              "      <td>US</td>\n",
              "      <td>394930.00</td>\n",
              "      <td>394930.00</td>\n",
              "      <td>30000.00</td>\n",
              "      <td>0</td>\n",
              "    </tr>\n",
              "    <tr>\n",
              "      <th>99825633</th>\n",
              "      <td>Battle Systems™ Fantasy Dungeon Terrain</td>\n",
              "      <td>Tabletop Games</td>\n",
              "      <td>Games</td>\n",
              "      <td>GBP</td>\n",
              "      <td>2014-09-21</td>\n",
              "      <td>21000.00</td>\n",
              "      <td>2014-08-22 21:00:15</td>\n",
              "      <td>198415.01</td>\n",
              "      <td>successful</td>\n",
              "      <td>1204</td>\n",
              "      <td>GB</td>\n",
              "      <td>328968.44</td>\n",
              "      <td>323583.63</td>\n",
              "      <td>34247.69</td>\n",
              "      <td>-1</td>\n",
              "    </tr>\n",
              "  </tbody>\n",
              "</table>\n",
              "<p>1201 rows × 15 columns</p>\n",
              "</div>"
            ],
            "text/plain": [
              "                                                         name  ... name_weirdness\n",
              "ID                                                             ...               \n",
              "1000629643  ODIN: Android 'Smart' Projector to Carry in Yo...  ...              0\n",
              "1000725978             Air Bonsai | Create your \"little star\"  ...              0\n",
              "1001502333             Pimax: The World's First 8K VR Headset  ...              0\n",
              "1003182869        RinseKit: The Revolutionary Portable Shower  ...              0\n",
              "1006008989                              War for the Overworld  ...              0\n",
              "...                                                       ...  ...            ...\n",
              "994834878                 KP Duffle - The Ultimate Travel Bag  ...              0\n",
              "995248054                         LYFE - Set your plants free  ...              0\n",
              "995551135                               Infinity: Battlescape  ...              0\n",
              "997256071   SoftPanels LED Lights with Intelligent/Precise...  ...              0\n",
              "99825633              Battle Systems™ Fantasy Dungeon Terrain  ...             -1\n",
              "\n",
              "[1201 rows x 15 columns]"
            ]
          },
          "metadata": {
            "tags": []
          },
          "execution_count": 143
        }
      ]
    },
    {
      "cell_type": "code",
      "metadata": {
        "id": "rtaL_FA2dLHt",
        "colab_type": "code",
        "colab": {
          "base_uri": "https://localhost:8080/",
          "height": 267
        },
        "outputId": "ab146b1f-d2ab-4c9c-a906-a0edd3dd81da"
      },
      "source": [
        "kickstarter_2018.drop(outliers.index).boxplot(column='usd_pledged');"
      ],
      "execution_count": null,
      "outputs": [
        {
          "output_type": "display_data",
          "data": {
            "image/png": "[encoded data removed]",
            "text/plain": [
              "<Figure size 432x288 with 1 Axes>"
            ]
          },
          "metadata": {
            "tags": [],
            "needs_background": "light"
          }
        }
      ]
    },
    {
      "cell_type": "code",
      "metadata": {
        "colab_type": "code",
        "id": "GUIlg7xXIXUz",
        "colab": {
          "base_uri": "https://localhost:8080/",
          "height": 301
        },
        "outputId": "e89d2e72-1413-45aa-ce32-2dc354c1430f"
      },
      "source": [
        "kickstarter_2018.drop(outliers.index).boxplot(column='usd_pledged',by='state');"
      ],
      "execution_count": null,
      "outputs": [
        {
          "output_type": "display_data",
          "data": {
            "image/png": "[encoded data removed]",
            "text/plain": [
              "<Figure size 432x288 with 1 Axes>"
            ]
          },
          "metadata": {
            "tags": [],
            "needs_background": "light"
          }
        }
      ]
    },
    {
      "cell_type": "markdown",
      "metadata": {
        "id": "iq-qs3hYdLH5",
        "colab_type": "text"
      },
      "source": [
        "Analizar outliers por categorías"
      ]
    },
    {
      "cell_type": "code",
      "metadata": {
        "colab_type": "code",
        "id": "Q3sawM-JIXUx",
        "colab": {
          "base_uri": "https://localhost:8080/",
          "height": 585
        },
        "outputId": "1f76cd64-5d2e-45c8-945c-9cfba57cbaed"
      },
      "source": [
        "kickstarter_2018.boxplot(column='usd_pledged',by='state');\n",
        "kickstarter_2018.boxplot(column='usd_goal_real',by='state');"
      ],
      "execution_count": null,
      "outputs": [
        {
          "output_type": "display_data",
          "data": {
            "image/png": "[encoded data removed]",
            "text/plain": [
              "<Figure size 432x288 with 1 Axes>"
            ]
          },
          "metadata": {
            "tags": [],
            "needs_background": "light"
          }
        },
        {
          "output_type": "display_data",
          "data": {
            "image/png": "[encoded data removed]",
            "text/plain": [
              "<Figure size 432x288 with 1 Axes>"
            ]
          },
          "metadata": {
            "tags": [],
            "needs_background": "light"
          }
        }
      ]
    },
    {
      "cell_type": "markdown",
      "metadata": {
        "id": "nzbo5y-fdLID",
        "colab_type": "text"
      },
      "source": [
        "#### Ejercicio 6\n",
        "\n",
        "Calcular los valores atípicos de 'usd_goal_real' y graficar los boxplots, con y sin estos valores por categoría principal"
      ]
    },
    {
      "cell_type": "code",
      "metadata": {
        "colab_type": "code",
        "id": "JizNKM4IZa2t",
        "colab": {
          "base_uri": "https://localhost:8080/",
          "height": 35
        },
        "outputId": "7257497f-cd10-45d2-bdb6-fd77181f4e9f"
      },
      "source": [
        "outliers2 = kickstarter_2018[kickstarter_2018.usd_goal_real > (kickstarter_2018.usd_goal_real.mean() + \n",
        "                                                            3 * kickstarter_2018.usd_goal_real.std())]\n",
        "print('Cantidad de outliers de \"usd_goal_real\"', len(outliers2))\n",
        "outliers2"
      ],
      "execution_count": null,
      "outputs": [
        {
          "output_type": "stream",
          "text": [
            "Cantidad de outliers de \"usd_goal_real\" 372\n"
          ],
          "name": "stdout"
        }
      ]
    },
    {
      "cell_type": "code",
      "metadata": {
        "id": "zJyXGyXbab1B",
        "colab_type": "code",
        "colab": {
          "base_uri": "https://localhost:8080/",
          "height": 302
        },
        "outputId": "0542f7c5-01bc-4e26-d6e7-3bbe549fe91f"
      },
      "source": [
        "#Boxplot de \"usd_goal_real\" con outliers\n",
        "kickstarter_2018.boxplot(column='usd_goal_real',by='main_category', vert=False);"
      ],
      "execution_count": null,
      "outputs": [
        {
          "output_type": "display_data",
          "data": {
            "image/png": "[encoded data removed]",
            "text/plain": [
              "<Figure size 432x288 with 1 Axes>"
            ]
          },
          "metadata": {
            "tags": [],
            "needs_background": "light"
          }
        }
      ]
    },
    {
      "cell_type": "code",
      "metadata": {
        "id": "FG5J76rhaEAm",
        "colab_type": "code",
        "colab": {
          "base_uri": "https://localhost:8080/",
          "height": 302
        },
        "outputId": "bbe88aff-4bb2-4a73-d359-5e72ec482201"
      },
      "source": [
        "#Boxplot de \"usd_goal_real\" sin outliers\n",
        "kickstarter_2018.drop(outliers2.index).boxplot(column='usd_goal_real',by='main_category', vert=False);"
      ],
      "execution_count": null,
      "outputs": [
        {
          "output_type": "display_data",
          "data": {
            "image/png": "[encoded data removed]",
            "text/plain": [
              "<Figure size 432x288 with 1 Axes>"
            ]
          },
          "metadata": {
            "tags": [],
            "needs_background": "light"
          }
        }
      ]
    },
    {
      "cell_type": "markdown",
      "metadata": {
        "colab_type": "text",
        "id": "oGI_4tR0IXUz"
      },
      "source": [
        "## 2.7. Evaluar cómo comprimir los datos \n",
        "para su almacenamiento más eficiente.\n",
        "\n",
        "En la actualidad, en las nubes el almacenamiento no suele ser problema sino la velocidad para leerlo que suele ser determinante a la hora de determinar el formato de almacenamiento.\n"
      ]
    },
    {
      "cell_type": "markdown",
      "metadata": {
        "colab_type": "text",
        "id": "9y8QxZwdIXU0"
      },
      "source": [
        "## 2.8. Guardar el set de datos con un nombre informativo.\n"
      ]
    },
    {
      "cell_type": "markdown",
      "metadata": {
        "colab_type": "text",
        "id": "3aaOkntbIXU0"
      },
      "source": [
        "EL problema de la ingeniería de software"
      ]
    }
  ]
}